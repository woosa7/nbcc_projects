{
 "cells": [
  {
   "cell_type": "markdown",
   "metadata": {},
   "source": [
    "# 불균형 데이터셋 문제 해결 : SMOTE"
   ]
  },
  {
   "cell_type": "code",
   "execution_count": 1,
   "metadata": {},
   "outputs": [],
   "source": [
    "import tensorflow as tf\n",
    "import numpy as np\n",
    "import random\n",
    "from imblearn.over_sampling import BorderlineSMOTE"
   ]
  },
  {
   "cell_type": "markdown",
   "metadata": {},
   "source": [
    "## 데이터셋 준비 (불균형한 데이터셋)"
   ]
  },
  {
   "cell_type": "code",
   "execution_count": 2,
   "metadata": {},
   "outputs": [
    {
     "data": {
      "text/plain": [
       "(50000, 32, 32, 3)"
      ]
     },
     "execution_count": 2,
     "metadata": {},
     "output_type": "execute_result"
    }
   ],
   "source": [
    "cifar10 = tf.keras.datasets.cifar10   # 32x32x3\n",
    "\n",
    "(x_train, y_train), (x_test, y_test) = cifar10.load_data()\n",
    "x_train, x_test = x_train / 255.0, x_test / 255.0\n",
    "\n",
    "x_train = x_train.astype(np.float32)\n",
    "x_test = x_test.astype(np.float32)\n",
    "\n",
    "x_train.shape   # 10개의 class 각 5,000 건"
   ]
  },
  {
   "cell_type": "code",
   "execution_count": 3,
   "metadata": {},
   "outputs": [
    {
     "name": "stdout",
     "output_type": "stream",
     "text": [
      "y_train_small 5451\n",
      "y_test_small  2000\n"
     ]
    }
   ],
   "source": [
    "# 학습 데이터를 Imbalanced small dataset으로 변형하기\n",
    "# 0 & 1 번 클래스 중 0번을 약 10%만 추출\n",
    "\n",
    "x_train_small = list()\n",
    "y_train_small = list()\n",
    "for x, y in zip(x_train, y_train):\n",
    "    if (y == 0 and random.randint(0, 100) < 10) or y == 1:\n",
    "        x_train_small.append(x[:])\n",
    "        y_train_small.append(y)\n",
    "        \n",
    "x_test_small = list()\n",
    "y_test_small = list()\n",
    "for x, y in zip(x_test, y_test):\n",
    "    if y == 0 or y == 1:\n",
    "        x_test_small.append(x[:])\n",
    "        y_test_small.append(y)\n",
    "\n",
    "print('y_train_small', len(x_train_small))\n",
    "print('y_test_small ', len(y_test_small))\n",
    "        \n",
    "x_train = np.stack(x_train_small, axis=0)\n",
    "y_train = np.stack(y_train_small, axis=0)\n",
    "\n",
    "x_test = np.stack(x_test_small, axis=0)\n",
    "y_test = np.stack(y_test_small, axis=0)\n",
    "\n",
    "train_ds = tf.data.Dataset.from_tensor_slices((x_train, y_train)).shuffle(10000).batch(32).prefetch(2048)\n",
    "test_ds = tf.data.Dataset.from_tensor_slices((x_test, y_test)).batch(32).prefetch(2048)"
   ]
  },
  {
   "cell_type": "markdown",
   "metadata": {},
   "source": [
    "## 모델 정의"
   ]
  },
  {
   "cell_type": "code",
   "execution_count": 4,
   "metadata": {},
   "outputs": [],
   "source": [
    "class MyModel(tf.keras.Model):\n",
    "    def __init__(self):\n",
    "        super(MyModel, self).__init__()\n",
    "        \n",
    "        self.flatten = tf.keras.layers.Flatten()\n",
    "        self.dense1 = tf.keras.layers.Dense(1024, activation='relu')\n",
    "        self.dense2 = tf.keras.layers.Dense(1, activation='sigmoid')\n",
    "\n",
    "    def call(self, x, training=False, mask=None):\n",
    "        x = self.flatten(x)\n",
    "        x = self.dense1(x)\n",
    "        return self.dense2(x)"
   ]
  },
  {
   "cell_type": "markdown",
   "metadata": {},
   "source": [
    "## Keras API 모델 학습 (불균형한 데이터셋)"
   ]
  },
  {
   "cell_type": "code",
   "execution_count": 5,
   "metadata": {
    "scrolled": false
   },
   "outputs": [
    {
     "name": "stdout",
     "output_type": "stream",
     "text": [
      "Epoch 1/30\n",
      "171/171 - 1s - loss: 0.3523 - accuracy: 0.9151 - precision: 0.9258 - recall: 0.9864 - val_loss: 1.4628 - val_accuracy: 0.5085 - val_precision: 0.5043 - val_recall: 0.9990\n",
      "Epoch 2/30\n",
      "171/171 - 1s - loss: 0.2232 - accuracy: 0.9272 - precision: 0.9366 - recall: 0.9874 - val_loss: 0.9559 - val_accuracy: 0.6215 - val_precision: 0.5703 - val_recall: 0.9860\n",
      "Epoch 3/30\n",
      "171/171 - 1s - loss: 0.2117 - accuracy: 0.9288 - precision: 0.9413 - recall: 0.9838 - val_loss: 0.8270 - val_accuracy: 0.6405 - val_precision: 0.5830 - val_recall: 0.9870\n",
      "Epoch 4/30\n",
      "171/171 - 1s - loss: 0.1977 - accuracy: 0.9329 - precision: 0.9440 - recall: 0.9852 - val_loss: 0.7119 - val_accuracy: 0.6830 - val_precision: 0.6144 - val_recall: 0.9830\n",
      "Epoch 5/30\n",
      "171/171 - 1s - loss: 0.1939 - accuracy: 0.9363 - precision: 0.9489 - recall: 0.9836 - val_loss: 1.0869 - val_accuracy: 0.5655 - val_precision: 0.5353 - val_recall: 0.9940\n",
      "Epoch 6/30\n",
      "171/171 - 1s - loss: 0.1836 - accuracy: 0.9378 - precision: 0.9476 - recall: 0.9868 - val_loss: 0.8689 - val_accuracy: 0.6545 - val_precision: 0.5926 - val_recall: 0.9890\n",
      "Epoch 7/30\n",
      "171/171 - 1s - loss: 0.1722 - accuracy: 0.9402 - precision: 0.9506 - recall: 0.9860 - val_loss: 0.6381 - val_accuracy: 0.7365 - val_precision: 0.6608 - val_recall: 0.9720\n",
      "Epoch 8/30\n",
      "171/171 - 1s - loss: 0.1812 - accuracy: 0.9382 - precision: 0.9509 - recall: 0.9834 - val_loss: 0.6948 - val_accuracy: 0.7015 - val_precision: 0.6291 - val_recall: 0.9820\n",
      "Epoch 9/30\n",
      "171/171 - 1s - loss: 0.1675 - accuracy: 0.9433 - precision: 0.9538 - recall: 0.9860 - val_loss: 0.8213 - val_accuracy: 0.6625 - val_precision: 0.5982 - val_recall: 0.9900\n",
      "Epoch 10/30\n",
      "171/171 - 1s - loss: 0.1604 - accuracy: 0.9442 - precision: 0.9549 - recall: 0.9858 - val_loss: 1.0898 - val_accuracy: 0.5900 - val_precision: 0.5497 - val_recall: 0.9960\n",
      "Epoch 11/30\n",
      "171/171 - 1s - loss: 0.1560 - accuracy: 0.9464 - precision: 0.9566 - recall: 0.9864 - val_loss: 0.8580 - val_accuracy: 0.6845 - val_precision: 0.6150 - val_recall: 0.9870\n",
      "Epoch 12/30\n",
      "171/171 - 1s - loss: 0.1578 - accuracy: 0.9462 - precision: 0.9565 - recall: 0.9862 - val_loss: 0.5879 - val_accuracy: 0.7465 - val_precision: 0.6673 - val_recall: 0.9830\n",
      "Epoch 13/30\n",
      "171/171 - 1s - loss: 0.1470 - accuracy: 0.9486 - precision: 0.9590 - recall: 0.9862 - val_loss: 0.7021 - val_accuracy: 0.7295 - val_precision: 0.6531 - val_recall: 0.9790\n",
      "Epoch 14/30\n",
      "171/171 - 1s - loss: 0.1472 - accuracy: 0.9481 - precision: 0.9573 - recall: 0.9874 - val_loss: 0.8540 - val_accuracy: 0.6835 - val_precision: 0.6136 - val_recall: 0.9910\n",
      "Epoch 15/30\n",
      "171/171 - 1s - loss: 0.1421 - accuracy: 0.9475 - precision: 0.9582 - recall: 0.9858 - val_loss: 0.6479 - val_accuracy: 0.7515 - val_precision: 0.6733 - val_recall: 0.9770\n",
      "Epoch 16/30\n",
      "171/171 - 1s - loss: 0.1317 - accuracy: 0.9571 - precision: 0.9638 - recall: 0.9904 - val_loss: 0.5495 - val_accuracy: 0.7865 - val_precision: 0.7105 - val_recall: 0.9670\n",
      "Epoch 17/30\n",
      "171/171 - 1s - loss: 0.1310 - accuracy: 0.9552 - precision: 0.9637 - recall: 0.9884 - val_loss: 0.5196 - val_accuracy: 0.8030 - val_precision: 0.7289 - val_recall: 0.9650\n",
      "Epoch 18/30\n",
      "171/171 - 1s - loss: 0.1273 - accuracy: 0.9545 - precision: 0.9644 - recall: 0.9868 - val_loss: 0.6412 - val_accuracy: 0.7490 - val_precision: 0.6698 - val_recall: 0.9820\n",
      "Epoch 19/30\n",
      "171/171 - 1s - loss: 0.1219 - accuracy: 0.9556 - precision: 0.9648 - recall: 0.9876 - val_loss: 1.6171 - val_accuracy: 0.5335 - val_precision: 0.5174 - val_recall: 0.9980\n",
      "Epoch 20/30\n",
      "171/171 - 1s - loss: 0.1291 - accuracy: 0.9523 - precision: 0.9604 - recall: 0.9888 - val_loss: 0.4465 - val_accuracy: 0.8350 - val_precision: 0.7697 - val_recall: 0.9560\n",
      "Epoch 21/30\n",
      "171/171 - 1s - loss: 0.1150 - accuracy: 0.9578 - precision: 0.9675 - recall: 0.9872 - val_loss: 1.1035 - val_accuracy: 0.6550 - val_precision: 0.5925 - val_recall: 0.9930\n",
      "Epoch 22/30\n",
      "171/171 - 1s - loss: 0.1151 - accuracy: 0.9596 - precision: 0.9677 - recall: 0.9890 - val_loss: 0.8451 - val_accuracy: 0.7200 - val_precision: 0.6429 - val_recall: 0.9900\n",
      "Epoch 23/30\n",
      "171/171 - 1s - loss: 0.1026 - accuracy: 0.9622 - precision: 0.9689 - recall: 0.9906 - val_loss: 0.7592 - val_accuracy: 0.7465 - val_precision: 0.6671 - val_recall: 0.9840\n",
      "Epoch 24/30\n",
      "171/171 - 1s - loss: 0.1154 - accuracy: 0.9571 - precision: 0.9673 - recall: 0.9866 - val_loss: 0.7033 - val_accuracy: 0.7570 - val_precision: 0.6765 - val_recall: 0.9850\n",
      "Epoch 25/30\n",
      "171/171 - 1s - loss: 0.1021 - accuracy: 0.9609 - precision: 0.9683 - recall: 0.9898 - val_loss: 0.6317 - val_accuracy: 0.7810 - val_precision: 0.7022 - val_recall: 0.9760\n",
      "Epoch 26/30\n",
      "171/171 - 1s - loss: 0.0996 - accuracy: 0.9622 - precision: 0.9707 - recall: 0.9886 - val_loss: 0.6528 - val_accuracy: 0.7800 - val_precision: 0.6994 - val_recall: 0.9820\n",
      "Epoch 27/30\n",
      "171/171 - 1s - loss: 0.0942 - accuracy: 0.9646 - precision: 0.9725 - recall: 0.9894 - val_loss: 0.6298 - val_accuracy: 0.7835 - val_precision: 0.7041 - val_recall: 0.9780\n",
      "Epoch 28/30\n",
      "171/171 - 1s - loss: 0.0988 - accuracy: 0.9640 - precision: 0.9728 - recall: 0.9884 - val_loss: 0.9967 - val_accuracy: 0.7200 - val_precision: 0.6436 - val_recall: 0.9860\n",
      "Epoch 29/30\n",
      "171/171 - 1s - loss: 0.0931 - accuracy: 0.9662 - precision: 0.9736 - recall: 0.9900 - val_loss: 0.6437 - val_accuracy: 0.7910 - val_precision: 0.7121 - val_recall: 0.9770\n",
      "Epoch 30/30\n",
      "171/171 - 1s - loss: 0.0884 - accuracy: 0.9670 - precision: 0.9748 - recall: 0.9896 - val_loss: 0.5560 - val_accuracy: 0.8125 - val_precision: 0.7387 - val_recall: 0.9670\n"
     ]
    },
    {
     "data": {
      "text/plain": [
       "<tensorflow.python.keras.callbacks.History at 0x299c8001608>"
      ]
     },
     "execution_count": 5,
     "metadata": {},
     "output_type": "execute_result"
    }
   ],
   "source": [
    "EPOCHS = 30\n",
    "\n",
    "model = MyModel()\n",
    "\n",
    "# 불균형 데이터에 대한 결과를 비교하기 위해 precision & recall 확인\n",
    "model.compile(optimizer='adam',\n",
    "              loss='binary_crossentropy',\n",
    "              metrics=['accuracy',\n",
    "                       tf.keras.metrics.Precision(name='precision'),\n",
    "                       tf.keras.metrics.Recall(name='recall')])\n",
    "\n",
    "model.fit(train_ds, validation_data=test_ds, epochs=EPOCHS, verbose=2)"
   ]
  },
  {
   "cell_type": "markdown",
   "metadata": {},
   "source": [
    "## 데이터셋 준비 (BorderlineSMOTE)"
   ]
  },
  {
   "cell_type": "code",
   "execution_count": 6,
   "metadata": {},
   "outputs": [],
   "source": [
    "# BorderlineSMOTE 적용하기 - 데이터 2차원\n",
    "x_train = x_train.reshape((x_train.shape[0], x_train.shape[1] * x_train.shape[2] * x_train.shape[3])).astype(np.float32)\n",
    "x_test = x_test.reshape((x_test.shape[0], x_test.shape[1] * x_test.shape[2] * x_test.shape[3])).astype(np.float32)\n",
    "\n",
    "smote = BorderlineSMOTE()\n",
    "x_train, y_train = smote.fit_resample(x_train, y_train)\n",
    "\n",
    "train_ds = tf.data.Dataset.from_tensor_slices((x_train, y_train)).shuffle(10000).batch(32).prefetch(2048)\n",
    "test_ds = tf.data.Dataset.from_tensor_slices((x_test, y_test)).batch(32).prefetch(2048)"
   ]
  },
  {
   "cell_type": "markdown",
   "metadata": {},
   "source": [
    "## Keras API 모델 학습 (BorderlineSMOTE)"
   ]
  },
  {
   "cell_type": "code",
   "execution_count": 8,
   "metadata": {
    "scrolled": false
   },
   "outputs": [
    {
     "name": "stdout",
     "output_type": "stream",
     "text": [
      "Epoch 1/30\n",
      "313/313 - 2s - loss: 0.6238 - accuracy: 0.7175 - precision: 0.7352 - recall: 0.6798 - val_loss: 0.5185 - val_accuracy: 0.7535 - val_precision: 0.6994 - val_recall: 0.8890\n",
      "Epoch 2/30\n",
      "313/313 - 2s - loss: 0.4171 - accuracy: 0.8214 - precision: 0.8626 - recall: 0.7646 - val_loss: 0.4390 - val_accuracy: 0.8055 - val_precision: 0.7858 - val_recall: 0.8400\n",
      "Epoch 3/30\n",
      "313/313 - 2s - loss: 0.3334 - accuracy: 0.8670 - precision: 0.9111 - recall: 0.8134 - val_loss: 0.4163 - val_accuracy: 0.8240 - val_precision: 0.8600 - val_recall: 0.7740\n",
      "Epoch 4/30\n",
      "313/313 - 2s - loss: 0.2813 - accuracy: 0.8964 - precision: 0.9346 - recall: 0.8524 - val_loss: 0.4274 - val_accuracy: 0.8220 - val_precision: 0.8634 - val_recall: 0.7650\n",
      "Epoch 5/30\n",
      "313/313 - 2s - loss: 0.2285 - accuracy: 0.9212 - precision: 0.9586 - recall: 0.8804 - val_loss: 0.4459 - val_accuracy: 0.8260 - val_precision: 0.7835 - val_recall: 0.9010\n",
      "Epoch 6/30\n",
      "313/313 - 2s - loss: 0.2036 - accuracy: 0.9286 - precision: 0.9591 - recall: 0.8954 - val_loss: 0.4776 - val_accuracy: 0.8255 - val_precision: 0.7784 - val_recall: 0.9100\n",
      "Epoch 7/30\n",
      "313/313 - 2s - loss: 0.1791 - accuracy: 0.9381 - precision: 0.9680 - recall: 0.9062 - val_loss: 0.5940 - val_accuracy: 0.8190 - val_precision: 0.7602 - val_recall: 0.9320\n",
      "Epoch 8/30\n",
      "313/313 - 2s - loss: 0.1595 - accuracy: 0.9453 - precision: 0.9688 - recall: 0.9202 - val_loss: 0.4613 - val_accuracy: 0.8420 - val_precision: 0.8120 - val_recall: 0.8900\n",
      "Epoch 9/30\n",
      "313/313 - 2s - loss: 0.1449 - accuracy: 0.9524 - precision: 0.9746 - recall: 0.9290 - val_loss: 0.5004 - val_accuracy: 0.8435 - val_precision: 0.8064 - val_recall: 0.9040\n",
      "Epoch 10/30\n",
      "313/313 - 2s - loss: 0.1236 - accuracy: 0.9624 - precision: 0.9807 - recall: 0.9434 - val_loss: 0.6845 - val_accuracy: 0.7985 - val_precision: 0.7256 - val_recall: 0.9600\n",
      "Epoch 11/30\n",
      "313/313 - 2s - loss: 0.1179 - accuracy: 0.9623 - precision: 0.9809 - recall: 0.9430 - val_loss: 0.5874 - val_accuracy: 0.8335 - val_precision: 0.7777 - val_recall: 0.9340\n",
      "Epoch 12/30\n",
      "313/313 - 2s - loss: 0.1053 - accuracy: 0.9688 - precision: 0.9833 - recall: 0.9538 - val_loss: 0.8317 - val_accuracy: 0.7730 - val_precision: 0.6970 - val_recall: 0.9660\n",
      "Epoch 13/30\n",
      "313/313 - 2s - loss: 0.0945 - accuracy: 0.9733 - precision: 0.9864 - recall: 0.9598 - val_loss: 0.5272 - val_accuracy: 0.8525 - val_precision: 0.8139 - val_recall: 0.9140\n",
      "Epoch 14/30\n",
      "313/313 - 2s - loss: 0.0958 - accuracy: 0.9716 - precision: 0.9844 - recall: 0.9584 - val_loss: 0.8973 - val_accuracy: 0.7875 - val_precision: 0.7116 - val_recall: 0.9670\n",
      "Epoch 15/30\n",
      "313/313 - 2s - loss: 0.0858 - accuracy: 0.9748 - precision: 0.9853 - recall: 0.9640 - val_loss: 0.5818 - val_accuracy: 0.8495 - val_precision: 0.8031 - val_recall: 0.9260\n",
      "Epoch 16/30\n",
      "313/313 - 2s - loss: 0.0781 - accuracy: 0.9788 - precision: 0.9890 - recall: 0.9684 - val_loss: 0.6888 - val_accuracy: 0.8340 - val_precision: 0.7707 - val_recall: 0.9510\n",
      "Epoch 17/30\n",
      "313/313 - 2s - loss: 0.0806 - accuracy: 0.9758 - precision: 0.9869 - recall: 0.9644 - val_loss: 0.9533 - val_accuracy: 0.7955 - val_precision: 0.7191 - val_recall: 0.9700\n",
      "Epoch 18/30\n",
      "313/313 - 2s - loss: 0.0616 - accuracy: 0.9830 - precision: 0.9905 - recall: 0.9754 - val_loss: 0.5409 - val_accuracy: 0.8595 - val_precision: 0.8326 - val_recall: 0.9000\n",
      "Epoch 19/30\n",
      "313/313 - 2s - loss: 0.0606 - accuracy: 0.9836 - precision: 0.9919 - recall: 0.9752 - val_loss: 1.0020 - val_accuracy: 0.7885 - val_precision: 0.7117 - val_recall: 0.9700\n",
      "Epoch 20/30\n",
      "313/313 - 2s - loss: 0.0535 - accuracy: 0.9860 - precision: 0.9927 - recall: 0.9792 - val_loss: 1.0561 - val_accuracy: 0.7905 - val_precision: 0.7138 - val_recall: 0.9700\n",
      "Epoch 21/30\n",
      "313/313 - 2s - loss: 0.0496 - accuracy: 0.9871 - precision: 0.9933 - recall: 0.9808 - val_loss: 1.0130 - val_accuracy: 0.7900 - val_precision: 0.7145 - val_recall: 0.9660\n",
      "Epoch 22/30\n",
      "313/313 - 2s - loss: 0.0480 - accuracy: 0.9865 - precision: 0.9927 - recall: 0.9802 - val_loss: 0.9655 - val_accuracy: 0.8060 - val_precision: 0.7336 - val_recall: 0.9610\n",
      "Epoch 23/30\n",
      "313/313 - 2s - loss: 0.0562 - accuracy: 0.9849 - precision: 0.9907 - recall: 0.9790 - val_loss: 0.9018 - val_accuracy: 0.8225 - val_precision: 0.7490 - val_recall: 0.9700\n",
      "Epoch 24/30\n",
      "313/313 - 2s - loss: 0.0435 - accuracy: 0.9877 - precision: 0.9921 - recall: 0.9832 - val_loss: 0.5853 - val_accuracy: 0.8605 - val_precision: 0.8360 - val_recall: 0.8970\n",
      "Epoch 25/30\n",
      "313/313 - 2s - loss: 0.0683 - accuracy: 0.9792 - precision: 0.9860 - recall: 0.9722 - val_loss: 0.9001 - val_accuracy: 0.8230 - val_precision: 0.7520 - val_recall: 0.9640\n",
      "Epoch 26/30\n",
      "313/313 - 2s - loss: 0.0511 - accuracy: 0.9857 - precision: 0.9911 - recall: 0.9802 - val_loss: 0.6736 - val_accuracy: 0.8495 - val_precision: 0.7980 - val_recall: 0.9360\n",
      "Epoch 27/30\n",
      "313/313 - 2s - loss: 0.0405 - accuracy: 0.9897 - precision: 0.9935 - recall: 0.9858 - val_loss: 1.0950 - val_accuracy: 0.7940 - val_precision: 0.7168 - val_recall: 0.9720\n",
      "Epoch 28/30\n",
      "313/313 - 2s - loss: 0.0436 - accuracy: 0.9894 - precision: 0.9937 - recall: 0.9850 - val_loss: 1.0635 - val_accuracy: 0.8060 - val_precision: 0.7322 - val_recall: 0.9650\n",
      "Epoch 29/30\n",
      "313/313 - 2s - loss: 0.0379 - accuracy: 0.9884 - precision: 0.9927 - recall: 0.9840 - val_loss: 0.8508 - val_accuracy: 0.8300 - val_precision: 0.7679 - val_recall: 0.9460\n",
      "Epoch 30/30\n",
      "313/313 - 2s - loss: 0.0379 - accuracy: 0.9904 - precision: 0.9936 - recall: 0.9872 - val_loss: 0.9268 - val_accuracy: 0.8345 - val_precision: 0.7722 - val_recall: 0.9490\n"
     ]
    },
    {
     "data": {
      "text/plain": [
       "<tensorflow.python.keras.callbacks.History at 0x299c2d7c188>"
      ]
     },
     "execution_count": 8,
     "metadata": {},
     "output_type": "execute_result"
    }
   ],
   "source": [
    "model = MyModel()\n",
    "\n",
    "model.compile(optimizer='adam',\n",
    "              loss='binary_crossentropy',\n",
    "              metrics=['accuracy',\n",
    "                       tf.keras.metrics.Precision(name='precision'),\n",
    "                       tf.keras.metrics.Recall(name='recall')])\n",
    "\n",
    "model.fit(train_ds, validation_data=test_ds, epochs=EPOCHS, verbose=2)"
   ]
  }
 ],
 "metadata": {
  "kernelspec": {
   "display_name": "Python 3",
   "language": "python",
   "name": "python3"
  },
  "language_info": {
   "codemirror_mode": {
    "name": "ipython",
    "version": 3
   },
   "file_extension": ".py",
   "mimetype": "text/x-python",
   "name": "python",
   "nbconvert_exporter": "python",
   "pygments_lexer": "ipython3",
   "version": "3.7.6"
  }
 },
 "nbformat": 4,
 "nbformat_minor": 2
}
