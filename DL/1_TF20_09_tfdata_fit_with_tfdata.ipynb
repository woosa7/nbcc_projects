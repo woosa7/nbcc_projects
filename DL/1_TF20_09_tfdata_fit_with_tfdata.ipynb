{
 "cells": [
  {
   "cell_type": "markdown",
   "metadata": {},
   "source": [
    "# TensorFlow 2.0"
   ]
  },
  {
   "cell_type": "code",
   "execution_count": 1,
   "metadata": {},
   "outputs": [],
   "source": [
    "import os\n",
    "from glob import glob\n",
    "from datetime import datetime\n",
    "import numpy as np\n",
    "import matplotlib.pyplot as plt\n",
    "%matplotlib inline\n",
    "\n",
    "import tensorflow as tf\n",
    "from tensorflow.keras import layers, datasets"
   ]
  },
  {
   "cell_type": "markdown",
   "metadata": {},
   "source": [
    "## Hyperparameter Tunning"
   ]
  },
  {
   "cell_type": "code",
   "execution_count": 2,
   "metadata": {},
   "outputs": [],
   "source": [
    "num_epochs = 20\n",
    "batch_size = 32\n",
    "\n",
    "learning_rate = 0.001\n",
    "dropout_rate = 0.5\n",
    "\n",
    "input_shape = (32, 32, 3)\n",
    "num_classes = 10"
   ]
  },
  {
   "cell_type": "markdown",
   "metadata": {},
   "source": [
    "## Build Model"
   ]
  },
  {
   "cell_type": "code",
   "execution_count": 3,
   "metadata": {},
   "outputs": [],
   "source": [
    "inputs = layers.Input(input_shape)\n",
    "\n",
    "net = layers.Conv2D(32, (3, 3), padding='SAME')(inputs)\n",
    "net = layers.Activation('relu')(net)\n",
    "net = layers.Conv2D(32, (3, 3), padding='SAME')(net)\n",
    "net = layers.Activation('relu')(net)\n",
    "net = layers.MaxPooling2D(pool_size=(2, 2))(net)\n",
    "net = layers.Dropout(dropout_rate)(net)\n",
    "\n",
    "net = layers.Conv2D(64, (3, 3), padding='SAME')(net)\n",
    "net = layers.Activation('relu')(net)\n",
    "net = layers.Conv2D(64, (3, 3), padding='SAME')(net)\n",
    "net = layers.Activation('relu')(net)\n",
    "net = layers.MaxPooling2D(pool_size=(2, 2))(net)\n",
    "net = layers.Dropout(dropout_rate)(net)\n",
    "\n",
    "net = layers.Flatten()(net)\n",
    "net = layers.Dense(512)(net)\n",
    "net = layers.Activation('relu')(net)\n",
    "net = layers.Dropout(dropout_rate)(net)\n",
    "net = layers.Dense(num_classes)(net)\n",
    "net = layers.Activation('softmax')(net)\n",
    "\n",
    "model = tf.keras.Model(inputs=inputs, outputs=net, name='Basic_CNN')"
   ]
  },
  {
   "cell_type": "code",
   "execution_count": 4,
   "metadata": {},
   "outputs": [],
   "source": [
    "model.compile(optimizer=tf.keras.optimizers.Adam(learning_rate),\n",
    "              loss='sparse_categorical_crossentropy',\n",
    "              metrics=['accuracy'])"
   ]
  },
  {
   "cell_type": "markdown",
   "metadata": {},
   "source": [
    "# Data Preprocess"
   ]
  },
  {
   "cell_type": "code",
   "execution_count": 5,
   "metadata": {},
   "outputs": [],
   "source": [
    "train_paths = glob('dataset/cifar/train/*.png')\n",
    "test_paths = glob('dataset/cifar/test/*.png')"
   ]
  },
  {
   "cell_type": "code",
   "execution_count": 6,
   "metadata": {},
   "outputs": [],
   "source": [
    "def get_class_name(path):\n",
    "    return path.split('_')[-1].replace('.png', '')"
   ]
  },
  {
   "cell_type": "code",
   "execution_count": 7,
   "metadata": {},
   "outputs": [
    {
     "data": {
      "text/plain": [
       "array(['airplane', 'automobile', 'bird', 'cat', 'deer', 'dog', 'frog',\n",
       "       'horse', 'ship', 'truck'], dtype='<U10')"
      ]
     },
     "execution_count": 7,
     "metadata": {},
     "output_type": "execute_result"
    }
   ],
   "source": [
    "train_labels = [get_class_name(path) for path in train_paths]\n",
    "class_names = np.unique(train_labels)\n",
    "class_names"
   ]
  },
  {
   "cell_type": "code",
   "execution_count": 8,
   "metadata": {},
   "outputs": [],
   "source": [
    "def get_label(path):\n",
    "    fname = tf.strings.split(path, '_')[-1]\n",
    "    lbl_name = tf.strings.regex_replace(fname, '.png', '')\n",
    "    onehot = tf.cast(lbl_name == class_names, tf.uint8)\n",
    "    \n",
    "    # 이번에는 onehot이 아닌 label 번호로\n",
    "    return tf.argmax(onehot)"
   ]
  },
  {
   "cell_type": "code",
   "execution_count": 9,
   "metadata": {},
   "outputs": [],
   "source": [
    "def load_image_label(path):\n",
    "    gfile = tf.io.read_file(path)\n",
    "    image = tf.io.decode_image(gfile)\n",
    "    image = tf.cast(image, tf.float32) / 255.  # rescale !!!\n",
    "    \n",
    "    label = get_label(path)\n",
    "    \n",
    "    return image, label"
   ]
  },
  {
   "cell_type": "code",
   "execution_count": 10,
   "metadata": {},
   "outputs": [],
   "source": [
    "# transform images\n",
    "def image_preprocess(image, label):\n",
    "    image = tf.image.random_flip_up_down(image)\n",
    "    image = tf.image.random_flip_left_right(image)\n",
    "    return image, label"
   ]
  },
  {
   "cell_type": "code",
   "execution_count": 11,
   "metadata": {},
   "outputs": [],
   "source": [
    "AUTOTUNE = tf.data.experimental.AUTOTUNE"
   ]
  },
  {
   "cell_type": "code",
   "execution_count": 12,
   "metadata": {
    "scrolled": false
   },
   "outputs": [],
   "source": [
    "train_dataset = tf.data.Dataset.from_tensor_slices(train_paths)\n",
    "train_dataset = train_dataset.map(load_image_label, num_parallel_calls=AUTOTUNE)\n",
    "train_dataset = train_dataset.map(image_preprocess, num_parallel_calls=AUTOTUNE)\n",
    "train_dataset = train_dataset.batch(batch_size)\n",
    "train_dataset = train_dataset.shuffle(buffer_size=len(train_paths))\n",
    "train_dataset = train_dataset.repeat()"
   ]
  },
  {
   "cell_type": "code",
   "execution_count": 13,
   "metadata": {},
   "outputs": [],
   "source": [
    "test_dataset = tf.data.Dataset.from_tensor_slices(test_paths)\n",
    "test_dataset = test_dataset.map(load_image_label, num_parallel_calls=AUTOTUNE)\n",
    "test_dataset = test_dataset.batch(batch_size)\n",
    "test_dataset = test_dataset.repeat()"
   ]
  },
  {
   "cell_type": "markdown",
   "metadata": {},
   "source": [
    "# Learning Rate Scheduler"
   ]
  },
  {
   "cell_type": "code",
   "execution_count": 14,
   "metadata": {},
   "outputs": [],
   "source": [
    "import math"
   ]
  },
  {
   "cell_type": "code",
   "execution_count": 15,
   "metadata": {},
   "outputs": [],
   "source": [
    "def scheduler(epoch):\n",
    "    if epoch < 10:\n",
    "        return 0.001\n",
    "    else:\n",
    "        return 0.001 * math.exp(0.1 * (10 - epoch))\n",
    "\n",
    "learning_rate_scheduler = tf.keras.callbacks.LearningRateScheduler(scheduler)"
   ]
  },
  {
   "cell_type": "markdown",
   "metadata": {},
   "source": [
    "## Training"
   ]
  },
  {
   "cell_type": "code",
   "execution_count": 17,
   "metadata": {},
   "outputs": [
    {
     "name": "stdout",
     "output_type": "stream",
     "text": [
      "Epoch 1/20\n",
      "1562/1562 [==============================] - 14s 9ms/step - loss: 1.7098 - accuracy: 0.3606 - val_loss: 1.4735 - val_accuracy: 0.4576 - lr: 0.0010\n",
      "Epoch 2/20\n",
      "1562/1562 [==============================] - 24s 15ms/step - loss: 1.4183 - accuracy: 0.4816 - val_loss: 1.2947 - val_accuracy: 0.5270 - lr: 0.0010\n",
      "Epoch 3/20\n",
      "1562/1562 [==============================] - 22s 14ms/step - loss: 1.3243 - accuracy: 0.5200 - val_loss: 1.2194 - val_accuracy: 0.5633 - lr: 0.0010\n",
      "Epoch 4/20\n",
      "1562/1562 [==============================] - 22s 14ms/step - loss: 1.2641 - accuracy: 0.5442 - val_loss: 1.1660 - val_accuracy: 0.5742 - lr: 0.0010\n",
      "Epoch 5/20\n",
      "1562/1562 [==============================] - 21s 14ms/step - loss: 1.2243 - accuracy: 0.5563 - val_loss: 1.1149 - val_accuracy: 0.6048 - lr: 0.0010\n",
      "Epoch 6/20\n",
      "1562/1562 [==============================] - 22s 14ms/step - loss: 1.1897 - accuracy: 0.5728 - val_loss: 1.1107 - val_accuracy: 0.6020 - lr: 0.0010\n",
      "Epoch 7/20\n",
      "1562/1562 [==============================] - 21s 14ms/step - loss: 1.1736 - accuracy: 0.5788 - val_loss: 1.1712 - val_accuracy: 0.5868 - lr: 0.0010\n",
      "Epoch 8/20\n",
      "1562/1562 [==============================] - 22s 14ms/step - loss: 1.1589 - accuracy: 0.5845 - val_loss: 1.1389 - val_accuracy: 0.5905 - lr: 0.0010\n",
      "Epoch 9/20\n",
      "1562/1562 [==============================] - 22s 14ms/step - loss: 1.1371 - accuracy: 0.5911 - val_loss: 1.0630 - val_accuracy: 0.6238 - lr: 0.0010\n",
      "Epoch 10/20\n",
      "1562/1562 [==============================] - 22s 14ms/step - loss: 1.1220 - accuracy: 0.5990 - val_loss: 1.0636 - val_accuracy: 0.6185 - lr: 0.0010\n",
      "Epoch 11/20\n",
      "1562/1562 [==============================] - 21s 14ms/step - loss: 1.1042 - accuracy: 0.6040 - val_loss: 1.0803 - val_accuracy: 0.6096 - lr: 0.0010\n",
      "Epoch 12/20\n",
      "1562/1562 [==============================] - 21s 14ms/step - loss: 1.0930 - accuracy: 0.6097 - val_loss: 1.0437 - val_accuracy: 0.6222 - lr: 9.0484e-04\n",
      "Epoch 13/20\n",
      "1562/1562 [==============================] - 21s 14ms/step - loss: 1.0613 - accuracy: 0.6191 - val_loss: 1.0138 - val_accuracy: 0.6396 - lr: 8.1873e-04\n",
      "Epoch 14/20\n",
      "1562/1562 [==============================] - 21s 14ms/step - loss: 1.0458 - accuracy: 0.6262 - val_loss: 1.0805 - val_accuracy: 0.6186 - lr: 7.4082e-04\n",
      "Epoch 15/20\n",
      "1562/1562 [==============================] - 21s 14ms/step - loss: 1.0272 - accuracy: 0.6348 - val_loss: 0.9756 - val_accuracy: 0.6542 - lr: 6.7032e-04\n",
      "Epoch 16/20\n",
      "1562/1562 [==============================] - 21s 13ms/step - loss: 1.0064 - accuracy: 0.6382 - val_loss: 1.0489 - val_accuracy: 0.6331 - lr: 6.0653e-04\n",
      "Epoch 17/20\n",
      "1562/1562 [==============================] - 21s 13ms/step - loss: 0.9950 - accuracy: 0.6458 - val_loss: 1.0172 - val_accuracy: 0.6519 - lr: 5.4881e-04\n",
      "Epoch 18/20\n",
      "1562/1562 [==============================] - 21s 14ms/step - loss: 0.9733 - accuracy: 0.6532 - val_loss: 0.9523 - val_accuracy: 0.6696 - lr: 4.9659e-04\n",
      "Epoch 19/20\n",
      "1562/1562 [==============================] - 21s 14ms/step - loss: 0.9643 - accuracy: 0.6555 - val_loss: 0.9412 - val_accuracy: 0.6726 - lr: 4.4933e-04\n",
      "Epoch 20/20\n",
      "1562/1562 [==============================] - 21s 14ms/step - loss: 0.9451 - accuracy: 0.6621 - val_loss: 1.0055 - val_accuracy: 0.6516 - lr: 4.0657e-04\n"
     ]
    },
    {
     "data": {
      "text/plain": [
       "<tensorflow.python.keras.callbacks.History at 0x20d4855c2c8>"
      ]
     },
     "execution_count": 17,
     "metadata": {},
     "output_type": "execute_result"
    }
   ],
   "source": [
    "# When providing an infinite dataset, you must specify the number of steps to run.\n",
    "train_steps = len(train_paths) // batch_size\n",
    "test_steps = len(test_paths) // batch_size\n",
    "\n",
    "model.fit(train_dataset,\n",
    "          validation_data=test_dataset,\n",
    "          steps_per_epoch=train_steps,\n",
    "          validation_steps=test_steps,\n",
    "          epochs=num_epochs,\n",
    "          callbacks=[learning_rate_scheduler]\n",
    ")"
   ]
  },
  {
   "cell_type": "markdown",
   "metadata": {},
   "source": [
    "https://www.tensorflow.org/tensorboard/r2/image_summaries#setup"
   ]
  }
 ],
 "metadata": {
  "kernelspec": {
   "display_name": "Python 3",
   "language": "python",
   "name": "python3"
  },
  "language_info": {
   "codemirror_mode": {
    "name": "ipython",
    "version": 3
   },
   "file_extension": ".py",
   "mimetype": "text/x-python",
   "name": "python",
   "nbconvert_exporter": "python",
   "pygments_lexer": "ipython3",
   "version": "3.7.6"
  }
 },
 "nbformat": 4,
 "nbformat_minor": 2
}
