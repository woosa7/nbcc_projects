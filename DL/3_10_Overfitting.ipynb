{
 "cells": [
  {
   "cell_type": "markdown",
   "metadata": {},
   "source": [
    "# Overfitting 문제 해결 "
   ]
  },
  {
   "cell_type": "code",
   "execution_count": 1,
   "metadata": {},
   "outputs": [],
   "source": [
    "import tensorflow as tf\n",
    "import numpy as np"
   ]
  },
  {
   "cell_type": "markdown",
   "metadata": {},
   "source": [
    "## 데이터셋 준비\n"
   ]
  },
  {
   "cell_type": "code",
   "execution_count": 2,
   "metadata": {},
   "outputs": [],
   "source": [
    "cifar10 = tf.keras.datasets.cifar10  # 32 * 32 * 3. 10 classes\n",
    "\n",
    "(x_train, y_train), (x_test, y_test) = cifar10.load_data()\n",
    "x_train, x_test = x_train / 255.0, x_test / 255.0\n",
    "\n",
    "x_train = x_train.astype(np.float32)\n",
    "x_test = x_test.astype(np.float32)\n",
    "\n",
    "train_ds = tf.data.Dataset.from_tensor_slices((x_train, y_train)).shuffle(10000).batch(32).prefetch(1024)\n",
    "test_ds = tf.data.Dataset.from_tensor_slices((x_test, y_test)).batch(32).prefetch(1024)"
   ]
  },
  {
   "cell_type": "markdown",
   "metadata": {},
   "source": [
    "## 모델 정의"
   ]
  },
  {
   "cell_type": "code",
   "execution_count": 3,
   "metadata": {},
   "outputs": [],
   "source": [
    "class MyModel(tf.keras.Model):\n",
    "    def __init__(self):\n",
    "        super(MyModel, self).__init__()\n",
    "        \n",
    "        self.conv1_1 = tf.keras.layers.Conv2D(16, (3, 3), padding='same', activation='relu')\n",
    "        self.conv1_2 = tf.keras.layers.Conv2D(16, (3, 3), padding='same', activation='relu')\n",
    "        self.pool1 = tf.keras.layers.MaxPool2D((2, 2))\n",
    "\n",
    "        self.conv2_1 = tf.keras.layers.Conv2D(32, (3, 3), padding='same', activation='relu')\n",
    "        self.conv2_2 = tf.keras.layers.Conv2D(32, (3, 3), padding='same', activation='relu')\n",
    "        self.pool2 = tf.keras.layers.MaxPool2D((2, 2))\n",
    "\n",
    "        self.conv3_1 = tf.keras.layers.Conv2D(64, (3, 3), padding='same', activation='relu')\n",
    "        self.conv3_2 = tf.keras.layers.Conv2D(64, (3, 3), padding='same', activation='relu')\n",
    "        \n",
    "        self.flatten = tf.keras.layers.Flatten()        \n",
    "        self.dense1 = tf.keras.layers.Dense(1024, activation='relu')\n",
    "        self.dense2 = tf.keras.layers.Dense(10, activation='softmax')\n",
    "\n",
    "    def call(self, x, training=False, mask=None):\n",
    "        x = self.conv1_1(x)\n",
    "        x = self.conv1_2(x)\n",
    "        x = self.pool1(x)\n",
    "\n",
    "        x = self.conv2_1(x)\n",
    "        x = self.conv2_2(x)\n",
    "        x = self.pool2(x)\n",
    "\n",
    "        x = self.conv3_1(x)\n",
    "        x = self.conv3_2(x)\n",
    "        \n",
    "        x = self.flatten(x)        \n",
    "        x = self.dense1(x)\n",
    "        return self.dense2(x)"
   ]
  },
  {
   "cell_type": "markdown",
   "metadata": {},
   "source": [
    "## Keras API 모델 학습"
   ]
  },
  {
   "cell_type": "code",
   "execution_count": 4,
   "metadata": {},
   "outputs": [],
   "source": [
    "EPOCHS = 30"
   ]
  },
  {
   "cell_type": "code",
   "execution_count": 5,
   "metadata": {
    "scrolled": false
   },
   "outputs": [
    {
     "name": "stdout",
     "output_type": "stream",
     "text": [
      "Epoch 1/30\n",
      "1563/1563 [==============================] - 11s 7ms/step - loss: 1.4232 - accuracy: 0.4837 - val_loss: 1.0775 - val_accuracy: 0.6182\n",
      "Epoch 2/30\n",
      "1563/1563 [==============================] - 11s 7ms/step - loss: 0.9537 - accuracy: 0.6655 - val_loss: 0.8505 - val_accuracy: 0.7072\n",
      "Epoch 3/30\n",
      "1563/1563 [==============================] - 11s 7ms/step - loss: 0.7433 - accuracy: 0.7394 - val_loss: 0.8370 - val_accuracy: 0.7180\n",
      "Epoch 4/30\n",
      "1563/1563 [==============================] - 11s 7ms/step - loss: 0.5590 - accuracy: 0.8026 - val_loss: 0.8282 - val_accuracy: 0.7262\n",
      "Epoch 5/30\n",
      "1563/1563 [==============================] - 11s 7ms/step - loss: 0.3811 - accuracy: 0.8658 - val_loss: 0.9516 - val_accuracy: 0.7283\n",
      "Epoch 6/30\n",
      "1563/1563 [==============================] - 11s 7ms/step - loss: 0.2500 - accuracy: 0.9135 - val_loss: 1.0620 - val_accuracy: 0.7244\n",
      "Epoch 7/30\n",
      "1563/1563 [==============================] - 11s 7ms/step - loss: 0.1762 - accuracy: 0.9391 - val_loss: 1.2898 - val_accuracy: 0.7247\n",
      "Epoch 8/30\n",
      "1563/1563 [==============================] - 11s 7ms/step - loss: 0.1465 - accuracy: 0.9507 - val_loss: 1.5630 - val_accuracy: 0.7012\n",
      "Epoch 9/30\n",
      "1563/1563 [==============================] - 11s 7ms/step - loss: 0.1249 - accuracy: 0.9587 - val_loss: 1.6279 - val_accuracy: 0.7173\n",
      "Epoch 10/30\n",
      "1563/1563 [==============================] - 11s 7ms/step - loss: 0.1171 - accuracy: 0.9611 - val_loss: 1.6606 - val_accuracy: 0.7147\n",
      "Epoch 11/30\n",
      "1563/1563 [==============================] - 11s 7ms/step - loss: 0.1103 - accuracy: 0.9640 - val_loss: 1.6996 - val_accuracy: 0.7062\n",
      "Epoch 12/30\n",
      "1563/1563 [==============================] - 11s 7ms/step - loss: 0.1053 - accuracy: 0.9657 - val_loss: 1.7686 - val_accuracy: 0.7081\n",
      "Epoch 13/30\n",
      "1563/1563 [==============================] - 11s 7ms/step - loss: 0.0997 - accuracy: 0.9668 - val_loss: 2.1036 - val_accuracy: 0.7126\n",
      "Epoch 14/30\n",
      "1563/1563 [==============================] - 11s 7ms/step - loss: 0.0939 - accuracy: 0.9700 - val_loss: 1.9528 - val_accuracy: 0.6960\n",
      "Epoch 15/30\n",
      "1563/1563 [==============================] - 11s 7ms/step - loss: 0.0941 - accuracy: 0.9709 - val_loss: 2.0584 - val_accuracy: 0.7057\n",
      "Epoch 16/30\n",
      "1563/1563 [==============================] - 11s 7ms/step - loss: 0.0915 - accuracy: 0.9711 - val_loss: 1.8475 - val_accuracy: 0.7222\n",
      "Epoch 17/30\n",
      "1563/1563 [==============================] - 11s 7ms/step - loss: 0.0868 - accuracy: 0.9746 - val_loss: 2.0597 - val_accuracy: 0.7174\n",
      "Epoch 18/30\n",
      "1563/1563 [==============================] - 11s 7ms/step - loss: 0.0857 - accuracy: 0.9751 - val_loss: 1.9575 - val_accuracy: 0.7153\n",
      "Epoch 19/30\n",
      "1563/1563 [==============================] - 11s 7ms/step - loss: 0.0885 - accuracy: 0.9737 - val_loss: 2.0901 - val_accuracy: 0.7146\n",
      "Epoch 20/30\n",
      "1563/1563 [==============================] - 10s 7ms/step - loss: 0.0831 - accuracy: 0.9744 - val_loss: 2.1785 - val_accuracy: 0.7146\n",
      "Epoch 21/30\n",
      "1563/1563 [==============================] - 11s 7ms/step - loss: 0.0821 - accuracy: 0.9759 - val_loss: 2.2540 - val_accuracy: 0.7238\n",
      "Epoch 22/30\n",
      "1563/1563 [==============================] - 11s 7ms/step - loss: 0.0740 - accuracy: 0.9784 - val_loss: 2.3996 - val_accuracy: 0.7215\n",
      "Epoch 23/30\n",
      "1563/1563 [==============================] - 11s 7ms/step - loss: 0.0816 - accuracy: 0.9761 - val_loss: 2.5553 - val_accuracy: 0.7136\n",
      "Epoch 24/30\n",
      "1563/1563 [==============================] - 11s 7ms/step - loss: 0.0860 - accuracy: 0.9760 - val_loss: 2.3066 - val_accuracy: 0.7056\n",
      "Epoch 25/30\n",
      "1563/1563 [==============================] - 11s 7ms/step - loss: 0.0731 - accuracy: 0.9792 - val_loss: 2.5745 - val_accuracy: 0.7127\n",
      "Epoch 26/30\n",
      "1563/1563 [==============================] - 11s 7ms/step - loss: 0.0825 - accuracy: 0.9763 - val_loss: 2.5907 - val_accuracy: 0.7065\n",
      "Epoch 27/30\n",
      "1563/1563 [==============================] - 11s 7ms/step - loss: 0.0806 - accuracy: 0.9786 - val_loss: 2.4690 - val_accuracy: 0.7097\n",
      "Epoch 28/30\n",
      "1563/1563 [==============================] - 11s 7ms/step - loss: 0.0747 - accuracy: 0.9791 - val_loss: 2.3610 - val_accuracy: 0.7046\n",
      "Epoch 29/30\n",
      "1563/1563 [==============================] - 11s 7ms/step - loss: 0.0716 - accuracy: 0.9795 - val_loss: 2.7360 - val_accuracy: 0.7121\n",
      "Epoch 30/30\n",
      "1563/1563 [==============================] - 11s 7ms/step - loss: 0.0780 - accuracy: 0.9781 - val_loss: 2.5444 - val_accuracy: 0.7145\n"
     ]
    },
    {
     "data": {
      "text/plain": [
       "<tensorflow.python.keras.callbacks.History at 0x1a28db0a348>"
      ]
     },
     "execution_count": 5,
     "metadata": {},
     "output_type": "execute_result"
    }
   ],
   "source": [
    "model = MyModel()\n",
    "model.compile(optimizer='adam',\n",
    "              loss='sparse_categorical_crossentropy',\n",
    "              metrics=['accuracy'])\n",
    "\n",
    "model.fit(train_ds, validation_data=test_ds, epochs=EPOCHS)"
   ]
  },
  {
   "cell_type": "markdown",
   "metadata": {},
   "source": [
    "# 모델 수정"
   ]
  },
  {
   "cell_type": "code",
   "execution_count": 6,
   "metadata": {},
   "outputs": [],
   "source": [
    "# Layer Normalization\n",
    "class ConvLNReluBlock(tf.keras.Model):\n",
    "    def __init__(self, filters, kernel_size):\n",
    "        super(ConvLNReluBlock, self).__init__()\n",
    "        \n",
    "        self.conv = tf.keras.layers.Conv2D(filters, kernel_size, padding='same', use_bias=False)\n",
    "        self.LN = tf.keras.layers.LayerNormalization()\n",
    "        \n",
    "    def call(self, x, training=False, mask=None):\n",
    "        x = self.conv(x)\n",
    "        x = self.LN(x)\n",
    "        out = tf.nn.relu(x)\n",
    "        return out"
   ]
  },
  {
   "cell_type": "code",
   "execution_count": 9,
   "metadata": {},
   "outputs": [],
   "source": [
    "class MyModel_LN(tf.keras.Model):\n",
    "    def __init__(self):\n",
    "        super(MyModel_LN, self).__init__()\n",
    "        \n",
    "        self.conv1_1 = ConvLNReluBlock(16, (3, 3))\n",
    "        self.conv1_2 = ConvLNReluBlock(16, (3, 3))\n",
    "        self.pool1 = tf.keras.layers.MaxPool2D((2, 2))\n",
    "\n",
    "        self.conv2_1 = ConvLNReluBlock(32, (3, 3))\n",
    "        self.conv2_2 = ConvLNReluBlock(32, (3, 3))\n",
    "        self.pool2 = tf.keras.layers.MaxPool2D((2, 2))\n",
    "\n",
    "        self.conv3_1 = ConvLNReluBlock(64, (3, 3))\n",
    "        self.conv3_2 = ConvLNReluBlock(64, (3, 3))\n",
    "        \n",
    "        self.flatten = tf.keras.layers.Flatten()        \n",
    "        \n",
    "        # L2 정규화, 람다 = 0.01\n",
    "        self.dense1 = tf.keras.layers.Dense(1024, activation='relu',\n",
    "                                           kernel_regularizer=tf.keras.regularizers.l2(0.01))\n",
    "        self.dense2 = tf.keras.layers.Dense(10, activation='softmax',\n",
    "                                           kernel_regularizer=tf.keras.regularizers.l2(0.01))\n",
    "\n",
    "    def call(self, x, training=False, mask=None):\n",
    "        x = self.conv1_1(x)\n",
    "        x = self.conv1_2(x)\n",
    "        x = self.pool1(x)\n",
    "\n",
    "        x = self.conv2_1(x)\n",
    "        x = self.conv2_2(x)\n",
    "        x = self.pool2(x)\n",
    "\n",
    "        x = self.conv3_1(x)\n",
    "        x = self.conv3_2(x)\n",
    "        x = self.flatten(x)\n",
    "        \n",
    "        x = self.dense1(x)\n",
    "        return self.dense2(x)"
   ]
  },
  {
   "cell_type": "code",
   "execution_count": 10,
   "metadata": {},
   "outputs": [
    {
     "name": "stdout",
     "output_type": "stream",
     "text": [
      "Epoch 1/30\n",
      "1563/1563 [==============================] - 38s 25ms/step - loss: 2.2110 - accuracy: 0.4011 - val_loss: 1.3923 - val_accuracy: 0.5405\n",
      "Epoch 2/30\n",
      "1563/1563 [==============================] - 38s 24ms/step - loss: 1.2702 - accuracy: 0.5893 - val_loss: 1.2571 - val_accuracy: 0.6030\n",
      "Epoch 3/30\n",
      "1563/1563 [==============================] - 39s 25ms/step - loss: 1.1029 - accuracy: 0.6528 - val_loss: 1.0315 - val_accuracy: 0.6814\n",
      "Epoch 4/30\n",
      "1563/1563 [==============================] - 38s 24ms/step - loss: 0.9986 - accuracy: 0.6913 - val_loss: 0.9748 - val_accuracy: 0.6974\n",
      "Epoch 5/30\n",
      "1563/1563 [==============================] - 39s 25ms/step - loss: 0.9276 - accuracy: 0.7152 - val_loss: 0.9485 - val_accuracy: 0.7141\n",
      "Epoch 6/30\n",
      "1563/1563 [==============================] - 38s 25ms/step - loss: 0.8804 - accuracy: 0.7342 - val_loss: 0.9025 - val_accuracy: 0.7287\n",
      "Epoch 7/30\n",
      "1563/1563 [==============================] - 39s 25ms/step - loss: 0.8394 - accuracy: 0.7507 - val_loss: 0.8790 - val_accuracy: 0.7356\n",
      "Epoch 8/30\n",
      "1563/1563 [==============================] - 38s 25ms/step - loss: 0.8004 - accuracy: 0.7603 - val_loss: 0.9148 - val_accuracy: 0.7274\n",
      "Epoch 9/30\n",
      "1563/1563 [==============================] - 38s 25ms/step - loss: 0.7618 - accuracy: 0.7738 - val_loss: 0.8080 - val_accuracy: 0.7645\n",
      "Epoch 10/30\n",
      "1563/1563 [==============================] - 38s 25ms/step - loss: 0.7369 - accuracy: 0.7846 - val_loss: 0.7997 - val_accuracy: 0.7608\n",
      "Epoch 11/30\n",
      "1563/1563 [==============================] - 38s 25ms/step - loss: 0.7105 - accuracy: 0.7931 - val_loss: 0.8335 - val_accuracy: 0.7522\n",
      "Epoch 12/30\n",
      "1563/1563 [==============================] - 39s 25ms/step - loss: 0.6864 - accuracy: 0.8027 - val_loss: 0.8664 - val_accuracy: 0.7438\n",
      "Epoch 13/30\n",
      "1563/1563 [==============================] - 39s 25ms/step - loss: 0.6648 - accuracy: 0.8101 - val_loss: 0.8216 - val_accuracy: 0.7581\n",
      "Epoch 14/30\n",
      "1563/1563 [==============================] - 38s 25ms/step - loss: 0.6413 - accuracy: 0.8189 - val_loss: 0.7825 - val_accuracy: 0.7731\n",
      "Epoch 15/30\n",
      "1563/1563 [==============================] - 38s 24ms/step - loss: 0.6214 - accuracy: 0.8245 - val_loss: 0.7962 - val_accuracy: 0.7723\n",
      "Epoch 16/30\n",
      "1563/1563 [==============================] - 37s 24ms/step - loss: 0.6035 - accuracy: 0.8306 - val_loss: 0.7548 - val_accuracy: 0.7787\n",
      "Epoch 17/30\n",
      "1563/1563 [==============================] - 38s 25ms/step - loss: 0.5854 - accuracy: 0.8374 - val_loss: 0.8049 - val_accuracy: 0.7712\n",
      "Epoch 18/30\n",
      "1563/1563 [==============================] - 39s 25ms/step - loss: 0.5684 - accuracy: 0.8436 - val_loss: 0.7753 - val_accuracy: 0.7777\n",
      "Epoch 19/30\n",
      "1563/1563 [==============================] - 38s 24ms/step - loss: 0.5549 - accuracy: 0.8483 - val_loss: 0.8031 - val_accuracy: 0.7610\n",
      "Epoch 20/30\n",
      "1563/1563 [==============================] - 39s 25ms/step - loss: 0.5395 - accuracy: 0.8525 - val_loss: 0.7715 - val_accuracy: 0.7750\n",
      "Epoch 21/30\n",
      "1563/1563 [==============================] - 38s 24ms/step - loss: 0.5265 - accuracy: 0.8581 - val_loss: 0.8130 - val_accuracy: 0.7656\n",
      "Epoch 22/30\n",
      "1563/1563 [==============================] - 38s 24ms/step - loss: 0.5140 - accuracy: 0.8629 - val_loss: 0.7783 - val_accuracy: 0.7805\n",
      "Epoch 23/30\n",
      "1563/1563 [==============================] - 38s 24ms/step - loss: 0.5008 - accuracy: 0.8683 - val_loss: 0.7679 - val_accuracy: 0.7852\n",
      "Epoch 24/30\n",
      "1563/1563 [==============================] - 37s 24ms/step - loss: 0.4857 - accuracy: 0.8720 - val_loss: 0.8083 - val_accuracy: 0.7738\n",
      "Epoch 25/30\n",
      "1563/1563 [==============================] - 38s 24ms/step - loss: 0.4746 - accuracy: 0.8786 - val_loss: 0.7658 - val_accuracy: 0.7860\n",
      "Epoch 26/30\n",
      "1563/1563 [==============================] - 38s 25ms/step - loss: 0.4657 - accuracy: 0.8803 - val_loss: 0.7807 - val_accuracy: 0.7822\n",
      "Epoch 27/30\n",
      "1563/1563 [==============================] - 38s 24ms/step - loss: 0.4541 - accuracy: 0.8853 - val_loss: 0.8041 - val_accuracy: 0.7813\n",
      "Epoch 28/30\n",
      "1563/1563 [==============================] - 38s 24ms/step - loss: 0.4448 - accuracy: 0.8887 - val_loss: 0.7706 - val_accuracy: 0.7876\n",
      "Epoch 29/30\n",
      "1563/1563 [==============================] - 39s 25ms/step - loss: 0.4369 - accuracy: 0.8915 - val_loss: 0.8351 - val_accuracy: 0.7769\n",
      "Epoch 30/30\n",
      "1563/1563 [==============================] - 39s 25ms/step - loss: 0.4251 - accuracy: 0.8953 - val_loss: 0.8113 - val_accuracy: 0.7856\n"
     ]
    },
    {
     "data": {
      "text/plain": [
       "<tensorflow.python.keras.callbacks.History at 0x1a2e4dbd588>"
      ]
     },
     "execution_count": 10,
     "metadata": {},
     "output_type": "execute_result"
    }
   ],
   "source": [
    "model = MyModel_LN()\n",
    "model.compile(optimizer='adam',\n",
    "              loss='sparse_categorical_crossentropy',\n",
    "              metrics=['accuracy'])\n",
    "\n",
    "model.fit(train_ds, validation_data=test_ds, epochs=EPOCHS)"
   ]
  }
 ],
 "metadata": {
  "kernelspec": {
   "display_name": "Python 3",
   "language": "python",
   "name": "python3"
  },
  "language_info": {
   "codemirror_mode": {
    "name": "ipython",
    "version": 3
   },
   "file_extension": ".py",
   "mimetype": "text/x-python",
   "name": "python",
   "nbconvert_exporter": "python",
   "pygments_lexer": "ipython3",
   "version": "3.7.6"
  }
 },
 "nbformat": 4,
 "nbformat_minor": 2
}
