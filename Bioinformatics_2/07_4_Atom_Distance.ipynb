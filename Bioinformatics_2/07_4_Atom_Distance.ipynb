{
 "cells": [
  {
   "cell_type": "markdown",
   "metadata": {},
   "source": [
    "# 원자간 거리 계산"
   ]
  },
  {
   "cell_type": "code",
   "execution_count": 1,
   "metadata": {},
   "outputs": [],
   "source": [
    "import math\n",
    "import timeit\n",
    "\n",
    "from Bio import PDB"
   ]
  },
  {
   "cell_type": "code",
   "execution_count": 2,
   "metadata": {},
   "outputs": [
    {
     "name": "stdout",
     "output_type": "stream",
     "text": [
      "Structure exists: './data\\pdb1tup.ent' \n"
     ]
    },
    {
     "name": "stderr",
     "output_type": "stream",
     "text": [
      "C:\\Anaconda3\\envs\\nbcc_on_campus\\lib\\site-packages\\Bio\\PDB\\StructureBuilder.py:89: PDBConstructionWarning: WARNING: Chain A is discontinuous at line 6146.\n",
      "  warnings.warn(\n",
      "C:\\Anaconda3\\envs\\nbcc_on_campus\\lib\\site-packages\\Bio\\PDB\\StructureBuilder.py:89: PDBConstructionWarning: WARNING: Chain B is discontinuous at line 6147.\n",
      "  warnings.warn(\n",
      "C:\\Anaconda3\\envs\\nbcc_on_campus\\lib\\site-packages\\Bio\\PDB\\StructureBuilder.py:89: PDBConstructionWarning: WARNING: Chain C is discontinuous at line 6148.\n",
      "  warnings.warn(\n",
      "C:\\Anaconda3\\envs\\nbcc_on_campus\\lib\\site-packages\\Bio\\PDB\\StructureBuilder.py:89: PDBConstructionWarning: WARNING: Chain E is discontinuous at line 6149.\n",
      "  warnings.warn(\n",
      "C:\\Anaconda3\\envs\\nbcc_on_campus\\lib\\site-packages\\Bio\\PDB\\StructureBuilder.py:89: PDBConstructionWarning: WARNING: Chain F is discontinuous at line 6171.\n",
      "  warnings.warn(\n",
      "C:\\Anaconda3\\envs\\nbcc_on_campus\\lib\\site-packages\\Bio\\PDB\\StructureBuilder.py:89: PDBConstructionWarning: WARNING: Chain A is discontinuous at line 6185.\n",
      "  warnings.warn(\n",
      "C:\\Anaconda3\\envs\\nbcc_on_campus\\lib\\site-packages\\Bio\\PDB\\StructureBuilder.py:89: PDBConstructionWarning: WARNING: Chain B is discontinuous at line 6383.\n",
      "  warnings.warn(\n",
      "C:\\Anaconda3\\envs\\nbcc_on_campus\\lib\\site-packages\\Bio\\PDB\\StructureBuilder.py:89: PDBConstructionWarning: WARNING: Chain C is discontinuous at line 6453.\n",
      "  warnings.warn(\n"
     ]
    }
   ],
   "source": [
    "repository = PDB.PDBList()\n",
    "parser = PDB.PDBParser()\n",
    "repository.retrieve_pdb_file('1TUP', file_format='pdb', pdir='./data')  # XXX\n",
    "p53_1tup = parser.get_structure('P 53', './data/pdb1tup.ent')"
   ]
  },
  {
   "cell_type": "markdown",
   "metadata": {},
   "source": [
    "### 아연(ZN)과 가장 가까운 원자 확인"
   ]
  },
  {
   "cell_type": "code",
   "execution_count": 3,
   "metadata": {},
   "outputs": [
    {
     "name": "stdout",
     "output_type": "stream",
     "text": [
      "<Atom ZN> [58.108 23.242 57.424]\n",
      "<Atom ZN> [60.108 17.981 75.931]\n",
      "<Atom ZN> [33.653  0.403 74.115]\n"
     ]
    }
   ],
   "source": [
    "# 아연 이온의 위치 정보\n",
    "zns = []\n",
    "for atom in p53_1tup.get_atoms():\n",
    "    if atom.element == 'ZN':\n",
    "        # print(atom, dir(atom), atom.mass, atom.element, atom.coord[0])\n",
    "        zns.append(atom)\n",
    "        \n",
    "for zn in zns:\n",
    "        print(zn, zn.coord)"
   ]
  },
  {
   "cell_type": "code",
   "execution_count": 4,
   "metadata": {},
   "outputs": [],
   "source": [
    "# 거리 계산 함수\n",
    "def get_closest_atoms(pdb_struct, ref_atom, distance):\n",
    "    atoms = {}\n",
    "    rx, ry, rz = ref_atom.coord\n",
    "    for atom in pdb_struct.get_atoms():\n",
    "        if atom == ref_atom:\n",
    "            continue\n",
    "        x, y, z = atom.coord\n",
    "        my_dist = math.sqrt((x - rx)**2 + (y - ry)**2 + (z - rz)**2) \n",
    "        if my_dist < distance:\n",
    "            atoms[atom] = my_dist\n",
    "    return atoms"
   ]
  },
  {
   "cell_type": "code",
   "execution_count": 5,
   "metadata": {},
   "outputs": [
    {
     "name": "stdout",
     "output_type": "stream",
     "text": [
      "\n",
      "ZN [58.108 23.242 57.424]\n",
      "A CYS C 3.4080117696286854 [57.77  21.214 60.142]\n",
      "A CYS S 2.3262243799594877 [57.065 21.452 58.482]\n",
      "A HIS C 3.4566537492335123 [58.886 20.867 55.036]\n",
      "A HIS C 3.064120559761192 [58.047 22.038 54.607]\n",
      "A HIS N 1.9918273537290707 [57.755 23.073 55.471]\n",
      "A HIS C 2.9243719601324525 [56.993 23.943 54.813]\n",
      "A CYS C 3.857729198122736 [61.148 25.061 55.897]\n",
      "A CYS C 3.62725094648044 [61.61  24.087 57.001]\n",
      "A CYS S 2.2789209624943494 [60.317 23.318 57.979]\n",
      "A CYS C 3.087214470667822 [57.205 25.099 59.719]\n",
      "A CYS S 2.2253158446520818 [56.914 25.054 57.917]\n",
      "\n",
      "ZN [60.108 17.981 75.931]\n",
      "B CYS C 3.41769274437124 [57.593 15.783 75.207]\n",
      "B CYS S 2.3254721582053093 [58.586 17.082 74.42 ]\n",
      "B HIS C 3.4672070967122894 [62.272 17.174 73.345]\n",
      "B HIS C 3.1139134725185587 [62.061 18.615 73.59 ]\n",
      "B HIS N 2.0564599972249455 [61.366 19.056 74.71 ]\n",
      "B HIS C 2.985233217423681 [61.332 20.382 74.647]\n",
      "B CYS C 3.805126390272999 [62.573 18.263 78.816]\n",
      "B CYS C 3.1803200512467478 [61.521 17.136 78.652]\n",
      "B CYS S 2.2070404885225816 [61.287 16.447 76.993]\n",
      "B CYS C 3.2038921042012745 [57.624 18.417 77.907]\n",
      "B CYS S 2.242320906916762 [58.978 19.402 77.247]\n",
      "\n",
      "ZN [33.653  0.403 74.115]\n",
      "C CYS N 3.8418381161044053 [32.62  -3.267 73.642]\n",
      "C CYS C 3.4269003358801373 [31.435 -1.557 72.388]\n",
      "C CYS S 2.3788014279880345 [32.942 -0.607 72.082]\n",
      "C HIS C 3.1575681467123577 [36.183 -0.469 72.439]\n",
      "C HIS C 2.985114661190097 [36.225  0.98  72.714]\n",
      "C HIS N 2.0959130049879975 [35.24   1.603 73.456]\n",
      "C HIS C 3.2037898879982705 [35.569  2.894 73.492]\n",
      "C CYS C 3.940504780036419 [35.474  0.462 77.609]\n",
      "C CYS C 3.4076262123188337 [34.442 -0.639 77.262]\n",
      "C CYS S 2.3204200227887206 [34.453 -1.233 75.553]\n",
      "C CYS C 3.076855853166918 [30.82   1.082 75.105]\n",
      "C CYS S 2.1315044160944145 [32.391  1.939 74.884]\n"
     ]
    }
   ],
   "source": [
    "# ZN에서 4 A 이내의 원자 검색\n",
    "for zn in zns:\n",
    "    print()\n",
    "    print('ZN', zn.coord)\n",
    "    atoms = get_closest_atoms(p53_1tup, zn, 4)\n",
    "    for atom, distance in atoms.items():\n",
    "        res = atom.parent\n",
    "        chain = res.parent\n",
    "        print(chain.id, res.resname, atom.element, distance, atom.coord)"
   ]
  },
  {
   "cell_type": "markdown",
   "metadata": {},
   "source": [
    "### 함수 차이로 인한 계산량 변화 확인"
   ]
  },
  {
   "cell_type": "code",
   "execution_count": 6,
   "metadata": {},
   "outputs": [],
   "source": [
    "nexecs = 10\n",
    "\n",
    "def get_closest_alternative(pdb_struct, ref_atom, distance):\n",
    "    atoms = {}\n",
    "    rx, ry, rz = ref_atom.coord\n",
    "    for atom in pdb_struct.get_atoms():\n",
    "        if atom == ref_atom:\n",
    "            continue\n",
    "        x, y, z = atom.coord\n",
    "        if abs(x - rx) > distance or abs(y - ry) > distance or abs(z - rz) > distance:\n",
    "            continue\n",
    "        my_dist = math.sqrt((x - rx)**2 + (y - ry)**2 + (z - rz)**2) \n",
    "        if my_dist < distance:\n",
    "            atoms[atom] = my_dist\n",
    "    return atoms"
   ]
  },
  {
   "cell_type": "code",
   "execution_count": 7,
   "metadata": {},
   "outputs": [
    {
     "name": "stdout",
     "output_type": "stream",
     "text": [
      "Standard\n",
      "56.86097000000001\n",
      "56.16990999999997\n",
      "56.09104\n",
      "61.81332999999998\n",
      "61.817810000000016\n",
      "\n",
      "Optimized\n",
      "22.163680000000063\n",
      "24.187129999999968\n",
      "36.51209999999993\n",
      "96.81366999999996\n",
      "95.46046000000005\n"
     ]
    }
   ],
   "source": [
    "# alternative 버전은 계산량을 줄이기 위해 if 조건을 사용하지만\n",
    "# 거리가 늘어나면 오히려 계산량을 더 늘릴 수 있다.\n",
    "\n",
    "print('Standard')\n",
    "for distance in [1, 4, 16, 64, 128]:\n",
    "    print(timeit.timeit('get_closest_atoms(p53_1tup, zns[0], distance)',\n",
    "                        'from __main__ import get_closest_atoms, p53_1tup, zns, distance',\n",
    "                        number=nexecs) / nexecs * 1000)\n",
    "\n",
    "print()\n",
    "print('Optimized')\n",
    "for distance in [1, 4, 16, 64, 128]:\n",
    "    print(timeit.timeit('get_closest_alternative(p53_1tup, zns[0], distance)',\n",
    "                        'from __main__ import get_closest_alternative, p53_1tup, zns, distance',\n",
    "                        number=nexecs) / nexecs * 1000)"
   ]
  }
 ],
 "metadata": {
  "kernelspec": {
   "display_name": "Python 3",
   "language": "python",
   "name": "python3"
  },
  "language_info": {
   "codemirror_mode": {
    "name": "ipython",
    "version": 3
   },
   "file_extension": ".py",
   "mimetype": "text/x-python",
   "name": "python",
   "nbconvert_exporter": "python",
   "pygments_lexer": "ipython3",
   "version": "3.8.6"
  }
 },
 "nbformat": 4,
 "nbformat_minor": 1
}
