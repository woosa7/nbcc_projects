{
 "cells": [
  {
   "cell_type": "markdown",
   "metadata": {},
   "source": [
    "# 2. Which DNA Patterns Play The Role of Molecular Clocks? (Part 2)"
   ]
  },
  {
   "cell_type": "markdown",
   "metadata": {},
   "source": [
    "```\n",
    "관찰된 데이터셋에서 어떤 이벤트는 확률이 0은 아니지만 발생하지 않을 가능성이 있다.\n",
    "관측된 발생빈도는 0 이지만 이 이벤트의 경험적 확률을 0으로 설정하면 문제가 될 수 있다.\n",
    "이런 경우에는 확률을 인위적으로 조정하여 문제를 완화시킬 수 있다.\n",
    "\n",
    "pseudocounts 라고 불리는 작은 숫자로 0을 대체 (Laplace’s Rule of Succession)\n",
    "```"
   ]
  },
  {
   "cell_type": "code",
   "execution_count": 27,
   "metadata": {},
   "outputs": [],
   "source": [
    "def CountMatrix(Motifs):\n",
    "    t = len(Motifs)      # DNA string 갯수\n",
    "    k = len(Motifs[0])   # 각 string의 길이\n",
    "    \n",
    "    count = {'A':[0]*k, 'C':[0]*k, 'G':[0]*k,'T':[0]*k}\n",
    "\n",
    "    for i in range(t):\n",
    "        for j in range(k):\n",
    "            symbol = Motifs[i][j]\n",
    "            count[symbol][j] += 1\n",
    "    \n",
    "    return count"
   ]
  },
  {
   "cell_type": "code",
   "execution_count": 28,
   "metadata": {},
   "outputs": [
    {
     "data": {
      "text/plain": [
       "{'A': [1, 2, 1, 0, 0, 2],\n",
       " 'C': [2, 1, 4, 2, 0, 0],\n",
       " 'G': [1, 1, 0, 2, 1, 1],\n",
       " 'T': [1, 1, 0, 1, 4, 2]}"
      ]
     },
     "execution_count": 28,
     "metadata": {},
     "output_type": "execute_result"
    }
   ],
   "source": [
    "strings = ['AACGTA', \n",
    "           'CCCGTT', \n",
    "           'CACCTT', \n",
    "           'GGATTA', \n",
    "           'TTCCGG']\n",
    "\n",
    "CountMatrix(strings)"
   ]
  },
  {
   "cell_type": "code",
   "execution_count": 29,
   "metadata": {},
   "outputs": [],
   "source": [
    "def CountWithPseudocounts(Motifs):\n",
    "    # adds 1 to each element of Count(Motifs)\n",
    "    \n",
    "    t = len(Motifs)\n",
    "    k = len(Motifs[0])\n",
    "    \n",
    "    count = {'A':[1]*k, 'C':[1]*k, 'G':[1]*k,'T':[1]*k}  # Pseudocounts\n",
    "\n",
    "    for i in range(t):\n",
    "        for j in range(k):\n",
    "            symbol = Motifs[i][j]\n",
    "            count[symbol][j] += 1\n",
    "    \n",
    "    return count"
   ]
  },
  {
   "cell_type": "code",
   "execution_count": 30,
   "metadata": {},
   "outputs": [
    {
     "data": {
      "text/plain": [
       "{'A': [2, 3, 2, 1, 1, 3],\n",
       " 'C': [3, 2, 5, 3, 1, 1],\n",
       " 'G': [2, 2, 1, 3, 2, 2],\n",
       " 'T': [2, 2, 1, 2, 5, 3]}"
      ]
     },
     "execution_count": 30,
     "metadata": {},
     "output_type": "execute_result"
    }
   ],
   "source": [
    "CountWithPseudocounts(strings)"
   ]
  },
  {
   "cell_type": "code",
   "execution_count": 31,
   "metadata": {},
   "outputs": [],
   "source": [
    "def ProfileWithPseudocounts(Motifs):\n",
    "    profile = CountWithPseudocounts(Motifs)\n",
    "    \n",
    "    m = 0\n",
    "    for key, val in profile.items():\n",
    "        m += val[0]\n",
    "    # print(m)\n",
    "    \n",
    "    for key, val in profile.items():\n",
    "        val[:] = [x / m for x in val]\n",
    "        \n",
    "    return profile"
   ]
  },
  {
   "cell_type": "code",
   "execution_count": 32,
   "metadata": {},
   "outputs": [
    {
     "data": {
      "text/plain": [
       "{'A': [0.2222222222222222,\n",
       "  0.3333333333333333,\n",
       "  0.2222222222222222,\n",
       "  0.1111111111111111,\n",
       "  0.1111111111111111,\n",
       "  0.3333333333333333],\n",
       " 'C': [0.3333333333333333,\n",
       "  0.2222222222222222,\n",
       "  0.5555555555555556,\n",
       "  0.3333333333333333,\n",
       "  0.1111111111111111,\n",
       "  0.1111111111111111],\n",
       " 'G': [0.2222222222222222,\n",
       "  0.2222222222222222,\n",
       "  0.1111111111111111,\n",
       "  0.3333333333333333,\n",
       "  0.2222222222222222,\n",
       "  0.2222222222222222],\n",
       " 'T': [0.2222222222222222,\n",
       "  0.2222222222222222,\n",
       "  0.1111111111111111,\n",
       "  0.2222222222222222,\n",
       "  0.5555555555555556,\n",
       "  0.3333333333333333]}"
      ]
     },
     "execution_count": 32,
     "metadata": {},
     "output_type": "execute_result"
    }
   ],
   "source": [
    "ProfileWithPseudocounts(strings)"
   ]
  },
  {
   "cell_type": "code",
   "execution_count": null,
   "metadata": {},
   "outputs": [],
   "source": []
  },
  {
   "cell_type": "code",
   "execution_count": null,
   "metadata": {},
   "outputs": [],
   "source": []
  },
  {
   "cell_type": "code",
   "execution_count": null,
   "metadata": {},
   "outputs": [],
   "source": []
  },
  {
   "cell_type": "code",
   "execution_count": null,
   "metadata": {},
   "outputs": [],
   "source": []
  },
  {
   "cell_type": "code",
   "execution_count": null,
   "metadata": {},
   "outputs": [],
   "source": []
  }
 ],
 "metadata": {
  "kernelspec": {
   "display_name": "Python 3",
   "language": "python",
   "name": "python3"
  },
  "language_info": {
   "codemirror_mode": {
    "name": "ipython",
    "version": 3
   },
   "file_extension": ".py",
   "mimetype": "text/x-python",
   "name": "python",
   "nbconvert_exporter": "python",
   "pygments_lexer": "ipython3",
   "version": "3.8.6"
  }
 },
 "nbformat": 4,
 "nbformat_minor": 4
}
