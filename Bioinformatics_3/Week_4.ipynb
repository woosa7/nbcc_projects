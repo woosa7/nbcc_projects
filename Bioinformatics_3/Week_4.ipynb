{
 "cells": [
  {
   "cell_type": "markdown",
   "metadata": {},
   "source": [
    "# 2. Which DNA Patterns Play The Role of Molecular Clocks? (Part 2)"
   ]
  },
  {
   "cell_type": "markdown",
   "metadata": {},
   "source": [
    "```\n",
    "관찰된 데이터셋에서 어떤 이벤트는 확률이 0은 아니지만 발생하지 않을 가능성이 있다.\n",
    "관측된 발생빈도는 0 이지만 이 이벤트의 경험적 확률을 0으로 설정하면 문제가 될 수 있다.\n",
    "이런 경우에는 확률을 인위적으로 조정하여 문제를 완화시킬 수 있다.\n",
    "\n",
    "pseudocounts 라고 불리는 작은 숫자로 0을 대체 (Laplace’s Rule of Succession)\n",
    "```"
   ]
  },
  {
   "cell_type": "code",
   "execution_count": 1,
   "metadata": {},
   "outputs": [],
   "source": [
    "def CountMatrix(Motifs):\n",
    "    t = len(Motifs)      # DNA string 갯수\n",
    "    k = len(Motifs[0])   # 각 string의 길이\n",
    "    \n",
    "    count = {'A':[0]*k, 'C':[0]*k, 'G':[0]*k,'T':[0]*k}\n",
    "\n",
    "    for i in range(t):\n",
    "        for j in range(k):\n",
    "            symbol = Motifs[i][j]\n",
    "            count[symbol][j] += 1\n",
    "    \n",
    "    return count"
   ]
  },
  {
   "cell_type": "code",
   "execution_count": 2,
   "metadata": {},
   "outputs": [
    {
     "data": {
      "text/plain": [
       "{'A': [1, 2, 1, 0, 0, 2],\n",
       " 'C': [2, 1, 4, 2, 0, 0],\n",
       " 'G': [1, 1, 0, 2, 1, 1],\n",
       " 'T': [1, 1, 0, 1, 4, 2]}"
      ]
     },
     "execution_count": 2,
     "metadata": {},
     "output_type": "execute_result"
    }
   ],
   "source": [
    "strings = ['AACGTA', \n",
    "           'CCCGTT', \n",
    "           'CACCTT', \n",
    "           'GGATTA', \n",
    "           'TTCCGG']\n",
    "\n",
    "CountMatrix(strings)"
   ]
  },
  {
   "cell_type": "code",
   "execution_count": 3,
   "metadata": {},
   "outputs": [],
   "source": [
    "def CountWithPseudocounts(Motifs):\n",
    "    # adds 1 to each element of Count(Motifs)\n",
    "    \n",
    "    t = len(Motifs)\n",
    "    k = len(Motifs[0])\n",
    "    \n",
    "    count = {'A':[1]*k, 'C':[1]*k, 'G':[1]*k,'T':[1]*k}  # Pseudocounts\n",
    "\n",
    "    for i in range(t):\n",
    "        for j in range(k):\n",
    "            symbol = Motifs[i][j]\n",
    "            count[symbol][j] += 1\n",
    "    \n",
    "    return count"
   ]
  },
  {
   "cell_type": "code",
   "execution_count": 4,
   "metadata": {},
   "outputs": [
    {
     "data": {
      "text/plain": [
       "{'A': [2, 3, 2, 1, 1, 3],\n",
       " 'C': [3, 2, 5, 3, 1, 1],\n",
       " 'G': [2, 2, 1, 3, 2, 2],\n",
       " 'T': [2, 2, 1, 2, 5, 3]}"
      ]
     },
     "execution_count": 4,
     "metadata": {},
     "output_type": "execute_result"
    }
   ],
   "source": [
    "CountWithPseudocounts(strings)"
   ]
  },
  {
   "cell_type": "code",
   "execution_count": 5,
   "metadata": {},
   "outputs": [],
   "source": [
    "def ProfileWithPseudocounts(Motifs):\n",
    "    profile = CountWithPseudocounts(Motifs)\n",
    "    \n",
    "    m = 0\n",
    "    for key, val in profile.items():\n",
    "        m += val[0]\n",
    "    # print(m)\n",
    "    \n",
    "    for key, val in profile.items():\n",
    "        val[:] = [x / m for x in val]\n",
    "        \n",
    "    return profile"
   ]
  },
  {
   "cell_type": "code",
   "execution_count": 6,
   "metadata": {},
   "outputs": [
    {
     "data": {
      "text/plain": [
       "{'A': [0.2222222222222222,\n",
       "  0.3333333333333333,\n",
       "  0.2222222222222222,\n",
       "  0.1111111111111111,\n",
       "  0.1111111111111111,\n",
       "  0.3333333333333333],\n",
       " 'C': [0.3333333333333333,\n",
       "  0.2222222222222222,\n",
       "  0.5555555555555556,\n",
       "  0.3333333333333333,\n",
       "  0.1111111111111111,\n",
       "  0.1111111111111111],\n",
       " 'G': [0.2222222222222222,\n",
       "  0.2222222222222222,\n",
       "  0.1111111111111111,\n",
       "  0.3333333333333333,\n",
       "  0.2222222222222222,\n",
       "  0.2222222222222222],\n",
       " 'T': [0.2222222222222222,\n",
       "  0.2222222222222222,\n",
       "  0.1111111111111111,\n",
       "  0.2222222222222222,\n",
       "  0.5555555555555556,\n",
       "  0.3333333333333333]}"
      ]
     },
     "execution_count": 6,
     "metadata": {},
     "output_type": "execute_result"
    }
   ],
   "source": [
    "ProfileWithPseudocounts(strings)"
   ]
  },
  {
   "cell_type": "code",
   "execution_count": 7,
   "metadata": {},
   "outputs": [],
   "source": [
    "def ConsensusMatrix(Motifs):\n",
    "    t = len(Motifs)      # DNA string 갯수\n",
    "    k = len(Motifs[0])   # 각 string의 길이\n",
    "    \n",
    "    count_matrix = {'A':[0]*k, 'C':[0]*k, 'G':[0]*k,'T':[0]*k}\n",
    "\n",
    "    for i in range(t):\n",
    "        for j in range(k):\n",
    "            symbol = Motifs[i][j]\n",
    "            count_matrix[symbol][j] += 1\n",
    "\n",
    "    consensus = \"\"\n",
    "    for j in range(k):\n",
    "        m = 0\n",
    "        frequentSymbol = \"\"\n",
    "        \n",
    "        for symbol in \"ACGT\":\n",
    "            if count_matrix[symbol][j] > m:\n",
    "                m = count_matrix[symbol][j]\n",
    "                frequentSymbol = symbol\n",
    "                \n",
    "        consensus += frequentSymbol\n",
    "        \n",
    "    return consensus\n",
    "\n",
    "def HammingDistance(p, q):\n",
    "    t_len = max(len(p), len(q))\n",
    "    ham = [1 for x in range(t_len) if p[x] != q[x]]\n",
    "    count = sum(ham)\n",
    "    return count\n",
    "\n",
    "def Score(Motifs):\n",
    "    consensus = ConsensusMatrix(Motifs)\n",
    "    \n",
    "    score = 0\n",
    "    for motif in Motifs:\n",
    "        score += HammingDistance(consensus, motif)\n",
    "    \n",
    "    return score\n",
    "\n",
    "def ProbMotif(Text, Profile):\n",
    "    prob = 1\n",
    "    for index, nucleotide in enumerate(Text):\n",
    "        prob *= Profile[nucleotide][index]\n",
    "    \n",
    "    return prob\n",
    "\n",
    "def ProfileMostProbableKmer(text, k, profile):\n",
    "    p = -1\n",
    "    result = text[0:k]\n",
    "    for i in range(len(text)-k+1):\n",
    "        seq = text[i:i+k]        \n",
    "        pr = ProbMotif(seq, profile)\n",
    "        if pr > p:\n",
    "            p = pr\n",
    "            result = seq\n",
    "    return result\n",
    "\n",
    "def window(s, k):\n",
    "    for i in range(1 + len(s) - k):\n",
    "        yield s[i:i+k]\n",
    "        \n",
    "def GreedyMotifSearchWithPseudocounts(Dna, k, t):\n",
    "    bestMotifs = []\n",
    "    bestScore = 0   \n",
    "    \n",
    "    # t개의 dna에서 각각 첫번째 k-mer 추출\n",
    "    for string in Dna:\n",
    "        bestMotifs.append(string[:k])\n",
    "        \n",
    "    bestScore = Score(bestMotifs)\n",
    "    \n",
    "    base = Dna[0]\n",
    "    n = len(base)\n",
    "    \n",
    "    # base : 첫번째 dna에서 모든 k-mer 추출\n",
    "    for i in window(base, k):\n",
    "        newMotifs = [i]\n",
    "\n",
    "        # iterate over len(DNA)\n",
    "        for j in range(1, t):\n",
    "            # build up motifs and build profile using them.\n",
    "            profile = ProfileWithPseudocounts(newMotifs[:j])\n",
    "            pattern = ProfileMostProbableKmer(Dna[j], k, profile)\n",
    "            newMotifs.append(pattern)\n",
    "        \n",
    "        currentScore = Score(newMotifs)\n",
    "        if k == 3:\n",
    "            print(currentScore, newMotifs)\n",
    "        \n",
    "        if currentScore < bestScore:\n",
    "            bestScore = currentScore\n",
    "            bestMotifs = newMotifs\n",
    "            \n",
    "            \n",
    "    return bestMotifs"
   ]
  },
  {
   "cell_type": "code",
   "execution_count": 8,
   "metadata": {},
   "outputs": [
    {
     "name": "stdout",
     "output_type": "stream",
     "text": [
      "4 ['GGC', 'GTC', 'GGA', 'GTC', 'TTC']\n",
      "4 ['GCG', 'AAG', 'AAG', 'ACG', 'TCG']\n",
      "3 ['CGT', 'AGT', 'AGT', 'CGT', 'AAT']\n",
      "3 ['GTT', 'GTC', 'GTT', 'GTC', 'ATT']\n",
      "2 ['TTC', 'ATC', 'TTC', 'ATC', 'TTC']\n",
      "2 ['TCA', 'TCA', 'TCG', 'TCA', 'TCG']\n",
      "2 ['CAG', 'CAG', 'CAA', 'CAA', 'CAA']\n",
      "3 ['AGG', 'AAG', 'AAG', 'ACG', 'AAT']\n",
      "4 ['GGC', 'GTC', 'GGA', 'GTC', 'TTC']\n",
      "5 ['GCA', 'GAA', 'GGA', 'TCA', 'TAA']\n"
     ]
    },
    {
     "data": {
      "text/plain": [
       "['TTC', 'ATC', 'TTC', 'ATC', 'TTC']"
      ]
     },
     "execution_count": 8,
     "metadata": {},
     "output_type": "execute_result"
    }
   ],
   "source": [
    "Dna = [\n",
    "    \"GGCGTTCAGGCA\",\n",
    "    \"AAGAATCAGTCA\",\n",
    "    \"CAAGGAGTTCGC\",\n",
    "    \"CACGTCAATCAC\",\n",
    "    \"CAATAATATTCG\"\n",
    "]\n",
    "\n",
    "GreedyMotifSearchWithPseudocounts(Dna, 3, len(Dna))"
   ]
  },
  {
   "cell_type": "markdown",
   "metadata": {},
   "source": [
    "### 결핵을 일으키는 Mycobacterium tuberculosis bacterium (MTB)의 유전자 중 regulatory motif 찾기"
   ]
  },
  {
   "cell_type": "code",
   "execution_count": 9,
   "metadata": {},
   "outputs": [],
   "source": [
    "Dna = [\"GCGCCCCGCCCGGACAGCCATGCGCTAACCCTGGCTTCGATGGCGCCGGCTCAGTTAGGGCCGGAAGTCCCCAATGTGGCAGACCTTTCGCCCCTGGCGGACGAATGACCCCAGTGGCCGGGACTTCAGGCCCTATCGGAGGGCTCCGGCGCGGTGGTCGGATTTGTCTGTGGAGGTTACACCCCAATCGCAAGGATGCATTATGACCAGCGAGCTGAGCCTGGTCGCCACTGGAAAGGGGAGCAACATC\", \n",
    "       \"CCGATCGGCATCACTATCGGTCCTGCGGCCGCCCATAGCGCTATATCCGGCTGGTGAAATCAATTGACAACCTTCGACTTTGAGGTGGCCTACGGCGAGGACAAGCCAGGCAAGCCAGCTGCCTCAACGCGCGCCAGTACGGGTCCATCGACCCGCGGCCCACGGGTCAAACGACCCTAGTGTTCGCTACGACGTGGTCGTACCTTCGGCAGCAGATCAGCAATAGCACCCCGACTCGAGGAGGATCCCG\", \n",
    "       \"ACCGTCGATGTGCCCGGTCGCGCCGCGTCCACCTCGGTCATCGACCCCACGATGAGGACGCCATCGGCCGCGACCAAGCCCCGTGAAACTCTGACGGCGTGCTGGCCGGGCTGCGGCACCTGATCACCTTAGGGCACTTGGGCCACCACAACGGGCCGCCGGTCTCGACAGTGGCCACCACCACACAGGTGACTTCCGGCGGGACGTAAGTCCCTAACGCGTCGTTCCGCACGCGGTTAGCTTTGCTGCC\", \n",
    "       \"GGGTCAGGTATATTTATCGCACACTTGGGCACATGACACACAAGCGCCAGAATCCCGGACCGAACCGAGCACCGTGGGTGGGCAGCCTCCATACAGCGATGACCTGATCGATCATCGGCCAGGGCGCCGGGCTTCCAACCGTGGCCGTCTCAGTACCCAGCCTCATTGACCCTTCGACGCATCCACTGCGCGTAAGTCGGCTCAACCCTTTCAAACCGCTGGATTACCGACCGCAGAAAGGGGGCAGGAC\", \n",
    "       \"GTAGGTCAAACCGGGTGTACATACCCGCTCAATCGCCCAGCACTTCGGGCAGATCACCGGGTTTCCCCGGTATCACCAATACTGCCACCAAACACAGCAGGCGGGAAGGGGCGAAAGTCCCTTATCCGACAATAAAACTTCGCTTGTTCGACGCCCGGTTCACCCGATATGCACGGCGCCCAGCCATTCGTGACCGACGTCCCCAGCCCCAAGGCCGAACGACCCTAGGAGCCACGAGCAATTCACAGCG\", \n",
    "       \"CCGCTGGCGACGCTGTTCGCCGGCAGCGTGCGTGACGACTTCGAGCTGCCCGACTACACCTGGTGACCACCGCCGACGGGCACCTCTCCGCCAGGTAGGCACGGTTTGTCGCCGGCAATGTGACCTTTGGGCGCGGTCTTGAGGACCTTCGGCCCCACCCACGAGGCCGCCGCCGGCCGATCGTATGACGTGCAATGTACGCCATAGGGTGCGTGTTACGGCGATTACCTGAAGGCGGCGGTGGTCCGGA\", \n",
    "       \"GGCCAACTGCACCGCGCTCTTGATGACATCGGTGGTCACCATGGTGTCCGGCATGATCAACCTCCGCTGTTCGATATCACCCCGATCTTTCTGAACGGCGGTTGGCAGACAACAGGGTCAATGGTCCCCAAGTGGATCACCGACGGGCGCGGACAAATGGCCCGCGCTTCGGGGACTTCTGTCCCTAGCCCTGGCCACGATGGGCTGGTCGGATCAAAGGCATCCGTTTCCATCGATTAGGAGGCATCAA\", \n",
    "       \"GTACATGTCCAGAGCGAGCCTCAGCTTCTGCGCAGCGACGGAAACTGCCACACTCAAAGCCTACTGGGCGCACGTGTGGCAACGAGTCGATCCACACGAAATGCCGCCGTTGGGCCGCGGACTAGCCGAATTTTCCGGGTGGTGACACAGCCCACATTTGGCATGGGACTTTCGGCCCTGTCCGCGTCCGTGTCGGCCAGACAAGCTTTGGGCATTGGCCACAATCGGGCCACAATCGAAAGCCGAGCAG\", \n",
    "       \"GGCAGCTGTCGGCAACTGTAAGCCATTTCTGGGACTTTGCTGTGAAAAGCTGGGCGATGGTTGTGGACCTGGACGAGCCACCCGTGCGATAGGTGAGATTCATTCTCGCCCTGACGGGTTGCGTCTGTCATCGGTCGATAAGGACTAACGGCCCTCAGGTGGGGACCAACGCCCCTGGGAGATAGCGGTCCCCGCCAGTAACGTACCGCTGAACCGACGGGATGTATCCGCCCCAGCGAAGGAGACGGCG\", \n",
    "       \"TCAGCACCATGACCGCCTGGCCACCAATCGCCCGTAACAAGCGGGACGTCCGCGACGACGCGTGCGCTAGCGCCGTGGCGGTGACAACGACCAGATATGGTCCGAGCACGCGGGCGAACCTCGTGTTCTGGCCTCGGCCAGTTGTGTAGAGCTCATCGCTGTCATCGAGCGATATCCGACCACTGATCCAAGTCGGGGGCTCTGGGGACCGAAGTCCCCGGGCTCGGAGCTATCGGACCTCACGATCACC\"]"
   ]
  },
  {
   "cell_type": "code",
   "execution_count": 10,
   "metadata": {
    "scrolled": false
   },
   "outputs": [
    {
     "name": "stdout",
     "output_type": "stream",
     "text": [
      "['GGACTTCAGGCCCTA', 'GGTCAAACGACCCTA', 'GGACGTAAGTCCCTA', 'GGATTACCGACCGCA', 'GGCCGAACGACCCTA', 'GGACCTTCGGCCCCA', 'GGACTTCTGTCCCTA', 'GGACTTTCGGCCCTG', 'GGACTAACGGCCCTC', 'GGACCGAAGTCCCCG']\n",
      "35\n"
     ]
    }
   ],
   "source": [
    "k = 15\n",
    "t = len(Dna)\n",
    "\n",
    "motifs = GreedyMotifSearchWithPseudocounts(Dna, k, t)\n",
    "print(motifs)\n",
    "print(Score(motifs))"
   ]
  },
  {
   "cell_type": "markdown",
   "metadata": {},
   "source": [
    "```\n",
    "Week_3의 GreedyMotifSearch 결과의 Score = 64\n",
    "\n",
    "Week_4의 GreedyMotifSearchWithPseudocounts 결과의 Score = 35  로 크게 향상되었음.\n",
    "\n",
    "```"
   ]
  },
  {
   "cell_type": "markdown",
   "metadata": {},
   "source": [
    "### Monte Carlo algorithms (Randomized algorithms)"
   ]
  },
  {
   "cell_type": "code",
   "execution_count": 11,
   "metadata": {},
   "outputs": [],
   "source": [
    "def Motifs(Profile, Dna):\n",
    "    motifs = []\n",
    "    \n",
    "    k = len(Profile['A'])\n",
    "    \n",
    "    for string in Dna:\n",
    "        motif = ProfileMostProbableKmer(string, k, Profile)\n",
    "        motifs.append(motif)\n",
    "        \n",
    "    return motifs"
   ]
  },
  {
   "cell_type": "code",
   "execution_count": 12,
   "metadata": {},
   "outputs": [
    {
     "data": {
      "text/plain": [
       "['ACCT', 'ATGT', 'GCGT', 'ACGA', 'AGGT']"
      ]
     },
     "execution_count": 12,
     "metadata": {},
     "output_type": "execute_result"
    }
   ],
   "source": [
    "Dna = [\n",
    "    \"TTACCTTAAC\",\n",
    "    \"GATGTCTGTC\",\n",
    "    \"ACGGCGTTAG\",\n",
    "    \"CCCTAACGAG\",\n",
    "    \"CGTCAGAGGT\"\n",
    "]\n",
    "\n",
    "profile = {\n",
    "    'A': [0.8, 0.0, 0.0, 0.2],\n",
    "    'C': [0.0, 0.6, 0.2, 0.0],\n",
    "    'G': [0.2, 0.2, 0.8, 0.0],\n",
    "    'T': [0.0, 0.2, 0.0, 0.8]\n",
    "}\n",
    "\n",
    "Motifs(profile, Dna)"
   ]
  },
  {
   "cell_type": "markdown",
   "metadata": {},
   "source": [
    "```\n",
    "DNA에서 무작위로 선택한 k-mer 모음, 이를 이용해 Profile 구성하고, 이 Profile을 사용해 새로운 k-mer 모음을 생성. \n",
    "두번째로 생성한 k-mer의 score가 이전 것보다 더 좋음.\n",
    "k-mer의 score를 계속 향상되는 한 이 과정을 계속 반복.\n",
    "\n",
    "```"
   ]
  },
  {
   "cell_type": "code",
   "execution_count": 13,
   "metadata": {},
   "outputs": [],
   "source": [
    "import random\n",
    "\n",
    "# random.randint(0, m) : 0 ~ m 사이의 정수를 랜덤으로 선택\n",
    "\n",
    "def RandomMotifs(Dna, k, t):\n",
    "    randomMotif =[]\n",
    "    for i in range(t):\n",
    "        r = random.randint(0, len(Dna[0])-k)\n",
    "        randomMotif.append(Dna[i][r:r+k])\n",
    "        \n",
    "    return randomMotif"
   ]
  },
  {
   "cell_type": "code",
   "execution_count": 14,
   "metadata": {},
   "outputs": [
    {
     "data": {
      "text/plain": [
       "['ACC', 'GTC', 'GCG', 'CCC', 'AGA']"
      ]
     },
     "execution_count": 14,
     "metadata": {},
     "output_type": "execute_result"
    }
   ],
   "source": [
    "Dna = [\n",
    "    \"TTACCTTAAC\",\n",
    "    \"GATGTCTGTC\",\n",
    "    \"ACGGCGTTAG\",\n",
    "    \"CCCTAACGAG\",\n",
    "    \"CGTCAGAGGT\"\n",
    "]\n",
    "\n",
    "k = 3\n",
    "t = len(Dna)\n",
    "\n",
    "RandomMotifs(Dna, k, t)"
   ]
  },
  {
   "cell_type": "code",
   "execution_count": 17,
   "metadata": {
    "scrolled": false
   },
   "outputs": [],
   "source": [
    "def RandomizedMotifSearch(Dna, k, t):\n",
    "\n",
    "    # 최초에 random motif 생성\n",
    "    newMotifs = RandomMotifs(Dna, k, t)\n",
    "    bestMotifs = newMotifs\n",
    "    bestScore = Score(newMotifs)\n",
    "    \n",
    "    # random 추출 반복\n",
    "    while True:\n",
    "        profile = ProfileWithPseudocounts(newMotifs)       \n",
    "        newMotifs = Motifs(profile, Dna)\n",
    "        \n",
    "        currentScore = Score(newMotifs)\n",
    "        \n",
    "        if currentScore < bestScore:\n",
    "            bestScore = currentScore\n",
    "            bestMotifs = newMotifs\n",
    "        else:\n",
    "            return bestMotifs \n",
    "            \n",
    "    return bestMotifs"
   ]
  },
  {
   "cell_type": "code",
   "execution_count": 18,
   "metadata": {},
   "outputs": [
    {
     "data": {
      "text/plain": [
       "['TTA', 'CTG', 'TTA', 'CTA', 'CGT']"
      ]
     },
     "execution_count": 18,
     "metadata": {},
     "output_type": "execute_result"
    }
   ],
   "source": [
    "k = 3\n",
    "t = len(Dna)\n",
    "\n",
    "RandomizedMotifSearch(Dna, k, t)"
   ]
  },
  {
   "cell_type": "code",
   "execution_count": 21,
   "metadata": {},
   "outputs": [
    {
     "name": "stdout",
     "output_type": "stream",
     "text": [
      "['TGTTCAGT', 'GTGTAAGT', 'TATACAGG', 'GTTTCAGG', 'GCTCCACG']\n",
      "12\n"
     ]
    }
   ],
   "source": [
    "Dna = [\n",
    "    \"CGCCCCTCTCGGGGGTGTTCAGTAAACGGCCA\",\n",
    "    \"GGGCGAGGTATGTGTAAGTGCCAAGGTGCCAG\",\n",
    "    \"TAGTACCGAGACCGAAAGAAGTATACAGGCGT\",\n",
    "    \"TAGATCAAGTTTCAGGTGCACGTCGGTGAACC\",\n",
    "    \"AATCCACCAGCTCCACGTGCAATGTTGGCCTA\"\n",
    "]\n",
    "\n",
    "k = 8\n",
    "t = len(Dna)\n",
    "\n",
    "motifs = RandomizedMotifSearch(Dna, k, t)\n",
    "\n",
    "print(motifs)\n",
    "print(Score(motifs))"
   ]
  },
  {
   "cell_type": "markdown",
   "metadata": {},
   "source": [
    "### Gibbs Sampling"
   ]
  },
  {
   "cell_type": "code",
   "execution_count": null,
   "metadata": {},
   "outputs": [],
   "source": []
  },
  {
   "cell_type": "code",
   "execution_count": null,
   "metadata": {},
   "outputs": [],
   "source": []
  },
  {
   "cell_type": "code",
   "execution_count": null,
   "metadata": {},
   "outputs": [],
   "source": []
  },
  {
   "cell_type": "code",
   "execution_count": null,
   "metadata": {},
   "outputs": [],
   "source": []
  },
  {
   "cell_type": "code",
   "execution_count": null,
   "metadata": {},
   "outputs": [],
   "source": []
  },
  {
   "cell_type": "code",
   "execution_count": null,
   "metadata": {},
   "outputs": [],
   "source": []
  }
 ],
 "metadata": {
  "kernelspec": {
   "display_name": "Python 3",
   "language": "python",
   "name": "python3"
  },
  "language_info": {
   "codemirror_mode": {
    "name": "ipython",
    "version": 3
   },
   "file_extension": ".py",
   "mimetype": "text/x-python",
   "name": "python",
   "nbconvert_exporter": "python",
   "pygments_lexer": "ipython3",
   "version": "3.8.6"
  }
 },
 "nbformat": 4,
 "nbformat_minor": 4
}
