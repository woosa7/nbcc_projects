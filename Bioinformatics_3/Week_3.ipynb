{
 "cells": [
  {
   "cell_type": "markdown",
   "metadata": {},
   "source": [
    "# 2. Which DNA Patterns Play The Role of Molecular Clocks? (Part 1)"
   ]
  },
  {
   "cell_type": "markdown",
   "metadata": {},
   "source": [
    "```\n",
    "Finding motif problem\n",
    "\n",
    "길이가 k인 t 개의 DNA string = Motifs matrix\n",
    "Count matrix : 예) 길이 6인 DNA string  nucleotide 빈도에 따라 4 * 6 matrix 생성.\n",
    "Profile matrix : Count matrix를 DNA 수인 t 로 나눠 비율로 표시. 각 열의 합은 1.\n",
    "\n",
    "Consensus string : the most popular nucleotides in each column of the motif matrix (같은 값이면 랜덤으로).\n",
    "\n",
    "Motif Score : Consensus 문자열의 j 위치 기호와 일치하지 않는 Motifs의 j 번째 열에있는 기호의 수를 합산\n",
    "```"
   ]
  },
  {
   "cell_type": "code",
   "execution_count": 1,
   "metadata": {},
   "outputs": [],
   "source": [
    "motifs = ['AACGTA', \n",
    "         'CCCGTT', \n",
    "         'CACCTT', \n",
    "         'GGATTA', \n",
    "         'TTCCGG']"
   ]
  },
  {
   "cell_type": "code",
   "execution_count": 2,
   "metadata": {},
   "outputs": [],
   "source": [
    "def CountMatrix(Motifs):\n",
    "    t = len(Motifs)      # DNA string 갯수\n",
    "    k = len(Motifs[0])   # 각 string의 길이\n",
    "    \n",
    "    count = {'A':[0]*k, 'C':[0]*k, 'G':[0]*k,'T':[0]*k}\n",
    "\n",
    "    for i in range(t):\n",
    "        for j in range(k):\n",
    "            symbol = Motifs[i][j]\n",
    "            count[symbol][j] += 1\n",
    "    \n",
    "    return count"
   ]
  },
  {
   "cell_type": "code",
   "execution_count": 3,
   "metadata": {},
   "outputs": [
    {
     "data": {
      "text/plain": [
       "{'A': [1, 2, 1, 0, 0, 2],\n",
       " 'C': [2, 1, 4, 2, 0, 0],\n",
       " 'G': [1, 1, 0, 2, 1, 1],\n",
       " 'T': [1, 1, 0, 1, 4, 2]}"
      ]
     },
     "execution_count": 3,
     "metadata": {},
     "output_type": "execute_result"
    }
   ],
   "source": [
    "CountMatrix(motifs)"
   ]
  },
  {
   "cell_type": "code",
   "execution_count": 4,
   "metadata": {},
   "outputs": [],
   "source": [
    "def ProfileMatrix(Motifs):\n",
    "    t = len(Motifs)\n",
    "    k = len(Motifs[0])\n",
    "    \n",
    "    profile = {'A':[0]*k, 'C':[0]*k, 'G':[0]*k,'T':[0]*k}\n",
    "\n",
    "    for i in range(t):\n",
    "        for j in range(k):\n",
    "            symbol = Motifs[i][j]\n",
    "            profile[symbol][j] += 1\n",
    "            \n",
    "    for key, val in profile.items():\n",
    "        val[:] = [x / t for x in val]\n",
    "        \n",
    "    return profile"
   ]
  },
  {
   "cell_type": "code",
   "execution_count": 5,
   "metadata": {},
   "outputs": [
    {
     "name": "stdout",
     "output_type": "stream",
     "text": [
      "A : [0.2, 0.4, 0.2, 0.0, 0.0, 0.4]\n",
      "C : [0.4, 0.2, 0.8, 0.4, 0.0, 0.0]\n",
      "G : [0.2, 0.2, 0.0, 0.4, 0.2, 0.2]\n",
      "T : [0.2, 0.2, 0.0, 0.2, 0.8, 0.4]\n"
     ]
    }
   ],
   "source": [
    "profile = ProfileMatrix(motifs)\n",
    "\n",
    "for k, v in profile.items():\n",
    "    print(k, ':', v)"
   ]
  },
  {
   "cell_type": "code",
   "execution_count": 6,
   "metadata": {},
   "outputs": [],
   "source": [
    "def ConsensusMatrix(Motifs):\n",
    "    t = len(Motifs)      # DNA string 갯수\n",
    "    k = len(Motifs[0])   # 각 string의 길이\n",
    "    \n",
    "    count_matrix = {'A':[0]*k, 'C':[0]*k, 'G':[0]*k,'T':[0]*k}\n",
    "\n",
    "    for i in range(t):\n",
    "        for j in range(k):\n",
    "            symbol = Motifs[i][j]\n",
    "            count_matrix[symbol][j] += 1\n",
    "\n",
    "    consensus = \"\"\n",
    "    for j in range(k):\n",
    "        m = 0\n",
    "        frequentSymbol = \"\"\n",
    "        \n",
    "        for symbol in \"ACGT\":\n",
    "            if count_matrix[symbol][j] > m:\n",
    "                m = count_matrix[symbol][j]\n",
    "                frequentSymbol = symbol\n",
    "                \n",
    "        consensus += frequentSymbol\n",
    "        \n",
    "    return consensus"
   ]
  },
  {
   "cell_type": "code",
   "execution_count": 7,
   "metadata": {},
   "outputs": [
    {
     "data": {
      "text/plain": [
       "'CACCTA'"
      ]
     },
     "execution_count": 7,
     "metadata": {},
     "output_type": "execute_result"
    }
   ],
   "source": [
    "ConsensusMatrix(motifs)"
   ]
  },
  {
   "cell_type": "code",
   "execution_count": 8,
   "metadata": {},
   "outputs": [],
   "source": [
    "def HammingDistance(p, q):\n",
    "    t_len = max(len(p), len(q))\n",
    "    ham = [1 for x in range(t_len) if p[x] != q[x]]\n",
    "    count = sum(ham)\n",
    "    return count\n",
    "\n",
    "def Score(Motifs):\n",
    "    consensus = ConsensusMatrix(Motifs)\n",
    "    \n",
    "    score = 0\n",
    "    for motif in Motifs:\n",
    "        score += HammingDistance(consensus, motif)\n",
    "    \n",
    "    return score"
   ]
  },
  {
   "cell_type": "code",
   "execution_count": 9,
   "metadata": {},
   "outputs": [
    {
     "data": {
      "text/plain": [
       "14"
      ]
     },
     "execution_count": 9,
     "metadata": {},
     "output_type": "execute_result"
    }
   ],
   "source": [
    "Score(motifs)"
   ]
  },
  {
   "cell_type": "markdown",
   "metadata": {},
   "source": [
    "## Motif greedy search algorithms"
   ]
  },
  {
   "cell_type": "markdown",
   "metadata": {},
   "source": [
    "```\n",
    "profile = {\n",
    "    A : [0.2, 0.4, 0.2, 0.0, 0.0, 0.4]\n",
    "    C : [0.4, 0.2, 0.8, 0.4, 0.0, 0.0]\n",
    "    G : [0.2, 0.2, 0.0, 0.4, 0.2, 0.2]\n",
    "    T : [0.2, 0.2, 0.0, 0.2, 0.8, 0.4]\n",
    "}\n",
    "\n",
    "P( AACGTA, profile ) = 0.2 * 0.4 * 0.8 * 0.4 * 0.8 * 0.4 = 0.008192\n",
    "\n",
    "- 1열에 A가 있을 확률 = 0.2\n",
    "- 2열에 A가 있을 확률 = 0.4\n",
    "- 3열에 C가 있을 확률 = 0.8\n",
    "- 4열에 G가 있을 확률 = 0.4\n",
    "- 5열에 T가 있을 확률 = 0.8\n",
    "- 6열에 A가 있을 확률 = 0.4\n",
    "\n",
    "--> AACGTA 가 motif일 확률\n",
    "```"
   ]
  },
  {
   "cell_type": "code",
   "execution_count": 10,
   "metadata": {},
   "outputs": [],
   "source": [
    "profile = {\n",
    "    'A': [ 0.2 ,0.2 ,0.0 ,0.0 ,0.0 ,0.0, 0.9, 0.1, 0.1, 0.1, 0.3, 0.0],\n",
    "    'C': [ 0.1 ,0.6 ,0.0 ,0.0 ,0.0 ,0.0 ,0.0 ,0.4 ,0.1, 0.2, 0.4, 0.6], \n",
    "    'G': [ 0.0 ,0.0 ,1.0 ,1.0 ,0.9 ,0.9 ,0.1 ,0.0, 0.0 ,0.0 ,0.0, 0.0], \n",
    "    'T': [ 0.7 ,0.2 ,0.0 ,0.0 ,0.1 ,0.1 ,0.0, 0.5 ,0.8, 0.7, 0.3, 0.4]\n",
    "}\n",
    "\n",
    "motif = 'ACGGGGATTACC'"
   ]
  },
  {
   "cell_type": "code",
   "execution_count": 11,
   "metadata": {},
   "outputs": [],
   "source": [
    "def ProbMotif(Text, Profile):\n",
    "    prob = 1\n",
    "    for index, nucleotide in enumerate(Text):\n",
    "        prob *= Profile[nucleotide][index]\n",
    "    \n",
    "    return prob"
   ]
  },
  {
   "cell_type": "code",
   "execution_count": 12,
   "metadata": {},
   "outputs": [
    {
     "data": {
      "text/plain": [
       "0.0008398080000000002"
      ]
     },
     "execution_count": 12,
     "metadata": {},
     "output_type": "execute_result"
    }
   ],
   "source": [
    "ProbMotif(motif, profile)"
   ]
  },
  {
   "cell_type": "markdown",
   "metadata": {},
   "source": [
    "### most probable k-mer"
   ]
  },
  {
   "cell_type": "code",
   "execution_count": 13,
   "metadata": {},
   "outputs": [],
   "source": [
    "def ProfileMostProbableKmer(text, k, profile):\n",
    "    p = -1\n",
    "    result = text[0:k]\n",
    "    for i in range(len(text)-k+1):\n",
    "        seq = text[i:i+k]\n",
    "        pr = ProbMotif(seq,profile)\n",
    "        if pr > p:\n",
    "            p = pr\n",
    "            result = seq\n",
    "    return result"
   ]
  },
  {
   "cell_type": "code",
   "execution_count": 14,
   "metadata": {},
   "outputs": [
    {
     "name": "stdout",
     "output_type": "stream",
     "text": [
      "CCGAG\n"
     ]
    }
   ],
   "source": [
    "string = 'ACCTGTTTATTGCCTAAGTTCCGAACAAACCCAATATAGCCCGAGGGCCT'\n",
    "\n",
    "profile = {\n",
    "    'A': [0.2, 0.2, 0.3, 0.2, 0.3],\n",
    "    'C': [0.4, 0.3, 0.1, 0.5, 0.1],\n",
    "    'G': [0.3, 0.3, 0.5, 0.2, 0.4],\n",
    "    'T': [0.1, 0.2, 0.1, 0.1, 0.2]\n",
    "}\n",
    "k = 5\n",
    "best_word = ProfileMostProbableKmer(string, k, profile)\n",
    "print(best_word)"
   ]
  },
  {
   "cell_type": "code",
   "execution_count": 15,
   "metadata": {},
   "outputs": [],
   "source": [
    "def window(s, k):\n",
    "    for i in range(1 + len(s) - k):\n",
    "        yield s[i:i+k]\n",
    "        \n",
    "def GreedyMotifSearch(Dna, k, t):\n",
    "    bestMotifs = []\n",
    "    bestScore = 0   \n",
    "    \n",
    "    # t개의 dna에서 각각 첫번째 k-mer 추출\n",
    "    for string in Dna:\n",
    "        bestMotifs.append(string[:k])\n",
    "        \n",
    "    bestScore = Score(bestMotifs)\n",
    "    \n",
    "    base = Dna[0]\n",
    "    n = len(base)\n",
    "    \n",
    "    # base : 첫번째 dna에서 모든 k-mer 추출\n",
    "    for i in window(base, k):\n",
    "        newMotifs = [i]\n",
    "\n",
    "        # iterate over len(DNA)\n",
    "        for j in range(1, t):\n",
    "            # build up motifs and build profile using them.\n",
    "            profile = ProfileMatrix(newMotifs[:j])\n",
    "            pattern = ProfileMostProbableKmer(Dna[j], k, profile)           \n",
    "            newMotifs.append(pattern)\n",
    "        \n",
    "        currentScore = Score(newMotifs)\n",
    "        if k == 3:\n",
    "            print(currentScore, newMotifs)\n",
    "        \n",
    "        if currentScore <= bestScore:\n",
    "            bestScore = currentScore\n",
    "            bestMotifs = newMotifs\n",
    "            \n",
    "            \n",
    "    return bestMotifs"
   ]
  },
  {
   "cell_type": "code",
   "execution_count": 16,
   "metadata": {},
   "outputs": [
    {
     "name": "stdout",
     "output_type": "stream",
     "text": [
      "7 ['GGC', 'AAG', 'AAG', 'CAC', 'CAA']\n",
      "5 ['GCG', 'AAG', 'AAG', 'ACG', 'CAA']\n",
      "4 ['CGT', 'AAG', 'AAG', 'AAT', 'AAT']\n",
      "4 ['GTT', 'AAG', 'AAG', 'AAT', 'AAT']\n",
      "6 ['TTC', 'AAG', 'AAG', 'ATC', 'TTC']\n",
      "3 ['TCA', 'TCA', 'CAA', 'TCA', 'TAA']\n",
      "2 ['CAG', 'CAG', 'CAA', 'CAA', 'CAA']\n",
      "5 ['AGG', 'AAG', 'AAG', 'CAC', 'CAA']\n",
      "7 ['GGC', 'AAG', 'AAG', 'CAC', 'CAA']\n",
      "6 ['GCA', 'AAG', 'AAG', 'ACG', 'CAA']\n"
     ]
    },
    {
     "data": {
      "text/plain": [
       "['CAG', 'CAG', 'CAA', 'CAA', 'CAA']"
      ]
     },
     "execution_count": 16,
     "metadata": {},
     "output_type": "execute_result"
    }
   ],
   "source": [
    "Dna = [\n",
    "    \"GGCGTTCAGGCA\",\n",
    "    \"AAGAATCAGTCA\",\n",
    "    \"CAAGGAGTTCGC\",\n",
    "    \"CACGTCAATCAC\",\n",
    "    \"CAATAATATTCG\"\n",
    "]\n",
    "\n",
    "GreedyMotifSearch(Dna, 3, len(Dna))"
   ]
  },
  {
   "cell_type": "markdown",
   "metadata": {},
   "source": [
    "### 결핵을 일으키는 Mycobacterium tuberculosis bacterium (MTB)의 유전자 중 regulatory motif 찾기"
   ]
  },
  {
   "cell_type": "code",
   "execution_count": 17,
   "metadata": {},
   "outputs": [],
   "source": [
    "Dna = [\"GCGCCCCGCCCGGACAGCCATGCGCTAACCCTGGCTTCGATGGCGCCGGCTCAGTTAGGGCCGGAAGTCCCCAATGTGGCAGACCTTTCGCCCCTGGCGGACGAATGACCCCAGTGGCCGGGACTTCAGGCCCTATCGGAGGGCTCCGGCGCGGTGGTCGGATTTGTCTGTGGAGGTTACACCCCAATCGCAAGGATGCATTATGACCAGCGAGCTGAGCCTGGTCGCCACTGGAAAGGGGAGCAACATC\", \n",
    "       \"CCGATCGGCATCACTATCGGTCCTGCGGCCGCCCATAGCGCTATATCCGGCTGGTGAAATCAATTGACAACCTTCGACTTTGAGGTGGCCTACGGCGAGGACAAGCCAGGCAAGCCAGCTGCCTCAACGCGCGCCAGTACGGGTCCATCGACCCGCGGCCCACGGGTCAAACGACCCTAGTGTTCGCTACGACGTGGTCGTACCTTCGGCAGCAGATCAGCAATAGCACCCCGACTCGAGGAGGATCCCG\", \n",
    "       \"ACCGTCGATGTGCCCGGTCGCGCCGCGTCCACCTCGGTCATCGACCCCACGATGAGGACGCCATCGGCCGCGACCAAGCCCCGTGAAACTCTGACGGCGTGCTGGCCGGGCTGCGGCACCTGATCACCTTAGGGCACTTGGGCCACCACAACGGGCCGCCGGTCTCGACAGTGGCCACCACCACACAGGTGACTTCCGGCGGGACGTAAGTCCCTAACGCGTCGTTCCGCACGCGGTTAGCTTTGCTGCC\", \n",
    "       \"GGGTCAGGTATATTTATCGCACACTTGGGCACATGACACACAAGCGCCAGAATCCCGGACCGAACCGAGCACCGTGGGTGGGCAGCCTCCATACAGCGATGACCTGATCGATCATCGGCCAGGGCGCCGGGCTTCCAACCGTGGCCGTCTCAGTACCCAGCCTCATTGACCCTTCGACGCATCCACTGCGCGTAAGTCGGCTCAACCCTTTCAAACCGCTGGATTACCGACCGCAGAAAGGGGGCAGGAC\", \n",
    "       \"GTAGGTCAAACCGGGTGTACATACCCGCTCAATCGCCCAGCACTTCGGGCAGATCACCGGGTTTCCCCGGTATCACCAATACTGCCACCAAACACAGCAGGCGGGAAGGGGCGAAAGTCCCTTATCCGACAATAAAACTTCGCTTGTTCGACGCCCGGTTCACCCGATATGCACGGCGCCCAGCCATTCGTGACCGACGTCCCCAGCCCCAAGGCCGAACGACCCTAGGAGCCACGAGCAATTCACAGCG\", \n",
    "       \"CCGCTGGCGACGCTGTTCGCCGGCAGCGTGCGTGACGACTTCGAGCTGCCCGACTACACCTGGTGACCACCGCCGACGGGCACCTCTCCGCCAGGTAGGCACGGTTTGTCGCCGGCAATGTGACCTTTGGGCGCGGTCTTGAGGACCTTCGGCCCCACCCACGAGGCCGCCGCCGGCCGATCGTATGACGTGCAATGTACGCCATAGGGTGCGTGTTACGGCGATTACCTGAAGGCGGCGGTGGTCCGGA\", \n",
    "       \"GGCCAACTGCACCGCGCTCTTGATGACATCGGTGGTCACCATGGTGTCCGGCATGATCAACCTCCGCTGTTCGATATCACCCCGATCTTTCTGAACGGCGGTTGGCAGACAACAGGGTCAATGGTCCCCAAGTGGATCACCGACGGGCGCGGACAAATGGCCCGCGCTTCGGGGACTTCTGTCCCTAGCCCTGGCCACGATGGGCTGGTCGGATCAAAGGCATCCGTTTCCATCGATTAGGAGGCATCAA\", \n",
    "       \"GTACATGTCCAGAGCGAGCCTCAGCTTCTGCGCAGCGACGGAAACTGCCACACTCAAAGCCTACTGGGCGCACGTGTGGCAACGAGTCGATCCACACGAAATGCCGCCGTTGGGCCGCGGACTAGCCGAATTTTCCGGGTGGTGACACAGCCCACATTTGGCATGGGACTTTCGGCCCTGTCCGCGTCCGTGTCGGCCAGACAAGCTTTGGGCATTGGCCACAATCGGGCCACAATCGAAAGCCGAGCAG\", \n",
    "       \"GGCAGCTGTCGGCAACTGTAAGCCATTTCTGGGACTTTGCTGTGAAAAGCTGGGCGATGGTTGTGGACCTGGACGAGCCACCCGTGCGATAGGTGAGATTCATTCTCGCCCTGACGGGTTGCGTCTGTCATCGGTCGATAAGGACTAACGGCCCTCAGGTGGGGACCAACGCCCCTGGGAGATAGCGGTCCCCGCCAGTAACGTACCGCTGAACCGACGGGATGTATCCGCCCCAGCGAAGGAGACGGCG\", \n",
    "       \"TCAGCACCATGACCGCCTGGCCACCAATCGCCCGTAACAAGCGGGACGTCCGCGACGACGCGTGCGCTAGCGCCGTGGCGGTGACAACGACCAGATATGGTCCGAGCACGCGGGCGAACCTCGTGTTCTGGCCTCGGCCAGTTGTGTAGAGCTCATCGCTGTCATCGAGCGATATCCGACCACTGATCCAAGTCGGGGGCTCTGGGGACCGAAGTCCCCGGGCTCGGAGCTATCGGACCTCACGATCACC\"]"
   ]
  },
  {
   "cell_type": "code",
   "execution_count": 18,
   "metadata": {
    "scrolled": false
   },
   "outputs": [
    {
     "name": "stdout",
     "output_type": "stream",
     "text": [
      "['CCAATCGCAAGGATG', 'CCGATCGGCATCACT', 'ACCGTCGATGTGCCC', 'GGGTCAGGTATATTT', 'GTAGGTCAAACCGGG', 'CTGTTCGCCGGCAGC', 'CTGTTCGATATCACC', 'CGCGTCCGTGTCGGC', 'CTGGGAGATAGCGGT', 'CTCATCGCTGTCATC']\n",
      "64\n"
     ]
    }
   ],
   "source": [
    "k = 15\n",
    "t = len(Dna)\n",
    "\n",
    "motifs = GreedyMotifSearch(Dna, k, t)\n",
    "print(motifs)\n",
    "print(Score(motifs))"
   ]
  }
 ],
 "metadata": {
  "kernelspec": {
   "display_name": "Python 3",
   "language": "python",
   "name": "python3"
  },
  "language_info": {
   "codemirror_mode": {
    "name": "ipython",
    "version": 3
   },
   "file_extension": ".py",
   "mimetype": "text/x-python",
   "name": "python",
   "nbconvert_exporter": "python",
   "pygments_lexer": "ipython3",
   "version": "3.8.6"
  }
 },
 "nbformat": 4,
 "nbformat_minor": 4
}
