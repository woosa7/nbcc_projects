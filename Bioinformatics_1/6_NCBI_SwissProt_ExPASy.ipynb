{
 "cells": [
  {
   "cell_type": "markdown",
   "metadata": {},
   "source": [
    "# NCBI database : Entrez"
   ]
  },
  {
   "cell_type": "markdown",
   "metadata": {},
   "source": [
    "Entrez는 NCBI의 데이터 검색 시스템으로 PubMed, GenBank, GEO 등 49개 데이터베이스를 검색할 수 있다."
   ]
  },
  {
   "cell_type": "code",
   "execution_count": 1,
   "metadata": {},
   "outputs": [],
   "source": [
    "from Bio import Entrez"
   ]
  },
  {
   "cell_type": "markdown",
   "metadata": {},
   "source": [
    "### EFetch\n",
    "\n",
    "* Entrez의 모든 레코드를 받음.\n",
    "* return type, return mode를 지정해야 함."
   ]
  },
  {
   "cell_type": "code",
   "execution_count": 2,
   "metadata": {
    "scrolled": false
   },
   "outputs": [
    {
     "name": "stdout",
     "output_type": "stream",
     "text": [
      "dict_keys(['GBSeq_locus', 'GBSeq_length', 'GBSeq_strandedness', 'GBSeq_moltype', 'GBSeq_topology', 'GBSeq_division', 'GBSeq_update-date', 'GBSeq_create-date', 'GBSeq_definition', 'GBSeq_primary-accession', 'GBSeq_accession-version', 'GBSeq_other-seqids', 'GBSeq_secondary-accessions', 'GBSeq_project', 'GBSeq_keywords', 'GBSeq_source', 'GBSeq_organism', 'GBSeq_taxonomy', 'GBSeq_references', 'GBSeq_comment', 'GBSeq_feature-table', 'GBSeq_sequence', 'GBSeq_xrefs']) \n",
      "\n",
      "dict_keys(['GBReference_reference', 'GBReference_position', 'GBReference_authors', 'GBReference_title', 'GBReference_journal', 'GBReference_xref', 'GBReference_pubmed'])\n"
     ]
    }
   ],
   "source": [
    "Entrez.email = \"woosa7@naver.com\"\n",
    "\n",
    "# poliovirus (소아마비 바이러스) 데이터 읽기\n",
    "handle = Entrez.efetch(db=\"nucleotide\", id=\"NC_002058.3\", rettype=\"gb\", retmode=\"xml\")\n",
    "\n",
    "records = Entrez.parse(handle)\n",
    "for record in records:\n",
    "    print(record.keys(), '\\n')\n",
    "    \n",
    "    for journal in record[\"GBSeq_references\"]:\n",
    "        print(journal.keys())\n",
    "        break"
   ]
  },
  {
   "cell_type": "code",
   "execution_count": 3,
   "metadata": {},
   "outputs": [
    {
     "name": "stdout",
     "output_type": "stream",
     "text": [
      "NC_002058\n",
      "Poliovirus, complete genome\n",
      "single RNA\n",
      "7440 bp\n",
      "24 journals\n"
     ]
    }
   ],
   "source": [
    "handle = Entrez.efetch(db=\"nucleotide\", id=\"NC_002058.3\", rettype=\"gb\", retmode=\"xml\") \n",
    "\n",
    "records = Entrez.read(handle)   # Entrez.read()는 결과를 한번에 메모리에 올리기 때문에 parse()를 사용하는 것이 좋다.\n",
    "for record in records:\n",
    "    print(record[\"GBSeq_locus\"])\n",
    "    print(record[\"GBSeq_definition\"])\n",
    "    print(record[\"GBSeq_strandedness\"], record[\"GBSeq_moltype\"])\n",
    "    print(record[\"GBSeq_length\"], \"bp\")\n",
    "    print(len(record[\"GBSeq_references\"]), \"journals\")"
   ]
  },
  {
   "cell_type": "markdown",
   "metadata": {},
   "source": [
    "### EInfo, ESearch\n",
    "\n",
    "Entrez의 데이터베이스 목록"
   ]
  },
  {
   "cell_type": "code",
   "execution_count": 4,
   "metadata": {},
   "outputs": [
    {
     "name": "stdout",
     "output_type": "stream",
     "text": [
      "{'DbList': ['pubmed', 'protein', 'nuccore', 'ipg', 'nucleotide', 'structure', 'sparcle', 'genome', 'annotinfo', 'assembly', 'bioproject', 'biosample', 'blastdbinfo', 'books', 'cdd', 'clinvar', 'gap', 'gapplus', 'grasp', 'dbvar', 'gene', 'gds', 'geoprofiles', 'homologene', 'medgen', 'mesh', 'ncbisearch', 'nlmcatalog', 'omim', 'orgtrack', 'pmc', 'popset', 'proteinclusters', 'pcassay', 'biosystems', 'pccompound', 'pcsubstance', 'seqannot', 'snp', 'sra', 'taxonomy', 'biocollections', 'gtr']}\n",
      "43\n"
     ]
    }
   ],
   "source": [
    "handle = Entrez.einfo()\n",
    "record = Entrez.read(handle)\n",
    "\n",
    "print(record)\n",
    "\n",
    "print(len(record[\"DbList\"]))"
   ]
  },
  {
   "cell_type": "code",
   "execution_count": 5,
   "metadata": {},
   "outputs": [
    {
     "data": {
      "text/plain": [
       "dict_keys(['Count', 'RetMax', 'RetStart', 'IdList', 'TranslationSet', 'TranslationStack', 'QueryTranslation'])"
      ]
     },
     "execution_count": 5,
     "metadata": {},
     "output_type": "execute_result"
    }
   ],
   "source": [
    "# esearch : 위 40여개의 데이터베이스 검색 도구\n",
    "\n",
    "handle = Entrez.esearch(db=\"pubmed\", term=\"metagenome\") \n",
    "record = Entrez.read(handle) \n",
    "record.keys()"
   ]
  },
  {
   "cell_type": "code",
   "execution_count": 6,
   "metadata": {},
   "outputs": [
    {
     "name": "stdout",
     "output_type": "stream",
     "text": [
      "8739\n"
     ]
    }
   ],
   "source": [
    "print(record[\"Count\"])"
   ]
  },
  {
   "cell_type": "code",
   "execution_count": 7,
   "metadata": {},
   "outputs": [
    {
     "name": "stdout",
     "output_type": "stream",
     "text": [
      "['32778754', '32778049', '32772914', '32772670', '32766813', '32766476', '32763946', '32763940', '32763939', '32762019', '32761733', '32758682', '32758003', '32755736', '32755708', '32755703', '32753510', '32753508', '32750680', '32747714']\n"
     ]
    }
   ],
   "source": [
    "print(record[\"IdList\"])"
   ]
  },
  {
   "cell_type": "markdown",
   "metadata": {},
   "source": [
    "# Swiss-Prot"
   ]
  },
  {
   "cell_type": "markdown",
   "metadata": {},
   "source": [
    "단백질의 서열, 기능과 구조, 각 도메인에 대한 정보, 변이, 실험적 결과 등의 정보를 제공.\n",
    "\n",
    "ex) https://www.uniprot.org/uniprot/P02649.txt : 고지혈증, 알츠하이머병과 관련있는 단백질"
   ]
  },
  {
   "cell_type": "code",
   "execution_count": 8,
   "metadata": {},
   "outputs": [],
   "source": [
    "from Bio import SwissProt\n",
    "from Bio import ExPASy"
   ]
  },
  {
   "cell_type": "code",
   "execution_count": 9,
   "metadata": {},
   "outputs": [
    {
     "name": "stdout",
     "output_type": "stream",
     "text": [
      "<class 'Bio.SwissProt.Record'> \n",
      "\n",
      "entry_name: APOE_HUMAN\n",
      "gene_name: Name=APOE;\n",
      "organism: Homo sapiens (Human).\n",
      "sequence_length: 317\n",
      "sequence: MKVLWAALLVTFLAGCQAKVEQAVETEPEPELRQQTEWQSGQRWELALGRFWDYLRWVQTLSEQVQEELLSSQVTQELRALMDETMKELKAYKSELEEQLTPVAEETRARLSKELQAAQARLGADMEDVCGRLVQYRGEVQAMLGQSTEELRVRLASHLRKLRKRLLRDADDLQKRLAVYQAGAREGAERGLSAIRERLGPLVEQGRVRAATVGSLAGQPLQERAQAWGERLRARMEEMGSRTRDRLDEVKEQVAEVRAKLEEQAQQIRLQAEAFQARLKSWFEPLVEDMQRQWAGLVEKVQAAVGTSAAPVPSDNH\n",
      "RecName: Full=Apolipoprotein E; Short=Apo-E; Flags: Precursor;\n",
      "['3D-structure', 'Alzheimer disease', 'Amyloidosis', 'Cholesterol metabolism', 'Chylomicron', 'Complete proteome', 'Direct protein sequencing', 'Disease mutation', 'Extracellular matrix', 'Glycation', 'Glycoprotein', 'HDL', 'Heparin-binding', 'Hyperlipidemia', 'Lipid metabolism', 'Lipid transport', 'Lipid-binding', 'Neurodegeneration', 'Oxidation', 'Phosphoprotein', 'Polymorphism', 'Reference proteome', 'Repeat', 'Secreted', 'Signal', 'Steroid metabolism', 'Sterol metabolism', 'Transport', 'VLDL']\n"
     ]
    }
   ],
   "source": [
    "with open(\"data/P02649.txt\") as handle:\n",
    "    record = SwissProt.read(handle)\n",
    "    print(type(record), '\\n')\n",
    "    \n",
    "    # https://biopython.org/DIST/docs/api/Bio.SwissProt.Record-class.html\n",
    "\n",
    "    print(\"entry_name:\", record.entry_name )\n",
    "    print(\"gene_name:\", record.gene_name)\n",
    "    print(\"organism:\", record.organism)\n",
    "    print(\"sequence_length:\", record.sequence_length)\n",
    "    print(\"sequence:\", record.sequence)\n",
    "    print(record.description)\n",
    "    print(record.keywords)"
   ]
  },
  {
   "cell_type": "markdown",
   "metadata": {},
   "source": [
    "### ExPASy (Expert Protein Analysis System)\n",
    "\n",
    "* Proteomics 도구 및 데이터베이스를 모은 서버.\n",
    "* 파이썬 스크립트로 이 서버에서 정보를 받을 수 있음."
   ]
  },
  {
   "cell_type": "code",
   "execution_count": 10,
   "metadata": {},
   "outputs": [
    {
     "name": "stdout",
     "output_type": "stream",
     "text": [
      "Name=APOE;\n",
      "Homo sapiens (Human).\n",
      "317\n",
      "MKVLWAALLVTFLAGCQAKVEQAVETEPEPELRQQTEWQSGQRWELALGRFWDYLRWVQTLSEQVQEELLSSQVTQELRALMDETMKELKAYKSELEEQLTPVAEETRARLSKELQAAQARLGADMEDVCGRLVQYRGEVQAMLGQSTEELRVRLASHLRKLRKRLLRDADDLQKRLAVYQAGAREGAERGLSAIRERLGPLVEQGRVRAATVGSLAGQPLQERAQAWGERLRARMEEMGSRTRDRLDEVKEQVAEVRAKLEEQAQQIRLQAEAFQARLKSWFEPLVEDMQRQWAGLVEKVQAAVGTSAAPVPSDNH\n"
     ]
    }
   ],
   "source": [
    "accession = \"P02649\"\n",
    "handle = ExPASy.get_sprot_raw(accession)\n",
    "\n",
    "record = SwissProt.read(handle)\n",
    "\n",
    "print(record.gene_name)\n",
    "print(record.organism)\n",
    "print(record.sequence_length)\n",
    "print(record.sequence)"
   ]
  }
 ],
 "metadata": {
  "kernelspec": {
   "display_name": "Python 3",
   "language": "python",
   "name": "python3"
  },
  "language_info": {
   "codemirror_mode": {
    "name": "ipython",
    "version": 3
   },
   "file_extension": ".py",
   "mimetype": "text/x-python",
   "name": "python",
   "nbconvert_exporter": "python",
   "pygments_lexer": "ipython3",
   "version": "3.7.6"
  }
 },
 "nbformat": 4,
 "nbformat_minor": 4
}
