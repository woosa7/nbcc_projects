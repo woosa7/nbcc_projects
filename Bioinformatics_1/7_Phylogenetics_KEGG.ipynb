{
 "cells": [
  {
   "cell_type": "markdown",
   "metadata": {},
   "source": [
    "# Phylogenetics 계통분류학"
   ]
  },
  {
   "cell_type": "code",
   "execution_count": 1,
   "metadata": {},
   "outputs": [],
   "source": [
    "from Bio import Phylo"
   ]
  },
  {
   "cell_type": "code",
   "execution_count": 2,
   "metadata": {},
   "outputs": [
    {
     "name": "stdout",
     "output_type": "stream",
     "text": [
      "Tree(rooted=False, weight=1.0)\n",
      "    Clade()\n",
      "        Clade(name='A')\n",
      "        Clade(name='B')\n",
      "        Clade()\n",
      "            Clade(name='C')\n",
      "            Clade(name='D')\n"
     ]
    },
    {
     "data": {
      "image/png": "[encoded data removed]",
      "text/plain": [
       "<Figure size 432x288 with 1 Axes>"
      ]
     },
     "metadata": {
      "needs_background": "light"
     },
     "output_type": "display_data"
    }
   ],
   "source": [
    "tree = Phylo.read(\"data/sample_tree.nwk\",\"newick\")\n",
    "print(tree)\n",
    "Phylo.draw(tree)"
   ]
  },
  {
   "cell_type": "code",
   "execution_count": 3,
   "metadata": {},
   "outputs": [
    {
     "name": "stdout",
     "output_type": "stream",
     "text": [
      "Tree(rooted=True, weight=1.0)\n",
      "    Clade()\n",
      "        Clade(name='A')\n",
      "        Clade(name='B')\n",
      "        Clade()\n",
      "            Clade(name='C')\n",
      "            Clade(name='D')\n",
      "tree.clade[0]: B\n",
      "tree.clade[1]: B\n",
      "tree.clade[2,0]: C\n",
      "tree.clade[2,1]: D\n"
     ]
    },
    {
     "data": {
      "image/png": "[encoded data removed]",
      "text/plain": [
       "<Figure size 432x288 with 1 Axes>"
      ]
     },
     "metadata": {
      "needs_background": "light"
     },
     "output_type": "display_data"
    }
   ],
   "source": [
    "tree = Phylo.read(\"data/sample_tree.nwk\",\"newick\")\n",
    "\n",
    "tree.rooted = True\n",
    "tree.root.color = (128,128,128)\n",
    "print(tree)\n",
    "print(\"tree.clade[0]:\", tree.clade[1])\n",
    "print(\"tree.clade[1]:\", tree.clade[1])\n",
    "print(\"tree.clade[2,0]:\", tree.clade[2,0])\n",
    "print(\"tree.clade[2,1]:\", tree.clade[2,1])\n",
    "tree.clade[1].color = \"blue\"\n",
    "tree.clade[2,0].color = \"red\"\n",
    "Phylo.draw(tree)"
   ]
  },
  {
   "cell_type": "code",
   "execution_count": 4,
   "metadata": {},
   "outputs": [
    {
     "data": {
      "image/png": "[encoded data removed]",
      "text/plain": [
       "<Figure size 432x288 with 1 Axes>"
      ]
     },
     "metadata": {
      "needs_background": "light"
     },
     "output_type": "display_data"
    }
   ],
   "source": [
    "tree = Phylo.read(\"data/sample_tree4.nwk\",\"newick\")\n",
    "Phylo.draw(tree, branch_labels = lambda c: c.branch_length)"
   ]
  },
  {
   "cell_type": "markdown",
   "metadata": {},
   "source": [
    "# KEGG (Kyoto Encyclopedia of Genes and Genomics)\n",
    "\n",
    "* 생물학적 대사 경로와 기능적 유전자 DB\n",
    "* 유전체와 유전자 정보 DB\n",
    "* 화학물질과 효소 DB\n",
    "* 질병, 약물, 환경 정보 DB"
   ]
  },
  {
   "cell_type": "markdown",
   "metadata": {},
   "source": [
    "```\n",
    "glycolysis (당 분해) 대사 경로는 10개의 효소가 작용하여 최종적으로 포도당에서 pyruvate와 2개의 ATP를 얻는다.\n",
    "여기서는 그 마지막 효소인 pyruvate kinase 파일을 사용한다.\n",
    "http://rest.kegg.jp/get/ec:2.7.1.40\n",
    "```"
   ]
  },
  {
   "cell_type": "code",
   "execution_count": 5,
   "metadata": {},
   "outputs": [],
   "source": [
    "from Bio.KEGG import Enzyme\n",
    "from Bio.KEGG import REST"
   ]
  },
  {
   "cell_type": "code",
   "execution_count": 6,
   "metadata": {},
   "outputs": [
    {
     "name": "stdout",
     "output_type": "stream",
     "text": [
      "classname: ['Transferases;', 'Transferring phosphorus-containing groups;', 'Phosphotransferases with an alcohol group as acceptor']\n",
      "sysname: ['ATP:pyruvate 2-O-phosphotransferase']\n",
      "subtrate: ['ATP [CPD:C00002]', 'pyruvate [CPD:C00022]']\n",
      "product: ['ADP [CPD:C00008]', 'phosphoenolpyruvate [CPD:C00074]']\n"
     ]
    }
   ],
   "source": [
    "records = Enzyme.parse(open(\"data/ec_2.7.1.40.txt\"))\n",
    "record = list(records)[0]\n",
    "print(\"classname:\", record.classname)\n",
    "print(\"sysname:\", record.sysname)\n",
    "print(\"subtrate:\", record.substrate)\n",
    "print(\"product:\", record.product)"
   ]
  },
  {
   "cell_type": "markdown",
   "metadata": {},
   "source": [
    "```\n",
    "REST 모듈은 KEGG 데이터베이스 목록을 읽고 데이터를 가져온다.\n",
    "다음은 (1) 인간의 인슐린 관련 대사 경로를 얻은 후, (2) 대사 경로 데이터에서 유전자 부분만 리스트에 담는 코드이다.\n",
    "```"
   ]
  },
  {
   "cell_type": "code",
   "execution_count": 7,
   "metadata": {},
   "outputs": [
    {
     "name": "stdout",
     "output_type": "stream",
     "text": [
      "path:hsa04910 Insulin signaling pathway - Homo sapiens (human)\n",
      "path:hsa04911 Insulin secretion - Homo sapiens (human)\n",
      "path:hsa04931 Insulin resistance - Homo sapiens (human)\n",
      "['path:hsa04910', 'path:hsa04911', 'path:hsa04931']\n",
      "\n",
      "There are 3 insulin pathways and 2 insulin genes. The genes are:\n",
      "INS, SLC2A1\n"
     ]
    }
   ],
   "source": [
    "human_pathways = REST.kegg_list(\"pathway\", \"hsa\").read()\n",
    "\n",
    "\n",
    "# (1) 인간의 인슐린 관련 대사 경로 얻기\n",
    "\n",
    "insulin_pathways = []\n",
    "for line in human_pathways.rstrip().split(\"\\n\"):\n",
    "    entry, description = line.split(\"\\t\")\n",
    "    if \"insulin\" in description.lower():\n",
    "        insulin_pathways.append(entry)\n",
    "        print(entry, description)\n",
    "print(insulin_pathways)\n",
    "print('')\n",
    "\n",
    "\n",
    "# (2) 대사 경로 데이터에서 유전자 부분만 추출\n",
    "\n",
    "insulin_genes = []\n",
    "for pathway in insulin_pathways:\n",
    "    pathway_file = REST.kegg_get(pathway).read()\n",
    "    \n",
    "    current_section = None\n",
    "    for line in pathway_file.rstrip().split(\"\\n\"):\n",
    "        section = line[:12].strip()\n",
    "        if not section == \"\":\n",
    "            current_section = section\n",
    "            \n",
    "            if current_section == \"GENE\":\n",
    "                gene_identifiers, gene_description = line[12:].split(\"; \")\n",
    "                gene_id, gene_symbol = gene_identifiers.split()\n",
    "                \n",
    "                if not gene_symbol in insulin_genes:\n",
    "                    insulin_genes.append(gene_symbol)\n",
    "                    \n",
    "print(\"There are %d insulin pathways and %d insulin genes. The genes are:\" % (len(insulin_pathways), len(insulin_genes)))\n",
    "print(\", \".join(insulin_genes))"
   ]
  }
 ],
 "metadata": {
  "kernelspec": {
   "display_name": "Python 3",
   "language": "python",
   "name": "python3"
  },
  "language_info": {
   "codemirror_mode": {
    "name": "ipython",
    "version": 3
   },
   "file_extension": ".py",
   "mimetype": "text/x-python",
   "name": "python",
   "nbconvert_exporter": "python",
   "pygments_lexer": "ipython3",
   "version": "3.7.6"
  }
 },
 "nbformat": 4,
 "nbformat_minor": 4
}
