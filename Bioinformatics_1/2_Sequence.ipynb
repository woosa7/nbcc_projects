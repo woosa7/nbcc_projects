{
 "cells": [
  {
   "cell_type": "markdown",
   "metadata": {},
   "source": [
    "# Biopython : Sequence 객체"
   ]
  },
  {
   "cell_type": "markdown",
   "metadata": {},
   "source": [
    "* TATA box\n",
    "\n",
    "TATA box로 불리는 서열은 DNA가 RAN로 전사(transcript)되는 시작점인 promoter 서열 중 어떤 종에서도 그 서열 정보가 같다.\n",
    "TATA box에 TBP(TATA box binding protein)와 전사 인자(transcription factor)가 붙어 전사가 시작된다."
   ]
  },
  {
   "cell_type": "code",
   "execution_count": 1,
   "metadata": {},
   "outputs": [],
   "source": [
    "from Bio.Seq import Seq\n",
    "from Bio.Alphabet import IUPAC\n",
    "from Bio.Data import CodonTable "
   ]
  },
  {
   "cell_type": "code",
   "execution_count": 2,
   "metadata": {},
   "outputs": [
    {
     "name": "stdout",
     "output_type": "stream",
     "text": [
      "21\n",
      "<class 'Bio.Seq.Seq'>\n"
     ]
    }
   ],
   "source": [
    "# TATA box 중 일부 서열\n",
    "tatabox_seq = Seq(\"tataaaggcAATATGCAGTAG\")\n",
    "print(len(tatabox_seq))\n",
    "print(type(tatabox_seq))"
   ]
  },
  {
   "cell_type": "markdown",
   "metadata": {},
   "source": [
    "### DNA, RNA, Protein 구분\n",
    "```\n",
    "IUPAC.IUPACProtein          # 기본 20개 아미노산\n",
    "IUPAC.ExtendedIUPACProtein  # 20 + 6 개 아미노산\n",
    "\n",
    "IUPAC.unambiguous_dna       # basic DNA. ACGT만 포함.\n",
    "IUPAC.ambiguous_dna         # 다양한 코드 포함된 DNA\n",
    "\n",
    "IUPAC.unambiguous_rna       # basic RNA. ACGT만 포함.\n",
    "IUPAC.ambiguous_rna         # 다양한 코드 포함된 RNA\n",
    "```"
   ]
  },
  {
   "cell_type": "code",
   "execution_count": 3,
   "metadata": {},
   "outputs": [
    {
     "name": "stdout",
     "output_type": "stream",
     "text": [
      "<class 'Bio.Seq.Seq'>\n",
      "IUPACUnambiguousDNA()\n"
     ]
    }
   ],
   "source": [
    "tatabox_seq = Seq(\"tataaaggcAATATGCAGTAG\", IUPAC.unambiguous_dna)  # DNA\n",
    "print(type(tatabox_seq))\n",
    "print(tatabox_seq.alphabet)"
   ]
  },
  {
   "cell_type": "code",
   "execution_count": 4,
   "metadata": {},
   "outputs": [
    {
     "data": {
      "text/plain": [
       "5"
      ]
     },
     "execution_count": 4,
     "metadata": {},
     "output_type": "execute_result"
    }
   ],
   "source": [
    "count_a = tatabox_seq.count(\"A\")\n",
    "count_a"
   ]
  },
  {
   "cell_type": "code",
   "execution_count": 5,
   "metadata": {},
   "outputs": [
    {
     "name": "stdout",
     "output_type": "stream",
     "text": [
      "19.047619047619047\n"
     ]
    }
   ],
   "source": [
    "# GC content (%)\n",
    "g_count = tatabox_seq.count(\"G\") \n",
    "c_count = tatabox_seq.count(\"C\") \n",
    "gc_contents = (g_count + c_count) / len(tatabox_seq) * 100 \n",
    "print(gc_contents)"
   ]
  },
  {
   "cell_type": "code",
   "execution_count": 6,
   "metadata": {},
   "outputs": [
    {
     "data": {
      "text/plain": [
       "5"
      ]
     },
     "execution_count": 6,
     "metadata": {},
     "output_type": "execute_result"
    }
   ],
   "source": [
    "count_a = tatabox_seq.count(\"A\")\n",
    "count_a"
   ]
  },
  {
   "cell_type": "code",
   "execution_count": 7,
   "metadata": {},
   "outputs": [
    {
     "data": {
      "text/plain": [
       "2"
      ]
     },
     "execution_count": 7,
     "metadata": {},
     "output_type": "execute_result"
    }
   ],
   "source": [
    "count_at = tatabox_seq.count(\"AT\")  # non-overlapping count\n",
    "count_at"
   ]
  },
  {
   "cell_type": "code",
   "execution_count": 8,
   "metadata": {},
   "outputs": [
    {
     "name": "stdout",
     "output_type": "stream",
     "text": [
      "TATAAAGGCAATATGCAGTAG\n",
      "tataaaggcaatatgcagtag\n"
     ]
    }
   ],
   "source": [
    "# 대소문자 변화\n",
    "print(tatabox_seq.upper())\n",
    "print(tatabox_seq.lower())"
   ]
  },
  {
   "cell_type": "markdown",
   "metadata": {},
   "source": [
    "### Transcription & Translation\n",
    "```\n",
    "A-T 2중 결합\n",
    "G-C 3중 결합\n",
    "\n",
    "시직코돈 : ATG\n",
    "종결코돈 : TAA, TAG, TGA\n",
    "\n",
    "전사 방향 : 5' (five prime) to 3'\n",
    "\n",
    "coding strand   (코드 가닥): 5'-ATGCAGTAG-3'\n",
    "template strand (주형 가닥): 3'-TACGTCATC-5'\n",
    "\n",
    "--> transcription --> mRNA : 5'-AUGCAGUAG-3'\n",
    "\n",
    "--> translation --> protein: Met-Gln-종결코돈(*)\n",
    "```"
   ]
  },
  {
   "cell_type": "code",
   "execution_count": 9,
   "metadata": {},
   "outputs": [
    {
     "name": "stdout",
     "output_type": "stream",
     "text": [
      "AUGCAGUAG\n",
      "MQ*\n"
     ]
    }
   ],
   "source": [
    "dna = Seq('ATGCAGTAG')\n",
    "mRna = dna.transcribe()\n",
    "protein = dna.translate()\n",
    "\n",
    "print(mRna)\n",
    "print(protein)"
   ]
  },
  {
   "cell_type": "code",
   "execution_count": 10,
   "metadata": {},
   "outputs": [
    {
     "name": "stdout",
     "output_type": "stream",
     "text": [
      "MN*V*N\n",
      "MN\n"
     ]
    }
   ],
   "source": [
    "# 종결 코돈 여러 개 있는 경우 첫번째에서 종료하기\n",
    "# complete coding sequence (CDS)\n",
    "\n",
    "mRNA = Seq(\"AUGAACUAAGUUUAGAAU\")  \n",
    "\n",
    "ptn = mRNA.translate() \n",
    "print(ptn)\n",
    "\n",
    "ptn = mRNA.translate(to_stop=True) \n",
    "print(ptn)"
   ]
  },
  {
   "cell_type": "code",
   "execution_count": 11,
   "metadata": {},
   "outputs": [
    {
     "name": "stdout",
     "output_type": "stream",
     "text": [
      "MN\n",
      "V\n",
      "N\n"
     ]
    }
   ],
   "source": [
    "# 종결 코돈 기준으로 분리\n",
    "\n",
    "mrna = Seq(\"AUGAACUAAGUUUAGAAU\") \n",
    "ptn = mrna.translate() \n",
    "\n",
    "for seq in ptn.split(\"*\"): \n",
    "    print(seq)"
   ]
  },
  {
   "cell_type": "code",
   "execution_count": 12,
   "metadata": {},
   "outputs": [],
   "source": [
    "from Bio.Alphabet import generic_dna"
   ]
  },
  {
   "cell_type": "code",
   "execution_count": 13,
   "metadata": {},
   "outputs": [
    {
     "data": {
      "text/plain": [
       "Seq('VKKMQSIVLALSLVLVAPMAKKAPHDHHGGHGPGKHHR*', HasStopCodon(ExtendedIUPACProtein(), '*'))"
      ]
     },
     "execution_count": 13,
     "metadata": {},
     "output_type": "execute_result"
    }
   ],
   "source": [
    "gene = Seq(\"GTGAAAAAGATGCAATCTATCGTACTCGCACTTTCCCTGGTTCTGGTCGCTCCCATGGCA\" + \\\n",
    "           \"AAGAAAGCTCCTCATGATCATCACGGCGGTCATGGTCCAGGCAAACATCACCGCTAA\",\n",
    "           generic_dna)\n",
    "\n",
    "bac_pro = gene.translate(table=\"Bacterial\")\n",
    "bac_pro"
   ]
  },
  {
   "cell_type": "code",
   "execution_count": 14,
   "metadata": {},
   "outputs": [
    {
     "name": "stdout",
     "output_type": "stream",
     "text": [
      "ATATTTCCGTTATACGTCATC\n",
      "CTACTGCATATTGCCTTTATA\n"
     ]
    }
   ],
   "source": [
    "# 상보 서열 생성 1\n",
    "\n",
    "seq = \"TATAAAGGCAATATGCAGTAG\" \n",
    "comp_dic = { 'A':'T', 'C':'G', 'G':'C', 'T':'A' }\n",
    "comp_seq = \"\"\n",
    "\n",
    "for s in seq:\n",
    "    comp_seq += comp_dic[s]\n",
    "    \n",
    "revcomp_seq = comp_seq[::-1]  # 문자열을 뒤집어준다\n",
    "\n",
    "print(comp_seq)     # 상보서열\n",
    "print(revcomp_seq)  # 역상보서열"
   ]
  },
  {
   "cell_type": "code",
   "execution_count": 15,
   "metadata": {},
   "outputs": [
    {
     "name": "stdout",
     "output_type": "stream",
     "text": [
      "ATATTTCCGTTATACGTCATC\n",
      "CTACTGCATATTGCCTTTATA\n"
     ]
    }
   ],
   "source": [
    "# 상보 서열 생성 2\n",
    "seq = Seq(\"TATAAAGGCAATATGCAGTAG\") \n",
    "comp_seq = seq.complement() \n",
    "rev_comp_seq = seq.reverse_complement()\n",
    "\n",
    "print(comp_seq)     # 상보서열\n",
    "print(revcomp_seq)  # 역상보서열"
   ]
  },
  {
   "cell_type": "code",
   "execution_count": 16,
   "metadata": {},
   "outputs": [
    {
     "name": "stdout",
     "output_type": "stream",
     "text": [
      "Table 1 Standard, SGC0\n",
      "\n",
      "  |  T      |  C      |  A      |  G      |\n",
      "--+---------+---------+---------+---------+--\n",
      "T | TTT F   | TCT S   | TAT Y   | TGT C   | T\n",
      "T | TTC F   | TCC S   | TAC Y   | TGC C   | C\n",
      "T | TTA L   | TCA S   | TAA Stop| TGA Stop| A\n",
      "T | TTG L(s)| TCG S   | TAG Stop| TGG W   | G\n",
      "--+---------+---------+---------+---------+--\n",
      "C | CTT L   | CCT P   | CAT H   | CGT R   | T\n",
      "C | CTC L   | CCC P   | CAC H   | CGC R   | C\n",
      "C | CTA L   | CCA P   | CAA Q   | CGA R   | A\n",
      "C | CTG L(s)| CCG P   | CAG Q   | CGG R   | G\n",
      "--+---------+---------+---------+---------+--\n",
      "A | ATT I   | ACT T   | AAT N   | AGT S   | T\n",
      "A | ATC I   | ACC T   | AAC N   | AGC S   | C\n",
      "A | ATA I   | ACA T   | AAA K   | AGA R   | A\n",
      "A | ATG M(s)| ACG T   | AAG K   | AGG R   | G\n",
      "--+---------+---------+---------+---------+--\n",
      "G | GTT V   | GCT A   | GAT D   | GGT G   | T\n",
      "G | GTC V   | GCC A   | GAC D   | GGC G   | C\n",
      "G | GTA V   | GCA A   | GAA E   | GGA G   | A\n",
      "G | GTG V   | GCG A   | GAG E   | GGG G   | G\n",
      "--+---------+---------+---------+---------+--\n"
     ]
    }
   ],
   "source": [
    "# codon table 출력\n",
    "codon_table = CodonTable.unambiguous_dna_by_name[\"Standard\"] \n",
    "print(codon_table) "
   ]
  },
  {
   "cell_type": "code",
   "execution_count": 17,
   "metadata": {},
   "outputs": [
    {
     "name": "stdout",
     "output_type": "stream",
     "text": [
      "Table 2 Vertebrate Mitochondrial, SGC1\n",
      "\n",
      "  |  T      |  C      |  A      |  G      |\n",
      "--+---------+---------+---------+---------+--\n",
      "T | TTT F   | TCT S   | TAT Y   | TGT C   | T\n",
      "T | TTC F   | TCC S   | TAC Y   | TGC C   | C\n",
      "T | TTA L   | TCA S   | TAA Stop| TGA W   | A\n",
      "T | TTG L   | TCG S   | TAG Stop| TGG W   | G\n",
      "--+---------+---------+---------+---------+--\n",
      "C | CTT L   | CCT P   | CAT H   | CGT R   | T\n",
      "C | CTC L   | CCC P   | CAC H   | CGC R   | C\n",
      "C | CTA L   | CCA P   | CAA Q   | CGA R   | A\n",
      "C | CTG L   | CCG P   | CAG Q   | CGG R   | G\n",
      "--+---------+---------+---------+---------+--\n",
      "A | ATT I(s)| ACT T   | AAT N   | AGT S   | T\n",
      "A | ATC I(s)| ACC T   | AAC N   | AGC S   | C\n",
      "A | ATA M(s)| ACA T   | AAA K   | AGA Stop| A\n",
      "A | ATG M(s)| ACG T   | AAG K   | AGG Stop| G\n",
      "--+---------+---------+---------+---------+--\n",
      "G | GTT V   | GCT A   | GAT D   | GGT G   | T\n",
      "G | GTC V   | GCC A   | GAC D   | GGC G   | C\n",
      "G | GTA V   | GCA A   | GAA E   | GGA G   | A\n",
      "G | GTG V(s)| GCG A   | GAG E   | GGG G   | G\n",
      "--+---------+---------+---------+---------+--\n"
     ]
    }
   ],
   "source": [
    "codon_table = CodonTable.unambiguous_dna_by_name[\"Vertebrate Mitochondrial\"] \n",
    "print(codon_table)"
   ]
  },
  {
   "cell_type": "code",
   "execution_count": 18,
   "metadata": {},
   "outputs": [
    {
     "name": "stdout",
     "output_type": "stream",
     "text": [
      "ATGCAGTAG\n"
     ]
    }
   ],
   "source": [
    "# ORF(Open reading frame, 시작코돈 ~ 종결코돈) 찾기\n",
    "\n",
    "tatabox_seq = Seq(\"tataaaggcAATATGCAGTAG\")\n",
    "\n",
    "start_idx = tatabox_seq.find(\"ATG\")   \n",
    "end_idx = tatabox_seq.find(\"TAG\", start_idx)  # 편의상 TAG로 사용\n",
    "\n",
    "orf = tatabox_seq[start_idx:end_idx+3]\n",
    "print(orf)"
   ]
  },
  {
   "cell_type": "markdown",
   "metadata": {},
   "source": [
    "### MutableSeq"
   ]
  },
  {
   "cell_type": "code",
   "execution_count": 19,
   "metadata": {},
   "outputs": [],
   "source": [
    "# Seq 객체는 수정 불가\n",
    "my_seq = Seq(\"GCCATTGTAATGGGCCGCTGAAAGGGTGCCCGA\", IUPAC.unambiguous_dna)"
   ]
  },
  {
   "cell_type": "markdown",
   "metadata": {},
   "source": [
    "```\n",
    "my_seq[5] = \"G\"   # error. 'Seq' object does not support item assignment\n",
    "```"
   ]
  },
  {
   "cell_type": "code",
   "execution_count": 20,
   "metadata": {},
   "outputs": [],
   "source": [
    "from Bio.Seq import MutableSeq"
   ]
  },
  {
   "cell_type": "code",
   "execution_count": 21,
   "metadata": {},
   "outputs": [
    {
     "data": {
      "text/plain": [
       "MutableSeq('GCCACGTAATGGGCCGCTGAAAGGGTGCCCGA', IUPACUnambiguousDNA())"
      ]
     },
     "execution_count": 21,
     "metadata": {},
     "output_type": "execute_result"
    }
   ],
   "source": [
    "mutable_seq = MutableSeq(\"GCCATTGTAATGGGCCGCTGAAAGGGTGCCCGA\", IUPAC.unambiguous_dna)\n",
    "mutable_seq[5] = \"C\"\n",
    "mutable_seq.remove(\"T\")\n",
    "mutable_seq"
   ]
  },
  {
   "cell_type": "code",
   "execution_count": 22,
   "metadata": {},
   "outputs": [
    {
     "data": {
      "text/plain": [
       "Seq('GCCACGTAATGGGCCGCTGAAAGGGTGCCCGA', IUPACUnambiguousDNA())"
      ]
     },
     "execution_count": 22,
     "metadata": {},
     "output_type": "execute_result"
    }
   ],
   "source": [
    "new_seq = mutable_seq.toseq()   # immutable\n",
    "new_seq"
   ]
  },
  {
   "cell_type": "markdown",
   "metadata": {},
   "source": [
    "### Bio.SeqUtils 모듈"
   ]
  },
  {
   "cell_type": "code",
   "execution_count": 23,
   "metadata": {},
   "outputs": [],
   "source": [
    "from Bio.SeqUtils import GC\n",
    "from Bio.SeqUtils import molecular_weight\n",
    "from Bio.SeqUtils import six_frame_translations\n",
    "from Bio.SeqUtils import MeltingTemp as mt"
   ]
  },
  {
   "cell_type": "code",
   "execution_count": 24,
   "metadata": {},
   "outputs": [
    {
     "name": "stdout",
     "output_type": "stream",
     "text": [
      "44.44444444444444\n"
     ]
    }
   ],
   "source": [
    "# GC content (%) 계산\n",
    "\n",
    "exon_seq = Seq(\"ATGCAGTAG\")\n",
    "gc_contents = GC(exon_seq)\n",
    "print(gc_contents)"
   ]
  },
  {
   "cell_type": "code",
   "execution_count": 25,
   "metadata": {},
   "outputs": [
    {
     "name": "stdout",
     "output_type": "stream",
     "text": [
      "2842.8206999999993\n",
      "2842.8206999999993\n",
      "707.7536\n"
     ]
    }
   ],
   "source": [
    "# 분자량(molecular weight)\n",
    "# 서열이 같아도 종류에 따라 분자량은 다르다.\n",
    "\n",
    "seqStr = \"ATGCAGTAG\"\n",
    "\n",
    "seq1 = Seq(seqStr) \n",
    "seq2 = Seq(seqStr, IUPAC.unambiguous_dna) \n",
    "seq3 = Seq(seqStr, IUPAC.protein) \n",
    "\n",
    "print(molecular_weight(seq1))\n",
    "print(molecular_weight(seq2))\n",
    "print(molecular_weight(seq3))"
   ]
  },
  {
   "cell_type": "code",
   "execution_count": 26,
   "metadata": {},
   "outputs": [
    {
     "name": "stdout",
     "output_type": "stream",
     "text": [
      "GC_Frame: a:5 t:3 g:10 c:7 \n",
      "Sequence: agtctgggac ... ggcaatcgca, 25 nt, 68.00 %GC\n",
      "\n",
      "\n",
      "1/1\n",
      "  S  G  T  A  R  Q  S\n",
      " V  W  D  G  A  A  I  A\n",
      "S  L  G  R  R  G  N  R\n",
      "agtctgggacggcgcggcaatcgca   68 %\n",
      "tcagaccctgccgcgccgttagcgt\n",
      "T  Q  S  P  A  A  I  A \n",
      " D  P  V  A  R  C  D  C\n",
      "  R  P  R  R  P  L  R\n",
      "\n",
      "\n"
     ]
    }
   ],
   "source": [
    "# DNA 서열에서 가능한 6가지 번역\n",
    "\n",
    "seq1 = Seq(\"AGTCTGGGACGGCGCGGCAATCGCA\") \n",
    "print(six_frame_translations(seq1))"
   ]
  },
  {
   "cell_type": "code",
   "execution_count": 27,
   "metadata": {},
   "outputs": [
    {
     "name": "stdout",
     "output_type": "stream",
     "text": [
      "84.0\n"
     ]
    }
   ],
   "source": [
    "# DNA 서열의 melting temperature (Tm)\n",
    "# DNA 이중나선이 단일나선으로 분리되는 온도. GC content가 높을수록 높다.\n",
    "\n",
    "myseq = Seq(\"AGTCTGGGACGGCGCGGCAATCGCA\")\n",
    "print(mt.Tm_Wallace(myseq))"
   ]
  },
  {
   "cell_type": "code",
   "execution_count": 28,
   "metadata": {},
   "outputs": [
    {
     "name": "stdout",
     "output_type": "stream",
     "text": [
      "LKMVITWF\n"
     ]
    }
   ],
   "source": [
    "# 아미노산 1문자 - 3문자 변환\n",
    "from Bio.SeqUtils import seq1\n",
    "\n",
    "amino_acid = \"LeuLysMetValIleThrTrpPhe\"\n",
    "\n",
    "amino_acid_1 = seq1(amino_acid)\n",
    "print(amino_acid_1)"
   ]
  },
  {
   "cell_type": "code",
   "execution_count": 29,
   "metadata": {},
   "outputs": [
    {
     "name": "stdout",
     "output_type": "stream",
     "text": [
      "LeuLysMetValIleThrTrpPhe\n"
     ]
    }
   ],
   "source": [
    "from Bio.SeqUtils import seq3\n",
    "\n",
    "amino_acid_3 = seq3(amino_acid_1)\n",
    "print(amino_acid_3)"
   ]
  }
 ],
 "metadata": {
  "kernelspec": {
   "display_name": "Python 3",
   "language": "python",
   "name": "python3"
  },
  "language_info": {
   "codemirror_mode": {
    "name": "ipython",
    "version": 3
   },
   "file_extension": ".py",
   "mimetype": "text/x-python",
   "name": "python",
   "nbconvert_exporter": "python",
   "pygments_lexer": "ipython3",
   "version": "3.7.6"
  }
 },
 "nbformat": 4,
 "nbformat_minor": 4
}
