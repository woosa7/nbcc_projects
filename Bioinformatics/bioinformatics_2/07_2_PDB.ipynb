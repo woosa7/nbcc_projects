{
 "cells": [
  {
   "cell_type": "markdown",
   "metadata": {},
   "source": [
    "# Bio.PDB 모듈"
   ]
  },
  {
   "cell_type": "code",
   "execution_count": 1,
   "metadata": {},
   "outputs": [],
   "source": [
    "from Bio import PDB"
   ]
  },
  {
   "cell_type": "code",
   "execution_count": 2,
   "metadata": {},
   "outputs": [
    {
     "name": "stdout",
     "output_type": "stream",
     "text": [
      "Structure exists: './data\\pdb1tup.ent' \n",
      "Structure exists: './data\\pdb1olg.ent' \n",
      "Structure exists: './data\\pdb1ycq.ent' \n"
     ]
    },
    {
     "data": {
      "text/plain": [
       "'./data\\\\pdb1ycq.ent'"
      ]
     },
     "execution_count": 2,
     "metadata": {},
     "output_type": "execute_result"
    }
   ],
   "source": [
    "# pdb download\n",
    "repository = PDB.PDBList()\n",
    "repository.retrieve_pdb_file('1TUP', pdir='./data', file_format='pdb')\n",
    "repository.retrieve_pdb_file('1OLG', pdir='./data', file_format='pdb')\n",
    "repository.retrieve_pdb_file('1YCQ', pdir='./data', file_format='pdb')"
   ]
  },
  {
   "cell_type": "code",
   "execution_count": 3,
   "metadata": {},
   "outputs": [
    {
     "name": "stderr",
     "output_type": "stream",
     "text": [
      "C:\\Anaconda3\\envs\\nbcc_on_campus\\lib\\site-packages\\Bio\\PDB\\StructureBuilder.py:89: PDBConstructionWarning: WARNING: Chain A is discontinuous at line 6146.\n",
      "  warnings.warn(\n",
      "C:\\Anaconda3\\envs\\nbcc_on_campus\\lib\\site-packages\\Bio\\PDB\\StructureBuilder.py:89: PDBConstructionWarning: WARNING: Chain B is discontinuous at line 6147.\n",
      "  warnings.warn(\n",
      "C:\\Anaconda3\\envs\\nbcc_on_campus\\lib\\site-packages\\Bio\\PDB\\StructureBuilder.py:89: PDBConstructionWarning: WARNING: Chain C is discontinuous at line 6148.\n",
      "  warnings.warn(\n",
      "C:\\Anaconda3\\envs\\nbcc_on_campus\\lib\\site-packages\\Bio\\PDB\\StructureBuilder.py:89: PDBConstructionWarning: WARNING: Chain E is discontinuous at line 6149.\n",
      "  warnings.warn(\n",
      "C:\\Anaconda3\\envs\\nbcc_on_campus\\lib\\site-packages\\Bio\\PDB\\StructureBuilder.py:89: PDBConstructionWarning: WARNING: Chain F is discontinuous at line 6171.\n",
      "  warnings.warn(\n",
      "C:\\Anaconda3\\envs\\nbcc_on_campus\\lib\\site-packages\\Bio\\PDB\\StructureBuilder.py:89: PDBConstructionWarning: WARNING: Chain A is discontinuous at line 6185.\n",
      "  warnings.warn(\n",
      "C:\\Anaconda3\\envs\\nbcc_on_campus\\lib\\site-packages\\Bio\\PDB\\StructureBuilder.py:89: PDBConstructionWarning: WARNING: Chain B is discontinuous at line 6383.\n",
      "  warnings.warn(\n",
      "C:\\Anaconda3\\envs\\nbcc_on_campus\\lib\\site-packages\\Bio\\PDB\\StructureBuilder.py:89: PDBConstructionWarning: WARNING: Chain C is discontinuous at line 6453.\n",
      "  warnings.warn(\n",
      "C:\\Anaconda3\\envs\\nbcc_on_campus\\lib\\site-packages\\Bio\\PDB\\StructureBuilder.py:89: PDBConstructionWarning: WARNING: Chain A is discontinuous at line 1152.\n",
      "  warnings.warn(\n",
      "C:\\Anaconda3\\envs\\nbcc_on_campus\\lib\\site-packages\\Bio\\PDB\\StructureBuilder.py:89: PDBConstructionWarning: WARNING: Chain B is discontinuous at line 1187.\n",
      "  warnings.warn(\n"
     ]
    }
   ],
   "source": [
    "# pdb parsing\n",
    "parser = PDB.PDBParser()\n",
    "p53_1tup = parser.get_structure('P 53 - DNA Binding', './data/pdb1tup.ent')\n",
    "p53_1olg = parser.get_structure('P 53 - Tetramerization', './data/pdb1olg.ent')\n",
    "p53_1ycq = parser.get_structure('P 53 - Transactivation', './data/pdb1ycq.ent')"
   ]
  },
  {
   "cell_type": "code",
   "execution_count": 4,
   "metadata": {
    "scrolled": false
   },
   "outputs": [
    {
     "name": "stdout",
     "output_type": "stream",
     "text": [
      "                name: tumor suppressor p53 complexed with dna\n",
      "                head: antitumor protein/dna\n",
      "              idcode: 1TUP\n",
      "     deposition_date: 1995-07-11\n",
      "        release_date: 1995-07-11\n",
      "    structure_method: x-ray diffraction\n",
      "          resolution: 2.2\n",
      " structure_reference:\n",
      "                   -> n.p.pavletich,k.a.chambers,c.o.pabo the dna-binding domain of p53 contains the four conserved regions and the major mutation hot spots genes dev. v. 7 2556 1993 issn 0890-9369 \n",
      "                   -> b.vogelstein,k.w.kinzler p53 function and dysfunction cell(cambridge,mass.) v. 70 523 1992 issn 0092-8674 \n",
      "   journal_reference: y.cho,s.gorina,p.d.jeffrey,n.p.pavletich crystal structure of a p53 tumor suppressor-dna complex: understanding tumorigenic mutations. science v. 265 346 1994 issn 0036-8075 8023157 \n",
      "              author: Y.Cho,S.Gorina,P.D.Jeffrey,N.P.Pavletich\n",
      "\n",
      "            compound:\n",
      "\n",
      "                       1:\n",
      "                        misc: \n",
      "                    molecule: dna (5'-d(*tp*tp*tp*cp*cp*tp*ap*gp*ap*cp*tp*tp*gp*cp*cp*cp*a p*ap*tp*tp*a)-3') \n",
      "                       chain: e\n",
      "                  engineered: yes\n",
      "\n",
      "\n",
      "                       2:\n",
      "                        misc: \n",
      "                    molecule: dna (5'-d(*ap*tp*ap*ap*tp*tp*gp*gp*gp*cp*ap*ap*gp*tp*cp*tp*a p*gp*gp*ap*a)-3') \n",
      "                       chain: f\n",
      "                  engineered: yes\n",
      "\n",
      "\n",
      "                       3:\n",
      "                        misc: \n",
      "                    molecule: protein (p53 tumor suppressor )\n",
      "                       chain: a, b, c\n",
      "                  engineered: yes\n",
      "\n",
      "\n",
      "\n",
      "              source:\n",
      "\n",
      "                       1:\n",
      "                        misc: \n",
      "                   synthetic: yes\n",
      "\n",
      "\n",
      "                       2:\n",
      "                        misc: \n",
      "                   synthetic: yes\n",
      "\n",
      "\n",
      "                       3:\n",
      "                        misc: \n",
      "         organism_scientific: homo sapiens\n",
      "             organism_common: human\n",
      "              organism_taxid: 9606\n",
      "                   cell_line: a431\n",
      "                        cell: human vulva carcinoma\n",
      "           expression_system: escherichia coli\n",
      "        expression_system_taxid: 562\n",
      "        expression_system_plasmid: pet3d\n",
      "\n",
      "\n",
      "has_missing_residues: True\n",
      "    missing_residues:\n",
      "                   -> {'model': None, 'res_name': 'ARG', 'chain': 'A', 'ssseq': 290, 'insertion': None}\n",
      "                   -> {'model': None, 'res_name': 'LYS', 'chain': 'A', 'ssseq': 291, 'insertion': None}\n",
      "                   -> {'model': None, 'res_name': 'LYS', 'chain': 'A', 'ssseq': 292, 'insertion': None}\n",
      "                   -> {'model': None, 'res_name': 'GLY', 'chain': 'A', 'ssseq': 293, 'insertion': None}\n",
      "                   -> {'model': None, 'res_name': 'GLU', 'chain': 'A', 'ssseq': 294, 'insertion': None}\n",
      "                   -> {'model': None, 'res_name': 'PRO', 'chain': 'A', 'ssseq': 295, 'insertion': None}\n",
      "                   -> {'model': None, 'res_name': 'HIS', 'chain': 'A', 'ssseq': 296, 'insertion': None}\n",
      "                   -> {'model': None, 'res_name': 'HIS', 'chain': 'A', 'ssseq': 297, 'insertion': None}\n",
      "                   -> {'model': None, 'res_name': 'GLU', 'chain': 'A', 'ssseq': 298, 'insertion': None}\n",
      "                   -> {'model': None, 'res_name': 'LEU', 'chain': 'A', 'ssseq': 299, 'insertion': None}\n",
      "                   -> {'model': None, 'res_name': 'PRO', 'chain': 'A', 'ssseq': 300, 'insertion': None}\n",
      "                   -> {'model': None, 'res_name': 'PRO', 'chain': 'A', 'ssseq': 301, 'insertion': None}\n",
      "                   -> {'model': None, 'res_name': 'GLY', 'chain': 'A', 'ssseq': 302, 'insertion': None}\n",
      "                   -> {'model': None, 'res_name': 'SER', 'chain': 'A', 'ssseq': 303, 'insertion': None}\n",
      "                   -> {'model': None, 'res_name': 'THR', 'chain': 'A', 'ssseq': 304, 'insertion': None}\n",
      "                   -> {'model': None, 'res_name': 'LYS', 'chain': 'A', 'ssseq': 305, 'insertion': None}\n",
      "                   -> {'model': None, 'res_name': 'ARG', 'chain': 'A', 'ssseq': 306, 'insertion': None}\n",
      "                   -> {'model': None, 'res_name': 'ALA', 'chain': 'A', 'ssseq': 307, 'insertion': None}\n",
      "                   -> {'model': None, 'res_name': 'LEU', 'chain': 'A', 'ssseq': 308, 'insertion': None}\n",
      "                   -> {'model': None, 'res_name': 'PRO', 'chain': 'A', 'ssseq': 309, 'insertion': None}\n",
      "                   -> {'model': None, 'res_name': 'ASN', 'chain': 'A', 'ssseq': 310, 'insertion': None}\n",
      "                   -> {'model': None, 'res_name': 'ASN', 'chain': 'A', 'ssseq': 311, 'insertion': None}\n",
      "                   -> {'model': None, 'res_name': 'THR', 'chain': 'A', 'ssseq': 312, 'insertion': None}\n",
      "                   -> {'model': None, 'res_name': 'SER', 'chain': 'B', 'ssseq': 94, 'insertion': None}\n",
      "                   -> {'model': None, 'res_name': 'SER', 'chain': 'B', 'ssseq': 95, 'insertion': None}\n",
      "                   -> {'model': None, 'res_name': 'ARG', 'chain': 'B', 'ssseq': 290, 'insertion': None}\n",
      "                   -> {'model': None, 'res_name': 'LYS', 'chain': 'B', 'ssseq': 291, 'insertion': None}\n",
      "                   -> {'model': None, 'res_name': 'LYS', 'chain': 'B', 'ssseq': 292, 'insertion': None}\n",
      "                   -> {'model': None, 'res_name': 'GLY', 'chain': 'B', 'ssseq': 293, 'insertion': None}\n",
      "                   -> {'model': None, 'res_name': 'GLU', 'chain': 'B', 'ssseq': 294, 'insertion': None}\n",
      "                   -> {'model': None, 'res_name': 'PRO', 'chain': 'B', 'ssseq': 295, 'insertion': None}\n",
      "                   -> {'model': None, 'res_name': 'HIS', 'chain': 'B', 'ssseq': 296, 'insertion': None}\n",
      "                   -> {'model': None, 'res_name': 'HIS', 'chain': 'B', 'ssseq': 297, 'insertion': None}\n",
      "                   -> {'model': None, 'res_name': 'GLU', 'chain': 'B', 'ssseq': 298, 'insertion': None}\n",
      "                   -> {'model': None, 'res_name': 'LEU', 'chain': 'B', 'ssseq': 299, 'insertion': None}\n",
      "                   -> {'model': None, 'res_name': 'PRO', 'chain': 'B', 'ssseq': 300, 'insertion': None}\n",
      "                   -> {'model': None, 'res_name': 'PRO', 'chain': 'B', 'ssseq': 301, 'insertion': None}\n",
      "                   -> {'model': None, 'res_name': 'GLY', 'chain': 'B', 'ssseq': 302, 'insertion': None}\n",
      "                   -> {'model': None, 'res_name': 'SER', 'chain': 'B', 'ssseq': 303, 'insertion': None}\n",
      "                   -> {'model': None, 'res_name': 'THR', 'chain': 'B', 'ssseq': 304, 'insertion': None}\n",
      "                   -> {'model': None, 'res_name': 'LYS', 'chain': 'B', 'ssseq': 305, 'insertion': None}\n",
      "                   -> {'model': None, 'res_name': 'ARG', 'chain': 'B', 'ssseq': 306, 'insertion': None}\n",
      "                   -> {'model': None, 'res_name': 'ALA', 'chain': 'B', 'ssseq': 307, 'insertion': None}\n",
      "                   -> {'model': None, 'res_name': 'LEU', 'chain': 'B', 'ssseq': 308, 'insertion': None}\n",
      "                   -> {'model': None, 'res_name': 'PRO', 'chain': 'B', 'ssseq': 309, 'insertion': None}\n",
      "                   -> {'model': None, 'res_name': 'ASN', 'chain': 'B', 'ssseq': 310, 'insertion': None}\n",
      "                   -> {'model': None, 'res_name': 'ASN', 'chain': 'B', 'ssseq': 311, 'insertion': None}\n",
      "                   -> {'model': None, 'res_name': 'THR', 'chain': 'B', 'ssseq': 312, 'insertion': None}\n",
      "                   -> {'model': None, 'res_name': 'SER', 'chain': 'C', 'ssseq': 94, 'insertion': None}\n",
      "                   -> {'model': None, 'res_name': 'ARG', 'chain': 'C', 'ssseq': 290, 'insertion': None}\n",
      "                   -> {'model': None, 'res_name': 'LYS', 'chain': 'C', 'ssseq': 291, 'insertion': None}\n",
      "                   -> {'model': None, 'res_name': 'LYS', 'chain': 'C', 'ssseq': 292, 'insertion': None}\n",
      "                   -> {'model': None, 'res_name': 'GLY', 'chain': 'C', 'ssseq': 293, 'insertion': None}\n",
      "                   -> {'model': None, 'res_name': 'GLU', 'chain': 'C', 'ssseq': 294, 'insertion': None}\n",
      "                   -> {'model': None, 'res_name': 'PRO', 'chain': 'C', 'ssseq': 295, 'insertion': None}\n",
      "                   -> {'model': None, 'res_name': 'HIS', 'chain': 'C', 'ssseq': 296, 'insertion': None}\n",
      "                   -> {'model': None, 'res_name': 'HIS', 'chain': 'C', 'ssseq': 297, 'insertion': None}\n",
      "                   -> {'model': None, 'res_name': 'GLU', 'chain': 'C', 'ssseq': 298, 'insertion': None}\n",
      "                   -> {'model': None, 'res_name': 'LEU', 'chain': 'C', 'ssseq': 299, 'insertion': None}\n",
      "                   -> {'model': None, 'res_name': 'PRO', 'chain': 'C', 'ssseq': 300, 'insertion': None}\n",
      "                   -> {'model': None, 'res_name': 'PRO', 'chain': 'C', 'ssseq': 301, 'insertion': None}\n",
      "                   -> {'model': None, 'res_name': 'GLY', 'chain': 'C', 'ssseq': 302, 'insertion': None}\n",
      "                   -> {'model': None, 'res_name': 'SER', 'chain': 'C', 'ssseq': 303, 'insertion': None}\n",
      "                   -> {'model': None, 'res_name': 'THR', 'chain': 'C', 'ssseq': 304, 'insertion': None}\n",
      "                   -> {'model': None, 'res_name': 'LYS', 'chain': 'C', 'ssseq': 305, 'insertion': None}\n",
      "                   -> {'model': None, 'res_name': 'ARG', 'chain': 'C', 'ssseq': 306, 'insertion': None}\n",
      "                   -> {'model': None, 'res_name': 'ALA', 'chain': 'C', 'ssseq': 307, 'insertion': None}\n",
      "                   -> {'model': None, 'res_name': 'LEU', 'chain': 'C', 'ssseq': 308, 'insertion': None}\n",
      "                   -> {'model': None, 'res_name': 'PRO', 'chain': 'C', 'ssseq': 309, 'insertion': None}\n",
      "                   -> {'model': None, 'res_name': 'ASN', 'chain': 'C', 'ssseq': 310, 'insertion': None}\n",
      "                   -> {'model': None, 'res_name': 'ASN', 'chain': 'C', 'ssseq': 311, 'insertion': None}\n",
      "                   -> {'model': None, 'res_name': 'THR', 'chain': 'C', 'ssseq': 312, 'insertion': None}\n",
      "            keywords: antigen p53, antitumor protein/dna complex\n",
      "             journal: AUTH   Y.CHO,S.GORINA,P.D.JEFFREY,N.P.PAVLETICHTITL   CRYSTAL STRUCTURE OF A P53 TUMOR SUPPRESSOR-DNATITL 2 COMPLEX: UNDERSTANDING TUMORIGENIC MUTATIONS.REF    SCIENCE                       V. 265   346 1994REFN                   ISSN 0036-8075PMID   8023157\n"
     ]
    }
   ],
   "source": [
    "# header 정보 확인\n",
    "def print_pdb_headers(headers, indent=0):\n",
    "    ind_text = ' ' * indent\n",
    "    for header, content in headers.items():\n",
    "        if type(content) == dict:\n",
    "            print('\\n%s%20s:' % (ind_text, header))\n",
    "            print_pdb_headers(content, indent + 4)\n",
    "            print()\n",
    "        elif type(content) == list:\n",
    "            print('%s%20s:' % (ind_text, header))\n",
    "            for elem in content:\n",
    "                print('%s%21s %s' % (ind_text, '->', elem))\n",
    "        else:\n",
    "            print('%s%20s: %s' % (ind_text, header, content))\n",
    "\n",
    "print_pdb_headers(p53_1tup.header)"
   ]
  },
  {
   "cell_type": "code",
   "execution_count": 5,
   "metadata": {},
   "outputs": [
    {
     "name": "stdout",
     "output_type": "stream",
     "text": [
      "{'1': {'misc': '', 'molecule': \"dna (5'-d(*tp*tp*tp*cp*cp*tp*ap*gp*ap*cp*tp*tp*gp*cp*cp*cp*a p*ap*tp*tp*a)-3') \", 'chain': 'e', 'engineered': 'yes'}, '2': {'misc': '', 'molecule': \"dna (5'-d(*ap*tp*ap*ap*tp*tp*gp*gp*gp*cp*ap*ap*gp*tp*cp*tp*a p*gp*gp*ap*a)-3') \", 'chain': 'f', 'engineered': 'yes'}, '3': {'misc': '', 'molecule': 'protein (p53 tumor suppressor )', 'chain': 'a, b, c', 'engineered': 'yes'}}\n",
      "{'1': {'misc': '', 'molecule': 'tumor suppressor p53 (oligomerization domain)', 'chain': 'a, b, c, d', 'engineered': 'yes'}}\n",
      "{'1': {'misc': '', 'molecule': 'mdm2', 'chain': 'a', 'synonym': 'mdm2', 'engineered': 'yes'}, '2': {'misc': '', 'molecule': 'p53', 'chain': 'b', 'fragment': 'residues 13 - 29', 'engineered': 'yes'}}\n"
     ]
    }
   ],
   "source": [
    "# chain 정보 확인\n",
    "print(p53_1tup.header['compound'])  # ABC : protein, EF : DNA\n",
    "print(p53_1olg.header['compound'])\n",
    "print(p53_1ycq.header['compound'])"
   ]
  },
  {
   "cell_type": "code",
   "execution_count": 6,
   "metadata": {},
   "outputs": [
    {
     "name": "stdout",
     "output_type": "stream",
     "text": [
      "\n",
      "1TUP - Chain: E. residues: 43. atoms: 442.\n",
      "1TUP - Chain: F. residues: 35. atoms: 449.\n",
      "1TUP - Chain: A. residues: 395. atoms: 1734.\n",
      "1TUP - Chain: B. residues: 265. atoms: 1593.\n",
      "1TUP - Chain: C. residues: 276. atoms: 1610.\n",
      "\n",
      "1OLG - Chain: A. residues: 42. atoms: 698.\n",
      "1OLG - Chain: B. residues: 42. atoms: 698.\n",
      "1OLG - Chain: C. residues: 42. atoms: 698.\n",
      "1OLG - Chain: D. residues: 42. atoms: 698.\n",
      "\n",
      "1YCQ - Chain: A. residues: 123. atoms: 741.\n",
      "1YCQ - Chain: B. residues: 16. atoms: 100.\n"
     ]
    }
   ],
   "source": [
    "# 각 체인별 residue 수, atom 수 확인\n",
    "def describe_model(name, pdb):\n",
    "    print()\n",
    "    for model in pdb:\n",
    "        for chain in model:\n",
    "            print('%s - Chain: %s. residues: %d. atoms: %d.' %\n",
    "                  (name, chain.id, len(chain), len(list(chain.get_atoms()))))\n",
    "            \n",
    "describe_model('1TUP', p53_1tup)\n",
    "describe_model('1OLG', p53_1olg)\n",
    "describe_model('1YCQ', p53_1ycq)"
   ]
  },
  {
   "cell_type": "code",
   "execution_count": 7,
   "metadata": {},
   "outputs": [
    {
     "name": "stdout",
     "output_type": "stream",
     "text": [
      "('H_ ZN', 951, ' ')\n",
      "('H_ ZN', 952, ' ')\n",
      "('H_ ZN', 953, ' ')\n"
     ]
    }
   ],
   "source": [
    "# HETATM 중 물 분자 이외의 분자 출력\n",
    "for residue in p53_1tup.get_residues():\n",
    "    if residue.id[0] in [' ', 'W']:\n",
    "        continue\n",
    "    print(residue.id)"
   ]
  },
  {
   "cell_type": "code",
   "execution_count": 8,
   "metadata": {},
   "outputs": [
    {
     "name": "stdout",
     "output_type": "stream",
     "text": [
      "<Residue SER het=  resseq=94 icode= >\n",
      "<Atom N> 858 N\n",
      "<Atom CA> 859 C\n",
      "<Atom C> 860 C\n",
      "<Atom O> 861 O\n",
      "<Atom CB> 862 C\n",
      "<Atom OG> 863 O\n",
      "<Atom CA>\n"
     ]
    }
   ],
   "source": [
    "# chain A의 첫번째 아미노산과 원자\n",
    "res = next(p53_1tup[0]['A'].get_residues())\n",
    "print(res)\n",
    "\n",
    "for atom in res:\n",
    "    print(atom, atom.serial_number, atom.element)\n",
    "    \n",
    "print(p53_1tup[0]['A'][94]['CA'])"
   ]
  },
  {
   "cell_type": "code",
   "execution_count": 9,
   "metadata": {},
   "outputs": [
    {
     "name": "stdout",
     "output_type": "stream",
     "text": [
      "1TUP:B SSSVPSQKTYQGSYGFRLGFLHSGTAKSVTCTYSPALNKMFCQLAKTCPVQLWVDSTPPPGTRVRAMAIYKQSQHMTEVVRRCPHHERCSDSDGLAPPQHLIRVEGNLRVEYLDDRNTFRHSVVVPYEPPEVGSDCTTIHYNYMCNSSCMGGMNRRPILTIITLEDSSGNLLGRNSFEVRVCACPGRDRRTEEENLRKKGEPHHELPPGSTKRALPNNT 219\n",
      "1OLG:B KKKPLDGEYFTLQIRGRERFEMFRELNEALELKDAQAGKEPG 42\n",
      "1YCQ:B PLSQETFSDLWKLLPEN 17\n"
     ]
    }
   ],
   "source": [
    "# 특정 체인을 fasta 파일로 저장\n",
    "\n",
    "from Bio.SeqIO import PdbIO, FastaIO\n",
    "\n",
    "def get_fasta(pdb_file, fasta_file, transfer_ids=None):\n",
    "    fasta_writer = FastaIO.FastaWriter(fasta_file)\n",
    "    fasta_writer.write_header()\n",
    "    for rec in PdbIO.PdbSeqresIterator(pdb_file):\n",
    "        if len(rec.seq) == 0:\n",
    "            continue\n",
    "        if transfer_ids is not None and rec.id not in transfer_ids:\n",
    "            continue\n",
    "        print(rec.id, rec.seq, len(rec.seq))\n",
    "        fasta_writer.write_record(rec)\n",
    "        \n",
    "get_fasta(open('./data/pdb1tup.ent'), open('./data/1tup.fasta', 'w'), transfer_ids=['1TUP:B'])\n",
    "get_fasta(open('./data/pdb1olg.ent'), open('./data/1olg.fasta', 'w'), transfer_ids=['1OLG:B'])\n",
    "get_fasta(open('./data/pdb1ycq.ent'), open('./data/1ycq.fasta', 'w'), transfer_ids=['1YCQ:B'])"
   ]
  }
 ],
 "metadata": {
  "kernelspec": {
   "display_name": "Python 3",
   "language": "python",
   "name": "python3"
  },
  "language_info": {
   "codemirror_mode": {
    "name": "ipython",
    "version": 3
   },
   "file_extension": ".py",
   "mimetype": "text/x-python",
   "name": "python",
   "nbconvert_exporter": "python",
   "pygments_lexer": "ipython3",
   "version": "3.8.6"
  }
 },
 "nbformat": 4,
 "nbformat_minor": 1
}
