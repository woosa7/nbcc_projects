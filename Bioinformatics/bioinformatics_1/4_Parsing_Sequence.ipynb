{
 "cells": [
  {
   "cell_type": "markdown",
   "metadata": {},
   "source": [
    "# Biopython : Parsing Sequence"
   ]
  },
  {
   "cell_type": "code",
   "execution_count": 1,
   "metadata": {},
   "outputs": [],
   "source": [
    "from Bio import SeqIO"
   ]
  },
  {
   "cell_type": "markdown",
   "metadata": {},
   "source": [
    "### FASTA 파일 읽기\n",
    "\n",
    "* sample_1.fasta - 레코드 1개\n",
    "* sample_2.fasta - 레코드 2개\n",
    "\n",
    "여러 개의 레코드가 담긴 파일을 SeqIO.read()로 읽으면 각 레코드별로 객체가 만들어지지 않는다."
   ]
  },
  {
   "cell_type": "code",
   "execution_count": 2,
   "metadata": {},
   "outputs": [
    {
     "name": "stdout",
     "output_type": "stream",
     "text": [
      "<class 'Bio.SeqIO.FastaIO.FastaIterator'>\n",
      "<class 'Bio.SeqRecord.SeqRecord'>\n",
      "ID: AF501235.1\n",
      "Name: AF501235.1\n",
      "Description: AF501235.1 Influenzavirus A (A/duck/Shanghai/1/2000) hemagglutinin gene, complete cds\n",
      "Number of features: 0\n",
      "Seq('ATGGAGAAAATAGTGCTTCTTCTTGCAATAGTCAGTCTTGTTAAAAGTGATCAG...AGA', SingleLetterAlphabet())\n",
      "length : 140 \n",
      "\n"
     ]
    }
   ],
   "source": [
    "seq = SeqIO.parse(\"data/sample_1.fasta\", \"fasta\") \n",
    "print(type(seq))\n",
    "\n",
    "for s in seq:\n",
    "    print(type(s))\n",
    "    print(s)\n",
    "    print('length :', len(s), '\\n')"
   ]
  },
  {
   "cell_type": "code",
   "execution_count": 3,
   "metadata": {},
   "outputs": [
    {
     "name": "stdout",
     "output_type": "stream",
     "text": [
      "<class 'Bio.SeqIO.FastaIO.FastaIterator'>\n",
      "records : 2\n"
     ]
    }
   ],
   "source": [
    "seq2 = SeqIO.parse(\"data/sample_2.fasta\", \"fasta\") \n",
    "print(type(seq2))\n",
    "\n",
    "list_seq = list(seq2)\n",
    "print('records :', len(list_seq))"
   ]
  },
  {
   "cell_type": "code",
   "execution_count": 4,
   "metadata": {},
   "outputs": [
    {
     "name": "stdout",
     "output_type": "stream",
     "text": [
      "<class 'Bio.SeqRecord.SeqRecord'>\n",
      "ID: MH464856.1\n",
      "Name: MH464856.1\n",
      "Description: MH464856.1 Hepatitis B virus isolate MA134, complete genome\n",
      "Number of features: 0\n",
      "Seq('TTCCACAACATTCCACCAAGCTCTGCAGGATCCCAGAGTAAGAGGCCTGTATTT...GGG', SingleLetterAlphabet())\n",
      "length : 140 \n",
      "\n",
      "<class 'Bio.SeqRecord.SeqRecord'>\n",
      "ID: CP002925.1\n",
      "Name: CP002925.1\n",
      "Description: CP002925.1 Streptococcus pseudopneumoniae IS7493, complete genome\n",
      "Number of features: 0\n",
      "Seq('TTGAAAGAAAAACAATTTTGGAATCGTATATTAGAATTTGCTCAAGAAAGACTG...ATC', SingleLetterAlphabet())\n",
      "length : 140 \n",
      "\n"
     ]
    }
   ],
   "source": [
    "for s in list_seq:\n",
    "    print(type(s))\n",
    "    print(s)\n",
    "    print('length :', len(s), '\\n')"
   ]
  },
  {
   "cell_type": "markdown",
   "metadata": {},
   "source": [
    "### FASTAQ 파일 읽기\n",
    "\n",
    "FASTAQ는 SeqIO.read()로 읽으면 에러 발생."
   ]
  },
  {
   "cell_type": "code",
   "execution_count": 5,
   "metadata": {},
   "outputs": [
    {
     "name": "stdout",
     "output_type": "stream",
     "text": [
      "<class 'Bio.SeqIO.QualityIO.FastqPhredIterator'>\n",
      "<class 'Bio.SeqRecord.SeqRecord'>\n",
      "ID: SRR000982.5E745RJU01DDHJ6length=113\n",
      "Name: SRR000982.5E745RJU01DDHJ6length=113\n",
      "Description: SRR000982.5E745RJU01DDHJ6length=113\n",
      "Number of features: 0\n",
      "Per letter annotation for: phred_quality\n",
      "Seq('AAGGCACCATGCAGAGATGCAAGGCCCCTTTCTAAGCCCTAGACTTCTGGATGA...CAG', SingleLetterAlphabet())\n",
      "* sequence : AAGGCACCATGCAGAGATGCAAGGCCCCTTTCTAAGCCCTAGACTTCTGGATGACACTTCTAGAAACACCCTGGGCCAGAAGTGAACCTGCTGCCTTGAAGGGAATAACTCAG\n",
      "* length   : 113 \n",
      "\n",
      "<class 'Bio.SeqRecord.SeqRecord'>\n",
      "ID: SRR000982.35E745RJU01DLQBClength=53\n",
      "Name: SRR000982.35E745RJU01DLQBClength=53\n",
      "Description: SRR000982.35E745RJU01DLQBClength=53\n",
      "Number of features: 0\n",
      "Per letter annotation for: phred_quality\n",
      "Seq('ATCTCTACCCAAAGATTAATGGGGATTGGTGTGATATACGGCTGAATTGTACC', SingleLetterAlphabet())\n",
      "* sequence : ATCTCTACCCAAAGATTAATGGGGATTGGTGTGATATACGGCTGAATTGTACC\n",
      "* length   : 53 \n",
      "\n"
     ]
    }
   ],
   "source": [
    "seq = SeqIO.parse(\"data/sample_1.fastq\", \"fastq\") \n",
    "print(type(seq))\n",
    "\n",
    "for s in seq:\n",
    "    print(type(s))\n",
    "    print(s)\n",
    "    \n",
    "    print('* sequence :', s.seq)  # 서열만 추출 가능\n",
    "    print('* length   :', len(s), '\\n')"
   ]
  },
  {
   "cell_type": "code",
   "execution_count": 6,
   "metadata": {},
   "outputs": [],
   "source": [
    "# gzip으로 압축된 FASTAQ 파일 읽기\n",
    "import gzip\n",
    "\n",
    "gzip_file = \"data/sample_1.fastq.gz\""
   ]
  },
  {
   "cell_type": "code",
   "execution_count": 7,
   "metadata": {},
   "outputs": [
    {
     "name": "stdout",
     "output_type": "stream",
     "text": [
      "AAGGCACCATGCAGAGATGCAAGGCCCCTTTCTAAGCCCTAGACTTCTGGATGACACTTCTAGAAACACCCTGGGCCAGAAGTGAACCTGCTGCCTTGAAGGGAATAACTCAG\n",
      "ATCTCTACCCAAAGATTAATGGGGATTGGTGTGATATACGGCTGAATTGTACC\n"
     ]
    }
   ],
   "source": [
    "# 1.\n",
    "handle = gzip.open(gzip_file,\"rt\") \n",
    "seq = SeqIO.parse(handle, \"fastq\") \n",
    "for s in seq: \n",
    "    print(s.seq)"
   ]
  },
  {
   "cell_type": "code",
   "execution_count": 8,
   "metadata": {},
   "outputs": [
    {
     "name": "stdout",
     "output_type": "stream",
     "text": [
      "AAGGCACCATGCAGAGATGCAAGGCCCCTTTCTAAGCCCTAGACTTCTGGATGACACTTCTAGAAACACCCTGGGCCAGAAGTGAACCTGCTGCCTTGAAGGGAATAACTCAG\n",
      "ATCTCTACCCAAAGATTAATGGGGATTGGTGTGATATACGGCTGAATTGTACC\n"
     ]
    }
   ],
   "source": [
    "# 2.\n",
    "with gzip.open(gzip_file,\"rt\") as handle: \n",
    "    seq = SeqIO.parse(handle, \"fastq\")\n",
    "    for s in seq: \n",
    "        print(s.seq)"
   ]
  },
  {
   "cell_type": "markdown",
   "metadata": {},
   "source": [
    "### GenBank 파일 읽기"
   ]
  },
  {
   "cell_type": "code",
   "execution_count": 9,
   "metadata": {},
   "outputs": [
    {
     "name": "stdout",
     "output_type": "stream",
     "text": [
      "<class 'Bio.SeqRecord.SeqRecord'>\n",
      "ID: KT225476.2\n",
      "Name: KT225476\n",
      "Description: Middle East respiratory syndrome coronavirus isolate MERS-CoV/THA/CU/17_06_2015, complete genome\n",
      "Number of features: 12\n",
      "/molecule_type=RNA\n",
      "/topology=linear\n",
      "/data_file_division=VRL\n",
      "/date=22-AUG-2017\n",
      "/accessions=['KT225476']\n",
      "/sequence_version=2\n",
      "/keywords=['']\n",
      "/source=Middle East respiratory syndrome-related coronavirus (MERS-CoV)\n",
      "/organism=Middle East respiratory syndrome-related coronavirus\n",
      "/taxonomy=['Viruses', 'ssRNA viruses', 'ssRNA positive-strand viruses, no DNA stage', 'Nidovirales', 'Coronaviridae', 'Coronavirinae', 'Betacoronavirus']\n",
      "/references=[Reference(title='Imported case of Middle East respiratory syndrome coronavirus (MERS-CoV) infection from Oman to Thailand, June 2015', ...), Reference(title='Direct Submission', ...), Reference(title='Direct Submission', ...)]\n",
      "/comment=On Sep 10, 2015 this sequence version replaced KT225476.1.\n",
      "/structured_comment=OrderedDict([('Assembly-Data', OrderedDict([('Sequencing Technology', 'Sanger dideoxy sequencing')]))])\n",
      "Seq('AGTGAATAGCTTGGCTATCTCACTTCCCCTCGTTCTCTTGCAGAACTTTGATTT...CTC', IUPACAmbiguousDNA())\n"
     ]
    }
   ],
   "source": [
    "MERS_file = \"data/KT225476.2.gbk\"\n",
    "\n",
    "gbk = SeqIO.read(MERS_file,\"genbank\")   # 1개의 레코드만 있어서 read 사용\n",
    "print(type(gbk))\n",
    "print(gbk)"
   ]
  },
  {
   "cell_type": "code",
   "execution_count": 10,
   "metadata": {},
   "outputs": [
    {
     "name": "stdout",
     "output_type": "stream",
     "text": [
      "KT225476.2\n",
      "Middle East respiratory syndrome coronavirus isolate MERS-CoV/THA/CU/17_06_2015, complete genome\n",
      "RNA\n",
      "Middle East respiratory syndrome-related coronavirus\n"
     ]
    }
   ],
   "source": [
    "print(gbk.id) \n",
    "print(gbk.description) \n",
    "print(gbk.annotations['molecule_type']) \n",
    "print(gbk.annotations['organism']) "
   ]
  },
  {
   "cell_type": "code",
   "execution_count": 11,
   "metadata": {},
   "outputs": [
    {
     "name": "stdout",
     "output_type": "stream",
     "text": [
      "[SeqFeature(FeatureLocation(ExactPosition(0), ExactPosition(29809), strand=1), type='source'), SeqFeature(CompoundLocation([FeatureLocation(ExactPosition(272), ExactPosition(13427), strand=1), FeatureLocation(ExactPosition(13426), ExactPosition(21508), strand=1)], 'join'), type='CDS', location_operator='join'), SeqFeature(FeatureLocation(ExactPosition(272), ExactPosition(13448), strand=1), type='CDS'), SeqFeature(FeatureLocation(ExactPosition(21449), ExactPosition(25511), strand=1), type='CDS'), SeqFeature(FeatureLocation(ExactPosition(25525), ExactPosition(25837), strand=1), type='CDS'), SeqFeature(FeatureLocation(ExactPosition(25845), ExactPosition(26175), strand=1), type='CDS'), SeqFeature(FeatureLocation(ExactPosition(26086), ExactPosition(26827), strand=1), type='CDS'), SeqFeature(FeatureLocation(ExactPosition(26833), ExactPosition(27508), strand=1), type='CDS'), SeqFeature(FeatureLocation(ExactPosition(27583), ExactPosition(27832), strand=1), type='CDS'), SeqFeature(FeatureLocation(ExactPosition(27846), ExactPosition(28506), strand=1), type='CDS'), SeqFeature(FeatureLocation(ExactPosition(28559), ExactPosition(29801), strand=1), type='CDS'), SeqFeature(FeatureLocation(ExactPosition(28755), ExactPosition(29094), strand=1), type='CDS')]\n"
     ]
    }
   ],
   "source": [
    "print(gbk.features) "
   ]
  },
  {
   "cell_type": "markdown",
   "metadata": {},
   "source": [
    "### Entrez 모듈 : NCBI 파일 읽기"
   ]
  },
  {
   "cell_type": "code",
   "execution_count": 12,
   "metadata": {},
   "outputs": [],
   "source": [
    "from Bio import Entrez"
   ]
  },
  {
   "cell_type": "markdown",
   "metadata": {},
   "source": [
    "```\n",
    "CCR5 : 면역세포(T세포) 표면에서 발현하는 단백질. HIV의 수용체.\n",
    "       CCR5 유전자에 변이가 있는 경우 HIV에 감염되지 않음.\n",
    "```"
   ]
  },
  {
   "cell_type": "code",
   "execution_count": 13,
   "metadata": {},
   "outputs": [
    {
     "name": "stdout",
     "output_type": "stream",
     "text": [
      "ID: AY463215.1\n",
      "Name: AY463215.1\n",
      "Description: AY463215.1 Homo sapiens CCR5 chemokine receptor (CCR5) gene, complete cds\n",
      "Number of features: 0\n",
      "Seq('ATGGATTATCAAGTGTCAAGTCCAATCTATGACATCAATTATTATACATCGGAG...TGA', SingleLetterAlphabet())\n",
      "1059\n"
     ]
    }
   ],
   "source": [
    "Entrez.email = \"woosa7@naver.com\" \n",
    "\n",
    "with Entrez.efetch(db=\"nucleotide\",   # database name\n",
    "                   id=\"AY463215\",     # CCR5 gene (HIV 저항성)\n",
    "                   rettype=\"fasta\",   # file type\n",
    "                   retmode=\"text\") as handle:\n",
    "\n",
    "    seq = SeqIO.read(handle, \"fasta\")\n",
    "    \n",
    "print(seq) \n",
    "print(len(seq)) "
   ]
  },
  {
   "cell_type": "code",
   "execution_count": 14,
   "metadata": {},
   "outputs": [
    {
     "name": "stdout",
     "output_type": "stream",
     "text": [
      "ID: U66285.1\n",
      "Name: U66285.1\n",
      "Description: U66285.1 Human CC chemokine receptor CCR5 gene, mutant allele, complete cds\n",
      "Number of features: 0\n",
      "Seq('ATGGATTATCAAGTGTCAAGTCCAATCTATGACATCAATTATTATACATCGGAG...TGA', SingleLetterAlphabet())\n",
      "1027\n"
     ]
    }
   ],
   "source": [
    "with Entrez.efetch(db=\"nucleotide\", \n",
    "                   id=\"1575550\",     # 변이가 있는 CCR5\n",
    "                   rettype=\"fasta\", \n",
    "                   retmode=\"text\") as handle:\n",
    "    \n",
    "    seq = SeqIO.read(handle, \"fasta\") \n",
    "     \n",
    "print(seq)\n",
    "print(len(seq))"
   ]
  }
 ],
 "metadata": {
  "kernelspec": {
   "display_name": "Python 3",
   "language": "python",
   "name": "python3"
  },
  "language_info": {
   "codemirror_mode": {
    "name": "ipython",
    "version": 3
   },
   "file_extension": ".py",
   "mimetype": "text/x-python",
   "name": "python",
   "nbconvert_exporter": "python",
   "pygments_lexer": "ipython3",
   "version": "3.7.6"
  }
 },
 "nbformat": 4,
 "nbformat_minor": 4
}
