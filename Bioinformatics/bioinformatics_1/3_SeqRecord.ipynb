{
 "cells": [
  {
   "cell_type": "markdown",
   "metadata": {},
   "source": [
    "# Biopython : Sequence Record"
   ]
  },
  {
   "cell_type": "markdown",
   "metadata": {},
   "source": [
    "* SeqRecord : 서열 외에 다른 정보들도 관리할 수 있는 객체"
   ]
  },
  {
   "cell_type": "code",
   "execution_count": 1,
   "metadata": {},
   "outputs": [],
   "source": [
    "from Bio.Seq import Seq \n",
    "from Bio.SeqRecord import SeqRecord"
   ]
  },
  {
   "cell_type": "code",
   "execution_count": 2,
   "metadata": {},
   "outputs": [
    {
     "data": {
      "text/plain": [
       "SeqRecord(seq=Seq('TATAAAGGCAATATGCAGTAG'), id='<unknown id>', name='<unknown name>', description='<unknown description>', dbxrefs=[])"
      ]
     },
     "execution_count": 2,
     "metadata": {},
     "output_type": "execute_result"
    }
   ],
   "source": [
    "seq = Seq(\"TATAAAGGCAATATGCAGTAG\")\n",
    "seqRec = SeqRecord(seq)\n",
    "seqRec"
   ]
  },
  {
   "cell_type": "code",
   "execution_count": 3,
   "metadata": {},
   "outputs": [
    {
     "data": {
      "text/plain": [
       "SeqRecord(seq=Seq('TATAAAGGCAATATGCAGTAG'), id='NBCC01', name='Test01', description='<unknown description>', dbxrefs=[])"
      ]
     },
     "execution_count": 3,
     "metadata": {},
     "output_type": "execute_result"
    }
   ],
   "source": [
    "seqRec = SeqRecord(seq, id='NBCC01', name='Test01')\n",
    "seqRec"
   ]
  },
  {
   "cell_type": "code",
   "execution_count": 4,
   "metadata": {},
   "outputs": [
    {
     "data": {
      "text/plain": [
       "SeqRecord(seq=Seq('TATAAAGGCAATATGCAGTAG'), id='NBCC01', name='DNA001', description='<unknown description>', dbxrefs=[])"
      ]
     },
     "execution_count": 4,
     "metadata": {},
     "output_type": "execute_result"
    }
   ],
   "source": [
    "# SeqRecord 객체의 속성 변경\n",
    "seqRec.name = 'DNA001'\n",
    "seqRec"
   ]
  },
  {
   "cell_type": "code",
   "execution_count": 5,
   "metadata": {},
   "outputs": [
    {
     "name": "stdout",
     "output_type": "stream",
     "text": [
      "ID: NC_1111\n",
      "Name: GeneA\n",
      "Description: This is a description.\n",
      "Number of features: 0\n",
      "/Annotation_Key1=Annotation_Value1\n",
      "/Annotation_Key2=Annotation_Value2\n",
      "Seq('TATAAAGGCAATATGCAGTAG')\n"
     ]
    }
   ],
   "source": [
    "seqRec.id = \"NC_1111\" \n",
    "seqRec.name = \"GeneA\" \n",
    "seqRec.description = \"This is a description.\" \n",
    "seqRec.annotations[\"Annotation_Key1\"] = \"Annotation_Value1\" \n",
    "seqRec.annotations[\"Annotation_Key2\"] = \"Annotation_Value2\" \n",
    "print(seqRec)"
   ]
  },
  {
   "cell_type": "markdown",
   "metadata": {},
   "source": [
    "### file 읽어서 SeqRecord 만들기"
   ]
  },
  {
   "cell_type": "code",
   "execution_count": 6,
   "metadata": {},
   "outputs": [],
   "source": [
    "from Bio import SeqIO "
   ]
  },
  {
   "cell_type": "code",
   "execution_count": 7,
   "metadata": {},
   "outputs": [
    {
     "name": "stdout",
     "output_type": "stream",
     "text": [
      "<class 'Bio.SeqRecord.SeqRecord'>\n",
      "ID: J01636.1\n",
      "Name: J01636.1\n",
      "Description: J01636.1 E.coli lactose operon with lacI, lacZ, lacY and lacA genes\n",
      "Number of features: 0\n",
      "Seq('GACACCATCGAATGGCGCAAAACCTTTCGCGGTATGGCATGATAGCGCCCGGAA...GAC', SingleLetterAlphabet())\n"
     ]
    }
   ],
   "source": [
    "# FASTA\n",
    "record = SeqIO.read(\"data/J01636.1.fasta\",\"fasta\") \n",
    "print(type(record))\n",
    "print(record)"
   ]
  },
  {
   "cell_type": "code",
   "execution_count": 8,
   "metadata": {},
   "outputs": [
    {
     "name": "stdout",
     "output_type": "stream",
     "text": [
      "<class 'Bio.SeqRecord.SeqRecord'>\n",
      "ID: J01636.1\n",
      "Name: ECOLAC\n",
      "Description: E.coli lactose operon with lacI, lacZ, lacY and lacA genes\n",
      "Number of features: 22\n",
      "/molecule_type=DNA\n",
      "/topology=linear\n",
      "/data_file_division=BCT\n",
      "/date=05-MAY-1993\n",
      "/accessions=['J01636', 'J01637', 'K01483', 'K01793']\n",
      "/sequence_version=1\n",
      "/keywords=['acetyltransferase', 'beta-D-galactosidase', 'galactosidase', 'lac operon', 'lac repressor protein', 'lacA gene', 'lacI gene', 'lacY gene', 'lacZ gene', 'lactose permease', 'mutagenesis', 'palindrome', 'promoter region', 'thiogalactoside acetyltransferase']\n",
      "/source=Escherichia coli\n",
      "/organism=Escherichia coli\n",
      "/taxonomy=['Bacteria', 'Proteobacteria', 'Gammaproteobacteria', 'Enterobacterales', 'Enterobacteriaceae', 'Escherichia']\n",
      "/references=[Reference(title='The nucleotide sequence of the lac operator', ...), Reference(title='The nucleotide sequence of the lactose messenger ribonucleic acid transcribed from the UV5 promoter mutant of Escherichia coli', ...), Reference(title='Sequences of controlling regions of the lactose operon', ...), Reference(title='Lactose operator sequences and the action of lac repressor', ...), Reference(title='Genetic regulation: the Lac control region', ...), Reference(title='Contacts between the lac repressor and DNA revealed by methylation', ...), Reference(title='Structure of the lactose operator', ...), Reference(title='Synthetic lac operator DNA is functional in vivo', ...), Reference(title='Nucleotide sequence changes produced by mutations in the lac promoter of Escherichia coli', ...), Reference(title=\"5'-Terminal nucleotide sequence of Escherichia coli lactose repressor mRNA: features of translational initiation and reinitiation sites\", ...), Reference(title=\"DNA sequence for a low-level promoter of the lac repressor gene and an 'up' promoter mutation\", ...), Reference(title='Sequence of the lacI gene', ...), Reference(title='Correlation of nonsense sites in the lacI gene with specific codons in the nucleotide sequence', ...), Reference(title='DNA sequence alteration resulting from a mutation impairing promoter function in the lac repressor gene', ...), Reference(title='Sequence of the lactose permease gene', ...), Reference(title='Genetic and sequencing studies of the specificity of transposition into the lac region of E. coli', ...), Reference(title='Topography of interaction of Escherichia coli RNA polymerase subunits with lac UV5 promoter', ...), Reference(title='Variants of a cloned synthetic lactose operator. I. A palindromic dimer lactose operator derived from one stand of the cloned 40-base pair operator', ...), Reference(title='Cloning and characterization of the natural lactose operator', ...), Reference(title='Variants of a cloned synthetic lactose operator. II. Chloramphenicol-resistant revertants retaining a lactose operator in the CAT gene of plasmid pBR325', ...), Reference(title='The DNA sequence change resulting from the IQ1 mutation, which greatly increases promoter strength', ...), Reference(title='Mutations in the lacY gene of Escherichia coli define functional organization of lactose permease', ...), Reference(title='Construction and analysis of in vivo activity of E. coli promoter hybrids and promoter mutants that alter the -35 to -10 spacing', ...), Reference(title='A termination site for LacI transcription is between the CAP site and the lac promoter', ...), Reference(title='Effects of neighboring DNA homopolymers on the biochemical and physical properties of the Escherichia coli lactose promoter. I. Cloning and characterization studies', ...), Reference(title='Segment-specific mutagenesis: extensive mutagenesis of a lac promoter/operator element', ...), Reference(title='Footprinting with MPE.Fe(II). Complementary-strand analyses of distamycin- and actinomycin-binding sites on heterogeneous DNA', ...), Reference(title='Sequence of the lacZ gene of Escherichia coli', ...), Reference(title='Lac repressor mRNA transcription terminates in vivo in the lac control region', ...), Reference(title='A perfectly symmetric lac operator binds the lac repressor very tightly', ...), Reference(title='Structural intermediates of deletion mutagenesis: a role for palindromic DNA', ...), Reference(title='Changes in the DNA structure of the lac UV5 promoter during formation of an open complex with Escherichia coli RNA polymerase', ...), Reference(title='Intermediates in transcription initiation from the E. coli lac UV5 promoter', ...), Reference(title='Effects of heterologous ribosomal binding sites on the transcription and translation of the lacZ gene of Escherichia coli', ...), Reference(title='lac Up-promoter mutants with increased homology to the consensus promoter sequence', ...), Reference(title='A frameshift mutation at the junction of an IS1 insertion within lacZ restores beta-galactosidase activity via formation of an active lacZ-IS1 fusion protein', ...), Reference(title='DNA sequence of the lactose operon: the lacA gene and the transcriptional termination region', ...)]\n",
      "/comment=Original source text: Escherichia coli DNA; mRNA; clone\n",
      "lambda-h80dlac DNA; clone puk217; pgm8 (see comment).\n",
      "[3]  sites; UV5 mRNA transcripts and operator mutants. [(in)\n",
      "Sund,H. and Blauer,G. (eds.);Protein-Ligand Interactions:\n",
      "193-207;Walter de]  sites; operator mutational analysis. [7]\n",
      "sites; S1 and mung bean nuclease action on operator DNA. [9]\n",
      "sites; class I, II and III promoter mutant analysis. [13]  sites;\n",
      "lacI mutant analysis.\n",
      "[16]  sites; Tn5, Tn9 and Tn10 insertion sites in lac region. [14]\n",
      "sites; lacI promoter mutation UJ177.\n",
      "[18]  sites; palindromic dimer operator;.\n",
      "[19]  sites; natural operator sequence.\n",
      "[20]  sites; operator mutational analysis.\n",
      "[21]  sites; lacI-Q deletion.\n",
      "[17]  sites; RNA polymerase UV5 promoter interaction. [22]  sites;\n",
      "lacY mutational analysis.\n",
      "[24]  sites; lacI-promoted transcription termination. [25]  sites;\n",
      "wt and UV5 promoter sequence studies. [23]  sites; UV5 promoter\n",
      "mutational analysis.\n",
      "[30]  sites; perfectly symmetric operator sequence. [29]  sites;\n",
      "lacI mRNA termination site.\n",
      "[27]  sites; distamycin and actinomycin binding to promoter. [31]\n",
      "sites; lacI deletion studies.\n",
      "[35]  sites; promoter mutational studies.\n",
      "[33]  sites; DNAase I studies with promoter sequence. [34]  sites;\n",
      "ribosomal binding and translation initiation for lacZ. [36]  sites;\n",
      "insertion sequence IS1 integration in lacZ;. [32]  sites; DNAase I\n",
      "studies with promoter.\n",
      "[1] first reports a 27 bp operator(sites 1240-1266) with two-fold\n",
      "symmetries; the operator has also been defined to be bases\n",
      "1246-1266 or bases 1239-1273 [8]. [(in) Kjeldgaard,N.C. and Maaloe,\n",
      "O.(eds);Control of ribosome synthesis: 138-143;A] explores the\n",
      "ability of lac\n",
      "repressor protein to affect methylation of operator DNA.  [8]\n",
      "argues that DNA on both sides of the 21 bp operator (bases\n",
      "1246-1266) affects repressor binding but that the sequences of this\n",
      "DNA are probably not critical. [5] gives a larger sequence known as\n",
      "the promoter-operator region for the wild-type, whereas [2] and\n",
      "[26] give portions of this region for the mutant strain UV5. Within\n",
      "the promoter region, bases 1162-1199 are identified as the\n",
      "catabolite gene activator protein binding site (cap) and bases\n",
      "1200-1245 are the RNA polymerase interaction site. [10] reports a\n",
      "sequence for the 5'end of the lacI (repressor) gene and discusses\n",
      "restart in mutant strains. [11] presents a sequence for the lacI\n",
      "promoter region and identifies an I-Q mutation which enhances lacI\n",
      "transcription approximately ten-fold. [12] gives a complete\n",
      "sequence\n",
      "for lacI which agrees with the known lac repressor sequence. [26]\n",
      "examines the promoter-operator region in the UV5 strain (lac109)\n",
      "and studies 23 mutant derivatives of this sequence. This sequence\n",
      "agrees with known protein sequences for the lacZ, lacY and lacA\n",
      "enzymes. [15] notes that the fMet codon is not present\n",
      "for lacA and suggests that the 'ttg' codon (5727-5729), which\n",
      "immediately precedes the mature N-terminal asparagine codon, is the\n",
      "start codon. The cds for lacZ, lacY and lacA are included on a\n",
      "single mRNA transcript.\n",
      "Complete source information:\n",
      "Escherichia coli DNA [1],[(in) Kjeldgaard,N.C. and Maaloe,O.(eds);\n",
      "Control of ribosome synthesis: 138-143;A],[8],[12],[26]; mRNA [2],\n",
      "[5],[10]; clone\n",
      "lambda-h80dlac DNA [11],[15]; clone puk217 [28]; pgm8 [37].\n",
      "Seq('GACACCATCGAATGGCGCAAAACCTTTCGCGGTATGGCATGATAGCGCCCGGAA...GAC', IUPACAmbiguousDNA())\n"
     ]
    }
   ],
   "source": [
    "# GenBank\n",
    "record = SeqIO.read(\"data/J01636.1.gbk\",\"genbank\") \n",
    "print(type(record))\n",
    "print(record)"
   ]
  },
  {
   "cell_type": "code",
   "execution_count": 9,
   "metadata": {},
   "outputs": [
    {
     "data": {
      "text/plain": [
       "22"
      ]
     },
     "execution_count": 9,
     "metadata": {},
     "output_type": "execute_result"
    }
   ],
   "source": [
    "len(record.features)"
   ]
  },
  {
   "cell_type": "code",
   "execution_count": 10,
   "metadata": {},
   "outputs": [
    {
     "data": {
      "text/plain": [
       "dict_keys(['molecule_type', 'topology', 'data_file_division', 'date', 'accessions', 'sequence_version', 'keywords', 'source', 'organism', 'taxonomy', 'references', 'comment'])"
      ]
     },
     "execution_count": 10,
     "metadata": {},
     "output_type": "execute_result"
    }
   ],
   "source": [
    "record.annotations.keys()"
   ]
  },
  {
   "cell_type": "code",
   "execution_count": 11,
   "metadata": {},
   "outputs": [
    {
     "data": {
      "text/plain": [
       "'Escherichia coli'"
      ]
     },
     "execution_count": 11,
     "metadata": {},
     "output_type": "execute_result"
    }
   ],
   "source": [
    "record.annotations['organism']"
   ]
  },
  {
   "cell_type": "markdown",
   "metadata": {},
   "source": [
    "#### SeqRecord 객체 간 비교 : 속성끼리 비교해야 함"
   ]
  },
  {
   "cell_type": "code",
   "execution_count": 12,
   "metadata": {},
   "outputs": [],
   "source": [
    "seq1 = Seq(\"ACGT\")\n",
    "record1 = SeqRecord(seq1)\n",
    "\n",
    "seq2 = Seq(\"ACGT\")\n",
    "record2 = SeqRecord(seq2)"
   ]
  },
  {
   "cell_type": "code",
   "execution_count": 13,
   "metadata": {},
   "outputs": [
    {
     "ename": "NotImplementedError",
     "evalue": "SeqRecord comparison is deliberately not implemented. Explicitly compare the attributes of interest.",
     "output_type": "error",
     "traceback": [
      "\u001b[1;31m---------------------------------------------------------------------------\u001b[0m",
      "\u001b[1;31mNotImplementedError\u001b[0m                       Traceback (most recent call last)",
      "\u001b[1;32m<ipython-input-13-58fdc6178410>\u001b[0m in \u001b[0;36m<module>\u001b[1;34m\u001b[0m\n\u001b[1;32m----> 1\u001b[1;33m \u001b[0mprint\u001b[0m\u001b[1;33m(\u001b[0m\u001b[0mrecord1\u001b[0m \u001b[1;33m==\u001b[0m \u001b[0mrecord2\u001b[0m\u001b[1;33m)\u001b[0m   \u001b[1;31m# NotImplementedError\u001b[0m\u001b[1;33m\u001b[0m\u001b[1;33m\u001b[0m\u001b[0m\n\u001b[0m",
      "\u001b[1;32mC:\\Anaconda3\\envs\\py37_env\\lib\\site-packages\\Bio\\SeqRecord.py\u001b[0m in \u001b[0;36m__eq__\u001b[1;34m(self, other)\u001b[0m\n\u001b[0;32m    801\u001b[0m     \u001b[1;32mdef\u001b[0m \u001b[0m__eq__\u001b[0m\u001b[1;33m(\u001b[0m\u001b[0mself\u001b[0m\u001b[1;33m,\u001b[0m \u001b[0mother\u001b[0m\u001b[1;33m)\u001b[0m\u001b[1;33m:\u001b[0m\u001b[1;33m\u001b[0m\u001b[1;33m\u001b[0m\u001b[0m\n\u001b[0;32m    802\u001b[0m         \u001b[1;34m\"\"\"Define the equal-to operand (not implemented).\"\"\"\u001b[0m\u001b[1;33m\u001b[0m\u001b[1;33m\u001b[0m\u001b[0m\n\u001b[1;32m--> 803\u001b[1;33m         \u001b[1;32mraise\u001b[0m \u001b[0mNotImplementedError\u001b[0m\u001b[1;33m(\u001b[0m\u001b[0m_NO_SEQRECORD_COMPARISON\u001b[0m\u001b[1;33m)\u001b[0m\u001b[1;33m\u001b[0m\u001b[1;33m\u001b[0m\u001b[0m\n\u001b[0m\u001b[0;32m    804\u001b[0m \u001b[1;33m\u001b[0m\u001b[0m\n\u001b[0;32m    805\u001b[0m     \u001b[1;32mdef\u001b[0m \u001b[0m__ne__\u001b[0m\u001b[1;33m(\u001b[0m\u001b[0mself\u001b[0m\u001b[1;33m,\u001b[0m \u001b[0mother\u001b[0m\u001b[1;33m)\u001b[0m\u001b[1;33m:\u001b[0m\u001b[1;33m\u001b[0m\u001b[1;33m\u001b[0m\u001b[0m\n",
      "\u001b[1;31mNotImplementedError\u001b[0m: SeqRecord comparison is deliberately not implemented. Explicitly compare the attributes of interest."
     ]
    }
   ],
   "source": [
    "print(record1 == record2)   # NotImplementedError"
   ]
  },
  {
   "cell_type": "code",
   "execution_count": 14,
   "metadata": {},
   "outputs": [
    {
     "name": "stdout",
     "output_type": "stream",
     "text": [
      "True\n"
     ]
    }
   ],
   "source": [
    "print(record1.seq == record2.seq)"
   ]
  }
 ],
 "metadata": {
  "kernelspec": {
   "display_name": "Python 3",
   "language": "python",
   "name": "python3"
  },
  "language_info": {
   "codemirror_mode": {
    "name": "ipython",
    "version": 3
   },
   "file_extension": ".py",
   "mimetype": "text/x-python",
   "name": "python",
   "nbconvert_exporter": "python",
   "pygments_lexer": "ipython3",
   "version": "3.7.6"
  }
 },
 "nbformat": 4,
 "nbformat_minor": 4
}
