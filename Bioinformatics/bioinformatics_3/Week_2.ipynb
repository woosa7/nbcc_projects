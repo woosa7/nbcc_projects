{
 "cells": [
  {
   "cell_type": "markdown",
   "metadata": {},
   "source": [
    "# 1. Where in the Genome Does Replication Begin? (part 2)"
   ]
  },
  {
   "cell_type": "markdown",
   "metadata": {},
   "source": [
    "```\n",
    "DNA 복제시 정방향과 역방향 가닥의 복제 속도가 서로 다름.\n",
    "\n",
    "Cytosine (C)는 Deamination 으로 인해 Thymine (T)으로 변이되는 경향이 있기 때문에\n",
    "single-strand 존재하는 시간이 긴 순방향 가닥(forward half-strand)에 C가 수가 줄어든다.\n",
    "\n",
    "G-C mutation rate 의 변화를 통해 ori 위치 탐색.\n",
    "```"
   ]
  },
  {
   "cell_type": "code",
   "execution_count": 1,
   "metadata": {},
   "outputs": [],
   "source": [
    "def PatternCount(Text, Pattern):\n",
    "    import re\n",
    "    count = len(re.findall(Pattern, Text))\n",
    "    return count"
   ]
  },
  {
   "cell_type": "markdown",
   "metadata": {},
   "source": [
    "```\n",
    "window size를 크게하여 슬라이딩을 해야 하기 때문에 genome size의 절반을 복사하여 원본 genome에 더해준다.\n",
    "ExtendedGenome = Genome + Genome[0:n//2]\n",
    "```"
   ]
  },
  {
   "cell_type": "code",
   "execution_count": 2,
   "metadata": {},
   "outputs": [
    {
     "name": "stdout",
     "output_type": "stream",
     "text": [
      "{0: 4, 1: 3, 2: 2, 3: 1, 4: 0, 5: 1, 6: 2, 7: 3}\n"
     ]
    }
   ],
   "source": [
    "def SymbolArray(Genome, symbol):\n",
    "    array = {}\n",
    "    n = len(Genome)\n",
    "    ExtendedGenome = Genome + Genome[0:n//2]\n",
    "    \n",
    "    for i in range(n):\n",
    "        array[i] = PatternCount(ExtendedGenome[i:i+(n//2)], symbol)  # 계산속도 느림.\n",
    "        \n",
    "    return array\n",
    "\n",
    "\n",
    "print(SymbolArray('AAAAGGGG', 'A'))"
   ]
  },
  {
   "cell_type": "code",
   "execution_count": 3,
   "metadata": {},
   "outputs": [
    {
     "name": "stdout",
     "output_type": "stream",
     "text": [
      "{0: 4, 1: 3, 2: 2, 3: 1, 4: 0, 5: 1, 6: 2, 7: 3}\n"
     ]
    }
   ],
   "source": [
    "def FasterSymbolArray(Genome, symbol):\n",
    "    array = {}\n",
    "    n = len(Genome)\n",
    "    ExtendedGenome = Genome + Genome[0:n//2]\n",
    "\n",
    "    # look at the first half of Genome to compute first array value\n",
    "    array[0] = PatternCount(Genome[0:n//2], symbol)\n",
    "\n",
    "    for i in range(1, n):\n",
    "        # start by setting the current array value equal to the previous array value\n",
    "        array[i] = array[i-1]\n",
    "\n",
    "        # the current array value can differ from the previous array value by at most 1\n",
    "        if ExtendedGenome[i-1] == symbol:\n",
    "            array[i] = array[i]-1\n",
    "        if ExtendedGenome[i+(n//2)-1] == symbol:\n",
    "            array[i] = array[i]+1\n",
    "            \n",
    "    return array\n",
    "\n",
    "print(FasterSymbolArray('AAAAGGGG', 'A'))"
   ]
  },
  {
   "cell_type": "markdown",
   "metadata": {},
   "source": [
    "### Skew Daigram"
   ]
  },
  {
   "cell_type": "markdown",
   "metadata": {},
   "source": [
    "skew = #G - #C"
   ]
  },
  {
   "cell_type": "code",
   "execution_count": 4,
   "metadata": {},
   "outputs": [],
   "source": [
    "genome_1 = 'CATGGGCATCGGCCATACGCC'\n",
    "genome_2 = 'TAAAGACTGCCGAGAGGCCAACACGAGTGCTAGAACGAGGGGCGTAAACGCGGGTCCGAT'"
   ]
  },
  {
   "cell_type": "code",
   "execution_count": 5,
   "metadata": {},
   "outputs": [],
   "source": [
    "def SkewArray(Genome):\n",
    "    skew = [0]\n",
    "    score = {\"C\":-1, \"G\":1, \"A\":0, \"T\":0, }\n",
    "    for i in range(1,len(Genome)+1):\n",
    "        skew.append(score[Genome[i-1]] + skew[i-1])\n",
    "        \n",
    "    return skew\n",
    "\n",
    "\n",
    "# skew 가 최소가 되는 위치\n",
    "def MinimumSkew(Genome):\n",
    "    skew = SkewArray(Genome)\n",
    "    positions = [i for i, x in enumerate(skew) if x == min(skew)]\n",
    "\n",
    "    return positions"
   ]
  },
  {
   "cell_type": "code",
   "execution_count": 6,
   "metadata": {},
   "outputs": [
    {
     "name": "stdout",
     "output_type": "stream",
     "text": [
      "[0, -1, -1, -1, 0, 1, 2, 1, 1, 1, 0, 1, 2, 1, 0, 0, 0, 0, -1, 0, -1, -2]\n",
      "-2\n",
      "[21]\n"
     ]
    }
   ],
   "source": [
    "skew = SkewArray(genome_1)\n",
    "print(skew)\n",
    "print(min(skew))\n",
    "\n",
    "indexes = MinimumSkew(genome_1)\n",
    "print(indexes)"
   ]
  },
  {
   "cell_type": "code",
   "execution_count": 7,
   "metadata": {},
   "outputs": [
    {
     "name": "stdout",
     "output_type": "stream",
     "text": [
      "[0, 0, 0, 0, 0, 1, 1, 0, 0, 1, 0, -1, 0, 0, 1, 1, 2, 3, 2, 1, 1, 1, 0, 0, -1, 0, 0, 1, 1, 2, 1, 1, 1, 2, 2, 2, 1, 2, 2, 3, 4, 5, 6, 5, 6, 6, 6, 6, 6, 5, 6, 5, 6, 7, 8, 8, 7, 6, 7, 7, 7]\n",
      "-1\n",
      "[11, 24]\n"
     ]
    }
   ],
   "source": [
    "skew = SkewArray(genome_2)\n",
    "print(skew)\n",
    "print(min(skew))\n",
    "\n",
    "indexes = MinimumSkew(genome_2)\n",
    "print(indexes)"
   ]
  },
  {
   "cell_type": "markdown",
   "metadata": {},
   "source": [
    "### Hamming distance (두 문자열 p와 q 사이의 총 불일치 수)"
   ]
  },
  {
   "cell_type": "code",
   "execution_count": 8,
   "metadata": {},
   "outputs": [],
   "source": [
    "def HammingDistance(p, q):\n",
    "    t_len = max(len(p), len(q))\n",
    "    ham = [1 for x in range(t_len) if p[x] != q[x]]\n",
    "    count = sum(ham)\n",
    "           \n",
    "    return count"
   ]
  },
  {
   "cell_type": "code",
   "execution_count": 9,
   "metadata": {},
   "outputs": [
    {
     "data": {
      "text/plain": [
       "3"
      ]
     },
     "execution_count": 9,
     "metadata": {},
     "output_type": "execute_result"
    }
   ],
   "source": [
    "genome_1 = 'GGGCCGTTGGT'\n",
    "genome_2 = 'GGACCGTTGAC'\n",
    "\n",
    "h_dist = HammingDistance(genome_1, genome_2)\n",
    "h_dist"
   ]
  },
  {
   "cell_type": "markdown",
   "metadata": {},
   "source": [
    "k-mer Pattern에 대해 최대 d 개의 불일치가 있는 부분 문자열 Pattern'이 시작되는 위치 검색."
   ]
  },
  {
   "cell_type": "code",
   "execution_count": 10,
   "metadata": {},
   "outputs": [],
   "source": [
    "def ApproximatePatternMatching(Text, Pattern, d):\n",
    "    positions = []\n",
    "    for i in range(len(Text)-len(Pattern)+1):\n",
    "        if HammingDistance(Text[i:i+len(Pattern)], Pattern) <= d:\n",
    "            positions.append(i)\n",
    "    \n",
    "    return positions"
   ]
  },
  {
   "cell_type": "code",
   "execution_count": 11,
   "metadata": {},
   "outputs": [
    {
     "data": {
      "text/plain": [
       "[6, 7, 26, 27]"
      ]
     },
     "execution_count": 11,
     "metadata": {},
     "output_type": "execute_result"
    }
   ],
   "source": [
    "genome = 'CGCCCGAATCCAGAACGCATTCCCATATTTCGGGACCACTGGCCTCCACGGTACGGACGTCAATCAAAT'\n",
    "pattern = 'ATTCTGGA'\n",
    "dist = 3\n",
    "\n",
    "positions = ApproximatePatternMatching(genome, pattern, dist)\n",
    "positions"
   ]
  }
 ],
 "metadata": {
  "kernelspec": {
   "display_name": "Python 3",
   "language": "python",
   "name": "python3"
  },
  "language_info": {
   "codemirror_mode": {
    "name": "ipython",
    "version": 3
   },
   "file_extension": ".py",
   "mimetype": "text/x-python",
   "name": "python",
   "nbconvert_exporter": "python",
   "pygments_lexer": "ipython3",
   "version": "3.8.6"
  }
 },
 "nbformat": 4,
 "nbformat_minor": 4
}
