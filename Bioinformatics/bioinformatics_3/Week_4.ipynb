{
 "cells": [
  {
   "cell_type": "markdown",
   "metadata": {},
   "source": [
    "# 2. Which DNA Patterns Play The Role of Molecular Clocks? (Part 2)"
   ]
  },
  {
   "cell_type": "markdown",
   "metadata": {},
   "source": [
    "```\n",
    "관찰된 데이터셋에서 어떤 이벤트는 확률이 0은 아니지만 발생하지 않을 가능성이 있다.\n",
    "관측된 발생빈도는 0 이지만 이 이벤트의 경험적 확률을 0으로 설정하면 문제가 될 수 있다.\n",
    "이런 경우에는 확률을 인위적으로 조정하여 문제를 완화시킬 수 있다.\n",
    "\n",
    "pseudocounts 라고 불리는 작은 숫자로 0을 대체 (Laplace’s Rule of Succession)\n",
    "```"
   ]
  },
  {
   "cell_type": "code",
   "execution_count": 1,
   "metadata": {},
   "outputs": [],
   "source": [
    "def CountMatrix(Motifs):\n",
    "    t = len(Motifs)      # DNA string 갯수\n",
    "    k = len(Motifs[0])   # 각 string의 길이\n",
    "    \n",
    "    count = {'A':[0]*k, 'C':[0]*k, 'G':[0]*k,'T':[0]*k}\n",
    "\n",
    "    for i in range(t):\n",
    "        for j in range(k):\n",
    "            symbol = Motifs[i][j]\n",
    "            count[symbol][j] += 1\n",
    "    \n",
    "    return count"
   ]
  },
  {
   "cell_type": "code",
   "execution_count": 2,
   "metadata": {},
   "outputs": [],
   "source": [
    "def CountWithPseudocounts(Motifs):\n",
    "    # adds 1 to each element of Count(Motifs)\n",
    "    \n",
    "    t = len(Motifs)\n",
    "    k = len(Motifs[0])\n",
    "    \n",
    "    count = {'A':[1]*k, 'C':[1]*k, 'G':[1]*k,'T':[1]*k}  # Pseudocounts\n",
    "\n",
    "    for i in range(t):\n",
    "        for j in range(k):\n",
    "            symbol = Motifs[i][j]\n",
    "            count[symbol][j] += 1\n",
    "    \n",
    "    return count"
   ]
  },
  {
   "cell_type": "code",
   "execution_count": 3,
   "metadata": {},
   "outputs": [],
   "source": [
    "strings = ['AACGTA', \n",
    "           'CCCGTT', \n",
    "           'CACCTT', \n",
    "           'GGATTA', \n",
    "           'TTCCGG']"
   ]
  },
  {
   "cell_type": "code",
   "execution_count": 4,
   "metadata": {},
   "outputs": [
    {
     "data": {
      "text/plain": [
       "{'A': [1, 2, 1, 0, 0, 2],\n",
       " 'C': [2, 1, 4, 2, 0, 0],\n",
       " 'G': [1, 1, 0, 2, 1, 1],\n",
       " 'T': [1, 1, 0, 1, 4, 2]}"
      ]
     },
     "execution_count": 4,
     "metadata": {},
     "output_type": "execute_result"
    }
   ],
   "source": [
    "CountMatrix(strings)"
   ]
  },
  {
   "cell_type": "code",
   "execution_count": 5,
   "metadata": {},
   "outputs": [
    {
     "data": {
      "text/plain": [
       "{'A': [2, 3, 2, 1, 1, 3],\n",
       " 'C': [3, 2, 5, 3, 1, 1],\n",
       " 'G': [2, 2, 1, 3, 2, 2],\n",
       " 'T': [2, 2, 1, 2, 5, 3]}"
      ]
     },
     "execution_count": 5,
     "metadata": {},
     "output_type": "execute_result"
    }
   ],
   "source": [
    "CountWithPseudocounts(strings)"
   ]
  },
  {
   "cell_type": "code",
   "execution_count": 6,
   "metadata": {},
   "outputs": [],
   "source": [
    "def ProfileWithPseudocounts(Motifs):\n",
    "    profile = CountWithPseudocounts(Motifs)\n",
    "    \n",
    "    m = 0\n",
    "    for key, val in profile.items():\n",
    "        m += val[0]\n",
    "    # print(m)\n",
    "    \n",
    "    for key, val in profile.items():\n",
    "        val[:] = [x / m for x in val]\n",
    "        \n",
    "    return profile"
   ]
  },
  {
   "cell_type": "code",
   "execution_count": 7,
   "metadata": {},
   "outputs": [
    {
     "data": {
      "text/plain": [
       "{'A': [0.2222222222222222,\n",
       "  0.3333333333333333,\n",
       "  0.2222222222222222,\n",
       "  0.1111111111111111,\n",
       "  0.1111111111111111,\n",
       "  0.3333333333333333],\n",
       " 'C': [0.3333333333333333,\n",
       "  0.2222222222222222,\n",
       "  0.5555555555555556,\n",
       "  0.3333333333333333,\n",
       "  0.1111111111111111,\n",
       "  0.1111111111111111],\n",
       " 'G': [0.2222222222222222,\n",
       "  0.2222222222222222,\n",
       "  0.1111111111111111,\n",
       "  0.3333333333333333,\n",
       "  0.2222222222222222,\n",
       "  0.2222222222222222],\n",
       " 'T': [0.2222222222222222,\n",
       "  0.2222222222222222,\n",
       "  0.1111111111111111,\n",
       "  0.2222222222222222,\n",
       "  0.5555555555555556,\n",
       "  0.3333333333333333]}"
      ]
     },
     "execution_count": 7,
     "metadata": {},
     "output_type": "execute_result"
    }
   ],
   "source": [
    "ProfileWithPseudocounts(strings)"
   ]
  },
  {
   "cell_type": "code",
   "execution_count": 8,
   "metadata": {},
   "outputs": [],
   "source": [
    "def ConsensusMatrix(Motifs):\n",
    "    t = len(Motifs)      # DNA string 갯수\n",
    "    k = len(Motifs[0])   # 각 string의 길이\n",
    "    \n",
    "    count_matrix = {'A':[0]*k, 'C':[0]*k, 'G':[0]*k,'T':[0]*k}\n",
    "\n",
    "    for i in range(t):\n",
    "        for j in range(k):\n",
    "            symbol = Motifs[i][j]\n",
    "            count_matrix[symbol][j] += 1\n",
    "\n",
    "    consensus = \"\"\n",
    "    for j in range(k):\n",
    "        m = 0\n",
    "        frequentSymbol = \"\"\n",
    "        \n",
    "        for symbol in \"ACGT\":\n",
    "            if count_matrix[symbol][j] > m:\n",
    "                m = count_matrix[symbol][j]\n",
    "                frequentSymbol = symbol\n",
    "                \n",
    "        consensus += frequentSymbol\n",
    "        \n",
    "    return consensus\n",
    "\n",
    "def HammingDistance(p, q):\n",
    "    t_len = max(len(p), len(q))\n",
    "    ham = [1 for x in range(t_len) if p[x] != q[x]]\n",
    "    count = sum(ham)\n",
    "    return count\n",
    "\n",
    "def Score(Motifs):\n",
    "    consensus = ConsensusMatrix(Motifs)\n",
    "    \n",
    "    score = 0\n",
    "    for motif in Motifs:\n",
    "        score += HammingDistance(consensus, motif)\n",
    "    \n",
    "    return score\n",
    "\n",
    "def ProbMotif(Text, Profile):\n",
    "    prob = 1\n",
    "    for index, nucleotide in enumerate(Text):\n",
    "        prob *= Profile[nucleotide][index]\n",
    "    \n",
    "    return prob\n",
    "\n",
    "def ProfileMostProbableKmer(text, k, profile):\n",
    "    p = -1\n",
    "    result = text[0:k]\n",
    "    for i in range(len(text)-k+1):\n",
    "        seq = text[i:i+k]        \n",
    "        pr = ProbMotif(seq, profile)\n",
    "        if pr > p:\n",
    "            p = pr\n",
    "            result = seq\n",
    "    return result\n",
    "\n",
    "def window(s, k):\n",
    "    for i in range(1 + len(s) - k):\n",
    "        yield s[i:i+k]\n",
    "        \n",
    "def GreedyMotifSearchWithPseudocounts(Dna, k, t):\n",
    "    bestMotifs = []\n",
    "    bestScore = 0   \n",
    "    \n",
    "    # t개의 dna에서 각각 첫번째 k-mer 추출\n",
    "    for string in Dna:\n",
    "        bestMotifs.append(string[:k])\n",
    "        \n",
    "    bestScore = Score(bestMotifs)\n",
    "    \n",
    "    base = Dna[0]\n",
    "    n = len(base)\n",
    "    \n",
    "    # base : 첫번째 dna에서 모든 k-mer 추출\n",
    "    for i in window(base, k):\n",
    "        newMotifs = [i]\n",
    "\n",
    "        # iterate over len(DNA)\n",
    "        for j in range(1, t):\n",
    "            # build up motifs and build profile using them.\n",
    "            profile = ProfileWithPseudocounts(newMotifs[:j])\n",
    "            pattern = ProfileMostProbableKmer(Dna[j], k, profile)\n",
    "            newMotifs.append(pattern)\n",
    "        \n",
    "        currentScore = Score(newMotifs)\n",
    "        if k == 3:\n",
    "            print(currentScore, newMotifs)\n",
    "        \n",
    "        if currentScore < bestScore:\n",
    "            bestScore = currentScore\n",
    "            bestMotifs = newMotifs\n",
    "            \n",
    "    return bestMotifs"
   ]
  },
  {
   "cell_type": "code",
   "execution_count": 9,
   "metadata": {},
   "outputs": [
    {
     "name": "stdout",
     "output_type": "stream",
     "text": [
      "4 ['GGC', 'GTC', 'GGA', 'GTC', 'TTC']\n",
      "4 ['GCG', 'AAG', 'AAG', 'ACG', 'TCG']\n",
      "3 ['CGT', 'AGT', 'AGT', 'CGT', 'AAT']\n",
      "3 ['GTT', 'GTC', 'GTT', 'GTC', 'ATT']\n",
      "2 ['TTC', 'ATC', 'TTC', 'ATC', 'TTC']\n",
      "2 ['TCA', 'TCA', 'TCG', 'TCA', 'TCG']\n",
      "2 ['CAG', 'CAG', 'CAA', 'CAA', 'CAA']\n",
      "3 ['AGG', 'AAG', 'AAG', 'ACG', 'AAT']\n",
      "4 ['GGC', 'GTC', 'GGA', 'GTC', 'TTC']\n",
      "5 ['GCA', 'GAA', 'GGA', 'TCA', 'TAA']\n"
     ]
    },
    {
     "data": {
      "text/plain": [
       "['TTC', 'ATC', 'TTC', 'ATC', 'TTC']"
      ]
     },
     "execution_count": 9,
     "metadata": {},
     "output_type": "execute_result"
    }
   ],
   "source": [
    "Dna = [\n",
    "    \"GGCGTTCAGGCA\",\n",
    "    \"AAGAATCAGTCA\",\n",
    "    \"CAAGGAGTTCGC\",\n",
    "    \"CACGTCAATCAC\",\n",
    "    \"CAATAATATTCG\"\n",
    "]\n",
    "\n",
    "GreedyMotifSearchWithPseudocounts(Dna, 3, len(Dna))"
   ]
  },
  {
   "cell_type": "markdown",
   "metadata": {},
   "source": [
    "결핵을 일으키는 Mycobacterium tuberculosis bacterium (MTB)의 유전자 중 regulatory motif 찾기"
   ]
  },
  {
   "cell_type": "code",
   "execution_count": 10,
   "metadata": {},
   "outputs": [],
   "source": [
    "Dna = [\"GCGCCCCGCCCGGACAGCCATGCGCTAACCCTGGCTTCGATGGCGCCGGCTCAGTTAGGGCCGGAAGTCCCCAATGTGGCAGACCTTTCGCCCCTGGCGGACGAATGACCCCAGTGGCCGGGACTTCAGGCCCTATCGGAGGGCTCCGGCGCGGTGGTCGGATTTGTCTGTGGAGGTTACACCCCAATCGCAAGGATGCATTATGACCAGCGAGCTGAGCCTGGTCGCCACTGGAAAGGGGAGCAACATC\", \n",
    "       \"CCGATCGGCATCACTATCGGTCCTGCGGCCGCCCATAGCGCTATATCCGGCTGGTGAAATCAATTGACAACCTTCGACTTTGAGGTGGCCTACGGCGAGGACAAGCCAGGCAAGCCAGCTGCCTCAACGCGCGCCAGTACGGGTCCATCGACCCGCGGCCCACGGGTCAAACGACCCTAGTGTTCGCTACGACGTGGTCGTACCTTCGGCAGCAGATCAGCAATAGCACCCCGACTCGAGGAGGATCCCG\", \n",
    "       \"ACCGTCGATGTGCCCGGTCGCGCCGCGTCCACCTCGGTCATCGACCCCACGATGAGGACGCCATCGGCCGCGACCAAGCCCCGTGAAACTCTGACGGCGTGCTGGCCGGGCTGCGGCACCTGATCACCTTAGGGCACTTGGGCCACCACAACGGGCCGCCGGTCTCGACAGTGGCCACCACCACACAGGTGACTTCCGGCGGGACGTAAGTCCCTAACGCGTCGTTCCGCACGCGGTTAGCTTTGCTGCC\", \n",
    "       \"GGGTCAGGTATATTTATCGCACACTTGGGCACATGACACACAAGCGCCAGAATCCCGGACCGAACCGAGCACCGTGGGTGGGCAGCCTCCATACAGCGATGACCTGATCGATCATCGGCCAGGGCGCCGGGCTTCCAACCGTGGCCGTCTCAGTACCCAGCCTCATTGACCCTTCGACGCATCCACTGCGCGTAAGTCGGCTCAACCCTTTCAAACCGCTGGATTACCGACCGCAGAAAGGGGGCAGGAC\", \n",
    "       \"GTAGGTCAAACCGGGTGTACATACCCGCTCAATCGCCCAGCACTTCGGGCAGATCACCGGGTTTCCCCGGTATCACCAATACTGCCACCAAACACAGCAGGCGGGAAGGGGCGAAAGTCCCTTATCCGACAATAAAACTTCGCTTGTTCGACGCCCGGTTCACCCGATATGCACGGCGCCCAGCCATTCGTGACCGACGTCCCCAGCCCCAAGGCCGAACGACCCTAGGAGCCACGAGCAATTCACAGCG\", \n",
    "       \"CCGCTGGCGACGCTGTTCGCCGGCAGCGTGCGTGACGACTTCGAGCTGCCCGACTACACCTGGTGACCACCGCCGACGGGCACCTCTCCGCCAGGTAGGCACGGTTTGTCGCCGGCAATGTGACCTTTGGGCGCGGTCTTGAGGACCTTCGGCCCCACCCACGAGGCCGCCGCCGGCCGATCGTATGACGTGCAATGTACGCCATAGGGTGCGTGTTACGGCGATTACCTGAAGGCGGCGGTGGTCCGGA\", \n",
    "       \"GGCCAACTGCACCGCGCTCTTGATGACATCGGTGGTCACCATGGTGTCCGGCATGATCAACCTCCGCTGTTCGATATCACCCCGATCTTTCTGAACGGCGGTTGGCAGACAACAGGGTCAATGGTCCCCAAGTGGATCACCGACGGGCGCGGACAAATGGCCCGCGCTTCGGGGACTTCTGTCCCTAGCCCTGGCCACGATGGGCTGGTCGGATCAAAGGCATCCGTTTCCATCGATTAGGAGGCATCAA\", \n",
    "       \"GTACATGTCCAGAGCGAGCCTCAGCTTCTGCGCAGCGACGGAAACTGCCACACTCAAAGCCTACTGGGCGCACGTGTGGCAACGAGTCGATCCACACGAAATGCCGCCGTTGGGCCGCGGACTAGCCGAATTTTCCGGGTGGTGACACAGCCCACATTTGGCATGGGACTTTCGGCCCTGTCCGCGTCCGTGTCGGCCAGACAAGCTTTGGGCATTGGCCACAATCGGGCCACAATCGAAAGCCGAGCAG\", \n",
    "       \"GGCAGCTGTCGGCAACTGTAAGCCATTTCTGGGACTTTGCTGTGAAAAGCTGGGCGATGGTTGTGGACCTGGACGAGCCACCCGTGCGATAGGTGAGATTCATTCTCGCCCTGACGGGTTGCGTCTGTCATCGGTCGATAAGGACTAACGGCCCTCAGGTGGGGACCAACGCCCCTGGGAGATAGCGGTCCCCGCCAGTAACGTACCGCTGAACCGACGGGATGTATCCGCCCCAGCGAAGGAGACGGCG\", \n",
    "       \"TCAGCACCATGACCGCCTGGCCACCAATCGCCCGTAACAAGCGGGACGTCCGCGACGACGCGTGCGCTAGCGCCGTGGCGGTGACAACGACCAGATATGGTCCGAGCACGCGGGCGAACCTCGTGTTCTGGCCTCGGCCAGTTGTGTAGAGCTCATCGCTGTCATCGAGCGATATCCGACCACTGATCCAAGTCGGGGGCTCTGGGGACCGAAGTCCCCGGGCTCGGAGCTATCGGACCTCACGATCACC\"]"
   ]
  },
  {
   "cell_type": "code",
   "execution_count": 11,
   "metadata": {
    "scrolled": false
   },
   "outputs": [
    {
     "name": "stdout",
     "output_type": "stream",
     "text": [
      "['GGACTTCAGGCCCTA', 'GGTCAAACGACCCTA', 'GGACGTAAGTCCCTA', 'GGATTACCGACCGCA', 'GGCCGAACGACCCTA', 'GGACCTTCGGCCCCA', 'GGACTTCTGTCCCTA', 'GGACTTTCGGCCCTG', 'GGACTAACGGCCCTC', 'GGACCGAAGTCCCCG']\n",
      "35\n"
     ]
    }
   ],
   "source": [
    "k = 15\n",
    "t = len(Dna)\n",
    "\n",
    "motifs = GreedyMotifSearchWithPseudocounts(Dna, k, t)\n",
    "print(motifs)\n",
    "print(Score(motifs))"
   ]
  },
  {
   "cell_type": "markdown",
   "metadata": {},
   "source": [
    "```\n",
    "Week_3의 GreedyMotifSearch 결과의 Score = 64\n",
    "\n",
    "Week_4의 GreedyMotifSearchWithPseudocounts 결과의 Score = 35  로 크게 향상되었음.\n",
    "\n",
    "```"
   ]
  },
  {
   "cell_type": "markdown",
   "metadata": {},
   "source": [
    "### Monte Carlo algorithms (Randomized algorithms)"
   ]
  },
  {
   "cell_type": "markdown",
   "metadata": {},
   "source": [
    "```\n",
    "DNA에서 무작위로 선택한 k-mer 모음, 이를 이용해 Profile 구성하고, 이 Profile을 사용해 새로운 k-mer 모음을 생성. \n",
    "두번째로 생성한 k-mer의 score가 이전 것보다 더 좋음.\n",
    "k-mer의 score를 계속 향상되는 한 이 과정을 계속 반복.\n",
    "\n",
    "```"
   ]
  },
  {
   "cell_type": "code",
   "execution_count": 12,
   "metadata": {},
   "outputs": [],
   "source": [
    "import random"
   ]
  },
  {
   "cell_type": "code",
   "execution_count": 13,
   "metadata": {},
   "outputs": [],
   "source": [
    "# Profile을 이용해 motifs 추출\n",
    "def Motifs(Profile, Dna):\n",
    "    motifs = []\n",
    "    \n",
    "    k = len(Profile['A'])\n",
    "    \n",
    "    for string in Dna:\n",
    "        motif = ProfileMostProbableKmer(string, k, Profile)\n",
    "        motifs.append(motif)\n",
    "        \n",
    "    return motifs"
   ]
  },
  {
   "cell_type": "code",
   "execution_count": 14,
   "metadata": {},
   "outputs": [
    {
     "data": {
      "text/plain": [
       "['ACCT', 'ATGT', 'GCGT', 'ACGA', 'AGGT']"
      ]
     },
     "execution_count": 14,
     "metadata": {},
     "output_type": "execute_result"
    }
   ],
   "source": [
    "Dna = [\n",
    "    \"TTACCTTAAC\",\n",
    "    \"GATGTCTGTC\",\n",
    "    \"ACGGCGTTAG\",\n",
    "    \"CCCTAACGAG\",\n",
    "    \"CGTCAGAGGT\"\n",
    "]\n",
    "\n",
    "profile = {\n",
    "    'A': [0.8, 0.0, 0.0, 0.2],\n",
    "    'C': [0.0, 0.6, 0.2, 0.0],\n",
    "    'G': [0.2, 0.2, 0.8, 0.0],\n",
    "    'T': [0.0, 0.2, 0.0, 0.8]\n",
    "}\n",
    "\n",
    "Motifs(profile, Dna)"
   ]
  },
  {
   "cell_type": "code",
   "execution_count": 15,
   "metadata": {},
   "outputs": [],
   "source": [
    "def RandomMotifs(Dna, k, t):\n",
    "    randomMotif =[]\n",
    "    for i in range(t):\n",
    "        r = random.randint(0, len(Dna[0])-k) # random.randint(0, m) : 0 ~ m 사이의 정수를 랜덤으로 선택\n",
    "        randomMotif.append(Dna[i][r:r+k])\n",
    "        \n",
    "    return randomMotif"
   ]
  },
  {
   "cell_type": "code",
   "execution_count": 16,
   "metadata": {},
   "outputs": [
    {
     "data": {
      "text/plain": [
       "['ACC', 'ATG', 'TAG', 'TAA', 'GTC']"
      ]
     },
     "execution_count": 16,
     "metadata": {},
     "output_type": "execute_result"
    }
   ],
   "source": [
    "Dna = [\n",
    "    \"TTACCTTAAC\",\n",
    "    \"GATGTCTGTC\",\n",
    "    \"ACGGCGTTAG\",\n",
    "    \"CCCTAACGAG\",\n",
    "    \"CGTCAGAGGT\"\n",
    "]\n",
    "\n",
    "RandomMotifs(Dna, 3, len(Dna))"
   ]
  },
  {
   "cell_type": "code",
   "execution_count": 17,
   "metadata": {
    "scrolled": false
   },
   "outputs": [],
   "source": [
    "def RandomizedMotifSearch(Dna, k, t):\n",
    "\n",
    "    # 최초에 random motif 생성\n",
    "    newMotifs = RandomMotifs(Dna, k, t)\n",
    "    bestMotifs = newMotifs\n",
    "    bestScore = Score(newMotifs)\n",
    "    \n",
    "    # random 추출 반복\n",
    "    while True:\n",
    "        profile = ProfileWithPseudocounts(newMotifs)       \n",
    "        newMotifs = Motifs(profile, Dna)\n",
    "        \n",
    "        currentScore = Score(newMotifs)\n",
    "        \n",
    "        if currentScore < bestScore:\n",
    "            bestScore = currentScore\n",
    "            bestMotifs = newMotifs\n",
    "        else:\n",
    "            return bestMotifs \n",
    "            \n",
    "    return bestMotifs"
   ]
  },
  {
   "cell_type": "code",
   "execution_count": 18,
   "metadata": {},
   "outputs": [
    {
     "data": {
      "text/plain": [
       "['CCT', 'CTG', 'ACG', 'CCC', 'CAG']"
      ]
     },
     "execution_count": 18,
     "metadata": {},
     "output_type": "execute_result"
    }
   ],
   "source": [
    "k = 3\n",
    "t = len(Dna)\n",
    "\n",
    "RandomizedMotifSearch(Dna, k, t)"
   ]
  },
  {
   "cell_type": "code",
   "execution_count": 19,
   "metadata": {},
   "outputs": [
    {
     "name": "stdout",
     "output_type": "stream",
     "text": [
      "['CCCCTCTC', 'AAGGTGCC', 'CCGAAAGA', 'ACGTCGGT', 'CCACCAGC']\n",
      "18\n"
     ]
    }
   ],
   "source": [
    "Dna = [\n",
    "    \"CGCCCCTCTCGGGGGTGTTCAGTAAACGGCCA\",\n",
    "    \"GGGCGAGGTATGTGTAAGTGCCAAGGTGCCAG\",\n",
    "    \"TAGTACCGAGACCGAAAGAAGTATACAGGCGT\",\n",
    "    \"TAGATCAAGTTTCAGGTGCACGTCGGTGAACC\",\n",
    "    \"AATCCACCAGCTCCACGTGCAATGTTGGCCTA\"\n",
    "]\n",
    "\n",
    "k = 8\n",
    "t = len(Dna)\n",
    "\n",
    "motifs = RandomizedMotifSearch(Dna, k, t)\n",
    "\n",
    "print(motifs)\n",
    "print(Score(motifs))"
   ]
  },
  {
   "cell_type": "markdown",
   "metadata": {},
   "source": [
    "### Gibbs Sampling"
   ]
  },
  {
   "cell_type": "markdown",
   "metadata": {},
   "source": [
    "```\n",
    "결합 분포가 알려져 있지 않으나 각 변수의 조건부 확률분포는 알려져 있을 경우 이에 의존하여 교대로 표본을 채취하는 방법.\n",
    "특히 MCMC (Markov Chain Monte Carlo) 방법에서 target distribution의 추정에 매우 중요한 역할을 한다.\n",
    "https://m.blog.naver.com/sw4r/221917843395\n",
    "\n",
    "RandomizedMotifSearch 는 한 번의 iteration에서 t 개의 모든 string을 변경한다.\n",
    "이것은 올바른 motif가 다음 iteration에서는 무시될 가능성이 있다.\n",
    "\n",
    "GibbsSampler는 한 번의 iteration에서 1개의 string만 변경하고 나머지는 유지한다.\n",
    "선택된 각 k-mer들은 profile에 의해 계산된 확률이 다를 수 있다.\n",
    "\n",
    "GibbsSampler는 k-mer 중에서 삭제할 (무시할) string을 무작위로 선택한다.\n",
    "나머시 t-1 개의 k-mer로 motif, count, profile matrix를 생성한다. 여기에 pseudocounts를 적용한다.\n",
    "pseudocounts를 적용하면 확률의 합이 1이 되지 않기 때문에 이를 Normalize 할 필요가 있다.\n",
    "```"
   ]
  },
  {
   "cell_type": "code",
   "execution_count": 20,
   "metadata": {},
   "outputs": [],
   "source": [
    "def Normalize(Probabilities):\n",
    "    total_p = sum(Probabilities.values())\n",
    "    p = [(k, v/total_p) for k, v in Probabilities.items()]\n",
    "    norm_p = dict(p)\n",
    "    return norm_p"
   ]
  },
  {
   "cell_type": "code",
   "execution_count": 21,
   "metadata": {},
   "outputs": [
    {
     "data": {
      "text/plain": [
       "{'A': 0.25, 'C': 0.25, 'G': 0.25, 'T': 0.25}"
      ]
     },
     "execution_count": 21,
     "metadata": {},
     "output_type": "execute_result"
    }
   ],
   "source": [
    "prior_prob = {'A': 0.1, 'C': 0.1, 'G': 0.1, 'T': 0.1}\n",
    "\n",
    "Normalize(prior_prob)"
   ]
  },
  {
   "cell_type": "code",
   "execution_count": 22,
   "metadata": {},
   "outputs": [],
   "source": [
    "def WeightedDie(Probabilities):\n",
    "    p = random.uniform(0,1)\n",
    "    #print(p)\n",
    "    \n",
    "    norm_p = Normalize(Probabilities)\n",
    "\n",
    "    sum_p = 0\n",
    "    for key,value in norm_p.items():\n",
    "        sum_p = sum_p + value\n",
    "        #print('sum_p :', sum_p)\n",
    "        if p < sum_p:\n",
    "            return key"
   ]
  },
  {
   "cell_type": "code",
   "execution_count": 23,
   "metadata": {},
   "outputs": [
    {
     "name": "stdout",
     "output_type": "stream",
     "text": [
      "G\n"
     ]
    }
   ],
   "source": [
    "selected_key = WeightedDie(prior_prob)\n",
    "print(selected_key)"
   ]
  },
  {
   "cell_type": "markdown",
   "metadata": {},
   "source": [
    "```\n",
    "string에서 무작위로 k-mer를 샘플링하는 시뮬레이션\n",
    "```"
   ]
  },
  {
   "cell_type": "code",
   "execution_count": 24,
   "metadata": {},
   "outputs": [],
   "source": [
    "def ProfileGeneratedString(Text, profile, k):\n",
    "    \"\"\"\n",
    "    profile 기반으로 Text에 대해 가능한 모든 k-mer에 대한 확률을 계산.\n",
    "    이 확률을 Normalize 한 확률을 이용해 WeightedDie 추출\n",
    "    \"\"\"\n",
    "    n = len(Text)\n",
    "    probabilities = {}\n",
    "    for i in range(0, n-k+1):\n",
    "        probabilities[Text[i:i+k]] = ProbMotif(Text[i:i+k], profile)\n",
    "\n",
    "    probabilities = Normalize(probabilities)\n",
    "    \n",
    "    return WeightedDie(probabilities)"
   ]
  },
  {
   "cell_type": "code",
   "execution_count": 25,
   "metadata": {},
   "outputs": [
    {
     "data": {
      "text/plain": [
       "'AC'"
      ]
     },
     "execution_count": 25,
     "metadata": {},
     "output_type": "execute_result"
    }
   ],
   "source": [
    "string = 'AAACCCAAACCC'\n",
    "\n",
    "# 2-mer 에 대한 사전확률\n",
    "profile = {'A': [0.5, 0.1], 'C': [0.3, 0.2], 'G': [0.2, 0.4], 'T': [0.0, 0.3]}\n",
    "\n",
    "ProfileGeneratedString(string, profile, 2)"
   ]
  },
  {
   "cell_type": "code",
   "execution_count": 26,
   "metadata": {},
   "outputs": [],
   "source": [
    "def GibbsSampler(Dna, k , t, N):\n",
    "    M = RandomMotifs(Dna, k, t)\n",
    "    BestMotifs = M\n",
    "    for j in range(N):\n",
    "        i = random.randint(0,t-1)\n",
    "        M.pop(i)\n",
    "        Profile =  ProfileWithPseudocounts(M)\n",
    "        newMotif =  ProfileGeneratedString(Dna[i], Profile, k)\n",
    "        M.insert(i,newMotif)\n",
    "        if Score(M) < Score(BestMotifs):\n",
    "            BestMotifs = M\n",
    "\n",
    "    return BestMotifs"
   ]
  },
  {
   "cell_type": "code",
   "execution_count": 27,
   "metadata": {},
   "outputs": [
    {
     "name": "stdout",
     "output_type": "stream",
     "text": [
      "['AACGGCCA', 'AGGTGCCA', 'TAGTACCG', 'AAGTTTCA', 'AGCTCCAC']\n",
      "13\n"
     ]
    }
   ],
   "source": [
    "Dna = [\n",
    "    \"CGCCCCTCTCGGGGGTGTTCAGTAAACGGCCA\",\n",
    "    \"GGGCGAGGTATGTGTAAGTGCCAAGGTGCCAG\",\n",
    "    \"TAGTACCGAGACCGAAAGAAGTATACAGGCGT\",\n",
    "    \"TAGATCAAGTTTCAGGTGCACGTCGGTGAACC\",\n",
    "    \"AATCCACCAGCTCCACGTGCAATGTTGGCCTA\"\n",
    "]\n",
    "\n",
    "k = 8\n",
    "t = len(Dna)\n",
    "N = 100\n",
    "\n",
    "motifs = GibbsSampler(Dna, k, t, N)\n",
    "\n",
    "print(motifs)\n",
    "print(Score(motifs))"
   ]
  },
  {
   "cell_type": "code",
   "execution_count": 28,
   "metadata": {},
   "outputs": [
    {
     "name": "stdout",
     "output_type": "stream",
     "text": [
      "['CGT', 'TCA', 'AGG', 'CGT', 'CAA']\n",
      "7\n"
     ]
    }
   ],
   "source": [
    "Dna = [\n",
    "    \"GGCGTTCAGGCA\",\n",
    "    \"AAGAATCAGTCA\",\n",
    "    \"CAAGGAGTTCGC\",\n",
    "    \"CACGTCAATCAC\",\n",
    "    \"CAATAATATTCG\"\n",
    "]\n",
    "\n",
    "k = 3\n",
    "t = len(Dna)\n",
    "N = 10\n",
    "\n",
    "motifs = GibbsSampler(Dna, k, t, N)\n",
    "\n",
    "print(motifs)\n",
    "print(Score(motifs))"
   ]
  },
  {
   "cell_type": "code",
   "execution_count": 29,
   "metadata": {},
   "outputs": [
    {
     "data": {
      "text/plain": [
       "['GTC', 'GCC', 'ATA', 'GCT']"
      ]
     },
     "execution_count": 29,
     "metadata": {},
     "output_type": "execute_result"
    }
   ],
   "source": [
    "# Quiz\n",
    "\n",
    "def Profile(Motifs):\n",
    "    t = len(Motifs)\n",
    "    k = len(Motifs[0])\n",
    "    \n",
    "    profile = {'A':[0]*k, 'C':[0]*k, 'G':[0]*k,'T':[0]*k}\n",
    "\n",
    "    for i in range(t):\n",
    "        for j in range(k):\n",
    "            symbol = Motifs[i][j]\n",
    "            profile[symbol][j] += 1\n",
    "            \n",
    "    for key, val in profile.items():\n",
    "        val[:] = [x / t for x in val]\n",
    "        \n",
    "    return profile\n",
    "\n",
    "Dna = [\n",
    "    \"ATGAGGTC\",\n",
    "    \"GCCCTAGA\",\n",
    "    \"AAATAGAT\",\n",
    "    \"TTGTGCTA\"\n",
    "]\n",
    "\n",
    "motifs = ['GTC', \n",
    "         'CCC', \n",
    "         'ATA', \n",
    "         'GCT']\n",
    "profile = Profile(motifs)\n",
    "# print(profile)\n",
    "\n",
    "Motifs(profile, Dna)"
   ]
  }
 ],
 "metadata": {
  "kernelspec": {
   "display_name": "Python 3",
   "language": "python",
   "name": "python3"
  },
  "language_info": {
   "codemirror_mode": {
    "name": "ipython",
    "version": 3
   },
   "file_extension": ".py",
   "mimetype": "text/x-python",
   "name": "python",
   "nbconvert_exporter": "python",
   "pygments_lexer": "ipython3",
   "version": "3.8.6"
  }
 },
 "nbformat": 4,
 "nbformat_minor": 4
}
