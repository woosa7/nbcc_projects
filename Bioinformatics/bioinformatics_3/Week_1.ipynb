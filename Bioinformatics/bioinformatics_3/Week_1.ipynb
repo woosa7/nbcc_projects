{
 "cells": [
  {
   "cell_type": "markdown",
   "metadata": {},
   "source": [
    "# 1. Where in the Genome Does Replication Begin?"
   ]
  },
  {
   "cell_type": "code",
   "execution_count": 1,
   "metadata": {},
   "outputs": [],
   "source": [
    "# ori of Vibrio cholerae\n",
    "vibrio = \"ATCAATGATCAACGTAAGCTTCTAAGCATGATCAAGGTGCTCACACAGTTTATCCACAACCTGAGTGGATGACATCAAGATAGGTCGTTGTATCTCCTTCCTCTCGTACTCTCATGACCACGGAAAGATGATCAAGAGAGGATGATTTCTTGGCCATATCGCAATGAATACTTGTGACTTGTGCTTCCAATTGACATCTTCAGCGCCATATTGCGCTGGCCAAGGTGACGGAGCGGGATTACGAAAGCATGATCATGGCTGTTGTTCTGTTTATCTTGTTTTGACTGAGACTTGTTAGGATAGACGGTTTTTCATCACTGACTAGCCAAAGCCTTACTCTGCCTGACATCGACCGTAAATTGATAATGAATTTACATGCTTCCGCGACGATTTACCTCTTGATCATCGATCCGATTGAAGATCTTCAATTGTTAATTCTCTTGCCTCGACTCATAGCCATGATGAGCTCTTGATCATGTTTCCTTAACCCTCTATTTTTTACGGAAGAATGATCAAGCTGCTGCTCTTGATCATCGTTTC\"\n",
    "\n",
    "# ori of Thermotoga petrophila\n",
    "thermotoga = 'AACTCTATACCTCCTTTTTGTCGAATTTGTGTGATTTATAGAGAAAATCTTATTAACTGAAACTAAAATGGTAGGTTTGGTGGTAGGTTTTGTGTACATTTTGTAGTATCTGATTTTTAATTACATACCGTATATTGTATTAAATTGACGAACAATTGCATGGAATTGAATATATGCAAAACAAACCTACCACCAAACTCTGTATTGACCATTTTAGGACAACTTCAGGGTGGTAGGTTTCTGAAGCTCTCATCAATAGACTATTTTAGTCTTTACAAACAATATTACCGTTCAGATTCAAGATTCTACAACGCTGTTTTAATGGGCGTTGCAGAAAACTTACCACCTAAAATCCAGTATCCAAGCCGATTTCAGAGAAACCTACCACTTACCTACCACTTACCTACCACCCGGGTGGTAAGTTGCAGACATTATTAAAAACCTCATCAGAAGCTTGTTCAAAAATTTCAATACTCGAAACCTACCACCTGCGTCCCCTATTATTTACTACTACTAATAATAGCAGTATAATTGATCTGA'"
   ]
  },
  {
   "cell_type": "markdown",
   "metadata": {},
   "source": [
    "### Counting pattern words"
   ]
  },
  {
   "cell_type": "code",
   "execution_count": 2,
   "metadata": {},
   "outputs": [],
   "source": [
    "pattern = \"TGATCA\""
   ]
  },
  {
   "cell_type": "code",
   "execution_count": 3,
   "metadata": {},
   "outputs": [
    {
     "name": "stdout",
     "output_type": "stream",
     "text": [
      "8\n"
     ]
    }
   ],
   "source": [
    "# method 1\n",
    "def PatternCount(Text, Pattern):\n",
    "    count = 0\n",
    "    # Pattern 길이보다 작아지면 종료.\n",
    "    for i in range(len(Text)-len(Pattern)+1):\n",
    "        if Text[i:i+len(Pattern)] == Pattern:\n",
    "            count = count+1\n",
    "    return count\n",
    "\n",
    "print(PatternCount(vibrio, pattern))"
   ]
  },
  {
   "cell_type": "code",
   "execution_count": 4,
   "metadata": {},
   "outputs": [
    {
     "name": "stdout",
     "output_type": "stream",
     "text": [
      "8\n"
     ]
    }
   ],
   "source": [
    "# method 2\n",
    "import re\n",
    "\n",
    "m = re.findall(pattern, vibrio)\n",
    "print(len(m))"
   ]
  },
  {
   "cell_type": "markdown",
   "metadata": {},
   "source": [
    "### Finding most frequent k-mer"
   ]
  },
  {
   "cell_type": "code",
   "execution_count": 5,
   "metadata": {},
   "outputs": [],
   "source": [
    "def FrequencyMap(Text, k):\n",
    "    freq = {}\n",
    "    n = len(Text)\n",
    "    for i in range(n-k+1):\n",
    "        Pattern = Text[i:i+k]\n",
    "        freq[Pattern] = 0\n",
    "\n",
    "        for j in range(n-k+1):\n",
    "            if Text[j:j+k] == Pattern:\n",
    "                freq[Pattern] += 1\n",
    "\n",
    "    return freq\n",
    "\n",
    "def FrequentWords(Text, k):\n",
    "    words = []\n",
    "    freq = FrequencyMap(Text, k)\n",
    "    m = max(freq.values())\n",
    "    print('Max freq :', m)\n",
    "    for key in freq:\n",
    "        if freq[key] == m:\n",
    "            words.append(key)\n",
    "    return words"
   ]
  },
  {
   "cell_type": "code",
   "execution_count": 6,
   "metadata": {},
   "outputs": [
    {
     "name": "stdout",
     "output_type": "stream",
     "text": [
      "Max freq : 3\n",
      "['ATGATCAAG', 'CTCTTGATC', 'TCTTGATCA', 'CTTGATCAT']\n"
     ]
    }
   ],
   "source": [
    "words = FrequentWords(vibrio, 9)\n",
    "print(words)"
   ]
  },
  {
   "cell_type": "markdown",
   "metadata": {},
   "source": [
    "### Find the reverse complement of a DNA string"
   ]
  },
  {
   "cell_type": "code",
   "execution_count": 7,
   "metadata": {},
   "outputs": [
    {
     "name": "stdout",
     "output_type": "stream",
     "text": [
      "ACCGGGTTTT\n"
     ]
    }
   ],
   "source": [
    "def ReverseComplement(Pattern):\n",
    "    reverse_txt = Pattern[::-1]\n",
    "    comp = \"\"\n",
    "    basepair = {\"A\":\"T\", \"T\":\"A\", \"C\":\"G\", \"G\":\"C\"}\n",
    "    for char in reverse_txt:\n",
    "        comp += basepair.get(char)  # get() returns the value for the specified key\n",
    "\n",
    "    return comp\n",
    "\n",
    "\n",
    "text = \"AAAACCCGGT\"\n",
    "print(ReverseComplement(text))"
   ]
  },
  {
   "cell_type": "markdown",
   "metadata": {},
   "source": [
    "### Find the pattern matching positions"
   ]
  },
  {
   "cell_type": "code",
   "execution_count": 8,
   "metadata": {},
   "outputs": [],
   "source": [
    "def PatternMatching(Pattern, Genome):\n",
    "    positions = []\n",
    "    for i in range(len(Genome)-len(Pattern)+1):\n",
    "        if Genome[i:i+len(Pattern)] == Pattern:\n",
    "            positions.append(i)\n",
    "\n",
    "    return positions"
   ]
  },
  {
   "cell_type": "code",
   "execution_count": 9,
   "metadata": {},
   "outputs": [
    {
     "name": "stdout",
     "output_type": "stream",
     "text": [
      "[27, 127, 508]\n",
      "[397, 468, 525]\n"
     ]
    }
   ],
   "source": [
    "pattern1 = \"ATGATCAAG\"\n",
    "pattern2 = \"CTTGATCAT\"\n",
    "\n",
    "print(PatternMatching(pattern1, vibrio))\n",
    "print(PatternMatching(pattern2, vibrio))"
   ]
  },
  {
   "cell_type": "code",
   "execution_count": 10,
   "metadata": {},
   "outputs": [
    {
     "name": "stdout",
     "output_type": "stream",
     "text": [
      "pattern in Thermotoga petrophila : 0\n"
     ]
    }
   ],
   "source": [
    "# 다른 박테리아에는 동일한 패턴이 없을 수도 있다.\n",
    "count_1 = PatternCount(thermotoga, pattern1)\n",
    "count_2 = PatternCount(thermotoga, pattern2)\n",
    "\n",
    "print('pattern in Thermotoga petrophila :', count_1 + count_2)"
   ]
  },
  {
   "cell_type": "markdown",
   "metadata": {},
   "source": [
    "### The Clump Finding Problem\n",
    "\n",
    "* 특정 박테리아의 genome에서 t번 이상 반복되는 k-mer 패턴(clumps)이 어떤 것인지 알아내는 함수가 필요.\n",
    "* Find all distinct k-mers forming (L, t)-clumps in Genome"
   ]
  }
 ],
 "metadata": {
  "kernelspec": {
   "display_name": "Python 3",
   "language": "python",
   "name": "python3"
  },
  "language_info": {
   "codemirror_mode": {
    "name": "ipython",
    "version": 3
   },
   "file_extension": ".py",
   "mimetype": "text/x-python",
   "name": "python",
   "nbconvert_exporter": "python",
   "pygments_lexer": "ipython3",
   "version": "3.8.6"
  }
 },
 "nbformat": 4,
 "nbformat_minor": 4
}
