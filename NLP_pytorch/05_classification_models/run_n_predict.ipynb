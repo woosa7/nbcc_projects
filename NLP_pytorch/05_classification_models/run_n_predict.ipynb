{
 "cells": [
  {
   "cell_type": "markdown",
   "metadata": {
    "id": "G_g-68tMZmwQ"
   },
   "source": [
    "# setting environment in colab"
   ]
  },
  {
   "cell_type": "code",
   "execution_count": 1,
   "metadata": {
    "colab": {
     "base_uri": "https://localhost:8080/"
    },
    "executionInfo": {
     "elapsed": 3772,
     "status": "ok",
     "timestamp": 1626407497083,
     "user": {
      "displayName": "Woo-Hyun Kim",
      "photoUrl": "",
      "userId": "05099970254823183976"
     },
     "user_tz": -540
    },
    "id": "T9W4c66YWwps",
    "outputId": "e9ff9511-7be6-41c0-9c5e-903b4ef96d77"
   },
   "outputs": [
    {
     "name": "stdout",
     "output_type": "stream",
     "text": [
      "Collecting pytorch-ignite\n",
      "\u001b[?25l  Downloading https://files.pythonhosted.org/packages/cc/c3/f472843797b5ccbb2f0e806a6927f52c7c9522bfcea8e7e881d39258368b/pytorch_ignite-0.4.5-py3-none-any.whl (221kB)\n",
      "\r",
      "\u001b[K     |█▌                              | 10kB 21.0MB/s eta 0:00:01\r",
      "\u001b[K     |███                             | 20kB 18.4MB/s eta 0:00:01\r",
      "\u001b[K     |████▍                           | 30kB 17.4MB/s eta 0:00:01\r",
      "\u001b[K     |██████                          | 40kB 14.9MB/s eta 0:00:01\r",
      "\u001b[K     |███████▍                        | 51kB 8.3MB/s eta 0:00:01\r",
      "\u001b[K     |████████▉                       | 61kB 8.1MB/s eta 0:00:01\r",
      "\u001b[K     |██████████▍                     | 71kB 8.8MB/s eta 0:00:01\r",
      "\u001b[K     |███████████▉                    | 81kB 9.0MB/s eta 0:00:01\r",
      "\u001b[K     |█████████████▎                  | 92kB 9.1MB/s eta 0:00:01\r",
      "\u001b[K     |██████████████▉                 | 102kB 9.3MB/s eta 0:00:01\r",
      "\u001b[K     |████████████████▎               | 112kB 9.3MB/s eta 0:00:01\r",
      "\u001b[K     |█████████████████▊              | 122kB 9.3MB/s eta 0:00:01\r",
      "\u001b[K     |███████████████████▏            | 133kB 9.3MB/s eta 0:00:01\r",
      "\u001b[K     |████████████████████▊           | 143kB 9.3MB/s eta 0:00:01\r",
      "\u001b[K     |██████████████████████▏         | 153kB 9.3MB/s eta 0:00:01\r",
      "\u001b[K     |███████████████████████▋        | 163kB 9.3MB/s eta 0:00:01\r",
      "\u001b[K     |█████████████████████████▏      | 174kB 9.3MB/s eta 0:00:01\r",
      "\u001b[K     |██████████████████████████▋     | 184kB 9.3MB/s eta 0:00:01\r",
      "\u001b[K     |████████████████████████████    | 194kB 9.3MB/s eta 0:00:01\r",
      "\u001b[K     |█████████████████████████████▋  | 204kB 9.3MB/s eta 0:00:01\r",
      "\u001b[K     |███████████████████████████████ | 215kB 9.3MB/s eta 0:00:01\r",
      "\u001b[K     |████████████████████████████████| 225kB 9.3MB/s \n",
      "\u001b[?25hRequirement already satisfied: torch<2,>=1.3 in /usr/local/lib/python3.7/dist-packages (from pytorch-ignite) (1.9.0+cu102)\n",
      "Requirement already satisfied: typing-extensions in /usr/local/lib/python3.7/dist-packages (from torch<2,>=1.3->pytorch-ignite) (3.7.4.3)\n",
      "Installing collected packages: pytorch-ignite\n",
      "Successfully installed pytorch-ignite-0.4.5\n"
     ]
    }
   ],
   "source": [
    "# install ignite\n",
    "\n",
    "!pip install pytorch-ignite"
   ]
  },
  {
   "cell_type": "code",
   "execution_count": 2,
   "metadata": {
    "colab": {
     "base_uri": "https://localhost:8080/"
    },
    "executionInfo": {
     "elapsed": 19302,
     "status": "ok",
     "timestamp": 1626407516376,
     "user": {
      "displayName": "Woo-Hyun Kim",
      "photoUrl": "",
      "userId": "05099970254823183976"
     },
     "user_tz": -540
    },
    "id": "xpwb0NHQVke5",
    "outputId": "914befd8-6f17-4a7a-a7a3-59222708d190"
   },
   "outputs": [
    {
     "name": "stdout",
     "output_type": "stream",
     "text": [
      "Mounted at /content/drive\n"
     ]
    }
   ],
   "source": [
    "# mount my google drive\n",
    "from google.colab import drive\n",
    "drive.mount('/content/drive')"
   ]
  },
  {
   "cell_type": "code",
   "execution_count": 3,
   "metadata": {
    "executionInfo": {
     "elapsed": 7,
     "status": "ok",
     "timestamp": 1626407516378,
     "user": {
      "displayName": "Woo-Hyun Kim",
      "photoUrl": "",
      "userId": "05099970254823183976"
     },
     "user_tz": -540
    },
    "id": "QR2vdAIrVmNM"
   },
   "outputs": [],
   "source": [
    "import os\n",
    "\n",
    "work_dir = '/content/drive/MyDrive/Colab/05_classification_models/'\n",
    "os.chdir(work_dir)"
   ]
  },
  {
   "cell_type": "code",
   "execution_count": 4,
   "metadata": {
    "executionInfo": {
     "elapsed": 4383,
     "status": "ok",
     "timestamp": 1626407520755,
     "user": {
      "displayName": "Woo-Hyun Kim",
      "photoUrl": "",
      "userId": "05099970254823183976"
     },
     "user_tz": -540
    },
    "id": "o_2wrx3QVi2y"
   },
   "outputs": [],
   "source": [
    "import torch\n",
    "import torch.nn"
   ]
  },
  {
   "cell_type": "code",
   "execution_count": 14,
   "metadata": {
    "executionInfo": {
     "elapsed": 337,
     "status": "ok",
     "timestamp": 1626407625793,
     "user": {
      "displayName": "Woo-Hyun Kim",
      "photoUrl": "",
      "userId": "05099970254823183976"
     },
     "user_tz": -540
    },
    "id": "JcyZPhEcVi20"
   },
   "outputs": [],
   "source": [
    "import sys\n",
    "import numpy as np\n",
    "import matplotlib.pyplot as plt\n",
    "\n",
    "from mnist_classification.data_loader import load_mnist"
   ]
  },
  {
   "cell_type": "markdown",
   "metadata": {
    "id": "z4yUj32zZ7JQ"
   },
   "source": [
    "# MNIST classification with FC model"
   ]
  },
  {
   "cell_type": "code",
   "execution_count": 6,
   "metadata": {
    "colab": {
     "base_uri": "https://localhost:8080/"
    },
    "executionInfo": {
     "elapsed": 57886,
     "status": "ok",
     "timestamp": 1626407578631,
     "user": {
      "displayName": "Woo-Hyun Kim",
      "photoUrl": "",
      "userId": "05099970254823183976"
     },
     "user_tz": -540
    },
    "id": "Smy3cEGYVmQW",
    "outputId": "74b87f71-669b-47fc-8b07-89ea9622eba2"
   },
   "outputs": [
    {
     "name": "stdout",
     "output_type": "stream",
     "text": [
      "/usr/local/lib/python3.7/dist-packages/torchvision/datasets/mnist.py:498: UserWarning: The given NumPy array is not writeable, and PyTorch does not support non-writeable tensors. This means you can write to the underlying (supposedly non-writeable) NumPy array using the tensor. You may want to copy the array to protect its data or make it writeable before converting it to a tensor. This type of warning will be suppressed for the rest of this program. (Triggered internally at  /pytorch/torch/csrc/utils/tensor_numpy.cpp:180.)\n",
      "  return torch.from_numpy(parsed.astype(m[2], copy=False)).view(*s)\n",
      "Train: 48000\n",
      "Valid: 12000\n",
      "Test: 10000\n",
      "Epoch 1 - |param|=46.396 |g_param|=1.351 loss=0.2248 accuracy=0.9351\n",
      "Validation - loss=0.1273 accuracy=0.9664 best_loss=inf\n",
      "Epoch 2 - |param|=47.199 |g_param|=0.948 loss=0.1014 accuracy=0.9704\n",
      "Validation - loss=0.0998 accuracy=0.9713 best_loss=0.1273\n",
      "Epoch 3 - |param|=47.941 |g_param|=0.813 loss=0.0707 accuracy=0.9789\n",
      "Validation - loss=0.0890 accuracy=0.9704 best_loss=0.0998\n",
      "Epoch 4 - |param|=48.626 |g_param|=0.723 loss=0.0581 accuracy=0.9821\n",
      "Validation - loss=0.0816 accuracy=0.9756 best_loss=0.0890\n",
      "Epoch 5 - |param|=49.352 |g_param|=0.731 loss=0.0541 accuracy=0.9827\n",
      "Validation - loss=0.0842 accuracy=0.9757 best_loss=0.0816\n",
      "Epoch 6 - |param|=50.019 |g_param|=0.616 loss=0.0401 accuracy=0.9870\n",
      "Validation - loss=0.0769 accuracy=0.9803 best_loss=0.0816\n",
      "Epoch 7 - |param|=50.661 |g_param|=0.573 loss=0.0335 accuracy=0.9891\n",
      "Validation - loss=0.0647 accuracy=0.9793 best_loss=0.0769\n",
      "Epoch 8 - |param|=51.263 |g_param|=0.514 loss=0.0290 accuracy=0.9912\n",
      "Validation - loss=0.0785 accuracy=0.9789 best_loss=0.0647\n",
      "Epoch 9 - |param|=51.862 |g_param|=0.551 loss=0.0299 accuracy=0.9899\n",
      "Validation - loss=0.0886 accuracy=0.9801 best_loss=0.0647\n",
      "Epoch 10 - |param|=52.530 |g_param|=0.484 loss=0.0269 accuracy=0.9916\n",
      "Validation - loss=0.0897 accuracy=0.9805 best_loss=0.0647\n",
      "Epoch 11 - |param|=53.066 |g_param|=0.435 loss=0.0205 accuracy=0.9935\n",
      "Validation - loss=0.1036 accuracy=0.9745 best_loss=0.0647\n",
      "Epoch 12 - |param|=53.662 |g_param|=0.462 loss=0.0223 accuracy=0.9926\n",
      "Validation - loss=0.0940 accuracy=0.9749 best_loss=0.0647\n",
      "Epoch 13 - |param|=54.322 |g_param|=0.400 loss=0.0188 accuracy=0.9940\n",
      "Validation - loss=0.0640 accuracy=0.9805 best_loss=0.0647\n",
      "Epoch 14 - |param|=54.977 |g_param|=0.405 loss=0.0208 accuracy=0.9934\n",
      "Validation - loss=0.0816 accuracy=0.9793 best_loss=0.0640\n",
      "Epoch 15 - |param|=55.628 |g_param|=0.375 loss=0.0174 accuracy=0.9943\n",
      "Validation - loss=0.0639 accuracy=0.9833 best_loss=0.0640\n",
      "Epoch 16 - |param|=56.196 |g_param|=0.309 loss=0.0120 accuracy=0.9961\n",
      "Validation - loss=0.0687 accuracy=0.9851 best_loss=0.0639\n",
      "Epoch 17 - |param|=56.684 |g_param|=0.355 loss=0.0169 accuracy=0.9949\n",
      "Validation - loss=0.1074 accuracy=0.9766 best_loss=0.0639\n",
      "Epoch 18 - |param|=57.437 |g_param|=0.392 loss=0.0201 accuracy=0.9937\n",
      "Validation - loss=0.0593 accuracy=0.9847 best_loss=0.0639\n",
      "Epoch 19 - |param|=58.184 |g_param|=0.359 loss=0.0172 accuracy=0.9944\n",
      "Validation - loss=0.0854 accuracy=0.9846 best_loss=0.0593\n",
      "Epoch 20 - |param|=58.821 |g_param|=0.280 loss=0.0123 accuracy=0.9961\n",
      "Validation - loss=0.0890 accuracy=0.9775 best_loss=0.0593\n"
     ]
    }
   ],
   "source": [
    "!python main.py --model_fn model_fc_1.pt --model fc"
   ]
  },
  {
   "cell_type": "markdown",
   "metadata": {
    "id": "UclRAmk0Vi2u"
   },
   "source": [
    "# Test FC model"
   ]
  },
  {
   "cell_type": "code",
   "execution_count": 7,
   "metadata": {
    "executionInfo": {
     "elapsed": 23,
     "status": "ok",
     "timestamp": 1626407578634,
     "user": {
      "displayName": "Woo-Hyun Kim",
      "photoUrl": "",
      "userId": "05099970254823183976"
     },
     "user_tz": -540
    },
    "id": "JRYRGnDKVi20"
   },
   "outputs": [],
   "source": [
    "model_fn = \"./model_fc_1.pt\""
   ]
  },
  {
   "cell_type": "code",
   "execution_count": 8,
   "metadata": {
    "executionInfo": {
     "elapsed": 16,
     "status": "ok",
     "timestamp": 1626407578635,
     "user": {
      "displayName": "Woo-Hyun Kim",
      "photoUrl": "",
      "userId": "05099970254823183976"
     },
     "user_tz": -540
    },
    "id": "CIbsRVCDVi21"
   },
   "outputs": [],
   "source": [
    "device = torch.device('cuda') if torch.cuda.is_available() else torch.device('cpu')"
   ]
  },
  {
   "cell_type": "code",
   "execution_count": 9,
   "metadata": {
    "executionInfo": {
     "elapsed": 16,
     "status": "ok",
     "timestamp": 1626407578636,
     "user": {
      "displayName": "Woo-Hyun Kim",
      "photoUrl": "",
      "userId": "05099970254823183976"
     },
     "user_tz": -540
    },
    "id": "C3Jb9ggIVi21"
   },
   "outputs": [],
   "source": [
    "def load(fn, device):\n",
    "    d = torch.load(fn, map_location=device)\n",
    "    \n",
    "    return d['config'], d['model']"
   ]
  },
  {
   "cell_type": "code",
   "execution_count": 10,
   "metadata": {
    "executionInfo": {
     "elapsed": 15,
     "status": "ok",
     "timestamp": 1626407578637,
     "user": {
      "displayName": "Woo-Hyun Kim",
      "photoUrl": "",
      "userId": "05099970254823183976"
     },
     "user_tz": -540
    },
    "id": "Fihv6B_pVi22"
   },
   "outputs": [],
   "source": [
    "def plot(x, y_hat):\n",
    "    for i in range(x.size(0)):\n",
    "        img = (np.array(x[i].detach().cpu(), dtype='float')).reshape(28,28)\n",
    "\n",
    "        plt.imshow(img, cmap='gray')\n",
    "        plt.show()\n",
    "        print(\"Predict:\", int(torch.argmax(y_hat[i], dim=-1)))"
   ]
  },
  {
   "cell_type": "code",
   "execution_count": 11,
   "metadata": {
    "executionInfo": {
     "elapsed": 15,
     "status": "ok",
     "timestamp": 1626407578637,
     "user": {
      "displayName": "Woo-Hyun Kim",
      "photoUrl": "",
      "userId": "05099970254823183976"
     },
     "user_tz": -540
    },
    "id": "i_cS-wugVi23"
   },
   "outputs": [],
   "source": [
    "def test(model, x, y, to_be_shown=True):\n",
    "    model.eval()\n",
    "    \n",
    "    with torch.no_grad():\n",
    "        y_hat = model(x)\n",
    "\n",
    "        correct_cnt = (y.squeeze() == torch.argmax(y_hat, dim=-1)).sum()\n",
    "        total_cnt = float(x.size(0))\n",
    "        \n",
    "        accuracy = correct_cnt / total_cnt\n",
    "        print(\"Accuracy: %.4f\" % accuracy)\n",
    "        \n",
    "        if to_be_shown:\n",
    "            plot(x, y_hat)"
   ]
  },
  {
   "cell_type": "code",
   "execution_count": 12,
   "metadata": {
    "colab": {
     "base_uri": "https://localhost:8080/"
    },
    "executionInfo": {
     "elapsed": 3805,
     "status": "ok",
     "timestamp": 1626407582428,
     "user": {
      "displayName": "Woo-Hyun Kim",
      "photoUrl": "",
      "userId": "05099970254823183976"
     },
     "user_tz": -540
    },
    "id": "yCymRkQjVi24",
    "outputId": "644583a5-02e8-41cd-f919-9309c9f172d5"
   },
   "outputs": [
    {
     "name": "stdout",
     "output_type": "stream",
     "text": [
      "FullyConnectedClassifier(\n",
      "  (layers): Sequential(\n",
      "    (0): Linear(in_features=784, out_features=500, bias=True)\n",
      "    (1): LeakyReLU(negative_slope=0.01)\n",
      "    (2): BatchNorm1d(500, eps=1e-05, momentum=0.1, affine=True, track_running_stats=True)\n",
      "    (3): Linear(in_features=500, out_features=400, bias=True)\n",
      "    (4): LeakyReLU(negative_slope=0.01)\n",
      "    (5): BatchNorm1d(400, eps=1e-05, momentum=0.1, affine=True, track_running_stats=True)\n",
      "    (6): Linear(in_features=400, out_features=300, bias=True)\n",
      "    (7): LeakyReLU(negative_slope=0.01)\n",
      "    (8): BatchNorm1d(300, eps=1e-05, momentum=0.1, affine=True, track_running_stats=True)\n",
      "    (9): Linear(in_features=300, out_features=200, bias=True)\n",
      "    (10): LeakyReLU(negative_slope=0.01)\n",
      "    (11): BatchNorm1d(200, eps=1e-05, momentum=0.1, affine=True, track_running_stats=True)\n",
      "    (12): Linear(in_features=200, out_features=100, bias=True)\n",
      "    (13): LeakyReLU(negative_slope=0.01)\n",
      "    (14): BatchNorm1d(100, eps=1e-05, momentum=0.1, affine=True, track_running_stats=True)\n",
      "    (15): Linear(in_features=100, out_features=50, bias=True)\n",
      "    (16): LeakyReLU(negative_slope=0.01)\n",
      "    (17): BatchNorm1d(50, eps=1e-05, momentum=0.1, affine=True, track_running_stats=True)\n",
      "    (18): Linear(in_features=50, out_features=10, bias=True)\n",
      "    (19): LogSoftmax(dim=-1)\n",
      "  )\n",
      ")\n"
     ]
    }
   ],
   "source": [
    "from main import get_model\n",
    "\n",
    "train_config, state_dict = load(model_fn, device)\n",
    "\n",
    "model = get_model(train_config).to(device)\n",
    "model.load_state_dict(state_dict)\n",
    "\n",
    "print(model)"
   ]
  },
  {
   "cell_type": "code",
   "execution_count": 15,
   "metadata": {
    "colab": {
     "base_uri": "https://localhost:8080/"
    },
    "executionInfo": {
     "elapsed": 282,
     "status": "ok",
     "timestamp": 1626407640868,
     "user": {
      "displayName": "Woo-Hyun Kim",
      "photoUrl": "",
      "userId": "05099970254823183976"
     },
     "user_tz": -540
    },
    "id": "u6YBlv3JVi25",
    "outputId": "dda97687-da64-46be-d50c-8fc8bab72e66",
    "scrolled": false
   },
   "outputs": [
    {
     "name": "stdout",
     "output_type": "stream",
     "text": [
      "Accuracy: 0.9779\n"
     ]
    },
    {
     "name": "stderr",
     "output_type": "stream",
     "text": [
      "/usr/local/lib/python3.7/dist-packages/torchvision/datasets/mnist.py:498: UserWarning: The given NumPy array is not writeable, and PyTorch does not support non-writeable tensors. This means you can write to the underlying (supposedly non-writeable) NumPy array using the tensor. You may want to copy the array to protect its data or make it writeable before converting it to a tensor. This type of warning will be suppressed for the rest of this program. (Triggered internally at  /pytorch/torch/csrc/utils/tensor_numpy.cpp:180.)\n",
      "  return torch.from_numpy(parsed.astype(m[2], copy=False)).view(*s)\n"
     ]
    }
   ],
   "source": [
    "# Load MNIST test set.\n",
    "x, y = load_mnist(is_train=False, flatten=True if train_config.model == 'fc' else False)\n",
    "x, y = x.to(device), y.to(device)\n",
    "\n",
    "test(model, x, y, to_be_shown=False)"
   ]
  },
  {
   "cell_type": "markdown",
   "metadata": {
    "id": "uoeDLZJMc3Rs"
   },
   "source": [
    "# MNIST classification with CNN model"
   ]
  },
  {
   "cell_type": "code",
   "execution_count": 16,
   "metadata": {
    "colab": {
     "base_uri": "https://localhost:8080/"
    },
    "executionInfo": {
     "elapsed": 552904,
     "status": "ok",
     "timestamp": 1626408244790,
     "user": {
      "displayName": "Woo-Hyun Kim",
      "photoUrl": "",
      "userId": "05099970254823183976"
     },
     "user_tz": -540
    },
    "id": "FXTU1tuhc5qV",
    "outputId": "a4d57ae0-f717-4408-dc5a-4a7faaa18a9d"
   },
   "outputs": [
    {
     "name": "stdout",
     "output_type": "stream",
     "text": [
      "/usr/local/lib/python3.7/dist-packages/torchvision/datasets/mnist.py:498: UserWarning: The given NumPy array is not writeable, and PyTorch does not support non-writeable tensors. This means you can write to the underlying (supposedly non-writeable) NumPy array using the tensor. You may want to copy the array to protect its data or make it writeable before converting it to a tensor. This type of warning will be suppressed for the rest of this program. (Triggered internally at  /pytorch/torch/csrc/utils/tensor_numpy.cpp:180.)\n",
      "  return torch.from_numpy(parsed.astype(m[2], copy=False)).view(*s)\n",
      "Train: 48000\n",
      "Valid: 12000\n",
      "Test: 10000\n",
      "Epoch 1 - |param|=53.752 |g_param|=1.541 loss=0.1556 accuracy=0.9540\n",
      "Validation - loss=0.0923 accuracy=0.9719 best_loss=inf\n",
      "Epoch 2 - |param|=54.316 |g_param|=0.691 loss=0.0486 accuracy=0.9865\n",
      "Validation - loss=0.0445 accuracy=0.9883 best_loss=0.0923\n",
      "Epoch 3 - |param|=54.820 |g_param|=0.596 loss=0.0354 accuracy=0.9895\n",
      "Validation - loss=0.0457 accuracy=0.9874 best_loss=0.0445\n",
      "Epoch 4 - |param|=55.292 |g_param|=0.529 loss=0.0299 accuracy=0.9911\n",
      "Validation - loss=0.0400 accuracy=0.9872 best_loss=0.0445\n",
      "Epoch 5 - |param|=55.786 |g_param|=0.399 loss=0.0199 accuracy=0.9945\n",
      "Validation - loss=0.0246 accuracy=0.9928 best_loss=0.0400\n",
      "Epoch 6 - |param|=56.204 |g_param|=0.447 loss=0.0216 accuracy=0.9935\n",
      "Validation - loss=0.0363 accuracy=0.9895 best_loss=0.0246\n",
      "Epoch 7 - |param|=56.626 |g_param|=0.350 loss=0.0155 accuracy=0.9956\n",
      "Validation - loss=0.0380 accuracy=0.9878 best_loss=0.0246\n",
      "Epoch 8 - |param|=57.062 |g_param|=0.375 loss=0.0159 accuracy=0.9953\n",
      "Validation - loss=0.0381 accuracy=0.9869 best_loss=0.0246\n",
      "Epoch 9 - |param|=57.579 |g_param|=0.314 loss=0.0138 accuracy=0.9960\n",
      "Validation - loss=0.0328 accuracy=0.9912 best_loss=0.0246\n",
      "Epoch 10 - |param|=58.149 |g_param|=0.343 loss=0.0147 accuracy=0.9955\n",
      "Validation - loss=0.0518 accuracy=0.9849 best_loss=0.0246\n",
      "Epoch 11 - |param|=58.634 |g_param|=0.213 loss=0.0079 accuracy=0.9980\n",
      "Validation - loss=0.0402 accuracy=0.9885 best_loss=0.0246\n",
      "Epoch 12 - |param|=59.052 |g_param|=0.262 loss=0.0117 accuracy=0.9970\n",
      "Validation - loss=0.0513 accuracy=0.9865 best_loss=0.0246\n",
      "Epoch 13 - |param|=59.574 |g_param|=0.236 loss=0.0080 accuracy=0.9974\n",
      "Validation - loss=0.0385 accuracy=0.9908 best_loss=0.0246\n",
      "Epoch 14 - |param|=60.163 |g_param|=0.262 loss=0.0112 accuracy=0.9968\n",
      "Validation - loss=0.0488 accuracy=0.9887 best_loss=0.0246\n",
      "Epoch 15 - |param|=60.920 |g_param|=0.253 loss=0.0106 accuracy=0.9969\n",
      "Validation - loss=0.0527 accuracy=0.9842 best_loss=0.0246\n",
      "Epoch 16 - |param|=61.602 |g_param|=0.278 loss=0.0114 accuracy=0.9965\n",
      "Validation - loss=0.0288 accuracy=0.9928 best_loss=0.0246\n",
      "Epoch 17 - |param|=62.616 |g_param|=0.227 loss=0.0096 accuracy=0.9975\n",
      "Validation - loss=0.0491 accuracy=0.9869 best_loss=0.0246\n",
      "Epoch 18 - |param|=63.226 |g_param|=0.161 loss=0.0059 accuracy=0.9983\n",
      "Validation - loss=0.0305 accuracy=0.9908 best_loss=0.0246\n",
      "Epoch 19 - |param|=63.661 |g_param|=0.131 loss=0.0041 accuracy=0.9985\n",
      "Validation - loss=0.0441 accuracy=0.9891 best_loss=0.0246\n",
      "Epoch 20 - |param|=64.056 |g_param|=0.108 loss=0.0030 accuracy=0.9991\n",
      "Validation - loss=0.0640 accuracy=0.9885 best_loss=0.0246\n"
     ]
    }
   ],
   "source": [
    "!python main.py --model_fn model_cnn_1.pt --model cnn"
   ]
  },
  {
   "cell_type": "markdown",
   "metadata": {
    "id": "qzmnRnpDdKOH"
   },
   "source": [
    "# Test CNN model"
   ]
  },
  {
   "cell_type": "code",
   "execution_count": 17,
   "metadata": {
    "colab": {
     "base_uri": "https://localhost:8080/"
    },
    "executionInfo": {
     "elapsed": 283,
     "status": "ok",
     "timestamp": 1626408265022,
     "user": {
      "displayName": "Woo-Hyun Kim",
      "photoUrl": "",
      "userId": "05099970254823183976"
     },
     "user_tz": -540
    },
    "id": "ucxomeeSc9LC",
    "outputId": "7419eba2-9469-4744-fc79-a9af5bd3545a"
   },
   "outputs": [
    {
     "name": "stdout",
     "output_type": "stream",
     "text": [
      "ConvolutionalClassifier(\n",
      "  (blocks): Sequential(\n",
      "    (0): ConvolutionBlock(\n",
      "      (layers): Sequential(\n",
      "        (0): Conv2d(1, 32, kernel_size=(3, 3), stride=(1, 1), padding=(1, 1))\n",
      "        (1): ReLU()\n",
      "        (2): BatchNorm2d(32, eps=1e-05, momentum=0.1, affine=True, track_running_stats=True)\n",
      "        (3): Conv2d(32, 32, kernel_size=(3, 3), stride=(2, 2), padding=(1, 1))\n",
      "        (4): ReLU()\n",
      "        (5): BatchNorm2d(32, eps=1e-05, momentum=0.1, affine=True, track_running_stats=True)\n",
      "      )\n",
      "    )\n",
      "    (1): ConvolutionBlock(\n",
      "      (layers): Sequential(\n",
      "        (0): Conv2d(32, 64, kernel_size=(3, 3), stride=(1, 1), padding=(1, 1))\n",
      "        (1): ReLU()\n",
      "        (2): BatchNorm2d(64, eps=1e-05, momentum=0.1, affine=True, track_running_stats=True)\n",
      "        (3): Conv2d(64, 64, kernel_size=(3, 3), stride=(2, 2), padding=(1, 1))\n",
      "        (4): ReLU()\n",
      "        (5): BatchNorm2d(64, eps=1e-05, momentum=0.1, affine=True, track_running_stats=True)\n",
      "      )\n",
      "    )\n",
      "    (2): ConvolutionBlock(\n",
      "      (layers): Sequential(\n",
      "        (0): Conv2d(64, 128, kernel_size=(3, 3), stride=(1, 1), padding=(1, 1))\n",
      "        (1): ReLU()\n",
      "        (2): BatchNorm2d(128, eps=1e-05, momentum=0.1, affine=True, track_running_stats=True)\n",
      "        (3): Conv2d(128, 128, kernel_size=(3, 3), stride=(2, 2), padding=(1, 1))\n",
      "        (4): ReLU()\n",
      "        (5): BatchNorm2d(128, eps=1e-05, momentum=0.1, affine=True, track_running_stats=True)\n",
      "      )\n",
      "    )\n",
      "    (3): ConvolutionBlock(\n",
      "      (layers): Sequential(\n",
      "        (0): Conv2d(128, 256, kernel_size=(3, 3), stride=(1, 1), padding=(1, 1))\n",
      "        (1): ReLU()\n",
      "        (2): BatchNorm2d(256, eps=1e-05, momentum=0.1, affine=True, track_running_stats=True)\n",
      "        (3): Conv2d(256, 256, kernel_size=(3, 3), stride=(2, 2), padding=(1, 1))\n",
      "        (4): ReLU()\n",
      "        (5): BatchNorm2d(256, eps=1e-05, momentum=0.1, affine=True, track_running_stats=True)\n",
      "      )\n",
      "    )\n",
      "    (4): ConvolutionBlock(\n",
      "      (layers): Sequential(\n",
      "        (0): Conv2d(256, 512, kernel_size=(3, 3), stride=(1, 1), padding=(1, 1))\n",
      "        (1): ReLU()\n",
      "        (2): BatchNorm2d(512, eps=1e-05, momentum=0.1, affine=True, track_running_stats=True)\n",
      "        (3): Conv2d(512, 512, kernel_size=(3, 3), stride=(2, 2), padding=(1, 1))\n",
      "        (4): ReLU()\n",
      "        (5): BatchNorm2d(512, eps=1e-05, momentum=0.1, affine=True, track_running_stats=True)\n",
      "      )\n",
      "    )\n",
      "  )\n",
      "  (layers): Sequential(\n",
      "    (0): Linear(in_features=512, out_features=50, bias=True)\n",
      "    (1): ReLU()\n",
      "    (2): BatchNorm1d(50, eps=1e-05, momentum=0.1, affine=True, track_running_stats=True)\n",
      "    (3): Linear(in_features=50, out_features=10, bias=True)\n",
      "    (4): LogSoftmax(dim=-1)\n",
      "  )\n",
      ")\n"
     ]
    }
   ],
   "source": [
    "model_fn = \"./model_cnn_1.pt\"\n",
    "\n",
    "train_config, state_dict = load(model_fn, device)\n",
    "\n",
    "model = get_model(train_config).to(device)\n",
    "model.load_state_dict(state_dict)\n",
    "\n",
    "print(model)"
   ]
  },
  {
   "cell_type": "code",
   "execution_count": 18,
   "metadata": {
    "colab": {
     "base_uri": "https://localhost:8080/"
    },
    "executionInfo": {
     "elapsed": 750,
     "status": "ok",
     "timestamp": 1626408271874,
     "user": {
      "displayName": "Woo-Hyun Kim",
      "photoUrl": "",
      "userId": "05099970254823183976"
     },
     "user_tz": -540
    },
    "id": "gxpPsUMoc9H3",
    "outputId": "f54463c6-4609-4195-a9a3-e4b3315fbfb8"
   },
   "outputs": [
    {
     "name": "stdout",
     "output_type": "stream",
     "text": [
      "Accuracy: 0.9926\n"
     ]
    }
   ],
   "source": [
    "# Load MNIST test set.\n",
    "x, y = load_mnist(is_train=False, flatten=True if train_config.model == 'fc' else False)\n",
    "x, y = x.to(device), y.to(device)\n",
    "\n",
    "test(model, x, y, to_be_shown=False)"
   ]
  }
 ],
 "metadata": {
  "accelerator": "GPU",
  "colab": {
   "collapsed_sections": [],
   "name": "run_n_predict.ipynb",
   "provenance": []
  },
  "kernelspec": {
   "display_name": "Python 3",
   "language": "python",
   "name": "python3"
  },
  "language_info": {
   "codemirror_mode": {
    "name": "ipython",
    "version": 3
   },
   "file_extension": ".py",
   "mimetype": "text/x-python",
   "name": "python",
   "nbconvert_exporter": "python",
   "pygments_lexer": "ipython3",
   "version": "3.8.5"
  }
 },
 "nbformat": 4,
 "nbformat_minor": 1
}
