{
 "cells": [
  {
   "cell_type": "markdown",
   "metadata": {},
   "source": [
    "# 배치형 동작 프로그램"
   ]
  },
  {
   "cell_type": "code",
   "execution_count": 1,
   "metadata": {},
   "outputs": [],
   "source": [
    "import tensorflow as tf\n",
    "from datetime import datetime\n",
    "import time\n",
    "import glob"
   ]
  },
  {
   "cell_type": "markdown",
   "metadata": {},
   "source": [
    "## 하이퍼파라미터, Path"
   ]
  },
  {
   "cell_type": "code",
   "execution_count": 2,
   "metadata": {},
   "outputs": [],
   "source": [
    "THRES_LEVEL = 0.5   # Recall을 높이기 위해 조절 필요.\n",
    "\n",
    "INPUT_PATH = 'data/input_data/'\n",
    "CSV_PATH = 'data/output_csv/'"
   ]
  },
  {
   "cell_type": "markdown",
   "metadata": {},
   "source": [
    "## 모델 불러오기"
   ]
  },
  {
   "cell_type": "code",
   "execution_count": 3,
   "metadata": {},
   "outputs": [],
   "source": [
    "model = tf.keras.models.load_model('model/inception_model.h5')"
   ]
  },
  {
   "cell_type": "markdown",
   "metadata": {},
   "source": [
    "## 입력 데이터 전처리"
   ]
  },
  {
   "cell_type": "code",
   "execution_count": 4,
   "metadata": {},
   "outputs": [],
   "source": [
    "def preprocess(file_name):\n",
    "    img = tf.io.read_file(file_name)\n",
    "    img = tf.image.decode_image(img)\n",
    "    return tf.image.convert_image_dtype(img, tf.float32)"
   ]
  },
  {
   "cell_type": "markdown",
   "metadata": {},
   "source": [
    "## 입력 데이터 불러오기"
   ]
  },
  {
   "cell_type": "code",
   "execution_count": 7,
   "metadata": {},
   "outputs": [
    {
     "name": "stdout",
     "output_type": "stream",
     "text": [
      "2452\n"
     ]
    }
   ],
   "source": [
    "file_list = glob.glob(INPUT_PATH + '*.png')\n",
    "print(len(file_list))\n",
    "\n",
    "dataset = tf.data.Dataset.list_files(file_list).map(preprocess)"
   ]
  },
  {
   "cell_type": "markdown",
   "metadata": {},
   "source": [
    "## 알고리즘 구동 및 CSV 결과 저장"
   ]
  },
  {
   "cell_type": "code",
   "execution_count": 6,
   "metadata": {
    "scrolled": false
   },
   "outputs": [
    {
     "name": "stdout",
     "output_type": "stream",
     "text": [
      "Inference Time: 1.6937453746795654\n",
      "Inference Time: 0.021943330764770508\n",
      "Inference Time: 0.046408653259277344\n",
      "Inference Time: 0.05800819396972656\n",
      "Inference Time: 0.035840511322021484\n",
      "Inference Time: 0.05263018608093262\n",
      "Inference Time: 0.057633399963378906\n",
      "Inference Time: 0.03889918327331543\n",
      "Inference Time: 0.045057058334350586\n",
      "Inference Time: 0.0678262710571289\n",
      "Inference Time: 0.06981325149536133\n",
      "Inference Time: 0.03292131423950195\n",
      "Inference Time: 0.03382253646850586\n",
      "Inference Time: 0.05022573471069336\n",
      "Inference Time: 0.05992317199707031\n",
      "Inference Time: 0.05576515197753906\n",
      "Inference Time: 0.0544126033782959\n",
      "Inference Time: 0.08639717102050781\n",
      "Inference Time: 0.06186652183532715\n",
      "Inference Time: 0.08080053329467773\n"
     ]
    }
   ],
   "source": [
    "now = datetime.now().strftime('%Y%d%m_%H%M%S')\n",
    "\n",
    "k = 0\n",
    "with open(CSV_PATH + now + '.csv', 'w') as f:\n",
    "    for image, filename in zip(dataset, file_list):\n",
    "        image = image[tf.newaxis, ...] # HWC -> NHWC\n",
    "        \n",
    "        a = time.time()\n",
    "        predict = model.predict(image)[0][0]\n",
    "        \n",
    "        if k < 20:\n",
    "            print('Inference Time:', time.time() - a)\n",
    "            k += 1\n",
    "        \n",
    "        if predict > THRES_LEVEL:\n",
    "            label = 'FAIL'\n",
    "        else:\n",
    "            label = 'OK'\n",
    "        \n",
    "        f.write(','.join([filename, label, str(predict)]) + '\\n')"
   ]
  }
 ],
 "metadata": {
  "kernelspec": {
   "display_name": "Python 3",
   "language": "python",
   "name": "python3"
  },
  "language_info": {
   "codemirror_mode": {
    "name": "ipython",
    "version": 3
   },
   "file_extension": ".py",
   "mimetype": "text/x-python",
   "name": "python",
   "nbconvert_exporter": "python",
   "pygments_lexer": "ipython3",
   "version": "3.7.6"
  }
 },
 "nbformat": 4,
 "nbformat_minor": 2
}
