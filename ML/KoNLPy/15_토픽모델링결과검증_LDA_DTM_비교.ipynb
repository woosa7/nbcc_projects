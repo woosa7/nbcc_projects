{
 "cells": [
  {
   "cell_type": "markdown",
   "metadata": {},
   "source": [
    "### 0. 비교분석을 위해 LDA model 만들기."
   ]
  },
  {
   "cell_type": "code",
   "execution_count": 1,
   "metadata": {},
   "outputs": [],
   "source": [
    "import pandas as pd\n",
    "import numpy as np\n",
    "import pickle\n",
    "from pprint import pprint\n",
    "import re"
   ]
  },
  {
   "cell_type": "code",
   "execution_count": 2,
   "metadata": {},
   "outputs": [
    {
     "name": "stdout",
     "output_type": "stream",
     "text": [
      "<class 'pandas.core.frame.DataFrame'>\n",
      "RangeIndex: 14911 entries, 0 to 14910\n",
      "Data columns (total 3 columns):\n",
      " #   Column   Non-Null Count  Dtype \n",
      "---  ------   --------------  ----- \n",
      " 0   date     14911 non-null  object\n",
      " 1   user     14911 non-null  object\n",
      " 2   message  14911 non-null  object\n",
      "dtypes: object(3)\n",
      "memory usage: 349.6+ KB\n",
      "None\n"
     ]
    }
   ],
   "source": [
    "# load data\n",
    "with open(\"data/cleaned_katalk_data.pk\", \"rb\") as f:\n",
    "    data = pickle.load(f)\n",
    "\n",
    "print(data.info())"
   ]
  },
  {
   "cell_type": "markdown",
   "metadata": {},
   "source": [
    "### 2. 분석시기 설정하기"
   ]
  },
  {
   "cell_type": "code",
   "execution_count": 3,
   "metadata": {},
   "outputs": [
    {
     "data": {
      "text/html": [
       "<div>\n",
       "<style scoped>\n",
       "    .dataframe tbody tr th:only-of-type {\n",
       "        vertical-align: middle;\n",
       "    }\n",
       "\n",
       "    .dataframe tbody tr th {\n",
       "        vertical-align: top;\n",
       "    }\n",
       "\n",
       "    .dataframe thead th {\n",
       "        text-align: right;\n",
       "    }\n",
       "</style>\n",
       "<table border=\"1\" class=\"dataframe\">\n",
       "  <thead>\n",
       "    <tr style=\"text-align: right;\">\n",
       "      <th></th>\n",
       "      <th>user</th>\n",
       "      <th>message</th>\n",
       "    </tr>\n",
       "    <tr>\n",
       "      <th>date</th>\n",
       "      <th></th>\n",
       "      <th></th>\n",
       "    </tr>\n",
       "  </thead>\n",
       "  <tbody>\n",
       "    <tr>\n",
       "      <th>2016-03-07 15:41:00</th>\n",
       "      <td>YH</td>\n",
       "      <td>안녕하세요 이게 빠르지 않을까 해서요 엠티 관련해서는 회장님께서 이미 밴드에 올려 ...</td>\n",
       "    </tr>\n",
       "    <tr>\n",
       "      <th>2016-03-07 15:51:00</th>\n",
       "      <td>WH</td>\n",
       "      <td>네 안녕하세요</td>\n",
       "    </tr>\n",
       "    <tr>\n",
       "      <th>2016-03-07 17:14:00</th>\n",
       "      <td>YH</td>\n",
       "      <td>넵 저희 카톡방을 만들어서 거기다 투표를 돌릴까요 아님 그냥 밴드에 두개로 할까요 총무님</td>\n",
       "    </tr>\n",
       "    <tr>\n",
       "      <th>2016-03-07 17:21:00</th>\n",
       "      <td>KS</td>\n",
       "      <td>엠티관련해서 참석여부 투표를 말씀하신건가요</td>\n",
       "    </tr>\n",
       "    <tr>\n",
       "      <th>2016-03-07 17:22:00</th>\n",
       "      <td>YH</td>\n",
       "      <td>네 저희 이번 토욜 관련해서도 투표를 올려야 해서요</td>\n",
       "    </tr>\n",
       "  </tbody>\n",
       "</table>\n",
       "</div>"
      ],
      "text/plain": [
       "                    user                                            message\n",
       "date                                                                       \n",
       "2016-03-07 15:41:00   YH  안녕하세요 이게 빠르지 않을까 해서요 엠티 관련해서는 회장님께서 이미 밴드에 올려 ...\n",
       "2016-03-07 15:51:00   WH                                           네 안녕하세요 \n",
       "2016-03-07 17:14:00   YH  넵 저희 카톡방을 만들어서 거기다 투표를 돌릴까요 아님 그냥 밴드에 두개로 할까요 총무님\n",
       "2016-03-07 17:21:00   KS                            엠티관련해서 참석여부 투표를 말씀하신건가요\n",
       "2016-03-07 17:22:00   YH                       네 저희 이번 토욜 관련해서도 투표를 올려야 해서요"
      ]
     },
     "execution_count": 3,
     "metadata": {},
     "output_type": "execute_result"
    }
   ],
   "source": [
    "# 시간정보 열을 datetime 정보로 변환\n",
    "data['date'] = pd.to_datetime(data['date'])\n",
    "data = data.set_index('date')\n",
    "data.head()"
   ]
  },
  {
   "cell_type": "code",
   "execution_count": 4,
   "metadata": {},
   "outputs": [
    {
     "name": "stdout",
     "output_type": "stream",
     "text": [
      "[['오늘아침', '못먹은사람'], ['배달시켜'], ['점심을', '나가서', '먹어야지용', '월급날'], [], [], ['월급날이로구나'], ['생뜡맞게', '주네'], ['우린', '21일'], ['우린', '25'], ['공무원은']]\n",
      "8279\n"
     ]
    }
   ],
   "source": [
    "# LDA vs DTM 비교하기 위해 세번째 시간대만 사용\n",
    "\n",
    "slice_data = data['2016-04-21' : '2016-04-30']\n",
    "slice2 = list(slice_data[\"message\"])\n",
    "\n",
    "tokenized_data = [msg.split() for msg in slice2]\n",
    "\n",
    "print(tokenized_data[:10])\n",
    "print(len(tokenized_data))"
   ]
  },
  {
   "cell_type": "markdown",
   "metadata": {},
   "source": [
    "### 3. LDA & Dynamic Topic Model 돌리기"
   ]
  },
  {
   "cell_type": "code",
   "execution_count": 5,
   "metadata": {},
   "outputs": [],
   "source": [
    "from gensim.models import ldamodel\n",
    "from gensim.models import ldaseqmodel\n",
    "from gensim.models import CoherenceModel\n",
    "from gensim.corpora import Dictionary, bleicorpus\n",
    "from gensim.matutils import hellinger\n",
    "from gensim import corpora\n",
    "from tqdm import tqdm_notebook\n",
    "from time import time\n",
    "\n",
    "import os"
   ]
  },
  {
   "cell_type": "markdown",
   "metadata": {},
   "source": [
    "##### dictionary와 doc2bow 만들기 ( LDA에서 2019년도 것만 사용)"
   ]
  },
  {
   "cell_type": "code",
   "execution_count": 6,
   "metadata": {},
   "outputs": [],
   "source": [
    "dict_path = 'data/kakao_LDA_dict'\n",
    "corpus_path = 'data/kakao_LDA_corpus'\n",
    "\n",
    "# Create Dictionary\n",
    "if not os.path.exists(dict_path):\n",
    "    dictionary = corpora.Dictionary(tokenized_data)\n",
    "    # dictionary.filter_extremes(no_below=5, no_above=500)  # 이 줄의 코드는 n회 미만 또는 n회 이상을 지울 때 사용\n",
    "    dictionary.save(dict_path)\n",
    "    print(dictionary)\n",
    "else:\n",
    "    dictionary = Dictionary.load(dict_path)\n",
    "\n",
    "# Term Document Frequency (convert tokenized documents into a Document-Term Matrix)    \n",
    "if not os.path.exists(corpus_path):\n",
    "    corpus = [dictionary.doc2bow(doc) for doc in tokenized_data]\n",
    "    corpora.BleiCorpus.serialize(corpus_path, corpus)\n",
    "else:\n",
    "    corpus = bleicorpus.BleiCorpus(corpus_path)"
   ]
  },
  {
   "cell_type": "markdown",
   "metadata": {},
   "source": [
    "##### Run LDA model "
   ]
  },
  {
   "cell_type": "code",
   "execution_count": 7,
   "metadata": {},
   "outputs": [],
   "source": [
    "# DTM 분석에서 best topic으로 나온 결과를 비교하기 위해 같은 토픽 수로 설정.\n",
    "NUM_TOPICS = 7\n",
    "\n",
    "model_path = 'data/kakao_LDA_model'\n",
    "\n",
    "if not os.path.exists(model_path):\n",
    "    lda_model = ldamodel.LdaModel(corpus=corpus, \n",
    "                                  id2word=dictionary, \n",
    "                                  num_topics=NUM_TOPICS, \n",
    "                                  passes=100)\n",
    "    lda_model.save(model_path)\n",
    "else:\n",
    "    lda_model = ldamodel.LdaModel.load(model_path)"
   ]
  },
  {
   "cell_type": "markdown",
   "metadata": {},
   "source": [
    "##### Run DTM Model"
   ]
  },
  {
   "cell_type": "code",
   "execution_count": 8,
   "metadata": {},
   "outputs": [],
   "source": [
    "# DTM 분석에서 best topic으로 나온 결과를 비교하기 위해 같은 토픽 수로 설정.\n",
    "NUM_TOPICS = 7\n",
    "\n",
    "dtm_model = ldaseqmodel.LdaSeqModel.load('data/kakao_dtm_model_7')"
   ]
  },
  {
   "cell_type": "markdown",
   "metadata": {},
   "source": [
    "##### LDA와 DTM 결과 비교해보기"
   ]
  },
  {
   "cell_type": "code",
   "execution_count": 9,
   "metadata": {},
   "outputs": [
    {
     "data": {
      "text/plain": [
       "[('그날', 0.008155815),\n",
       " ('그건', 0.007037851),\n",
       " ('다시', 0.0050324467),\n",
       " ('그런가', 0.0050263726),\n",
       " ('그러면', 0.0049440335),\n",
       " ('저', 0.004844301),\n",
       " ('없어', 0.004814049),\n",
       " ('보람이가', 0.0045643146),\n",
       " ('뭔가', 0.004166773),\n",
       " ('소오름', 0.0039155763),\n",
       " ('쉬고', 0.003876249),\n",
       " ('재훈오빠가', 0.0037076846),\n",
       " ('욜', 0.0035633778),\n",
       " ('가자', 0.0035242694),\n",
       " ('같은데', 0.003093129),\n",
       " ('어디', 0.0030810277),\n",
       " ('바로', 0.0028218941),\n",
       " ('병준이', 0.00279744),\n",
       " ('형이', 0.002796978),\n",
       " ('그래도', 0.0027803194)]"
      ]
     },
     "execution_count": 9,
     "metadata": {},
     "output_type": "execute_result"
    }
   ],
   "source": [
    "lda_model.show_topic(topicid=0, topn=20)"
   ]
  },
  {
   "cell_type": "code",
   "execution_count": 10,
   "metadata": {
    "scrolled": false
   },
   "outputs": [
    {
     "data": {
      "text/plain": [
       "[('나', 0.033816708414789905),\n",
       " ('왜', 0.024191943791049563),\n",
       " ('진짜', 0.01761018664642402),\n",
       " ('응', 0.013864547387638664),\n",
       " ('근데', 0.013555867878687303),\n",
       " ('좀', 0.013166824883927446),\n",
       " ('역시', 0.010397512812373274),\n",
       " ('아직', 0.009547127812730783),\n",
       " ('넵', 0.008680986684372775),\n",
       " ('내가', 0.007755850505890038),\n",
       " ('엄청', 0.00683608584465352),\n",
       " ('그래도', 0.006532071676062843),\n",
       " ('같은데', 0.005113264097751727),\n",
       " ('이거', 0.004985935729842827),\n",
       " ('유희야', 0.004747337244422429),\n",
       " ('둘이', 0.0043832969566334375),\n",
       " ('왕왕', 0.004302965551743357),\n",
       " ('웅', 0.004185587760810772),\n",
       " ('갑자기', 0.0041576647699530424),\n",
       " ('유희', 0.004083303032778055)]"
      ]
     },
     "execution_count": 10,
     "metadata": {},
     "output_type": "execute_result"
    }
   ],
   "source": [
    "dtm_model.print_topic(topic=0, time=2, top_terms=20)"
   ]
  },
  {
   "cell_type": "markdown",
   "metadata": {},
   "source": [
    "##### coherence score 계산 비교"
   ]
  },
  {
   "cell_type": "code",
   "execution_count": 11,
   "metadata": {},
   "outputs": [],
   "source": [
    "# LDA의 coherence score\n",
    "lda_cs = CoherenceModel(model=lda_model, \n",
    "                        texts=tokenized_data, \n",
    "                        corpus=corpus, \n",
    "                        dictionary=dictionary,\n",
    "                        coherence='c_v').get_coherence()"
   ]
  },
  {
   "cell_type": "code",
   "execution_count": 12,
   "metadata": {},
   "outputs": [],
   "source": [
    "# DTM의 coherence score\n",
    "dtm_corpus = corpus = bleicorpus.BleiCorpus('data/kakao_DTM_corpus')\n",
    "dtm_dictionary = Dictionary.load('data/kakao_DTM_dict')\n",
    "processing_data = [msg.split() for msg in data['message']]\n",
    "\n",
    "topics_dtm = dtm_model.dtm_coherence(time=2)\n",
    "\n",
    "dtm_cs = CoherenceModel(topics=topics_dtm, \n",
    "                        texts=processing_data, \n",
    "                        corpus=dtm_corpus,\n",
    "                        dictionary=dtm_dictionary, \n",
    "                        coherence='c_v').get_coherence()"
   ]
  },
  {
   "cell_type": "code",
   "execution_count": 13,
   "metadata": {},
   "outputs": [
    {
     "data": {
      "text/plain": [
       "(0.763727078961442, 0.7222625292745228)"
      ]
     },
     "execution_count": 13,
     "metadata": {},
     "output_type": "execute_result"
    }
   ],
   "source": [
    "lda_cs, dtm_cs"
   ]
  },
  {
   "cell_type": "code",
   "execution_count": 15,
   "metadata": {},
   "outputs": [],
   "source": [
    "# coherence score - 각 모델이 데이터들의 확률값에 수렴이 잘 되었는지에 대한 지표\n",
    "# DTM - 시간의 흐름에 따른 토픽의 변화에 영향을 받는다."
   ]
  }
 ],
 "metadata": {
  "kernelspec": {
   "display_name": "Python 3",
   "language": "python",
   "name": "python3"
  },
  "language_info": {
   "codemirror_mode": {
    "name": "ipython",
    "version": 3
   },
   "file_extension": ".py",
   "mimetype": "text/x-python",
   "name": "python",
   "nbconvert_exporter": "python",
   "pygments_lexer": "ipython3",
   "version": "3.7.9"
  }
 },
 "nbformat": 4,
 "nbformat_minor": 2
}
