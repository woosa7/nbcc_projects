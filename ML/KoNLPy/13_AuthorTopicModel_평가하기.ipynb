{
 "cells": [
  {
   "cell_type": "markdown",
   "metadata": {},
   "source": [
    "# Author Topic Model 평가하기\n",
    "\n",
    "* hellinger distance : 사용자간의 유사성(토픽의 확률분포)을 평가하기 위한 measure."
   ]
  },
  {
   "cell_type": "code",
   "execution_count": 1,
   "metadata": {},
   "outputs": [],
   "source": [
    "from gensim.models import AuthorTopicModel\n",
    "from gensim.corpora import Dictionary, bleicorpus\n",
    "from gensim import corpora\n",
    "\n",
    "from gensim.matutils import hellinger\n",
    "from gensim import matutils\n",
    "\n",
    "from pprint import pprint\n",
    "import pandas as pd\n",
    "import os"
   ]
  },
  {
   "cell_type": "code",
   "execution_count": 2,
   "metadata": {},
   "outputs": [],
   "source": [
    "model = AuthorTopicModel.load('data/kakao_ATM_model')  # NUM_TOPICS = 4"
   ]
  },
  {
   "cell_type": "code",
   "execution_count": 3,
   "metadata": {},
   "outputs": [
    {
     "data": {
      "text/plain": [
       "[('나', 0.010368158594930087),\n",
       " ('나도', 0.005641677219910483),\n",
       " ('다', 0.00549259642870929),\n",
       " ('완전', 0.004452450579120248),\n",
       " ('그래서', 0.003992346335516386),\n",
       " ('내가', 0.003966104395676567),\n",
       " ('오', 0.0037888147726983542),\n",
       " ('역시', 0.0036775522938288637),\n",
       " ('근데', 0.003638984283893234),\n",
       " ('어제', 0.00346218867638447)]"
      ]
     },
     "execution_count": 3,
     "metadata": {},
     "output_type": "execute_result"
    }
   ],
   "source": [
    "# 토픽별 분포 확인하기\n",
    "model.show_topic(0)"
   ]
  },
  {
   "cell_type": "code",
   "execution_count": 4,
   "metadata": {},
   "outputs": [],
   "source": [
    "# 토픽 라벨 지정.\n",
    "topic_labels = [\"Topic0\", \"Topic1\", \"Topic2\", \"Topic3\"]"
   ]
  },
  {
   "cell_type": "code",
   "execution_count": 5,
   "metadata": {},
   "outputs": [
    {
     "name": "stdout",
     "output_type": "stream",
     "text": [
      "Label: Topic0\n",
      "Words: 나 나도 다 완전 그래서 내가 오 역시 근데 어제 진짜 오늘 난 다들 이 있어 그 이거 그럼 너무 \n",
      "\n",
      "Label: Topic1\n",
      "Words: 내가 나 형 부끄 누나 지금 근데 없어 나도 헐 더 좀 난 다 그럼 형산군 넌 저거 유희야 단발이 \n",
      "\n",
      "Label: Topic2\n",
      "Words: 뭐야 우리 이렇게 내일 아마 이미 다 잘 음 다들 나도세자 낄끼빠빠 어디 지금 오빠가 진짜 어떻게 같이 맞어 그럼 \n",
      "\n",
      "Label: Topic3\n",
      "Words: 아 왜 우리 난 그래 응 근데 아니야 엄청 그건 또 내가 나도 오빠 나왕왕 다시 다 더 진짜 아니 \n",
      "\n"
     ]
    }
   ],
   "source": [
    "# 토픽별로 topN 단어 확인하기.\n",
    "\n",
    "for topic in model.show_topics(model.num_topics):\n",
    "    print('Label: ' + topic_labels[topic[0]])\n",
    "    words = ''\n",
    "    for word, prob in model.show_topic(topic[0], topn=20):\n",
    "        words += word + ' '\n",
    "    print('Words: ' + words)\n",
    "    print()"
   ]
  },
  {
   "cell_type": "code",
   "execution_count": 6,
   "metadata": {},
   "outputs": [
    {
     "data": {
      "text/plain": [
       "[(0, 0.6516586242497926),\n",
       " (1, 0.02781274148041911),\n",
       " (2, 0.026368042747998623),\n",
       " (3, 0.29416059152178975)]"
      ]
     },
     "execution_count": 6,
     "metadata": {},
     "output_type": "execute_result"
    }
   ],
   "source": [
    "# 토픽별 사용자의 분포 확인\n",
    "\n",
    "model['WH']"
   ]
  },
  {
   "cell_type": "code",
   "execution_count": 7,
   "metadata": {},
   "outputs": [],
   "source": [
    "def show_author(name):\n",
    "    print(name)\n",
    "    print('Docs:', len(model.author2doc[name]))\n",
    "    print('Topic distribution:')\n",
    "    pprint([(topic_labels[topic[0]], topic[1]) for topic in model[name]])\n",
    "    print()"
   ]
  },
  {
   "cell_type": "code",
   "execution_count": 8,
   "metadata": {},
   "outputs": [
    {
     "name": "stdout",
     "output_type": "stream",
     "text": [
      "BJ\n",
      "Docs: 4222\n",
      "Topic distribution:\n",
      "[('Topic0', 0.772028304483581),\n",
      " ('Topic1', 0.2032355385592529),\n",
      " ('Topic3', 0.024471814088761153)]\n",
      "\n",
      "BR\n",
      "Docs: 2824\n",
      "Topic distribution:\n",
      "[('Topic0', 0.01944961099706222),\n",
      " ('Topic1', 0.047728566224437004),\n",
      " ('Topic2', 0.16202851103825855),\n",
      " ('Topic3', 0.7707933117402422)]\n",
      "\n",
      "GM\n",
      "Docs: 554\n",
      "Topic distribution:\n",
      "[('Topic1', 0.015272984401152146),\n",
      " ('Topic2', 0.06236817178775477),\n",
      " ('Topic3', 0.9131162150121103)]\n",
      "\n",
      "HL\n",
      "Docs: 3554\n",
      "Topic distribution:\n",
      "[('Topic0', 0.38160590843995945),\n",
      " ('Topic1', 0.0842289410448531),\n",
      " ('Topic2', 0.01536420351728692),\n",
      " ('Topic3', 0.5188009469979006)]\n",
      "\n",
      "KS\n",
      "Docs: 2145\n",
      "Topic distribution:\n",
      "[('Topic0', 0.5258486573403207),\n",
      " ('Topic1', 0.020486557930329042),\n",
      " ('Topic2', 0.29929543270365705),\n",
      " ('Topic3', 0.1543693520256932)]\n",
      "\n",
      "WH\n",
      "Docs: 504\n",
      "Topic distribution:\n",
      "[('Topic0', 0.6516586242497926),\n",
      " ('Topic1', 0.02781274148041911),\n",
      " ('Topic2', 0.026368042747998623),\n",
      " ('Topic3', 0.29416059152178975)]\n",
      "\n",
      "YH\n",
      "Docs: 1108\n",
      "Topic distribution:\n",
      "[('Topic0', 0.06998609756422694),\n",
      " ('Topic1', 0.058009040321904494),\n",
      " ('Topic2', 0.014139381485537564),\n",
      " ('Topic3', 0.8578654806283311)]\n",
      "\n"
     ]
    }
   ],
   "source": [
    "for author in model.id2author.values():\n",
    "    show_author(author)"
   ]
  },
  {
   "cell_type": "code",
   "execution_count": 9,
   "metadata": {},
   "outputs": [],
   "source": [
    "# Hellinger Distance를 이용하여 비슷한 토픽을 가진 사용자를 추정하는 함수.\n",
    "\n",
    "# author-topic 분포 만들기\n",
    "author_vecs = [model.get_author_topics(author) for author in model.id2author.values()]\n",
    "\n",
    "def similarity(vec1, vec2):\n",
    "    # vec1, vec2 사이의 hellinger similarity 구하기.\n",
    "    dist = hellinger(matutils.sparse2full(vec1, model.num_topics), \\\n",
    "                              matutils.sparse2full(vec2, model.num_topics))\n",
    "    sim = 1.0 / (1.0 + dist)\n",
    "    return sim\n",
    " \n",
    "def get_sims(vec):\n",
    "    # 각 사용자들 사이의 similarity pair 구하기.\n",
    "    sims = [similarity(vec, vec2) for vec2 in author_vecs]\n",
    "    return sims\n",
    " \n",
    "def get_table(name, top_n=10, smallest_author=1):\n",
    "    \"\"\"\n",
    "    주어진 사용자에 대해서 topN 사람만큼 유사도를 정렬해서 table을 출력하는 함수.\n",
    "    \"\"\"\n",
    "    \n",
    "    # 유사도 측정하기\n",
    "    sims = get_sims(model.get_author_topics(name))\n",
    " \n",
    "    # 저자별 정보 정렬하기\n",
    "    table = []\n",
    "    for elem in enumerate(sims):\n",
    "        author_name = model.id2author[elem[0]]\n",
    "        sim = elem[1]\n",
    "        author_size = len(model.author2doc[author_name])\n",
    "        if author_size >= smallest_author:\n",
    "            # 문서가 너무 적은 사용자는 제외\n",
    "            table.append((author_name, sim, author_size))\n",
    "            \n",
    "    # 사용자 패턴 분석 결과를 Dataframe으로 만들기\n",
    "    df = pd.DataFrame(table, columns=['Author', 'Score', 'Size'])\n",
    "    df = df.sort_values('Score', ascending=False)[:top_n]\n",
    "    \n",
    "    return df"
   ]
  },
  {
   "cell_type": "code",
   "execution_count": 10,
   "metadata": {},
   "outputs": [
    {
     "data": {
      "text/html": [
       "<div>\n",
       "<style scoped>\n",
       "    .dataframe tbody tr th:only-of-type {\n",
       "        vertical-align: middle;\n",
       "    }\n",
       "\n",
       "    .dataframe tbody tr th {\n",
       "        vertical-align: top;\n",
       "    }\n",
       "\n",
       "    .dataframe thead th {\n",
       "        text-align: right;\n",
       "    }\n",
       "</style>\n",
       "<table border=\"1\" class=\"dataframe\">\n",
       "  <thead>\n",
       "    <tr style=\"text-align: right;\">\n",
       "      <th></th>\n",
       "      <th>Author</th>\n",
       "      <th>Score</th>\n",
       "      <th>Size</th>\n",
       "    </tr>\n",
       "  </thead>\n",
       "  <tbody>\n",
       "    <tr>\n",
       "      <th>5</th>\n",
       "      <td>WH</td>\n",
       "      <td>1.000000</td>\n",
       "      <td>504</td>\n",
       "    </tr>\n",
       "    <tr>\n",
       "      <th>3</th>\n",
       "      <td>HL</td>\n",
       "      <td>0.829679</td>\n",
       "      <td>3554</td>\n",
       "    </tr>\n",
       "    <tr>\n",
       "      <th>4</th>\n",
       "      <td>KS</td>\n",
       "      <td>0.770405</td>\n",
       "      <td>2145</td>\n",
       "    </tr>\n",
       "    <tr>\n",
       "      <th>0</th>\n",
       "      <td>BJ</td>\n",
       "      <td>0.734586</td>\n",
       "      <td>4222</td>\n",
       "    </tr>\n",
       "    <tr>\n",
       "      <th>6</th>\n",
       "      <td>YH</td>\n",
       "      <td>0.678453</td>\n",
       "      <td>1108</td>\n",
       "    </tr>\n",
       "    <tr>\n",
       "      <th>1</th>\n",
       "      <td>BR</td>\n",
       "      <td>0.642556</td>\n",
       "      <td>2824</td>\n",
       "    </tr>\n",
       "    <tr>\n",
       "      <th>2</th>\n",
       "      <td>GM</td>\n",
       "      <td>0.607925</td>\n",
       "      <td>554</td>\n",
       "    </tr>\n",
       "  </tbody>\n",
       "</table>\n",
       "</div>"
      ],
      "text/plain": [
       "  Author     Score  Size\n",
       "5     WH  1.000000   504\n",
       "3     HL  0.829679  3554\n",
       "4     KS  0.770405  2145\n",
       "0     BJ  0.734586  4222\n",
       "6     YH  0.678453  1108\n",
       "1     BR  0.642556  2824\n",
       "2     GM  0.607925   554"
      ]
     },
     "execution_count": 10,
     "metadata": {},
     "output_type": "execute_result"
    }
   ],
   "source": [
    "# 사용자별 대화 패턴 검증\n",
    "get_table('WH')"
   ]
  },
  {
   "cell_type": "code",
   "execution_count": 11,
   "metadata": {},
   "outputs": [
    {
     "data": {
      "text/html": [
       "<div>\n",
       "<style scoped>\n",
       "    .dataframe tbody tr th:only-of-type {\n",
       "        vertical-align: middle;\n",
       "    }\n",
       "\n",
       "    .dataframe tbody tr th {\n",
       "        vertical-align: top;\n",
       "    }\n",
       "\n",
       "    .dataframe thead th {\n",
       "        text-align: right;\n",
       "    }\n",
       "</style>\n",
       "<table border=\"1\" class=\"dataframe\">\n",
       "  <thead>\n",
       "    <tr style=\"text-align: right;\">\n",
       "      <th></th>\n",
       "      <th>Author</th>\n",
       "      <th>Score</th>\n",
       "      <th>Size</th>\n",
       "    </tr>\n",
       "  </thead>\n",
       "  <tbody>\n",
       "    <tr>\n",
       "      <th>4</th>\n",
       "      <td>KS</td>\n",
       "      <td>1.000000</td>\n",
       "      <td>2145</td>\n",
       "    </tr>\n",
       "    <tr>\n",
       "      <th>5</th>\n",
       "      <td>WH</td>\n",
       "      <td>0.770405</td>\n",
       "      <td>504</td>\n",
       "    </tr>\n",
       "    <tr>\n",
       "      <th>3</th>\n",
       "      <td>HL</td>\n",
       "      <td>0.714481</td>\n",
       "      <td>3554</td>\n",
       "    </tr>\n",
       "    <tr>\n",
       "      <th>0</th>\n",
       "      <td>BJ</td>\n",
       "      <td>0.672703</td>\n",
       "      <td>4222</td>\n",
       "    </tr>\n",
       "    <tr>\n",
       "      <th>1</th>\n",
       "      <td>BR</td>\n",
       "      <td>0.645184</td>\n",
       "      <td>2824</td>\n",
       "    </tr>\n",
       "    <tr>\n",
       "      <th>6</th>\n",
       "      <td>YH</td>\n",
       "      <td>0.630066</td>\n",
       "      <td>1108</td>\n",
       "    </tr>\n",
       "    <tr>\n",
       "      <th>2</th>\n",
       "      <td>GM</td>\n",
       "      <td>0.594401</td>\n",
       "      <td>554</td>\n",
       "    </tr>\n",
       "  </tbody>\n",
       "</table>\n",
       "</div>"
      ],
      "text/plain": [
       "  Author     Score  Size\n",
       "4     KS  1.000000  2145\n",
       "5     WH  0.770405   504\n",
       "3     HL  0.714481  3554\n",
       "0     BJ  0.672703  4222\n",
       "1     BR  0.645184  2824\n",
       "6     YH  0.630066  1108\n",
       "2     GM  0.594401   554"
      ]
     },
     "execution_count": 11,
     "metadata": {},
     "output_type": "execute_result"
    }
   ],
   "source": [
    "get_table('KS')"
   ]
  }
 ],
 "metadata": {
  "kernelspec": {
   "display_name": "Python 3",
   "language": "python",
   "name": "python3"
  },
  "language_info": {
   "codemirror_mode": {
    "name": "ipython",
    "version": 3
   },
   "file_extension": ".py",
   "mimetype": "text/x-python",
   "name": "python",
   "nbconvert_exporter": "python",
   "pygments_lexer": "ipython3",
   "version": "3.7.8"
  }
 },
 "nbformat": 4,
 "nbformat_minor": 2
}
