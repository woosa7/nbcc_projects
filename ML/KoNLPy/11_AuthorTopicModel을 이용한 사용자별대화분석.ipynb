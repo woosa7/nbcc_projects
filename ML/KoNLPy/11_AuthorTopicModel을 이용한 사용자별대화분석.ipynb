{
 "cells": [
  {
   "cell_type": "markdown",
   "metadata": {},
   "source": [
    "# LDA에서 Author Topic Model"
   ]
  },
  {
   "cell_type": "markdown",
   "metadata": {},
   "source": [
    "<!-- <img src=\"data/atm_fig.jpg\"> -->\n",
    "![data/atm_fig.jpg](data/atm_fig.jpg)"
   ]
  },
  {
   "cell_type": "markdown",
   "metadata": {},
   "source": [
    "* LDA에서 저자 정보(metadata)가 추가된 토픽모델.\n",
    "* 문서별 단어분포를 반영하던 파라미터에, <b>저자별 문서분포</b> 정보까지 추가된 형태."
   ]
  },
  {
   "cell_type": "markdown",
   "metadata": {},
   "source": [
    "<!-- <img src=\"data/atm_fig2.jpg\"> -->\n",
    "![data/atm_fig2.jpg](data/atm_fig2.jpg)"
   ]
  },
  {
   "cell_type": "code",
   "execution_count": 1,
   "metadata": {},
   "outputs": [],
   "source": [
    "import pandas as pd\n",
    "import numpy as np\n",
    "from pprint import pprint\n",
    "\n",
    "import pickle"
   ]
  },
  {
   "cell_type": "code",
   "execution_count": 2,
   "metadata": {},
   "outputs": [
    {
     "name": "stdout",
     "output_type": "stream",
     "text": [
      "                date user                                            message\n",
      "0  2016. 3. 7. 15:41   YH  안녕하세요 이게 빠르지 않을까 해서요 엠티 관련해서는 회장님께서 이미 밴드에 올려 ...\n",
      "1  2016. 3. 7. 15:51   WH                                           네 안녕하세요 \n",
      "2  2016. 3. 7. 17:14   YH  넵 저희 카톡방을 만들어서 거기다 투표를 돌릴까요 아님 그냥 밴드에 두개로 할까요 총무님\n",
      "3  2016. 3. 7. 17:21   KS                            엠티관련해서 참석여부 투표를 말씀하신건가요\n",
      "4  2016. 3. 7. 17:22   YH                       네 저희 이번 토욜 관련해서도 투표를 올려야 해서요\n",
      "<class 'pandas.core.frame.DataFrame'>\n",
      "RangeIndex: 14911 entries, 0 to 14910\n",
      "Data columns (total 3 columns):\n",
      " #   Column   Non-Null Count  Dtype \n",
      "---  ------   --------------  ----- \n",
      " 0   date     14911 non-null  object\n",
      " 1   user     14911 non-null  object\n",
      " 2   message  14911 non-null  object\n",
      "dtypes: object(3)\n",
      "memory usage: 349.6+ KB\n",
      "None\n"
     ]
    }
   ],
   "source": [
    "# load data\n",
    "with open(\"data/cleaned_katalk_data.pk\", \"rb\") as f:\n",
    "    data = pickle.load(f)\n",
    "    \n",
    "print(data.head())\n",
    "print(data.info())"
   ]
  },
  {
   "cell_type": "code",
   "execution_count": 3,
   "metadata": {},
   "outputs": [
    {
     "data": {
      "text/plain": [
       "{'BJ', 'BR', 'GM', 'HL', 'KS', 'WH', 'YH'}"
      ]
     },
     "execution_count": 3,
     "metadata": {},
     "output_type": "execute_result"
    }
   ],
   "source": [
    "users = set(data[\"user\"])\n",
    "users"
   ]
  },
  {
   "cell_type": "code",
   "execution_count": 4,
   "metadata": {
    "scrolled": false
   },
   "outputs": [
    {
     "name": "stdout",
     "output_type": "stream",
     "text": [
      "{'BJ': Int64Index([ 1161,  1162,  1164,  1168,  1169,  1173,  1179,  1180,  1181,\n",
      "             1185,\n",
      "            ...\n",
      "            14857, 14859, 14863, 14864, 14877, 14878, 14880, 14883, 14885,\n",
      "            14886],\n",
      "           dtype='int64', length=4222),\n",
      " 'BR': Int64Index([   23,    25,    32,    54,    77,    78,    79,    80,    83,\n",
      "               84,\n",
      "            ...\n",
      "            14887, 14890, 14892, 14893, 14896, 14901, 14902, 14904, 14906,\n",
      "            14910],\n",
      "           dtype='int64', length=2824),\n",
      " 'GM': Int64Index([  272,   351,   405,   564,   652,   715,   736,   814,   821,\n",
      "              904,\n",
      "            ...\n",
      "            14671, 14674, 14676, 14680, 14684, 14688, 14691, 14695, 14697,\n",
      "            14700],\n",
      "           dtype='int64', length=554),\n",
      " 'HL': Int64Index([   19,    20,    49,    50,    52,    55,    57,   115,   116,\n",
      "              118,\n",
      "            ...\n",
      "            14871, 14876, 14888, 14889, 14891, 14895, 14897, 14899, 14903,\n",
      "            14907],\n",
      "           dtype='int64', length=3554),\n",
      " 'KS': Int64Index([    3,     5,     6,     7,     8,    11,    13,    31,    33,\n",
      "               35,\n",
      "            ...\n",
      "            14867, 14869, 14872, 14875, 14894, 14898, 14900, 14905, 14908,\n",
      "            14909],\n",
      "           dtype='int64', length=2145),\n",
      " 'WH': Int64Index([    1,    18,    26,    30,    38,    39,    41,    42,    43,\n",
      "               45,\n",
      "            ...\n",
      "            13534, 13550, 13554, 13833, 13841, 13848, 13962, 13972, 14415,\n",
      "            14440],\n",
      "           dtype='int64', length=504),\n",
      " 'YH': Int64Index([    0,     2,     4,     9,    10,    12,    14,    15,    16,\n",
      "               17,\n",
      "            ...\n",
      "            13966, 14016, 14017, 14020, 14153, 14194, 14205, 14209, 14283,\n",
      "            14304],\n",
      "           dtype='int64', length=1108)}\n"
     ]
    }
   ],
   "source": [
    "authors = data.groupby('user')\n",
    "pprint(authors.groups)"
   ]
  },
  {
   "cell_type": "code",
   "execution_count": 5,
   "metadata": {},
   "outputs": [],
   "source": [
    "# 사용자별 문서 그룹핑\n",
    "author2doc = {}\n",
    "\n",
    "for user, index in authors.groups.items():\n",
    "    author2doc[user] = list(index)"
   ]
  },
  {
   "cell_type": "markdown",
   "metadata": {},
   "source": [
    "### gensim을 이용한 Author Topic Model"
   ]
  },
  {
   "cell_type": "code",
   "execution_count": 6,
   "metadata": {},
   "outputs": [
    {
     "name": "stdout",
     "output_type": "stream",
     "text": [
      "[['안녕하세요', '이게', '빠르지', '않을까', '해서요', '엠티', '관련해서는', '회장님께서', '이미', '밴드에', '올려', '주셨어요'], ['네', '안녕하세요'], ['넵', '저희', '카톡방을', '만들어서', '거기다', '투표를', '돌릴까요', '아님', '그냥', '밴드에', '두개로', '할까요', '총무님'], ['엠티관련해서', '참석여부', '투표를', '말씀하신건가요'], ['네', '저희', '이번', '토욜', '관련해서도', '투표를', '올려야', '해서요'], ['밴드보다는', '카톡이', '더', '접근성이', '있지', '않을까요'], ['제가', '연락처', '다', '저장해서', '전체', '카톡방', '만들겠습니다'], ['혹시', '정도상님', '연락처가', '카톡에', '저장되지', '않는데'], ['혹시', '저장되신분', '있으신가요'], ['연락처', '정도상5기', 'KMBDMBA']]\n"
     ]
    }
   ],
   "source": [
    "tokenized_data = [msg.split() for msg in list(data[\"message\"])]\n",
    "\n",
    "print(tokenized_data[:10])"
   ]
  },
  {
   "cell_type": "code",
   "execution_count": 7,
   "metadata": {},
   "outputs": [],
   "source": [
    "from gensim.models import AuthorTopicModel\n",
    "from gensim.models import CoherenceModel\n",
    "from gensim.corpora import Dictionary, bleicorpus\n",
    "from gensim.matutils import hellinger\n",
    "from gensim import corpora\n",
    "from tqdm import tqdm_notebook\n",
    "from time import time\n",
    "import os"
   ]
  },
  {
   "cell_type": "code",
   "execution_count": 8,
   "metadata": {},
   "outputs": [],
   "source": [
    "dict_file = 'data/kakao_ATM_dict'\n",
    "corpus_file = 'data/kakao_ATM_corpus'\n",
    "\n",
    "# dictionary (word) <--> corpus (id)\n",
    "\n",
    "# ATM에 사용할 Dictionary 만들기\n",
    "if not os.path.exists(dict_file):\n",
    "    dictionary = corpora.Dictionary(tokenized_data)\n",
    "    dictionary.save(dict_file)\n",
    "    print(dictionary)\n",
    "else:\n",
    "    dictionary = Dictionary.load(dict_file)\n",
    "\n",
    "# ATM에 사용할 corpus 만들기\n",
    "if not os.path.exists(corpus_file):\n",
    "    corpus = [dictionary.doc2bow(doc) for doc in tokenized_data]\n",
    "    corpora.BleiCorpus.serialize(corpus_file, corpus)\n",
    "else:\n",
    "    corpus = bleicorpus.BleiCorpus(corpus_file)"
   ]
  },
  {
   "cell_type": "code",
   "execution_count": 9,
   "metadata": {},
   "outputs": [
    {
     "name": "stdout",
     "output_type": "stream",
     "text": [
      "Number of authors      : 7\n",
      "Number of unique tokens: 19955\n",
      "Number of documents    : 14911\n"
     ]
    }
   ],
   "source": [
    "print('Number of authors      : %d' % len(authors))\n",
    "print('Number of unique tokens: %d' % len(dictionary))\n",
    "print('Number of documents    : %d' % len(corpus))"
   ]
  },
  {
   "cell_type": "code",
   "execution_count": 10,
   "metadata": {
    "scrolled": false
   },
   "outputs": [
    {
     "name": "stdout",
     "output_type": "stream",
     "text": [
      "Dictionary(19955 unique tokens: ['관련해서는', '밴드에', '빠르지', '안녕하세요', '않을까']...)\n",
      "0 관련해서는\n",
      "1 밴드에\n",
      "2 빠르지\n",
      "3 안녕하세요\n",
      "4 않을까\n",
      "5 엠티\n",
      "6 올려\n",
      "7 이게\n",
      "8 이미\n",
      "9 주셨어요\n",
      "10 해서요\n"
     ]
    }
   ],
   "source": [
    "# dictionary에 있는 단어 보기\n",
    "print(dictionary)\n",
    "\n",
    "for idx in dictionary:\n",
    "    print(idx, dictionary[idx])\n",
    "    \n",
    "    if idx == 10: break"
   ]
  },
  {
   "cell_type": "code",
   "execution_count": 11,
   "metadata": {
    "scrolled": false
   },
   "outputs": [
    {
     "data": {
      "text/plain": [
       "[[('관련해서는', 1.0),\n",
       "  ('밴드에', 1.0),\n",
       "  ('빠르지', 1.0),\n",
       "  ('안녕하세요', 1.0),\n",
       "  ('않을까', 1.0),\n",
       "  ('엠티', 1.0),\n",
       "  ('올려', 1.0),\n",
       "  ('이게', 1.0),\n",
       "  ('이미', 1.0),\n",
       "  ('주셨어요', 1.0),\n",
       "  ('해서요', 1.0),\n",
       "  ('회장님께서', 1.0)],\n",
       " [('안녕하세요', 1.0), ('네', 1.0)],\n",
       " [('밴드에', 1.0),\n",
       "  ('거기다', 1.0),\n",
       "  ('그냥', 1.0),\n",
       "  ('넵', 1.0),\n",
       "  ('돌릴까요', 1.0),\n",
       "  ('두개로', 1.0),\n",
       "  ('만들어서', 1.0),\n",
       "  ('아님', 1.0),\n",
       "  ('저희', 1.0),\n",
       "  ('총무님', 1.0),\n",
       "  ('카톡방을', 1.0),\n",
       "  ('투표를', 1.0),\n",
       "  ('할까요', 1.0)]]"
      ]
     },
     "execution_count": 11,
     "metadata": {},
     "output_type": "execute_result"
    }
   ],
   "source": [
    "# 사람이 이해할 수 있는 형태로 코퍼스 사전 재구성 (term-frequency)\n",
    "[[(dictionary[id], freq) for id, freq in cp] for cp in corpus][:3]"
   ]
  },
  {
   "cell_type": "code",
   "execution_count": 12,
   "metadata": {},
   "outputs": [],
   "source": [
    "# Author Topic Model 실행\n",
    "\n",
    "model_path = 'data/kakao_ATM_model'\n",
    "if not os.path.exists(model_path):\n",
    "    model = AuthorTopicModel(corpus=corpus, \n",
    "                             num_topics=4, \n",
    "                             id2word=dictionary.id2token, \n",
    "                             author2doc=author2doc, \n",
    "                             passes=10)\n",
    "    model.save(model_path)\n",
    "else:\n",
    "    model = AuthorTopicModel.load(model_path)"
   ]
  },
  {
   "cell_type": "code",
   "execution_count": 13,
   "metadata": {},
   "outputs": [
    {
     "data": {
      "text/plain": [
       "[('나', 0.010368158594930087),\n",
       " ('나도', 0.005641677219910483),\n",
       " ('다', 0.00549259642870929),\n",
       " ('완전', 0.004452450579120248),\n",
       " ('그래서', 0.003992346335516386),\n",
       " ('내가', 0.003966104395676567),\n",
       " ('오', 0.0037888147726983542),\n",
       " ('역시', 0.0036775522938288637),\n",
       " ('근데', 0.003638984283893234),\n",
       " ('어제', 0.00346218867638447)]"
      ]
     },
     "execution_count": 13,
     "metadata": {},
     "output_type": "execute_result"
    }
   ],
   "source": [
    "model.show_topic(0)"
   ]
  },
  {
   "cell_type": "code",
   "execution_count": 14,
   "metadata": {},
   "outputs": [
    {
     "data": {
      "text/plain": [
       "[('내가', 0.005889143519467075),\n",
       " ('나', 0.005382679330915128),\n",
       " ('형', 0.004675763941585595),\n",
       " ('부끄', 0.004323705003887456),\n",
       " ('누나', 0.0037521905195854878),\n",
       " ('지금', 0.0035098066160478853),\n",
       " ('근데', 0.0033245583859888477),\n",
       " ('없어', 0.003311321438405062),\n",
       " ('나도', 0.0031244904139345934),\n",
       " ('헐', 0.0030329782207485674)]"
      ]
     },
     "execution_count": 14,
     "metadata": {},
     "output_type": "execute_result"
    }
   ],
   "source": [
    "model.show_topic(1)"
   ]
  }
 ],
 "metadata": {
  "kernelspec": {
   "display_name": "Python 3",
   "language": "python",
   "name": "python3"
  },
  "language_info": {
   "codemirror_mode": {
    "name": "ipython",
    "version": 3
   },
   "file_extension": ".py",
   "mimetype": "text/x-python",
   "name": "python",
   "nbconvert_exporter": "python",
   "pygments_lexer": "ipython3",
   "version": "3.7.8"
  }
 },
 "nbformat": 4,
 "nbformat_minor": 2
}
