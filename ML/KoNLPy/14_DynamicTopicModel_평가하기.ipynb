{
 "cells": [
  {
   "cell_type": "markdown",
   "metadata": {},
   "source": [
    "### 1. 대화내용 불러오기"
   ]
  },
  {
   "cell_type": "code",
   "execution_count": 17,
   "metadata": {},
   "outputs": [],
   "source": [
    "from gensim.models import ldaseqmodel\n",
    "from gensim.models import CoherenceModel\n",
    "from gensim.corpora import Dictionary, bleicorpus\n",
    "from gensim.matutils import hellinger\n",
    "from gensim import corpora\n",
    "from tqdm import notebook\n",
    "from time import time\n",
    "\n",
    "import pandas as pd\n",
    "import numpy as np\n",
    "import pickle\n",
    "import os\n",
    "from pprint import pprint"
   ]
  },
  {
   "cell_type": "code",
   "execution_count": 8,
   "metadata": {},
   "outputs": [
    {
     "data": {
      "text/html": [
       "<div>\n",
       "<style scoped>\n",
       "    .dataframe tbody tr th:only-of-type {\n",
       "        vertical-align: middle;\n",
       "    }\n",
       "\n",
       "    .dataframe tbody tr th {\n",
       "        vertical-align: top;\n",
       "    }\n",
       "\n",
       "    .dataframe thead th {\n",
       "        text-align: right;\n",
       "    }\n",
       "</style>\n",
       "<table border=\"1\" class=\"dataframe\">\n",
       "  <thead>\n",
       "    <tr style=\"text-align: right;\">\n",
       "      <th></th>\n",
       "      <th>user</th>\n",
       "      <th>message</th>\n",
       "    </tr>\n",
       "    <tr>\n",
       "      <th>date</th>\n",
       "      <th></th>\n",
       "      <th></th>\n",
       "    </tr>\n",
       "  </thead>\n",
       "  <tbody>\n",
       "    <tr>\n",
       "      <th>2016-03-07 15:41:00</th>\n",
       "      <td>YH</td>\n",
       "      <td>안녕하세요 이게 빠르지 않을까 해서요 엠티 관련해서는 회장님께서 이미 밴드에 올려 ...</td>\n",
       "    </tr>\n",
       "    <tr>\n",
       "      <th>2016-03-07 15:51:00</th>\n",
       "      <td>WH</td>\n",
       "      <td>네 안녕하세요</td>\n",
       "    </tr>\n",
       "    <tr>\n",
       "      <th>2016-03-07 17:14:00</th>\n",
       "      <td>YH</td>\n",
       "      <td>넵 저희 카톡방을 만들어서 거기다 투표를 돌릴까요 아님 그냥 밴드에 두개로 할까요 총무님</td>\n",
       "    </tr>\n",
       "    <tr>\n",
       "      <th>2016-03-07 17:21:00</th>\n",
       "      <td>KS</td>\n",
       "      <td>엠티관련해서 참석여부 투표를 말씀하신건가요</td>\n",
       "    </tr>\n",
       "    <tr>\n",
       "      <th>2016-03-07 17:22:00</th>\n",
       "      <td>YH</td>\n",
       "      <td>네 저희 이번 토욜 관련해서도 투표를 올려야 해서요</td>\n",
       "    </tr>\n",
       "  </tbody>\n",
       "</table>\n",
       "</div>"
      ],
      "text/plain": [
       "                    user                                            message\n",
       "date                                                                       \n",
       "2016-03-07 15:41:00   YH  안녕하세요 이게 빠르지 않을까 해서요 엠티 관련해서는 회장님께서 이미 밴드에 올려 ...\n",
       "2016-03-07 15:51:00   WH                                           네 안녕하세요 \n",
       "2016-03-07 17:14:00   YH  넵 저희 카톡방을 만들어서 거기다 투표를 돌릴까요 아님 그냥 밴드에 두개로 할까요 총무님\n",
       "2016-03-07 17:21:00   KS                            엠티관련해서 참석여부 투표를 말씀하신건가요\n",
       "2016-03-07 17:22:00   YH                       네 저희 이번 토욜 관련해서도 투표를 올려야 해서요"
      ]
     },
     "execution_count": 8,
     "metadata": {},
     "output_type": "execute_result"
    }
   ],
   "source": [
    "# load data\n",
    "with open(\"data/cleaned_katalk_data.pk\", \"rb\") as f:\n",
    "    data = pickle.load(f)\n",
    "\n",
    "# 시간정보 열을 datetime 정보로 변환\n",
    "data['date'] = pd.to_datetime(data['date'])\n",
    "data = data.set_index('date')\n",
    "\n",
    "data.head()"
   ]
  },
  {
   "cell_type": "code",
   "execution_count": 10,
   "metadata": {},
   "outputs": [],
   "source": [
    "# 시기별로 데이터 나누기\n",
    "data_0 = data['2016-03-01' : '2016-03-31']\n",
    "data_1 = data['2016-04-01' : '2016-04-20']\n",
    "data_2 = data['2016-04-21' : '2016-04-30']\n",
    "\n",
    "# 시기별 데이터 가져오기\n",
    "slice0 = list(data_0['message'])\n",
    "slice1 = list(data_1['message'])\n",
    "slice2 = list(data_2['message'])\n",
    "\n",
    "# 모든 분석 대상 텍스트를 담는 리스트\n",
    "tokenized_data = [msg.split() for msg in (slice0 + slice1 + slice2)]\n",
    "\n",
    "# 각 slice에 들어 있는 갯수를 원소로 갖는 리스트 생성\n",
    "time_slice = []\n",
    "time_slice.append(len(slice0))\n",
    "time_slice.append(len(slice1))\n",
    "time_slice.append(len(slice2))"
   ]
  },
  {
   "cell_type": "code",
   "execution_count": 11,
   "metadata": {},
   "outputs": [],
   "source": [
    "# 저장된 DTM dictionary, corpus 불러오기\n",
    "dictionary = Dictionary.load('data/kakao_DTM_dict')\n",
    "corpus = bleicorpus.BleiCorpus('data/kakao_DTM_corpus')"
   ]
  },
  {
   "cell_type": "markdown",
   "metadata": {},
   "source": [
    "### coherence score 계산"
   ]
  },
  {
   "cell_type": "markdown",
   "metadata": {},
   "source": [
    "#### topic 개수 지정하기."
   ]
  },
  {
   "cell_type": "code",
   "execution_count": 12,
   "metadata": {},
   "outputs": [],
   "source": [
    "# 각 시간대별로 5개 토픽 (총 3 * 5 = 15)\n",
    "\n",
    "start=4; end=9; step=1;  # topic 4 ~ 8\n",
    "times=[0, 1, 2]"
   ]
  },
  {
   "cell_type": "markdown",
   "metadata": {},
   "source": [
    "#### DTM과 coherence score 계산하는 함수"
   ]
  },
  {
   "cell_type": "code",
   "execution_count": 18,
   "metadata": {},
   "outputs": [],
   "source": [
    "def compute_coherence(dictionary, corpus, texts, times, start, end, step):\n",
    "    coherence_score_list = []\n",
    "    model_list = []\n",
    "    \n",
    "    for num_topics in notebook.tqdm(range(start, end, step)):\n",
    "        ###################\n",
    "        start_dtm = time()\n",
    "        \n",
    "        # 각 토픽마다 DTM 계산\n",
    "        dtm_name = \"kakao_dtm_model_\" + str(num_topics)\n",
    "        \n",
    "        # 하나씩 계산될 때마다 파일로 저장\n",
    "        if os.path.exists(dtm_name):\n",
    "            dtm_model = ldaseqmodel.LdaSeqModel.load(dtm_name)\n",
    "        else:\n",
    "            dtm_model = ldaseqmodel.LdaSeqModel(corpus=corpus, \n",
    "                                                id2word=dictionary,\n",
    "                                                time_slice=time_slice, \n",
    "                                                num_topics=num_topics, passes=100) # 여기 passes 값 주의\n",
    "            dtm_model.save(dtm_name)\n",
    "            \n",
    "        end_dtm = time()\n",
    "        ###################\n",
    "        print(\"Elapsed Time for DTM in %d topics : %.2f sec.\" % (num_topics, (end_dtm - start_dtm)))\n",
    "        \n",
    "        topic_cs_list = []\n",
    "        for time_slot in times:\n",
    "            topics_dtm = dtm_model.dtm_coherence(time=time_slot)        \n",
    "            cs = CoherenceModel(topics=topics_dtm, \n",
    "                                texts=texts,\n",
    "                                dictionary=dictionary, \n",
    "                                coherence='c_v')\n",
    "            topic_cs_list.append(cs.get_coherence())\n",
    "            \n",
    "        model_list.append(dtm_model)\n",
    "        coherence_score_list.append(topic_cs_list)\n",
    "        \n",
    "    return model_list, coherence_score_list"
   ]
  },
  {
   "cell_type": "code",
   "execution_count": null,
   "metadata": {},
   "outputs": [
    {
     "data": {
      "application/vnd.jupyter.widget-view+json": {
       "model_id": "a554f33c60764a578cceef57e7d6c389",
       "version_major": 2,
       "version_minor": 0
      },
      "text/plain": [
       "HBox(children=(HTML(value=''), FloatProgress(value=0.0, max=5.0), HTML(value='')))"
      ]
     },
     "metadata": {},
     "output_type": "display_data"
    },
    {
     "name": "stderr",
     "output_type": "stream",
     "text": [
      "C:\\Anaconda3\\envs\\konlpy\\lib\\site-packages\\gensim\\models\\ldaseqmodel.py:1474: RuntimeWarning: invalid value encountered in double_scalars\n",
      "  converged = np.fabs((lhood_old - lhood) / (lhood_old * total))\n",
      "C:\\Anaconda3\\envs\\konlpy\\lib\\site-packages\\gensim\\models\\ldaseqmodel.py:293: RuntimeWarning: divide by zero encountered in double_scalars\n",
      "  convergence = np.fabs((bound - old_bound) / old_bound)\n",
      "C:\\Anaconda3\\envs\\konlpy\\lib\\site-packages\\gensim\\models\\ldaseqmodel.py:1474: RuntimeWarning: invalid value encountered in double_scalars\n",
      "  converged = np.fabs((lhood_old - lhood) / (lhood_old * total))\n"
     ]
    }
   ],
   "source": [
    "model_list, coherence_scores = compute_coherence(dictionary=dictionary, \n",
    "                                                 corpus=corpus, \n",
    "                                                 texts=tokenized_data,\n",
    "                                                 times=times,\n",
    "                                                 start=start, end=end, step=step)"
   ]
  },
  {
   "cell_type": "markdown",
   "metadata": {},
   "source": [
    "##### 위 계산 결과 통째로 저장"
   ]
  },
  {
   "cell_type": "code",
   "execution_count": 28,
   "metadata": {},
   "outputs": [],
   "source": [
    "import pickle\n",
    "\n",
    "with open(\"kakao_dtm_models.pk\", 'wb') as f:\n",
    "    pickle.dump(model_list, f)\n",
    "    \n",
    "with open(\"kakao_dtm_cs.pk\", 'wb') as f:\n",
    "    pickle.dump(coherence_scores, f)"
   ]
  },
  {
   "cell_type": "code",
   "execution_count": 18,
   "metadata": {},
   "outputs": [],
   "source": [
    "import pickle\n",
    "\n",
    "with open(\"kakao_dtm_models.pk\", 'rb') as f:\n",
    "    model_list = pickle.load(f)\n",
    "    \n",
    "with open(\"kakao_dtm_cs.pk\", 'rb') as f:\n",
    "    coherence_scores = pickle.load(f)"
   ]
  },
  {
   "cell_type": "markdown",
   "metadata": {},
   "source": [
    "### 5. Topic Coherence 변화 그래프 그리기"
   ]
  },
  {
   "cell_type": "code",
   "execution_count": 20,
   "metadata": {},
   "outputs": [
    {
     "name": "stdout",
     "output_type": "stream",
     "text": [
      "[[0.6791123417992498, 0.6791123417992498, 0.6856606627874999],\n",
      " [0.6677034717377166, 0.6688962595279905, 0.6688962595279905],\n",
      " [0.6870507952078143, 0.6870507952078143, 0.6870507952078143],\n",
      " [0.6805627617600497, 0.6784253542334665, 0.6795209667241288],\n",
      " [0.6898869397185665, 0.6902980469748023, 0.6902980469748023]]\n"
     ]
    }
   ],
   "source": [
    "pprint(coherence_scores)"
   ]
  },
  {
   "cell_type": "code",
   "execution_count": 21,
   "metadata": {},
   "outputs": [],
   "source": [
    "# 편한 연산을 위해 numpy array로 변경.\n",
    "import numpy as np\n",
    "\n",
    "np_coherence_scores = np.array(coherence_scores) \n",
    "np_cs_avg_list = np_coherence_scores.mean(axis=1)"
   ]
  },
  {
   "cell_type": "code",
   "execution_count": 22,
   "metadata": {},
   "outputs": [
    {
     "data": {
      "text/plain": [
       "array([0.68129512, 0.66849866, 0.6870508 , 0.67950303, 0.69016101])"
      ]
     },
     "execution_count": 22,
     "metadata": {},
     "output_type": "execute_result"
    }
   ],
   "source": [
    "np_cs_avg_list"
   ]
  },
  {
   "cell_type": "code",
   "execution_count": 23,
   "metadata": {},
   "outputs": [],
   "source": [
    "# 그래프 출력을 위한 한글 글꼴 설정.\n",
    "\n",
    "import matplotlib.pyplot as plt\n",
    "import platform\n",
    "from matplotlib import font_manager, rc\n",
    "%matplotlib inline\n",
    "\n",
    "path = \"c:/Windows/Fonts/malgun.ttf\"\n",
    "if platform.system() == 'Darwin':\n",
    "    rc('font', family='AppleGothic')\n",
    "elif platform.system() == 'Windows':\n",
    "    font_name = font_manager.FontProperties(fname=path).get_name()\n",
    "    rc('font', family=font_name)\n",
    "else:\n",
    "    print('Unknown system... sorry~~~~')"
   ]
  },
  {
   "cell_type": "code",
   "execution_count": 17,
   "metadata": {},
   "outputs": [
    {
     "data": {
      "image/png": "[encoded data removed]",
      "text/plain": [
       "<Figure size 864x720 with 1 Axes>"
      ]
     },
     "metadata": {
      "needs_background": "light"
     },
     "output_type": "display_data"
    }
   ],
   "source": [
    "# 그래프 그리기\n",
    "x = range(start, end, step)\n",
    "\n",
    "plt.figure(figsize=(12, 10)) \n",
    "plt.plot(x, np_cs_avg_list, '-b')\n",
    "plt.xlabel(\"토픽 수\")\n",
    "plt.ylabel(\"평균 일관성 점수 (avg of coherence score)\")\n",
    "plt.xticks(x)\n",
    "plt.show()"
   ]
  },
  {
   "cell_type": "markdown",
   "metadata": {},
   "source": [
    "##### 위에서 구한 일관성 점수 기준으로 최적 토픽 모델 결정"
   ]
  },
  {
   "cell_type": "code",
   "execution_count": 24,
   "metadata": {},
   "outputs": [
    {
     "data": {
      "text/plain": [
       "8"
      ]
     },
     "execution_count": 24,
     "metadata": {},
     "output_type": "execute_result"
    }
   ],
   "source": [
    "# 최적 토픽 모델을 dtm_model로 할당\n",
    "dtm_model = model_list[np.argmax(np_cs_avg_list)]\n",
    "len(dtm_model.print_topics())"
   ]
  },
  {
   "cell_type": "markdown",
   "metadata": {},
   "source": [
    "##### DTM 결과 보기"
   ]
  },
  {
   "cell_type": "code",
   "execution_count": 25,
   "metadata": {
    "scrolled": false
   },
   "outputs": [
    {
     "name": "stdout",
     "output_type": "stream",
     "text": [
      "[[('프로도', 0.037164509009551025),\n",
      "  ('일단', 0.026059913541270664),\n",
      "  ('다', 0.021688299187068376),\n",
      "  ('프로도이', 0.01643045574294197),\n",
      "  ('왜', 0.012980272854879533),\n",
      "  ('후발', 0.012297929866202676),\n",
      "  ('굿굿', 0.011221178696941963),\n",
      "  ('아직', 0.008613485109220921),\n",
      "  ('그래도', 0.008013581126463927),\n",
      "  ('오늘은', 0.007835026763143384),\n",
      "  ('다들', 0.007529385734068018),\n",
      "  ('바로', 0.006995230248881405),\n",
      "  ('가서', 0.006407115134352411),\n",
      "  ('호우', 0.004596199173038919),\n",
      "  ('이건', 0.00434229867760054),\n",
      "  ('지노', 0.004070410234240054),\n",
      "  ('밥', 0.003846079782575228),\n",
      "  ('사람', 0.00352032352764707),\n",
      "  ('혼자', 0.0034516111061520774),\n",
      "  ('무지', 0.002994123433138435)],\n",
      " [('라이언', 0.026917477542742905),\n",
      "  ('역시', 0.017879486028852472),\n",
      "  ('뭐', 0.017302123857646883),\n",
      "  ('너무', 0.013090695875497917),\n",
      "  ('임마', 0.012532893166174765),\n",
      "  ('아니', 0.01107559775447458),\n",
      "  ('좋음', 0.010429072663693991),\n",
      "  ('그거', 0.01001506840783984),\n",
      "  ('그건', 0.009463809037218579),\n",
      "  ('우리', 0.009355687018617864),\n",
      "  ('됨', 0.007379052631398467),\n",
      "  ('아하', 0.007373647443540032),\n",
      "  ('너도', 0.00707759557310999),\n",
      "  ('하고', 0.007000942591391096),\n",
      "  ('요즘', 0.006388021173124418),\n",
      "  ('하지만', 0.006059342322520054),\n",
      "  ('곧', 0.006035032198221091),\n",
      "  ('그게', 0.005927972121710662),\n",
      "  ('하면', 0.005843284900108756),\n",
      "  ('잇음', 0.004950038548192515)],\n",
      " [('굿', 0.10094464531695643),\n",
      "  ('핳', 0.06543328825176256),\n",
      "  ('걍', 0.02176246980318798),\n",
      "  ('닥쳐', 0.021063619274315642),\n",
      "  ('아님', 0.01866770574076125),\n",
      "  ('더', 0.016750922795666534),\n",
      "  ('Search', 0.016013578318485443),\n",
      "  ('내일', 0.01584363365199517),\n",
      "  ('흑', 0.013600001956202392),\n",
      "  ('너', 0.008741822942673168),\n",
      "  ('함', 0.00872165820072598),\n",
      "  ('존나', 0.0072669189245914674),\n",
      "  ('이거', 0.007106299659687809),\n",
      "  ('올', 0.007029476979396207),\n",
      "  ('다시', 0.00685750083228892),\n",
      "  ('너가', 0.006595944783432213),\n",
      "  ('감', 0.006411622281196934),\n",
      "  ('옵치', 0.0061890829440324835),\n",
      "  ('뭔가', 0.005103737153957221),\n",
      "  ('어디야', 0.005028521408798371)],\n",
      " [('난', 0.047470894924468265),\n",
      "  ('근데', 0.045534013153927966),\n",
      "  ('그냥', 0.01858995154082855),\n",
      "  ('나는', 0.018302888613671204),\n",
      "  ('그래서', 0.013369681974656223),\n",
      "  ('당연', 0.011715028793478525),\n",
      "  ('많이', 0.006100824548182258),\n",
      "  ('레알', 0.004828881706322424),\n",
      "  ('언제', 0.004598749958803923),\n",
      "  ('저녁', 0.0038872428877056975),\n",
      "  ('하앍', 0.003566709150526761),\n",
      "  ('좋아', 0.0034490035665334273),\n",
      "  ('노래', 0.0034426134931429685),\n",
      "  ('친구', 0.00338074171922486),\n",
      "  ('제일', 0.003247242142173629),\n",
      "  ('딱', 0.003189613182824482),\n",
      "  ('뭘', 0.0031671853306686213),\n",
      "  ('안함', 0.0030869170510601047),\n",
      "  ('개꿀', 0.003011953305239132),\n",
      "  ('아직도', 0.002965610998126239)],\n",
      " [('이제', 0.025266207181526612),\n",
      "  ('어피치', 0.01946476555355025),\n",
      "  ('핳핳', 0.018589618769234127),\n",
      "  ('흠', 0.011559261145743066),\n",
      "  ('낼', 0.01030684184718384),\n",
      "  ('크으', 0.00979337789713377),\n",
      "  ('구뜨', 0.009670837022336762),\n",
      "  ('허흑', 0.008381424296603036),\n",
      "  ('님', 0.007324244800293375),\n",
      "  ('간다', 0.006829561494843455),\n",
      "  ('원래', 0.006683386582273459),\n",
      "  ('있음', 0.006540963807456402),\n",
      "  ('모름', 0.006260174664891318),\n",
      "  ('진호', 0.005947659505147327),\n",
      "  ('저', 0.005768539690645563),\n",
      "  ('가자', 0.00538521123126059),\n",
      "  ('라이언이', 0.005166072274869621),\n",
      "  ('사진', 0.00479580068609585),\n",
      "  ('어차피', 0.004775690219508842),\n",
      "  ('튜브이', 0.004437533251563209)],\n",
      " [('아', 0.07111993277250493),\n",
      "  ('굳', 0.026386823069731318),\n",
      "  ('나', 0.023406666680912465),\n",
      "  ('오', 0.02076600770652952),\n",
      "  ('지금', 0.020704678611377918),\n",
      "  ('좀', 0.0191756479774982),\n",
      "  ('이미', 0.014993481333589737),\n",
      "  ('같이', 0.0120453321930024),\n",
      "  ('그리고', 0.011001809973757744),\n",
      "  ('진짜', 0.010883655835497011),\n",
      "  ('가능', 0.009453948994367623),\n",
      "  ('솬이', 0.008757423110056693),\n",
      "  ('이런', 0.008742072966831101),\n",
      "  ('거의', 0.007437614826353519),\n",
      "  ('여자', 0.005588459907050536),\n",
      "  ('암튼', 0.005461376470353032),\n",
      "  ('하앜', 0.005433187815791373),\n",
      "  ('하나', 0.004719387479047979),\n",
      "  ('한번', 0.004697845731177969),\n",
      "  ('아마', 0.0044865229750402115)],\n",
      " [('그럼', 0.03406026902278201),\n",
      "  ('음', 0.030870545405323517),\n",
      "  ('오늘', 0.029304471793885425),\n",
      "  ('내가', 0.02868879920482123),\n",
      "  ('그', 0.016497678856620082),\n",
      "  ('솬', 0.014815334285487185),\n",
      "  ('허허', 0.011911758494377854),\n",
      "  ('튜브', 0.011385155877721943),\n",
      "  ('오우', 0.011228250305423421),\n",
      "  ('또', 0.009649097979032814),\n",
      "  ('시발', 0.008790751642272837),\n",
      "  ('그래', 0.008277328616504324),\n",
      "  ('사실', 0.007849716941036495),\n",
      "  ('이', 0.0065189929867735434),\n",
      "  ('빨리', 0.006169124794510081),\n",
      "  ('대단', 0.006010766870346172),\n",
      "  ('물론', 0.005677636196740689),\n",
      "  ('임', 0.0046509190937133035),\n",
      "  ('팬더', 0.004644449746563429),\n",
      "  ('이게', 0.004408720619723154)],\n",
      " [('나도', 0.013269167843138746),\n",
      "  ('넌', 0.00854858221656759),\n",
      "  ('내', 0.007992738211390663),\n",
      "  ('와', 0.006045677157690481),\n",
      "  ('잘', 0.00572319068998686),\n",
      "  ('어제', 0.005560585159162013),\n",
      "  ('야', 0.005090928806726937),\n",
      "  ('없음', 0.004046945325866027),\n",
      "  ('뭐야', 0.0037577226859708056),\n",
      "  ('아니면', 0.0033510910679935947),\n",
      "  ('나중에', 0.0029642953211829045),\n",
      "  ('가즈아', 0.002839450333357729),\n",
      "  ('리얼', 0.0025992812509781655),\n",
      "  ('저거', 0.0025777760855329778),\n",
      "  ('호발', 0.0024620500892898714),\n",
      "  ('조루', 0.0023630421976979237),\n",
      "  ('요시', 0.002208758128999083),\n",
      "  ('먹고', 0.0021518195887092625),\n",
      "  ('외쳐', 0.0021279467217352847),\n",
      "  ('계속', 0.002123534079207706)]]\n"
     ]
    }
   ],
   "source": [
    "# 특정 시간대의 전체 토픽보기\n",
    "pprint(dtm_model.print_topics(time=1, top_terms=20))"
   ]
  },
  {
   "cell_type": "code",
   "execution_count": 26,
   "metadata": {
    "scrolled": false
   },
   "outputs": [
    {
     "data": {
      "text/plain": [
       "[[('프로도', 0.036788729266910035),\n",
       "  ('일단', 0.025941884887237532),\n",
       "  ('다', 0.023862734064834277),\n",
       "  ('프로도이', 0.016293553423478487),\n",
       "  ('왜', 0.01295836550473738),\n",
       "  ('후발', 0.012365029372091984),\n",
       "  ('굿굿', 0.011117353002152455),\n",
       "  ('아직', 0.0085449423592081),\n",
       "  ('그래도', 0.007945961375775497),\n",
       "  ('오늘은', 0.007630807610359413),\n",
       "  ('다들', 0.007284881806823021),\n",
       "  ('바로', 0.00692720673906451),\n",
       "  ('가서', 0.006078311290500744),\n",
       "  ('호우', 0.00460860711510686),\n",
       "  ('이건', 0.004340542352515847),\n",
       "  ('지노', 0.0041076954153293445),\n",
       "  ('밥', 0.003838177503319252),\n",
       "  ('사람', 0.003494557188998818),\n",
       "  ('혼자', 0.0034388899879177755),\n",
       "  ('무지', 0.0030445485427200835)],\n",
       " [('프로도', 0.037164509009551025),\n",
       "  ('일단', 0.026059913541270664),\n",
       "  ('다', 0.021688299187068376),\n",
       "  ('프로도이', 0.01643045574294197),\n",
       "  ('왜', 0.012980272854879533),\n",
       "  ('후발', 0.012297929866202676),\n",
       "  ('굿굿', 0.011221178696941963),\n",
       "  ('아직', 0.008613485109220921),\n",
       "  ('그래도', 0.008013581126463927),\n",
       "  ('오늘은', 0.007835026763143384),\n",
       "  ('다들', 0.007529385734068018),\n",
       "  ('바로', 0.006995230248881405),\n",
       "  ('가서', 0.006407115134352411),\n",
       "  ('호우', 0.004596199173038919),\n",
       "  ('이건', 0.00434229867760054),\n",
       "  ('지노', 0.004070410234240054),\n",
       "  ('밥', 0.003846079782575228),\n",
       "  ('사람', 0.00352032352764707),\n",
       "  ('혼자', 0.0034516111061520774),\n",
       "  ('무지', 0.002994123433138435)],\n",
       " [('프로도', 0.03743823347924715),\n",
       "  ('일단', 0.02614912548859356),\n",
       "  ('다', 0.021407730619530767),\n",
       "  ('프로도이', 0.01655230706806371),\n",
       "  ('왜', 0.012999740607673945),\n",
       "  ('후발', 0.012260384305229641),\n",
       "  ('굿굿', 0.011315881246272213),\n",
       "  ('아직', 0.008662723907897043),\n",
       "  ('그래도', 0.008073826159202328),\n",
       "  ('다들', 0.0077730104050908215),\n",
       "  ('오늘은', 0.0074753942620117975),\n",
       "  ('바로', 0.007034148094741422),\n",
       "  ('가서', 0.006187572101185384),\n",
       "  ('호우', 0.004591488235196132),\n",
       "  ('이건', 0.004348428069662819),\n",
       "  ('지노', 0.0040450108480990345),\n",
       "  ('밥', 0.003856723259264248),\n",
       "  ('사람', 0.0035409107611706573),\n",
       "  ('혼자', 0.003459779520189684),\n",
       "  ('무지', 0.002961536165195683)]]"
      ]
     },
     "execution_count": 26,
     "metadata": {},
     "output_type": "execute_result"
    }
   ],
   "source": [
    "# 특정 토픽 내에서 전체 시간 변화 보기\n",
    "dtm_model.print_topic_times(topic=0, top_terms=20)"
   ]
  },
  {
   "cell_type": "markdown",
   "metadata": {},
   "source": [
    "### 6. 문서별 토픽 비중 구하기"
   ]
  },
  {
   "cell_type": "markdown",
   "metadata": {},
   "source": [
    "> 1) 토픽 비중 계산을 위한 데이터 전처리\n",
    "\n",
    "> 2) OOM 문제 해결을 위한 샘플링\n",
    "\n",
    "> 3) DataFrame으로 만들어 excel 파일로 저장"
   ]
  },
  {
   "cell_type": "code",
   "execution_count": 27,
   "metadata": {},
   "outputs": [
    {
     "name": "stdout",
     "output_type": "stream",
     "text": [
      "162861\n"
     ]
    }
   ],
   "source": [
    "# 문서에 시간정도 추가\n",
    "doc_time = []\n",
    "\n",
    "for doc_id in range(len(tokenized_data)):\n",
    "    if doc_id < time_slice[0]:\n",
    "        doc_time.append(0)\n",
    "    elif doc_id < time_slice[0] + time_slice[1]:\n",
    "        doc_time.append(1)\n",
    "    else:\n",
    "        doc_time.append(2)\n",
    "        \n",
    "print(len(doc_time))"
   ]
  },
  {
   "cell_type": "code",
   "execution_count": 28,
   "metadata": {},
   "outputs": [
    {
     "name": "stdout",
     "output_type": "stream",
     "text": [
      "[65644 74573 67902 75018 46121  1579 12589  7516 49985 66445]\n",
      "[123034 136945 104505 145249 135067  95867 134459 132279  98973 126646]\n",
      "[162077 160469 162600 150947 160759 145895 161711 157455 152093 150248]\n"
     ]
    }
   ],
   "source": [
    "# time_slot 별로 1000개씩만 뽑기.\n",
    "sample_idx1 = np.random.randint(0, time_slice[0], size=1000)\n",
    "sample_idx2 = np.random.randint(time_slice[0], time_slice[0] + time_slice[1], size=1000)\n",
    "sample_idx3 = np.random.randint(time_slice[0] + time_slice[1], time_slice[0] + time_slice[1] + time_slice[2],\n",
    "                                size=1000)\n",
    "\n",
    "print(sample_idx1[:10])\n",
    "print(sample_idx2[:10])\n",
    "print(sample_idx3[-10:])"
   ]
  },
  {
   "cell_type": "code",
   "execution_count": 29,
   "metadata": {},
   "outputs": [
    {
     "name": "stdout",
     "output_type": "stream",
     "text": [
      "3000\n",
      "3000\n"
     ]
    }
   ],
   "source": [
    "# OOM(Out-of-Memory) 문제로 인해 1000개씩 샘플링 하여 실행.\n",
    "\n",
    "processing_docs = []\n",
    "processing_time = []\n",
    "\n",
    "sample_indices = np.concatenate((sample_idx1, sample_idx2, sample_idx3))\n",
    "\n",
    "for idx in sample_indices:\n",
    "    processing_docs.append(tokenized_data[idx])\n",
    "    processing_time.append(doc_time[idx])\n",
    "    \n",
    "print(len(processing_docs))\n",
    "print(len(processing_time))"
   ]
  },
  {
   "cell_type": "code",
   "execution_count": 30,
   "metadata": {},
   "outputs": [],
   "source": [
    "# 문서별로 각 토픽에 속할 확률 계산\n",
    "doc_dist = []\n",
    "\n",
    "for doc_id in sample_indices:\n",
    "    doc_dist.append(dtm_model.doc_topics(doc_id)) # dtm_model.doc_topics는 문서별 토픽 확률을 return해주는 명령어 "
   ]
  },
  {
   "cell_type": "code",
   "execution_count": 31,
   "metadata": {},
   "outputs": [
    {
     "data": {
      "text/plain": [
       "(8, 3000)"
      ]
     },
     "execution_count": 31,
     "metadata": {},
     "output_type": "execute_result"
    }
   ],
   "source": [
    "doc_dist = np.array(doc_dist)\n",
    "doc_topic_dist = doc_dist.T\n",
    "doc_topic_dist.shape"
   ]
  },
  {
   "cell_type": "code",
   "execution_count": 32,
   "metadata": {},
   "outputs": [
    {
     "name": "stdout",
     "output_type": "stream",
     "text": [
      "0.009259, 0.009259, 0.009259, 0.009259, 0.009259, 0.935185, 0.009259, 0.009259, \n",
      "0.009259, 0.009259, 0.009259, 0.009259, 0.009259, 0.935185, 0.009259, 0.009259, "
     ]
    }
   ],
   "source": [
    "NUM_TOPICS = dtm_model.num_topics\n",
    "\n",
    "for i in range(NUM_TOPICS):\n",
    "    print(\"%f\" % doc_dist[0][i], end=\", \")\n",
    "\n",
    "print()\n",
    "\n",
    "for i in range(NUM_TOPICS):\n",
    "    print(\"%f\" % doc_topic_dist[i][0], end=\", \")"
   ]
  },
  {
   "cell_type": "code",
   "execution_count": 33,
   "metadata": {},
   "outputs": [
    {
     "data": {
      "text/plain": [
       "(3000,)"
      ]
     },
     "execution_count": 33,
     "metadata": {},
     "output_type": "execute_result"
    }
   ],
   "source": [
    "doc_topic_dist[0].shape"
   ]
  },
  {
   "cell_type": "code",
   "execution_count": 34,
   "metadata": {},
   "outputs": [
    {
     "name": "stdout",
     "output_type": "stream",
     "text": [
      "   Time    Topic0    Topic1    Topic2    Topic3    Topic4    Topic5    Topic6  \\\n",
      "0     0  0.009259  0.009259  0.009259  0.009259  0.009259  0.935185  0.009259   \n",
      "1     0  0.009259  0.009259  0.009259  0.009259  0.009259  0.009259  0.009259   \n",
      "2     0  0.004808  0.481191  0.004808  0.004808  0.004808  0.489963  0.004808   \n",
      "3     0  0.009259  0.009259  0.009259  0.009259  0.009259  0.009259  0.009259   \n",
      "4     0  0.626449  0.003247  0.003247  0.003247  0.003247  0.354071  0.003247   \n",
      "\n",
      "     Topic7  \n",
      "0  0.009259  \n",
      "1  0.935185  \n",
      "2  0.004808  \n",
      "3  0.935185  \n",
      "4  0.003247  \n"
     ]
    }
   ],
   "source": [
    "dtm_df = pd.DataFrame({\"Time\" : processing_time, \"Topic0\" : doc_topic_dist[0], \"Topic1\" : doc_topic_dist[1],\n",
    "                      \"Topic2\" : doc_topic_dist[2], \"Topic3\" : doc_topic_dist[3], \"Topic4\" : doc_topic_dist[4],\n",
    "                       \"Topic5\" : doc_topic_dist[5], \"Topic6\" : doc_topic_dist[6], \"Topic7\" : doc_topic_dist[7]\n",
    "                      })\n",
    "\n",
    "print(dtm_df.head())\n",
    "dtm_df.to_excel(\"kakao_dtm_8topic_dist.xlsx\")"
   ]
  },
  {
   "cell_type": "markdown",
   "metadata": {},
   "source": [
    "### 7. 시간별 토픽비중 변화 추이"
   ]
  },
  {
   "cell_type": "markdown",
   "metadata": {},
   "source": [
    "> 1) 토픽 비중 변화를 보기 위한 데이터 전처리\n",
    "\n",
    "> 2) 시간대별 토픽 비중 평균 계산"
   ]
  },
  {
   "cell_type": "markdown",
   "metadata": {},
   "source": [
    "##### timeslot별로 평균 구하기"
   ]
  },
  {
   "cell_type": "code",
   "execution_count": 35,
   "metadata": {},
   "outputs": [
    {
     "data": {
      "text/plain": [
       "{0: Int64Index([  0,   1,   2,   3,   4,   5,   6,   7,   8,   9,\n",
       "             ...\n",
       "             990, 991, 992, 993, 994, 995, 996, 997, 998, 999],\n",
       "            dtype='int64', length=1000),\n",
       " 1: Int64Index([1000, 1001, 1002, 1003, 1004, 1005, 1006, 1007, 1008, 1009,\n",
       "             ...\n",
       "             1990, 1991, 1992, 1993, 1994, 1995, 1996, 1997, 1998, 1999],\n",
       "            dtype='int64', length=1000),\n",
       " 2: Int64Index([2000, 2001, 2002, 2003, 2004, 2005, 2006, 2007, 2008, 2009,\n",
       "             ...\n",
       "             2990, 2991, 2992, 2993, 2994, 2995, 2996, 2997, 2998, 2999],\n",
       "            dtype='int64', length=1000)}"
      ]
     },
     "execution_count": 35,
     "metadata": {},
     "output_type": "execute_result"
    }
   ],
   "source": [
    "# groupby 오브젝트 생성하기\n",
    "doctopic_timeslot = dtm_df.groupby('Time')\n",
    "doctopic_timeslot.groups"
   ]
  },
  {
   "cell_type": "code",
   "execution_count": 36,
   "metadata": {},
   "outputs": [
    {
     "data": {
      "text/html": [
       "<div>\n",
       "<style scoped>\n",
       "    .dataframe tbody tr th:only-of-type {\n",
       "        vertical-align: middle;\n",
       "    }\n",
       "\n",
       "    .dataframe tbody tr th {\n",
       "        vertical-align: top;\n",
       "    }\n",
       "\n",
       "    .dataframe thead th {\n",
       "        text-align: right;\n",
       "    }\n",
       "</style>\n",
       "<table border=\"1\" class=\"dataframe\">\n",
       "  <thead>\n",
       "    <tr style=\"text-align: right;\">\n",
       "      <th></th>\n",
       "      <th>Time</th>\n",
       "      <th>Topic0</th>\n",
       "      <th>Topic1</th>\n",
       "      <th>Topic2</th>\n",
       "      <th>Topic3</th>\n",
       "      <th>Topic4</th>\n",
       "      <th>Topic5</th>\n",
       "      <th>Topic6</th>\n",
       "      <th>Topic7</th>\n",
       "    </tr>\n",
       "  </thead>\n",
       "  <tbody>\n",
       "    <tr>\n",
       "      <th>0</th>\n",
       "      <td>0</td>\n",
       "      <td>0.102757</td>\n",
       "      <td>0.097722</td>\n",
       "      <td>0.103947</td>\n",
       "      <td>0.091722</td>\n",
       "      <td>0.083765</td>\n",
       "      <td>0.120630</td>\n",
       "      <td>0.099774</td>\n",
       "      <td>0.299683</td>\n",
       "    </tr>\n",
       "    <tr>\n",
       "      <th>1</th>\n",
       "      <td>1</td>\n",
       "      <td>0.123723</td>\n",
       "      <td>0.112327</td>\n",
       "      <td>0.131969</td>\n",
       "      <td>0.118976</td>\n",
       "      <td>0.115903</td>\n",
       "      <td>0.128357</td>\n",
       "      <td>0.134807</td>\n",
       "      <td>0.133938</td>\n",
       "    </tr>\n",
       "    <tr>\n",
       "      <th>2</th>\n",
       "      <td>2</td>\n",
       "      <td>0.126631</td>\n",
       "      <td>0.129331</td>\n",
       "      <td>0.117364</td>\n",
       "      <td>0.124818</td>\n",
       "      <td>0.118410</td>\n",
       "      <td>0.123398</td>\n",
       "      <td>0.133078</td>\n",
       "      <td>0.126971</td>\n",
       "    </tr>\n",
       "  </tbody>\n",
       "</table>\n",
       "</div>"
      ],
      "text/plain": [
       "   Time    Topic0    Topic1    Topic2    Topic3    Topic4    Topic5    Topic6  \\\n",
       "0     0  0.102757  0.097722  0.103947  0.091722  0.083765  0.120630  0.099774   \n",
       "1     1  0.123723  0.112327  0.131969  0.118976  0.115903  0.128357  0.134807   \n",
       "2     2  0.126631  0.129331  0.117364  0.124818  0.118410  0.123398  0.133078   \n",
       "\n",
       "     Topic7  \n",
       "0  0.299683  \n",
       "1  0.133938  \n",
       "2  0.126971  "
      ]
     },
     "execution_count": 36,
     "metadata": {},
     "output_type": "execute_result"
    }
   ],
   "source": [
    "# mean() 함수 이용해서 Topic0~TopicN까지의 모든 열 평균 구하기\n",
    "timeslot_avg = doctopic_timeslot.mean()\n",
    "timeslot_avg = timeslot_avg.reset_index()   # index 리셋하기\n",
    "timeslot_avg"
   ]
  },
  {
   "cell_type": "code",
   "execution_count": 37,
   "metadata": {},
   "outputs": [
    {
     "data": {
      "text/plain": [
       "0    1.0\n",
       "1    2.0\n",
       "2    3.0\n",
       "dtype: float64"
      ]
     },
     "execution_count": 37,
     "metadata": {},
     "output_type": "execute_result"
    }
   ],
   "source": [
    "# 시기별 모든 토픽 값들의 합은 1이다.\n",
    "timeslot_avg.sum(axis=1)"
   ]
  },
  {
   "cell_type": "markdown",
   "metadata": {},
   "source": [
    "### 8. 6번, 7번 결과로 그래프 그리기"
   ]
  },
  {
   "cell_type": "markdown",
   "metadata": {},
   "source": [
    "#### 시간별 토픽 비중변화 추이"
   ]
  },
  {
   "cell_type": "code",
   "execution_count": 49,
   "metadata": {
    "scrolled": false
   },
   "outputs": [
    {
     "data": {
      "image/png": "[encoded data removed]",
      "text/plain": [
       "<Figure size 1152x864 with 1 Axes>"
      ]
     },
     "metadata": {
      "needs_background": "light"
     },
     "output_type": "display_data"
    }
   ],
   "source": [
    "# figure 하나당 4개씩 그래프 그리기\n",
    "\n",
    "plt.figure(figsize=(16, 12)) \n",
    "plt.plot(timeslot_avg['Time'], timeslot_avg['Topic0'], 'b*--', label='토픽0')\n",
    "plt.plot(timeslot_avg['Time'], timeslot_avg['Topic1'], 'rs--', label='토픽1')\n",
    "plt.plot(timeslot_avg['Time'], timeslot_avg['Topic2'], 'g^--', label='토픽2')\n",
    "plt.plot(timeslot_avg['Time'], timeslot_avg['Topic3'], 'y*--', label='토픽3')\n",
    "plt.plot(timeslot_avg['Time'], timeslot_avg['Topic4'], 'bs--', label='토픽4')\n",
    "plt.plot(timeslot_avg['Time'], timeslot_avg['Topic5'], 'm*--', label='토픽5')\n",
    "plt.plot(timeslot_avg['Time'], timeslot_avg['Topic6'], 'k*--', label='토픽6')\n",
    "plt.plot(timeslot_avg['Time'], timeslot_avg['Topic7'], 'c*--', label='토픽7')\n",
    "#그래프에서 값 표시하는 annotate 방법 찾기\n",
    "for topic_id in ['Topic0', 'Topic1', 'Topic2', 'Topic3', 'Topic4', 'Topic5', 'Topic6', 'Topic7']:\n",
    "    for x, y in zip(range(len(time_slice)), timeslot_avg[topic_id]):\n",
    "        plt.annotate(\"%.4f\"%y, (x, y), textcoords=\"offset points\", xytext=(0,10), ha='center')\n",
    "\n",
    "plt.title(\"8개의 대화 토픽\", fontsize=14)\n",
    "plt.xlabel(\"대화 시기\", fontsize=13)\n",
    "plt.ylabel(\"토픽의 비중 (%)\", fontsize=13)\n",
    "plt.xticks(timeslot_avg['Time'], ['2017년', '2018년', '2019년'])\n",
    "plt.ylim([0.08, 0.30])\n",
    "plt.legend(loc=\"best\")\n",
    "plt.savefig(\"kakao_topic_distribution_graph.png\")\n",
    "plt.show()"
   ]
  },
  {
   "cell_type": "markdown",
   "metadata": {},
   "source": [
    "#### 시간별 단어의 토픽 비중변화 추이"
   ]
  },
  {
   "cell_type": "code",
   "execution_count": 39,
   "metadata": {},
   "outputs": [],
   "source": [
    "from collections import defaultdict\n",
    "\n",
    "# 단어의 확률 변화를 보고 싶은 topic 번호 \n",
    "topic_id = 7\n",
    "\n",
    "# 해당 토픽에서 포함할 단어목록 결정\n",
    "topic_info = dtm_model.print_topic_times(topic=topic_id, top_terms=50)\n",
    "topic_dict = defaultdict(list)\n",
    "\n",
    "#time별 특정 topic(topic_id)의 단어별 확률값.\n",
    "for dist_inTime in topic_info:\n",
    "    #time별로 단어와 확률값 저장.\n",
    "    for word, prob in dist_inTime:\n",
    "        topic_dict[word].append(prob)"
   ]
  },
  {
   "cell_type": "code",
   "execution_count": 40,
   "metadata": {
    "scrolled": false
   },
   "outputs": [
    {
     "name": "stdout",
     "output_type": "stream",
     "text": [
      "defaultdict(<class 'list'>, {'나도': [0.013128757918921563, 0.013269167843138746, 0.013410124531041984], '넌': [0.008079250822533445, 0.00854858221656759, 0.008305336161136902], '내': [0.007904880233940864, 0.007992738211390663, 0.007943543268522778], '와': [0.006021623501617982, 0.006045677157690481, 0.006076210489243927], '잘': [0.005656109369979835, 0.00572319068998686, 0.005788858218609051], '어제': [0.005379673983702613, 0.005560585159162013, 0.005373966425637939], '야': [0.0046389298126938705, 0.005090928806726937, 0.0050644799397589636], '없음': [0.0040436967841550025, 0.004046945325866027, 0.003945764187081444], '뭐야': [0.003748480921917901, 0.0037577226859708056, 0.003770424626147188], '아니면': [0.0033052274078332333, 0.0033510910679935947, 0.0033913938369314867], '나중에': [0.0030133175307908277, 0.0029642953211829045, 0.0030498943918804986], '가즈아': [0.0027748084449684654, 0.002839450333357729, 0.002879909500291202], '리얼': [0.002617811003042177, 0.0025992812509781655, 0.0025896045906461033], '저거': [0.002573739755610932, 0.0025777760855329778, 0.002586259658779569], '호발': [0.0024824165513239707, 0.0024620500892898714, 0.002455723207853576], '조루': [0.0022636374699808565, 0.0023630421976979237, 0.002210747877521781], '먹고': [0.0021406293129592967, 0.0021518195887092625, 0.0021642151436511293], '어피치가': [0.002110931229297664, 0.002110257905827771, 0.0021166883198066723], '외쳐': [0.002082435622019408, 0.0021279467217352847, 0.002166405442872227], '찍': [0.0020159745719529405, 0.002061746371062155, 0.002117356425863413], '계속': [0.001957471474435839, 0.002123534079207706, 0.0021769503835929113], '항상': [0.0019383140492020888, 0.0019482230806190486, 0.001957856899427796], '신촌': [0.001870922718334081, 0.0018913978993835422, 0.0019375590721075729], '헐': [0.0016801567497452914, 0.0016711672754357709, 0.001667611881056413], '도착': [0.0016651505568270866, 0.0016732815403414825, 0.0016839356124203717], '요시': [0.001609379935696084, 0.002208758128999083, 0.002237529871592835], '좋은': [0.0015681479885235226, 0.0018903651610084236, 0.0021089376767378597], '집': [0.0015340366639471157, 0.0015536643290046082, 0.0015738751561153244], '누가': [0.0014401225801440288, 0.0014399428950034434, 0.0014437123502968254], '많음': [0.0013783731895114389, 0.0013851733249870143, 0.0013933678546198553], '지금은': [0.0013450232761447077, 0.0013520893010957476, 0.0013547357067014104], '인정': [0.0013233004797862395, 0.001283261676939044, 0.00129269935497876], '없다': [0.001312571397987409, 0.0013084274928598866, 0.0013048878351924816], '요새': [0.0013043871072121543, 0.0013171551776395756, 0.0013321064790056227], '아비글': [0.0012460632281892242, 0.0012702015246718536, 0.0012899812114882784], '밤에': [0.0012457288698341565, 0.001253704318008599, 0.0012624924593786625], '전에': [0.0012308105777316556, 0.0012599152036584624, 0.001250202879463266], '않음': [0.00120046132497605, 0.0012063302927630254, 0.001212780845706057], '하아': [0.0011799586806288665, 0.0011427468861886765, 0.0011595443043466878], '포천': [0.001165747260536805, 0.0011800126464752497, 0.0011934951409621735], '어디서': [0.0011530938749967667, 0.001157203368648964, 0.001161905633992913], '녀석': [0.0011143589910982427, 0.0011315610225336719, 0.0011552015284426165], '있는데': [0.0010788941424663702, 0.0011092859409677534, 0.0011408157784734115], '맞아': [0.0010568317466611002, 0.0010618847075141485, 0.0010677180185830438], '그녀': [0.0010542037828526394, 0.0010765668574682736, 0.0010848708295756217], '나의': [0.0010374217486898679, 0.001049837542366952, 0.0010622805839917851], '슈밤': [0.0009957575192450102, 0.0009889088079073456], '사랑해': [0.0009953648679990419, 0.0010039038816547048], '안': [0.0009795536892918595], '끝나고': [0.0009794140733097026], '매우': [0.0009955627747651543, 0.0010184756972584693], '튜브이가': [0.000994932728514156, 0.0010128446277357004], '어떻게': [0.0010396314764794478], '화곡': [0.0010299894118959536]})\n"
     ]
    }
   ],
   "source": [
    "print(topic_dict)"
   ]
  },
  {
   "cell_type": "code",
   "execution_count": 43,
   "metadata": {},
   "outputs": [
    {
     "data": {
      "image/png": "[encoded data removed]",
      "text/plain": [
       "<Figure size 1152x864 with 1 Axes>"
      ]
     },
     "metadata": {
      "needs_background": "light"
     },
     "output_type": "display_data"
    }
   ],
   "source": [
    "#확률값 추이를 보고싶은 단어 목록\n",
    "keywords = [\"야\", \"와\"]\n",
    "\n",
    "# time_slot\n",
    "t = [i for i in range(len(time_slice))]\n",
    "\n",
    "plt.figure(figsize=(16, 12))\n",
    "for keyword in keywords:\n",
    "    plt.plot(t, topic_dict[keyword], label=keyword)\n",
    "    \n",
    "    for x, y in zip(t, topic_dict[keyword]):\n",
    "         plt.annotate(\"%.4f\"%y, (x, y), textcoords=\"offset points\", xytext=(0,10), ha='center')\n",
    "\n",
    "plt.title(\"시간별 단어의 토픽비중 변화\")\n",
    "plt.xlabel(\"시간\")\n",
    "plt.ylabel(\"토픽 비중\")\n",
    "plt.legend(loc='best')\n",
    "plt.savefig(\"kakao_keywords_distribution_overtime_graph.png\")\n",
    "plt.show()"
   ]
  },
  {
   "cell_type": "code",
   "execution_count": null,
   "metadata": {},
   "outputs": [],
   "source": []
  }
 ],
 "metadata": {
  "kernelspec": {
   "display_name": "Python 3",
   "language": "python",
   "name": "python3"
  },
  "language_info": {
   "codemirror_mode": {
    "name": "ipython",
    "version": 3
   },
   "file_extension": ".py",
   "mimetype": "text/x-python",
   "name": "python",
   "nbconvert_exporter": "python",
   "pygments_lexer": "ipython3",
   "version": "3.7.9"
  }
 },
 "nbformat": 4,
 "nbformat_minor": 2
}
