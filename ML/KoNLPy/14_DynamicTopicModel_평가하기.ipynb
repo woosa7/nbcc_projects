{
 "cells": [
  {
   "cell_type": "markdown",
   "metadata": {},
   "source": [
    "### 1. 대화내용 불러오기"
   ]
  },
  {
   "cell_type": "code",
   "execution_count": 1,
   "metadata": {},
   "outputs": [],
   "source": [
    "from gensim.models import ldaseqmodel\n",
    "from gensim.models import CoherenceModel\n",
    "from gensim.corpora import Dictionary, bleicorpus\n",
    "from gensim.matutils import hellinger\n",
    "from gensim import corpora\n",
    "from tqdm import notebook\n",
    "from time import time\n",
    "\n",
    "import pandas as pd\n",
    "import numpy as np\n",
    "import pickle\n",
    "import os\n",
    "from pprint import pprint"
   ]
  },
  {
   "cell_type": "code",
   "execution_count": 2,
   "metadata": {},
   "outputs": [],
   "source": [
    "import warnings\n",
    "warnings.filterwarnings(\"ignore\")"
   ]
  },
  {
   "cell_type": "code",
   "execution_count": 3,
   "metadata": {},
   "outputs": [
    {
     "data": {
      "text/html": [
       "<div>\n",
       "<style scoped>\n",
       "    .dataframe tbody tr th:only-of-type {\n",
       "        vertical-align: middle;\n",
       "    }\n",
       "\n",
       "    .dataframe tbody tr th {\n",
       "        vertical-align: top;\n",
       "    }\n",
       "\n",
       "    .dataframe thead th {\n",
       "        text-align: right;\n",
       "    }\n",
       "</style>\n",
       "<table border=\"1\" class=\"dataframe\">\n",
       "  <thead>\n",
       "    <tr style=\"text-align: right;\">\n",
       "      <th></th>\n",
       "      <th>user</th>\n",
       "      <th>message</th>\n",
       "    </tr>\n",
       "    <tr>\n",
       "      <th>date</th>\n",
       "      <th></th>\n",
       "      <th></th>\n",
       "    </tr>\n",
       "  </thead>\n",
       "  <tbody>\n",
       "    <tr>\n",
       "      <th>2016-03-07 15:41:00</th>\n",
       "      <td>YH</td>\n",
       "      <td>안녕하세요 이게 빠르지 않을까 해서요 엠티 관련해서는 회장님께서 이미 밴드에 올려 ...</td>\n",
       "    </tr>\n",
       "    <tr>\n",
       "      <th>2016-03-07 15:51:00</th>\n",
       "      <td>WH</td>\n",
       "      <td>네 안녕하세요</td>\n",
       "    </tr>\n",
       "    <tr>\n",
       "      <th>2016-03-07 17:14:00</th>\n",
       "      <td>YH</td>\n",
       "      <td>넵 저희 카톡방을 만들어서 거기다 투표를 돌릴까요 아님 그냥 밴드에 두개로 할까요 총무님</td>\n",
       "    </tr>\n",
       "    <tr>\n",
       "      <th>2016-03-07 17:21:00</th>\n",
       "      <td>KS</td>\n",
       "      <td>엠티관련해서 참석여부 투표를 말씀하신건가요</td>\n",
       "    </tr>\n",
       "    <tr>\n",
       "      <th>2016-03-07 17:22:00</th>\n",
       "      <td>YH</td>\n",
       "      <td>네 저희 이번 토욜 관련해서도 투표를 올려야 해서요</td>\n",
       "    </tr>\n",
       "  </tbody>\n",
       "</table>\n",
       "</div>"
      ],
      "text/plain": [
       "                    user                                            message\n",
       "date                                                                       \n",
       "2016-03-07 15:41:00   YH  안녕하세요 이게 빠르지 않을까 해서요 엠티 관련해서는 회장님께서 이미 밴드에 올려 ...\n",
       "2016-03-07 15:51:00   WH                                           네 안녕하세요 \n",
       "2016-03-07 17:14:00   YH  넵 저희 카톡방을 만들어서 거기다 투표를 돌릴까요 아님 그냥 밴드에 두개로 할까요 총무님\n",
       "2016-03-07 17:21:00   KS                            엠티관련해서 참석여부 투표를 말씀하신건가요\n",
       "2016-03-07 17:22:00   YH                       네 저희 이번 토욜 관련해서도 투표를 올려야 해서요"
      ]
     },
     "execution_count": 3,
     "metadata": {},
     "output_type": "execute_result"
    }
   ],
   "source": [
    "# load data\n",
    "with open(\"data/cleaned_katalk_data.pk\", \"rb\") as f:\n",
    "    data = pickle.load(f)\n",
    "\n",
    "# 시간정보 열을 datetime 정보로 변환\n",
    "data['date'] = pd.to_datetime(data['date'])\n",
    "data = data.set_index('date')\n",
    "\n",
    "data.head()"
   ]
  },
  {
   "cell_type": "code",
   "execution_count": 4,
   "metadata": {},
   "outputs": [],
   "source": [
    "# 시기별로 데이터 나누기\n",
    "data_0 = data['2016-03-01' : '2016-03-31']\n",
    "data_1 = data['2016-04-01' : '2016-04-20']\n",
    "data_2 = data['2016-04-21' : '2016-04-30']\n",
    "\n",
    "# 시기별 데이터 가져오기\n",
    "slice0 = list(data_0['message'])\n",
    "slice1 = list(data_1['message'])\n",
    "slice2 = list(data_2['message'])\n",
    "\n",
    "# 모든 분석 대상 텍스트를 담는 리스트\n",
    "tokenized_data = [msg.split() for msg in (slice0 + slice1 + slice2)]\n",
    "\n",
    "# 각 slice에 들어 있는 갯수를 원소로 갖는 리스트 생성\n",
    "time_slice = []\n",
    "time_slice.append(len(slice0))\n",
    "time_slice.append(len(slice1))\n",
    "time_slice.append(len(slice2))"
   ]
  },
  {
   "cell_type": "code",
   "execution_count": 5,
   "metadata": {},
   "outputs": [],
   "source": [
    "# 저장된 DTM dictionary, corpus 불러오기\n",
    "dictionary = Dictionary.load('data/kakao_DTM_dict')\n",
    "corpus = bleicorpus.BleiCorpus('data/kakao_DTM_corpus')"
   ]
  },
  {
   "cell_type": "markdown",
   "metadata": {},
   "source": [
    "### coherence score 계산 (주의 : 시간 매우 오래 걸림)"
   ]
  },
  {
   "cell_type": "markdown",
   "metadata": {},
   "source": [
    "#### topic 개수 지정하기."
   ]
  },
  {
   "cell_type": "code",
   "execution_count": 6,
   "metadata": {},
   "outputs": [],
   "source": [
    "# 토픽 4개 ~ 8개일 경우 coherence score 계산\n",
    "\n",
    "# 각 3개 시간대별로 5가지 경우 (총 3 * 5 = 15)\n",
    "\n",
    "start=4; end=9; step=1;  # topic 수 4 ~ 8\n",
    "times=[0, 1, 2]"
   ]
  },
  {
   "cell_type": "markdown",
   "metadata": {},
   "source": [
    "#### DTM과 coherence score 계산하는 함수"
   ]
  },
  {
   "cell_type": "code",
   "execution_count": 7,
   "metadata": {},
   "outputs": [],
   "source": [
    "def compute_coherence(dictionary, corpus, texts, times, start, end, step):\n",
    "    coherence_score_list = []\n",
    "    model_list = []\n",
    "    \n",
    "    for num_topics in notebook.tqdm(range(start, end, step)):\n",
    "        ###################\n",
    "        start_dtm = time()\n",
    "        \n",
    "        # 각 토픽마다 DTM 계산\n",
    "        dtm_name = \"data/kakao_dtm_model_\" + str(num_topics)\n",
    "        \n",
    "        # 하나씩 계산될 때마다 파일로 저장\n",
    "        # 여기 passes 값 주의. 시간을 줄이기 위해 작게 설정.\n",
    "        # token 16만개, passes=100 인 경우 각 토픽마다 DTM 계산시 5시간 소요.\n",
    "        if os.path.exists(dtm_name):\n",
    "            dtm_model = ldaseqmodel.LdaSeqModel.load(dtm_name)\n",
    "        else:\n",
    "            dtm_model = ldaseqmodel.LdaSeqModel(corpus=corpus,\n",
    "                                                id2word=dictionary,\n",
    "                                                time_slice=time_slice,\n",
    "                                                num_topics=num_topics, passes=50)\n",
    "            dtm_model.save(dtm_name)\n",
    "            \n",
    "        end_dtm = time()\n",
    "        print(\"Elapsed Time for DTM in %d topics : %.2f sec.\" % (num_topics, (end_dtm - start_dtm)))\n",
    "        \n",
    "        ################### \n",
    "        # coherence score 계산\n",
    "        topic_cs_list = []\n",
    "        for time_slot in times:\n",
    "            topics_dtm = dtm_model.dtm_coherence(time=time_slot)\n",
    "            cs = CoherenceModel(topics=topics_dtm, \n",
    "                                texts=texts,\n",
    "                                dictionary=dictionary, \n",
    "                                coherence='c_v')\n",
    "            topic_cs_list.append(cs.get_coherence())\n",
    "            \n",
    "        ################### \n",
    "        model_list.append(dtm_model)\n",
    "        coherence_score_list.append(topic_cs_list)\n",
    "        \n",
    "    return model_list, coherence_score_list"
   ]
  },
  {
   "cell_type": "code",
   "execution_count": 8,
   "metadata": {},
   "outputs": [
    {
     "data": {
      "application/vnd.jupyter.widget-view+json": {
       "model_id": "405dc27a53d34ce38f14f679b9e34ae7",
       "version_major": 2,
       "version_minor": 0
      },
      "text/plain": [
       "HBox(children=(HTML(value=''), FloatProgress(value=0.0, max=5.0), HTML(value='')))"
      ]
     },
     "metadata": {},
     "output_type": "display_data"
    },
    {
     "name": "stdout",
     "output_type": "stream",
     "text": [
      "Elapsed Time for DTM in 4 topics : 753.78 sec.\n",
      "Elapsed Time for DTM in 5 topics : 814.11 sec.\n",
      "Elapsed Time for DTM in 6 topics : 869.47 sec.\n",
      "Elapsed Time for DTM in 7 topics : 970.75 sec.\n",
      "Elapsed Time for DTM in 8 topics : 1034.14 sec.\n",
      "\n"
     ]
    }
   ],
   "source": [
    "model_list, coherence_scores = compute_coherence(dictionary=dictionary, \n",
    "                                                 corpus=corpus, \n",
    "                                                 texts=tokenized_data,\n",
    "                                                 times=times,\n",
    "                                                 start=start, end=end, step=step)"
   ]
  },
  {
   "cell_type": "markdown",
   "metadata": {},
   "source": [
    "##### 위 계산 결과 통째로 저장"
   ]
  },
  {
   "cell_type": "code",
   "execution_count": 9,
   "metadata": {},
   "outputs": [],
   "source": [
    "import pickle\n",
    "\n",
    "with open(\"data/kakao_dtm_models.pk\", 'wb') as f:\n",
    "    pickle.dump(model_list, f)\n",
    "    \n",
    "with open(\"data/kakao_dtm_cs.pk\", 'wb') as f:\n",
    "    pickle.dump(coherence_scores, f)"
   ]
  },
  {
   "cell_type": "code",
   "execution_count": 10,
   "metadata": {},
   "outputs": [],
   "source": [
    "import pickle\n",
    "\n",
    "with open(\"data/kakao_dtm_models.pk\", 'rb') as f:\n",
    "    model_list = pickle.load(f)\n",
    "    \n",
    "with open(\"data/kakao_dtm_cs.pk\", 'rb') as f:\n",
    "    coherence_scores = pickle.load(f)"
   ]
  },
  {
   "cell_type": "markdown",
   "metadata": {},
   "source": [
    "### 5. Topic Coherence 변화 그래프 그리기"
   ]
  },
  {
   "cell_type": "code",
   "execution_count": 11,
   "metadata": {},
   "outputs": [
    {
     "name": "stdout",
     "output_type": "stream",
     "text": [
      "[[0.682627308726258, 0.682627308726258, 0.6834405723040877],\n",
      " [0.7053417683768004, 0.7053417683768004, 0.7053417683768004],\n",
      " [0.7168548384468222, 0.7168548384468222, 0.7165706010320069],\n",
      " [0.7214187596601532, 0.7219102868296178, 0.7222625292745228],\n",
      " [0.7173526392942438, 0.7193519408013308, 0.7193090619250999]]\n"
     ]
    }
   ],
   "source": [
    "pprint(coherence_scores)"
   ]
  },
  {
   "cell_type": "code",
   "execution_count": 12,
   "metadata": {},
   "outputs": [],
   "source": [
    "# 편한 연산을 위해 numpy array로 변경.\n",
    "import numpy as np\n",
    "\n",
    "np_coherence_scores = np.array(coherence_scores) \n",
    "np_cs_avg_list = np_coherence_scores.mean(axis=1)"
   ]
  },
  {
   "cell_type": "code",
   "execution_count": 13,
   "metadata": {},
   "outputs": [
    {
     "data": {
      "text/plain": [
       "array([0.6828984 , 0.70534177, 0.71676009, 0.72186386, 0.71867121])"
      ]
     },
     "execution_count": 13,
     "metadata": {},
     "output_type": "execute_result"
    }
   ],
   "source": [
    "np_cs_avg_list"
   ]
  },
  {
   "cell_type": "code",
   "execution_count": 14,
   "metadata": {},
   "outputs": [],
   "source": [
    "# 그래프 출력을 위한 한글 글꼴 설정.\n",
    "\n",
    "import matplotlib.pyplot as plt\n",
    "import platform\n",
    "from matplotlib import font_manager, rc\n",
    "%matplotlib inline\n",
    "\n",
    "path = \"c:/Windows/Fonts/malgun.ttf\"\n",
    "if platform.system() == 'Darwin':\n",
    "    rc('font', family='AppleGothic')\n",
    "elif platform.system() == 'Windows':\n",
    "    font_name = font_manager.FontProperties(fname=path).get_name()\n",
    "    rc('font', family=font_name)\n",
    "else:\n",
    "    print('Unknown system... sorry~~~~')"
   ]
  },
  {
   "cell_type": "code",
   "execution_count": 29,
   "metadata": {},
   "outputs": [
    {
     "data": {
      "image/png": "[encoded data removed]",
      "text/plain": [
       "<Figure size 864x720 with 1 Axes>"
      ]
     },
     "metadata": {
      "needs_background": "light"
     },
     "output_type": "display_data"
    }
   ],
   "source": [
    "# 그래프 그리기\n",
    "x = range(start, end, step)\n",
    "\n",
    "plt.figure(figsize=(12, 10)) \n",
    "plt.plot(x, np_cs_avg_list, '-b')\n",
    "plt.xlabel(\"토픽 수\")\n",
    "plt.ylabel(\"평균 일관성 점수 (avg of coherence score)\")\n",
    "plt.xticks(x)\n",
    "plt.show()"
   ]
  },
  {
   "cell_type": "markdown",
   "metadata": {},
   "source": [
    "##### 위에서 구한 일관성 점수 기준으로 최적 토픽 모델 결정"
   ]
  },
  {
   "cell_type": "code",
   "execution_count": 16,
   "metadata": {},
   "outputs": [
    {
     "data": {
      "text/plain": [
       "7"
      ]
     },
     "execution_count": 16,
     "metadata": {},
     "output_type": "execute_result"
    }
   ],
   "source": [
    "# 최적 토픽 모델을 dtm_model로 할당\n",
    "dtm_model = model_list[np.argmax(np_cs_avg_list)]\n",
    "len(dtm_model.print_topics())\n",
    "\n",
    "# 토픽 7개인 경우(dtm_model_7) coherence score가 가장 높음."
   ]
  },
  {
   "cell_type": "markdown",
   "metadata": {},
   "source": [
    "##### DTM 결과 보기"
   ]
  },
  {
   "cell_type": "code",
   "execution_count": 28,
   "metadata": {
    "scrolled": false
   },
   "outputs": [
    {
     "name": "stdout",
     "output_type": "stream",
     "text": [
      "[[('나', 0.03344893288674591),\n",
      "  ('왜', 0.024047638215209784),\n",
      "  ('진짜', 0.0173723623229852),\n",
      "  ('응', 0.013522996025803433),\n",
      "  ('좀', 0.013516010862522158),\n",
      "  ('근데', 0.01344012587927944),\n",
      "  ('역시', 0.010272112451785453),\n",
      "  ('아직', 0.009811067674001243),\n",
      "  ('넵', 0.00875013652421433),\n",
      "  ('내가', 0.007712988737483256)],\n",
      " [('그럼', 0.02545967507800263),\n",
      "  ('내가', 0.0194247890647761),\n",
      "  ('그래', 0.015087896137907552),\n",
      "  ('다들', 0.013877791400952457),\n",
      "  ('오', 0.011726965476322045),\n",
      "  ('그거', 0.00974663550206747),\n",
      "  ('아니야', 0.009015495045961323),\n",
      "  ('없어', 0.007241197778231521),\n",
      "  ('이미', 0.006689363699285501),\n",
      "  ('이', 0.005859643337448443)],\n",
      " [('아', 0.05623053882418802),\n",
      "  ('나도', 0.02830143286851737),\n",
      "  ('더', 0.012685614341995256),\n",
      "  ('완전', 0.011947987599918403),\n",
      "  ('누나', 0.009700306692628427),\n",
      "  ('저거', 0.009547528727417199),\n",
      "  ('내일', 0.009432451211299831),\n",
      "  ('아니', 0.009021452433987746),\n",
      "  ('많이', 0.008318001651011047),\n",
      "  ('하고', 0.008073321187592158)],\n",
      " [('우리', 0.026422071007503968),\n",
      "  ('내', 0.016827385021693658),\n",
      "  ('그래서', 0.010756640493143987),\n",
      "  ('네', 0.009114851447649834),\n",
      "  ('이제', 0.00879067423074816),\n",
      "  ('다시', 0.008351432405176516),\n",
      "  ('저', 0.006670824903114447),\n",
      "  ('넹', 0.006480175129868676),\n",
      "  ('젤', 0.0060491903887788315),\n",
      "  ('누가', 0.004723822182990429)],\n",
      " [('난', 0.03187402168245421),\n",
      "  ('헐', 0.015579161461763365),\n",
      "  ('그건', 0.008414311903839003),\n",
      "  ('뭐야', 0.007994223638459665),\n",
      "  ('형', 0.00797466409986143),\n",
      "  ('우리', 0.0069283300968084995),\n",
      "  ('너', 0.005627927129376816),\n",
      "  ('아침에', 0.005417509869973772),\n",
      "  ('아마', 0.005031840822577489),\n",
      "  ('동생', 0.004848398640968274)],\n",
      " [('너무', 0.013440153848933925),\n",
      "  ('나는', 0.011218190597751903),\n",
      "  ('기성오빠', 0.0071959664291029925),\n",
      "  ('여기', 0.005618362888271246),\n",
      "  ('있어', 0.0054586651129378315),\n",
      "  ('근데', 0.004094066082784534),\n",
      "  ('데이터', 0.003990615720945983),\n",
      "  ('뭘', 0.0038489267605628283),\n",
      "  ('유희는', 0.0038468535545427393),\n",
      "  ('짱', 0.003820168437883855)],\n",
      " [('다', 0.031018993541538413),\n",
      "  ('오빠', 0.017212536422444573),\n",
      "  ('지금', 0.016366298716648638),\n",
      "  ('오늘', 0.015962010584178704),\n",
      "  ('뭐', 0.012281042285016964),\n",
      "  ('그냥', 0.012180339154366634),\n",
      "  ('잘', 0.010567200609728709),\n",
      "  ('또', 0.010331501290325324),\n",
      "  ('이렇게', 0.007166984267365557),\n",
      "  ('어제', 0.006207001885659439)]]\n"
     ]
    }
   ],
   "source": [
    "# 특정 시간대의 전체 토픽보기\n",
    "pprint(dtm_model.print_topics(time=1, top_terms=10))"
   ]
  },
  {
   "cell_type": "code",
   "execution_count": 30,
   "metadata": {
    "scrolled": false
   },
   "outputs": [
    {
     "data": {
      "text/plain": [
       "[[('나', 0.03304209694926037),\n",
       "  ('왜', 0.023877064312210247),\n",
       "  ('진짜', 0.017144435810603955),\n",
       "  ('좀', 0.01388458956816079),\n",
       "  ('근데', 0.013329606438307592),\n",
       "  ('응', 0.013259308053801615),\n",
       "  ('역시', 0.010140073523240015),\n",
       "  ('아직', 0.009699643022283481),\n",
       "  ('넵', 0.008815864204293996),\n",
       "  ('내가', 0.007665218475732778)],\n",
       " [('나', 0.03344893288674591),\n",
       "  ('왜', 0.024047638215209784),\n",
       "  ('진짜', 0.0173723623229852),\n",
       "  ('응', 0.013522996025803433),\n",
       "  ('좀', 0.013516010862522158),\n",
       "  ('근데', 0.01344012587927944),\n",
       "  ('역시', 0.010272112451785453),\n",
       "  ('아직', 0.009811067674001243),\n",
       "  ('넵', 0.00875013652421433),\n",
       "  ('내가', 0.007712988737483256)],\n",
       " [('나', 0.033816708414789905),\n",
       "  ('왜', 0.024191943791049563),\n",
       "  ('진짜', 0.01761018664642402),\n",
       "  ('응', 0.013864547387638664),\n",
       "  ('근데', 0.013555867878687303),\n",
       "  ('좀', 0.013166824883927446),\n",
       "  ('역시', 0.010397512812373274),\n",
       "  ('아직', 0.009547127812730783),\n",
       "  ('넵', 0.008680986684372775),\n",
       "  ('내가', 0.007755850505890038)]]"
      ]
     },
     "execution_count": 30,
     "metadata": {},
     "output_type": "execute_result"
    }
   ],
   "source": [
    "# 특정 토픽의 시간대별 변화 보기\n",
    "dtm_model.print_topic_times(topic=0, top_terms=10)"
   ]
  },
  {
   "cell_type": "markdown",
   "metadata": {},
   "source": [
    "### 6. 문서별 토픽 비중 구하기"
   ]
  },
  {
   "cell_type": "markdown",
   "metadata": {},
   "source": [
    "> 1) 토픽 비중 계산을 위한 데이터 전처리\n",
    "\n",
    "> 2) OOM (out of memory) 문제 해결을 위한 샘플링 - 문서 3,000 개\n",
    "\n",
    "> 3) DataFrame으로 만들어 excel 파일로 저장"
   ]
  },
  {
   "cell_type": "code",
   "execution_count": 19,
   "metadata": {},
   "outputs": [
    {
     "name": "stdout",
     "output_type": "stream",
     "text": [
      "14911\n"
     ]
    }
   ],
   "source": [
    "# 문서에 시간대 정보 추가\n",
    "doc_time = []\n",
    "\n",
    "for doc_id in range(len(tokenized_data)):\n",
    "    if doc_id < time_slice[0]:\n",
    "        doc_time.append(0)\n",
    "    elif doc_id < time_slice[0] + time_slice[1]:\n",
    "        doc_time.append(1)\n",
    "    else:\n",
    "        doc_time.append(2)\n",
    "        \n",
    "print(len(doc_time))"
   ]
  },
  {
   "cell_type": "code",
   "execution_count": 20,
   "metadata": {},
   "outputs": [
    {
     "name": "stdout",
     "output_type": "stream",
     "text": [
      "[1000  329   90  252  322  739  149  992  648  593]\n",
      "[5634 3999 4607 5333 2732 5626 2370 6151 4801 6511]\n",
      "[11724 13540 13308 12300 12137  7300  9623 14656  9440  7441]\n"
     ]
    }
   ],
   "source": [
    "# OOM 문제로 인해 time_slot 별로 1000개씩 문서 샘플링.\n",
    "\n",
    "sample_idx1 = np.random.randint(0, time_slice[0], size=1000)\n",
    "sample_idx2 = np.random.randint(time_slice[0], time_slice[0] + time_slice[1], size=1000)\n",
    "sample_idx3 = np.random.randint(time_slice[0] + time_slice[1], time_slice[0] + time_slice[1] + time_slice[2], size=1000)\n",
    "\n",
    "print(sample_idx1[:10])\n",
    "print(sample_idx2[:10])\n",
    "print(sample_idx3[-10:])"
   ]
  },
  {
   "cell_type": "code",
   "execution_count": 21,
   "metadata": {},
   "outputs": [
    {
     "name": "stdout",
     "output_type": "stream",
     "text": [
      "3000\n",
      "3000\n"
     ]
    }
   ],
   "source": [
    "processing_docs = []\n",
    "processing_time = []\n",
    "\n",
    "sample_indices = np.concatenate((sample_idx1, sample_idx2, sample_idx3))\n",
    "\n",
    "for idx in sample_indices:\n",
    "    processing_docs.append(tokenized_data[idx])\n",
    "    processing_time.append(doc_time[idx])\n",
    "    \n",
    "print(len(processing_docs))\n",
    "print(len(processing_time))"
   ]
  },
  {
   "cell_type": "code",
   "execution_count": 22,
   "metadata": {},
   "outputs": [],
   "source": [
    "# 문서별로 각 토픽에 속할 확률 계산\n",
    "doc_dist = []\n",
    "\n",
    "for doc_id in sample_indices:\n",
    "    # DTM 모델에서 문서별 토픽 확률을 반환받아 리스트에 저장.\n",
    "    doc_dist.append(dtm_model.doc_topics(doc_id)) "
   ]
  },
  {
   "cell_type": "code",
   "execution_count": 23,
   "metadata": {},
   "outputs": [
    {
     "data": {
      "text/plain": [
       "(7, 3000)"
      ]
     },
     "execution_count": 23,
     "metadata": {},
     "output_type": "execute_result"
    }
   ],
   "source": [
    "doc_dist = np.array(doc_dist)\n",
    "doc_topic_dist = doc_dist.T   # dataframe 만들기 위해 transpose !!!\n",
    "doc_topic_dist.shape"
   ]
  },
  {
   "cell_type": "code",
   "execution_count": 24,
   "metadata": {},
   "outputs": [
    {
     "name": "stdout",
     "output_type": "stream",
     "text": [
      "0.991513, 0.001414, 0.001414, 0.001414, 0.001414, 0.001414, 0.001414, \n",
      "0.991513, 0.001414, 0.001414, 0.001414, 0.001414, 0.001414, 0.001414, "
     ]
    }
   ],
   "source": [
    "NUM_TOPICS = dtm_model.num_topics\n",
    "\n",
    "for i in range(NUM_TOPICS):\n",
    "    print(\"%f\" % doc_dist[0][i], end=\", \")\n",
    "\n",
    "print()\n",
    "\n",
    "for i in range(NUM_TOPICS):\n",
    "    print(\"%f\" % doc_topic_dist[i][0], end=\", \")"
   ]
  },
  {
   "cell_type": "code",
   "execution_count": 25,
   "metadata": {},
   "outputs": [
    {
     "data": {
      "text/plain": [
       "(3000,)"
      ]
     },
     "execution_count": 25,
     "metadata": {},
     "output_type": "execute_result"
    }
   ],
   "source": [
    "doc_topic_dist[0].shape"
   ]
  },
  {
   "cell_type": "code",
   "execution_count": 31,
   "metadata": {},
   "outputs": [
    {
     "name": "stdout",
     "output_type": "stream",
     "text": [
      "   Time    Topic0    Topic1    Topic2    Topic3    Topic4    Topic5    Topic6\n",
      "0     0  0.991513  0.001414  0.001414  0.001414  0.001414  0.001414  0.001414\n",
      "1     0  0.004831  0.004831  0.004831  0.004831  0.971014  0.004831  0.004831\n",
      "2     0  0.002457  0.985258  0.002457  0.002457  0.002457  0.002457  0.002457\n",
      "3     0  0.971014  0.004831  0.004831  0.004831  0.004831  0.004831  0.004831\n",
      "4     0  0.001239  0.001239  0.001239  0.001239  0.001239  0.992565  0.001239\n"
     ]
    }
   ],
   "source": [
    "dtm_df = pd.DataFrame({\"Time\" : processing_time, \"Topic0\" : doc_topic_dist[0], \"Topic1\" : doc_topic_dist[1],\n",
    "                       \"Topic2\" : doc_topic_dist[2], \"Topic3\" : doc_topic_dist[3], \"Topic4\" : doc_topic_dist[4],\n",
    "                       \"Topic5\" : doc_topic_dist[5], \"Topic6\" : doc_topic_dist[6]\n",
    "                      })\n",
    "\n",
    "print(dtm_df.head())\n",
    "\n",
    "dtm_df.to_excel(\"data/kakao_dtm_8topic_dist.xlsx\")"
   ]
  },
  {
   "cell_type": "markdown",
   "metadata": {},
   "source": [
    "### 7. 시간별 토픽비중 변화 추이"
   ]
  },
  {
   "cell_type": "markdown",
   "metadata": {},
   "source": [
    "> 1) 토픽 비중 변화를 보기 위한 데이터 전처리\n",
    "\n",
    "> 2) 시간대별 토픽 비중 평균 계산"
   ]
  },
  {
   "cell_type": "markdown",
   "metadata": {},
   "source": [
    "##### timeslot별로 평균 구하기"
   ]
  },
  {
   "cell_type": "code",
   "execution_count": 32,
   "metadata": {},
   "outputs": [
    {
     "data": {
      "text/plain": [
       "{0: [0, 1, 2, 3, 4, 5, 6, 7, 8, 9, 10, 11, 12, 13, 14, 15, 16, 17, 18, 19, 20, 21, 22, 23, 24, 25, 26, 27, 28, 29, 30, 31, 32, 33, 34, 35, 36, 37, 38, 39, 40, 41, 42, 43, 44, 45, 46, 47, 48, 49, 50, 51, 52, 53, 54, 55, 56, 57, 58, 59, 60, 61, 62, 63, 64, 65, 66, 67, 68, 69, 70, 71, 72, 73, 74, 75, 76, 77, 78, 79, 80, 81, 82, 83, 84, 85, 86, 87, 88, 89, 90, 91, 92, 93, 94, 95, 96, 97, 98, 99, ...], 1: [1000, 1001, 1002, 1003, 1004, 1005, 1006, 1007, 1008, 1009, 1010, 1011, 1012, 1013, 1014, 1015, 1016, 1017, 1018, 1019, 1020, 1021, 1022, 1023, 1024, 1025, 1026, 1027, 1028, 1029, 1030, 1031, 1032, 1033, 1034, 1035, 1036, 1037, 1038, 1039, 1040, 1041, 1042, 1043, 1044, 1045, 1046, 1047, 1048, 1049, 1050, 1051, 1052, 1053, 1054, 1055, 1056, 1057, 1058, 1059, 1060, 1061, 1062, 1063, 1064, 1065, 1066, 1067, 1068, 1069, 1070, 1071, 1072, 1073, 1074, 1075, 1076, 1077, 1078, 1079, 1080, 1081, 1082, 1083, 1084, 1085, 1086, 1087, 1088, 1089, 1090, 1091, 1092, 1093, 1094, 1095, 1096, 1097, 1098, 1099, ...], 2: [2000, 2001, 2002, 2003, 2004, 2005, 2006, 2007, 2008, 2009, 2010, 2011, 2012, 2013, 2014, 2015, 2016, 2017, 2018, 2019, 2020, 2021, 2022, 2023, 2024, 2025, 2026, 2027, 2028, 2029, 2030, 2031, 2032, 2033, 2034, 2035, 2036, 2037, 2038, 2039, 2040, 2041, 2042, 2043, 2044, 2045, 2046, 2047, 2048, 2049, 2050, 2051, 2052, 2053, 2054, 2055, 2056, 2057, 2058, 2059, 2060, 2061, 2062, 2063, 2064, 2065, 2066, 2067, 2068, 2069, 2070, 2071, 2072, 2073, 2074, 2075, 2076, 2077, 2078, 2079, 2080, 2081, 2082, 2083, 2084, 2085, 2086, 2087, 2088, 2089, 2090, 2091, 2092, 2093, 2094, 2095, 2096, 2097, 2098, 2099, ...]}"
      ]
     },
     "execution_count": 32,
     "metadata": {},
     "output_type": "execute_result"
    }
   ],
   "source": [
    "# 시간대로 grouping\n",
    "doctopic_timeslot = dtm_df.groupby('Time')\n",
    "doctopic_timeslot.groups"
   ]
  },
  {
   "cell_type": "code",
   "execution_count": 33,
   "metadata": {},
   "outputs": [
    {
     "data": {
      "text/html": [
       "<div>\n",
       "<style scoped>\n",
       "    .dataframe tbody tr th:only-of-type {\n",
       "        vertical-align: middle;\n",
       "    }\n",
       "\n",
       "    .dataframe tbody tr th {\n",
       "        vertical-align: top;\n",
       "    }\n",
       "\n",
       "    .dataframe thead th {\n",
       "        text-align: right;\n",
       "    }\n",
       "</style>\n",
       "<table border=\"1\" class=\"dataframe\">\n",
       "  <thead>\n",
       "    <tr style=\"text-align: right;\">\n",
       "      <th></th>\n",
       "      <th>Time</th>\n",
       "      <th>Topic0</th>\n",
       "      <th>Topic1</th>\n",
       "      <th>Topic2</th>\n",
       "      <th>Topic3</th>\n",
       "      <th>Topic4</th>\n",
       "      <th>Topic5</th>\n",
       "      <th>Topic6</th>\n",
       "    </tr>\n",
       "  </thead>\n",
       "  <tbody>\n",
       "    <tr>\n",
       "      <th>0</th>\n",
       "      <td>0</td>\n",
       "      <td>0.137947</td>\n",
       "      <td>0.144965</td>\n",
       "      <td>0.144357</td>\n",
       "      <td>0.172725</td>\n",
       "      <td>0.129046</td>\n",
       "      <td>0.119060</td>\n",
       "      <td>0.151900</td>\n",
       "    </tr>\n",
       "    <tr>\n",
       "      <th>1</th>\n",
       "      <td>1</td>\n",
       "      <td>0.130116</td>\n",
       "      <td>0.135278</td>\n",
       "      <td>0.148573</td>\n",
       "      <td>0.153854</td>\n",
       "      <td>0.152273</td>\n",
       "      <td>0.143311</td>\n",
       "      <td>0.136594</td>\n",
       "    </tr>\n",
       "    <tr>\n",
       "      <th>2</th>\n",
       "      <td>2</td>\n",
       "      <td>0.137308</td>\n",
       "      <td>0.151043</td>\n",
       "      <td>0.139662</td>\n",
       "      <td>0.151950</td>\n",
       "      <td>0.157687</td>\n",
       "      <td>0.136787</td>\n",
       "      <td>0.125565</td>\n",
       "    </tr>\n",
       "  </tbody>\n",
       "</table>\n",
       "</div>"
      ],
      "text/plain": [
       "   Time    Topic0    Topic1    Topic2    Topic3    Topic4    Topic5    Topic6\n",
       "0     0  0.137947  0.144965  0.144357  0.172725  0.129046  0.119060  0.151900\n",
       "1     1  0.130116  0.135278  0.148573  0.153854  0.152273  0.143311  0.136594\n",
       "2     2  0.137308  0.151043  0.139662  0.151950  0.157687  0.136787  0.125565"
      ]
     },
     "execution_count": 33,
     "metadata": {},
     "output_type": "execute_result"
    }
   ],
   "source": [
    "# mean() 함수 이용해서 Topic0~TopicN까지의 모든 열 평균 구하기\n",
    "timeslot_avg = doctopic_timeslot.mean()\n",
    "timeslot_avg = timeslot_avg.reset_index()   # index 리셋하기\n",
    "timeslot_avg"
   ]
  },
  {
   "cell_type": "code",
   "execution_count": 34,
   "metadata": {},
   "outputs": [
    {
     "data": {
      "text/plain": [
       "0    1.0\n",
       "1    2.0\n",
       "2    3.0\n",
       "dtype: float64"
      ]
     },
     "execution_count": 34,
     "metadata": {},
     "output_type": "execute_result"
    }
   ],
   "source": [
    "# 시간대별 모든 토픽 값의 합은 1\n",
    "timeslot_avg.sum(axis=1)"
   ]
  },
  {
   "cell_type": "markdown",
   "metadata": {},
   "source": [
    "### 8. 6번, 7번 결과로 그래프 그리기"
   ]
  },
  {
   "cell_type": "markdown",
   "metadata": {},
   "source": [
    "#### 시간별 토픽 비중변화 추이"
   ]
  },
  {
   "cell_type": "code",
   "execution_count": 35,
   "metadata": {
    "scrolled": false
   },
   "outputs": [
    {
     "data": {
      "image/png": "[encoded data removed]",
      "text/plain": [
       "<Figure size 1152x864 with 1 Axes>"
      ]
     },
     "metadata": {
      "needs_background": "light"
     },
     "output_type": "display_data"
    }
   ],
   "source": [
    "# figure 하나당 4개씩 그래프 그리기\n",
    "\n",
    "plt.figure(figsize=(16, 12)) \n",
    "plt.plot(timeslot_avg['Time'], timeslot_avg['Topic0'], 'b*--', label='토픽0')\n",
    "plt.plot(timeslot_avg['Time'], timeslot_avg['Topic1'], 'rs--', label='토픽1')\n",
    "plt.plot(timeslot_avg['Time'], timeslot_avg['Topic2'], 'g^--', label='토픽2')\n",
    "plt.plot(timeslot_avg['Time'], timeslot_avg['Topic3'], 'y*--', label='토픽3')\n",
    "plt.plot(timeslot_avg['Time'], timeslot_avg['Topic4'], 'bs--', label='토픽4')\n",
    "plt.plot(timeslot_avg['Time'], timeslot_avg['Topic5'], 'm*--', label='토픽5')\n",
    "plt.plot(timeslot_avg['Time'], timeslot_avg['Topic6'], 'k*--', label='토픽6')\n",
    "\n",
    "# 그래프에서 값 표시하는 annotate 방법 찾기\n",
    "for topic_id in ['Topic0', 'Topic1', 'Topic2', 'Topic3', 'Topic4', 'Topic5', 'Topic6']:\n",
    "    for x, y in zip(range(len(time_slice)), timeslot_avg[topic_id]):\n",
    "        plt.annotate(\"%.4f\"%y, (x, y), textcoords=\"offset points\", xytext=(0,10), ha='center')\n",
    "\n",
    "plt.title(\"7개의 대화 토픽\", fontsize=14)\n",
    "plt.xlabel(\"대화 시기\", fontsize=13)\n",
    "plt.ylabel(\"토픽의 비중 (%)\", fontsize=13)\n",
    "plt.xticks(timeslot_avg['Time'], ['시즌1', '시즌2', '시즌3'])\n",
    "plt.ylim([0.08, 0.30])\n",
    "plt.legend(loc=\"best\")\n",
    "plt.savefig(\"data/kakao_topic_distribution_graph.png\")\n",
    "plt.show()"
   ]
  },
  {
   "cell_type": "markdown",
   "metadata": {},
   "source": [
    "#### 시간별 단어의 토픽 비중변화 추이"
   ]
  },
  {
   "cell_type": "code",
   "execution_count": 36,
   "metadata": {},
   "outputs": [],
   "source": [
    "from collections import defaultdict\n",
    "\n",
    "# 단어의 확률 변화를 보고 싶은 topic 번호 \n",
    "topic_id = 3\n",
    "\n",
    "# 해당 토픽에서 포함할 단어목록 결정\n",
    "topic_info = dtm_model.print_topic_times(topic=topic_id, top_terms=50)\n",
    "topic_dict = defaultdict(list)\n",
    "\n",
    "# time별 특정 topic(topic_id)의 단어별 확률값.\n",
    "for dist_inTime in topic_info:\n",
    "    # time별로 단어와 확률값 저장.\n",
    "    for word, prob in dist_inTime:\n",
    "        topic_dict[word].append(prob)"
   ]
  },
  {
   "cell_type": "code",
   "execution_count": 42,
   "metadata": {
    "scrolled": false
   },
   "outputs": [
    {
     "name": "stdout",
     "output_type": "stream",
     "text": [
      "defaultdict(<class 'list'>, {'우리': [0.026211389113910723, 0.026422071007503968, 0.026612070807653217], '내': [0.01629010879321055, 0.016827385021693658, 0.016776831610079607], '그래서': [0.01062401899598899, 0.010756640493143987, 0.010945190198581357], '네': [0.009269537526994618, 0.009114851447649834, 0.008999017638749154], '이제': [0.008634791382456633, 0.00879067423074816, 0.008704514738868675], '다시': [0.008332217720734997, 0.008351432405176516, 0.008344639551209931], '저': [0.006726680961857097, 0.006670824903114447, 0.006607113913536232], '넹': [0.0064707811904160415, 0.006480175129868676, 0.006399169073581151], '젤': [0.006004894855005111, 0.0060491903887788315, 0.006104099206409116], '누가': [0.004693768178679034, 0.004723822182990429, 0.0047559269540669614], '이게': [0.004534304132713559, 0.00454287456387314, 0.004553376170123953], '보람이': [0.004441786827584651, 0.004473074409214207, 0.004506048940603244], '전': [0.004167329220324157, 0.00416285759886086, 0.004145867655853018], '일단': [0.00413245060643168, 0.0041119882272349015, 0.004099913421821796], '내가': [0.0040124759579174924, 0.004042054248417602, 0.004012364661490417], '같은': [0.0039525699534276, 0.003963751601226949, 0.003988055963114734], '다들': [0.0037661725126312737, 0.003736519863661837, 0.0036933045010036575], '저는': [0.0036484144023436744, 0.0035825440112550065, 0.0035307363390889154], '나왕왕': [0.0034852749009140734, 0.0035607825569554043, 0.0037134724727752363], '아닌데': [0.0034229721054037303, 0.0034246704346592733, 0.0034389210830388255], '역쉬': [0.003412821632690324, 0.0034446859941966545, 0.0034198740027107585], '도착': [0.0032411692867845288, 0.003244452176060664, 0.0032272854549055584], '너무': [0.0032317691262706534, 0.0032170937761381714, 0.003194776932049964], '헉': [0.003023428333618517, 0.0030213483168819487, 0.0030212372791438282], '좀': [0.00302241613443568, 0.0030124282065010196, 0.002998529956759851], '가자': [0.0030177198120936786, 0.003031181388025417, 0.0030541525625765557], '누구야': [0.003004690654503059, 0.003035352108303729, 0.003084888372012937], '가서': [0.002875375118405828, 0.002865912009421806, 0.002835858605063784], '근데': [0.0028634424630192856, 0.0028741978589351615, 0.0028849099814512442], '언제': [0.002671406619272526, 0.002661618924104083, 0.0026313604858316936], '나한테': [0.002633485342926089, 0.0026539994397665164, 0.0026495127431334004], '굿': [0.0024795025803975097, 0.0024959878237802774, 0.002496264747767586], '기성이형': [0.0024783327453986523, 0.0024964271649624316, 0.0024872222970169543], '응응': [0.0024448312997320397, 0.0024619946430319787, 0.002498909085864794], '전체': [0.0023436249251271367, 0.002280806365929724, 0.002250310941237134], '없어요': [0.002322077222125572, 0.0022972001863181112, 0.002272479493311444], '와서': [0.002271270113221595, 0.0022759425875315295, 0.002282099698625031], '누나가': [0.00227105425480333, 0.002287504731918054, 0.0022850491708542447], '카톡': [0.002267017938771189, 0.002269821989373483, 0.0022435052508782273], '시간이': [0.0022590760577655493, 0.0022596412168919403, 0.002260320833068117], '가지고': [0.0022384706996855666, 0.002252415906382459, 0.002279602232387135], '결국': [0.0021821127763198334, 0.002194979169105674, 0.002209466967209143], '아침': [0.002158208751746235, 0.002137751512968003, 0.0021155508865516232], '됩니다': [0.0021386553156625175, 0.0021269378280340937, 0.0021138896879717367], 'KS': [0.002119583433559535, 0.0021175315251230576, 0.002114569584047089], '병준쌤': [0.002092499209145638, 0.0021050443893664865, 0.002106523532869495], '병준이는': [0.002088056846025414, 0.0020985958212036315, 0.002109523530130173], '서로': [0.002087242083768852, 0.0021007308586712893, 0.002093785816826061], '히힛': [0.0020751250410220336, 0.002086268895930051, 0.0021402796080136036], '버스': [0.002074323640612683, 0.0020777428551744977, 0.002080456875772915]})\n"
     ]
    }
   ],
   "source": [
    "print(topic_dict)"
   ]
  },
  {
   "cell_type": "code",
   "execution_count": 46,
   "metadata": {},
   "outputs": [
    {
     "data": {
      "image/png": "[encoded data removed]",
      "text/plain": [
       "<Figure size 1152x864 with 1 Axes>"
      ]
     },
     "metadata": {
      "needs_background": "light"
     },
     "output_type": "display_data"
    }
   ],
   "source": [
    "# 확률값 추이를 보고싶은 단어 목록\n",
    "keywords = [\"보람이\", \"나왕왕\"]\n",
    "\n",
    "# time_slot\n",
    "t = [i for i in range(len(time_slice))]\n",
    "\n",
    "plt.figure(figsize=(16, 12))\n",
    "for keyword in keywords:\n",
    "    plt.plot(t, topic_dict[keyword], label=keyword)\n",
    "    \n",
    "    for x, y in zip(t, topic_dict[keyword]):\n",
    "         plt.annotate(\"%.4f\"%y, (x, y), textcoords=\"offset points\", xytext=(0,10), ha='center')\n",
    "\n",
    "plt.title(\"시간별 단어의 토픽비중 변화\")\n",
    "plt.xlabel(\"시간\")\n",
    "plt.ylabel(\"토픽 비중\")\n",
    "plt.legend(loc='best')\n",
    "plt.savefig(\"data/kakao_keywords_distribution_overtime_graph.png\")\n",
    "plt.show()"
   ]
  }
 ],
 "metadata": {
  "kernelspec": {
   "display_name": "Python 3",
   "language": "python",
   "name": "python3"
  },
  "language_info": {
   "codemirror_mode": {
    "name": "ipython",
    "version": 3
   },
   "file_extension": ".py",
   "mimetype": "text/x-python",
   "name": "python",
   "nbconvert_exporter": "python",
   "pygments_lexer": "ipython3",
   "version": "3.7.9"
  }
 },
 "nbformat": 4,
 "nbformat_minor": 2
}
