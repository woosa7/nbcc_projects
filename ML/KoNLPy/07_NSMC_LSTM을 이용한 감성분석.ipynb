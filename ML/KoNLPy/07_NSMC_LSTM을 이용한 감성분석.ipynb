{
 "cells": [
  {
   "cell_type": "markdown",
   "metadata": {},
   "source": [
    "## NSMC를 딥러닝(LSTM)으로 분석"
   ]
  },
  {
   "cell_type": "markdown",
   "metadata": {},
   "source": [
    "### Text tokenizing"
   ]
  },
  {
   "cell_type": "code",
   "execution_count": 1,
   "metadata": {},
   "outputs": [
    {
     "name": "stdout",
     "output_type": "stream",
     "text": [
      "[['진짜', '짜증', '네요', '목소리'], '0']\n",
      "[['평점', '나쁘', '지만', '짜리', '더더욱', '아니', '잖아'], '0']\n"
     ]
    }
   ],
   "source": [
    "import MeCab\n",
    "from konlpy.tag import Okt\n",
    "\n",
    "import json\n",
    "import os\n",
    "import re\n",
    "from pprint import pprint\n",
    "\n",
    "mecab = MeCab.Tagger()\n",
    "\n",
    "if os.path.exists('data/train_docs.json'):\n",
    "    with open(\"data/train_docs.json\", encoding='utf-8') as f:\n",
    "        train_data = json.load(f)\n",
    "else:\n",
    "    train_data = [(text_tokenizing(text_cleaning(line[1])), line[2]) for line in train_docs if text_tokenizing(text_cleaning(line[1]))]    \n",
    "    # 전처리 안함\n",
    "    #train_data = [(text_tokenizing(line[1]), line[2]) for line in train_docs if text_tokenizing(line[1])]\n",
    "    with open(\"data/train_docs.json\", 'w', encoding='utf-8') as f:\n",
    "        json.dump(train_data, f, ensure_ascii=False, indent='\\t')\n",
    "        \n",
    "if os.path.exists('data/test_docs.json'):\n",
    "    with open(\"data/test_docs.json\", encoding='utf-8') as f:\n",
    "        test_data = json.load(f)\n",
    "else:\n",
    "    test_data = [(text_tokenizing(text_cleaning(line[1])), line[2]) for line in test_docs if text_tokenizing(text_cleaning(line[1]))]\n",
    "    # 전처리 안함\n",
    "    #test_data = [(text_tokenizing(line[1]), line[2]) for line in test_docs if text_tokenizing(line[1])]\n",
    "    with open(\"data/test_docs.json\", 'w', encoding='utf-8') as f:\n",
    "        json.dump(test_data, f, ensure_ascii=False, indent='\\t')\n",
    "\n",
    "pprint(train_data[0])\n",
    "pprint(test_data[0])"
   ]
  },
  {
   "cell_type": "code",
   "execution_count": 2,
   "metadata": {},
   "outputs": [
    {
     "name": "stdout",
     "output_type": "stream",
     "text": [
      "146211\n",
      "48792\n"
     ]
    }
   ],
   "source": [
    "print(len(train_data))\n",
    "print(len(test_data))"
   ]
  },
  {
   "cell_type": "markdown",
   "metadata": {},
   "source": [
    "## Deep Neural Network로 분류하기"
   ]
  },
  {
   "cell_type": "code",
   "execution_count": 9,
   "metadata": {},
   "outputs": [],
   "source": [
    "# 필요한 라이브러리 불러오기\n",
    "import numpy as np\n",
    "import tensorflow as tf\n",
    "from tensorflow.keras.preprocessing.text import Tokenizer\n",
    "from tensorflow.keras.preprocessing.sequence import pad_sequences\n",
    "from tensorflow.keras.layers import Embedding, Dense, LSTM\n",
    "from tensorflow.keras.models import Sequential\n",
    "from tensorflow.data import Dataset"
   ]
  },
  {
   "cell_type": "code",
   "execution_count": 5,
   "metadata": {},
   "outputs": [
    {
     "data": {
      "text/plain": [
       "'2.3.1'"
      ]
     },
     "execution_count": 5,
     "metadata": {},
     "output_type": "execute_result"
    }
   ],
   "source": [
    "tf.__version__"
   ]
  },
  {
   "cell_type": "markdown",
   "metadata": {},
   "source": [
    "## Set Hyperparameter "
   ]
  },
  {
   "cell_type": "code",
   "execution_count": 6,
   "metadata": {},
   "outputs": [],
   "source": [
    "max_words = 35000   # 전체 14만 토큰을 모두 사용하지 않음\n",
    "max_len = 30\n",
    "batch_size = 64\n",
    "EPOCHS = 5"
   ]
  },
  {
   "cell_type": "markdown",
   "metadata": {},
   "source": [
    "## Define Network Structure "
   ]
  },
  {
   "cell_type": "code",
   "execution_count": 7,
   "metadata": {},
   "outputs": [],
   "source": [
    "class SimpleLSTM(tf.keras.Model):\n",
    "    def __init__(self):\n",
    "        super().__init__()\n",
    "        self.embed = Embedding(max_words, 100)\n",
    "        self.lstm = LSTM(64, dropout=0.2, recurrent_dropout=0.2)\n",
    "        self.dense = Dense(1, activation=\"sigmoid\")\n",
    "        \n",
    "    def __call__(self, x, training=None, mask=None):\n",
    "        x = self.embed(x)\n",
    "        x = self.lstm(x)\n",
    "        return self.dense(x)"
   ]
  },
  {
   "cell_type": "markdown",
   "metadata": {},
   "source": [
    "## Data Preprocessing "
   ]
  },
  {
   "cell_type": "code",
   "execution_count": 12,
   "metadata": {},
   "outputs": [
    {
     "name": "stdout",
     "output_type": "stream",
     "text": [
      "[['진짜', '짜증', '네요', '목소리'], '0']\n",
      "[8, 109, 6, 455]\n",
      "[  0   0   0   0   0   0   0   0   0   0   0   0   0   0   0   0   0   0\n",
      "   0   0   0   0   0   0   0   0   8 109   6 455]\n"
     ]
    }
   ],
   "source": [
    "pprint(train_data[0])\n",
    "\n",
    "# SVM 때와 비슷한 형태로 만들고\n",
    "x_train = [doc for doc, _ in train_data]\n",
    "\n",
    "# keras가 사용하기 위한 형태로 Tokenizing\n",
    "tokenizer = Tokenizer(num_words=max_words)\n",
    "tokenizer.fit_on_texts(x_train)\n",
    "\n",
    "# LSTM의 input으로 넣기 위한 변환 작업\n",
    "x_train = tokenizer.texts_to_sequences(x_train)\n",
    "x_test = tokenizer.texts_to_sequences([doc for doc, _ in test_data])\n",
    "\n",
    "y_train = np.array([int(label) for _, label in train_data])  # int to array\n",
    "y_test = np.array([int(label) for _, label in test_data])\n",
    "\n",
    "print(x_train[0])\n",
    "\n",
    "# 크기를 맞춰주기 위한 zero padding\n",
    "x_train = pad_sequences(x_train, value=0, padding='pre', maxlen=max_len) # pre - 앞에서부터 채움\n",
    "x_test = pad_sequences(x_test, value=0, padding='pre', maxlen=max_len)\n",
    "\n",
    "print(x_train[0])\n",
    "\n",
    "# 학습 가능한 형태로 최종 변환.\n",
    "train_ds = Dataset.from_tensor_slices((x_train, y_train)).shuffle(10000).batch(batch_size)\n",
    "test_ds = Dataset.from_tensor_slices((x_test, y_test)).batch(batch_size)"
   ]
  },
  {
   "cell_type": "markdown",
   "metadata": {},
   "source": [
    "## Set Model "
   ]
  },
  {
   "cell_type": "code",
   "execution_count": 14,
   "metadata": {},
   "outputs": [],
   "source": [
    "model = SimpleLSTM()\n",
    "model.compile(optimizer='adam', loss='binary_crossentropy', metrics=['accuracy'])"
   ]
  },
  {
   "cell_type": "markdown",
   "metadata": {},
   "source": [
    "## Early Stopping Callback"
   ]
  },
  {
   "cell_type": "code",
   "execution_count": 15,
   "metadata": {},
   "outputs": [],
   "source": [
    "earlystopper = tf.keras.callbacks.EarlyStopping(monitor=\"val_loss\", patience=10, verbose=1)"
   ]
  },
  {
   "cell_type": "markdown",
   "metadata": {},
   "source": [
    "## Run Model "
   ]
  },
  {
   "cell_type": "code",
   "execution_count": 17,
   "metadata": {},
   "outputs": [
    {
     "name": "stdout",
     "output_type": "stream",
     "text": [
      "Epoch 1/5\n",
      "2285/2285 [==============================] - 135s 59ms/step - loss: 0.4079 - accuracy: 0.8099 - val_loss: 0.3811 - val_accuracy: 0.8261\n",
      "Epoch 2/5\n",
      "2285/2285 [==============================] - 136s 59ms/step - loss: 0.3204 - accuracy: 0.8589 - val_loss: 0.4017 - val_accuracy: 0.8241\n",
      "Epoch 3/5\n",
      "2285/2285 [==============================] - 134s 59ms/step - loss: 0.2612 - accuracy: 0.8874 - val_loss: 0.4454 - val_accuracy: 0.8183\n",
      "Epoch 4/5\n",
      "2285/2285 [==============================] - 135s 59ms/step - loss: 0.2118 - accuracy: 0.9100 - val_loss: 0.5131 - val_accuracy: 0.8089\n",
      "Epoch 5/5\n",
      "2285/2285 [==============================] - 139s 61ms/step - loss: 0.1766 - accuracy: 0.9255 - val_loss: 0.5826 - val_accuracy: 0.8049\n"
     ]
    }
   ],
   "source": [
    "# 실행, 결과 저장.\n",
    "history = model.fit(train_ds, validation_data=test_ds, epochs=EPOCHS, callbacks=earlystopper)"
   ]
  },
  {
   "cell_type": "code",
   "execution_count": 18,
   "metadata": {},
   "outputs": [
    {
     "name": "stdout",
     "output_type": "stream",
     "text": [
      "1525/1525 [==============================] - 4s 3ms/step - loss: 0.5826 - accuracy: 0.8049\n"
     ]
    }
   ],
   "source": [
    "# Model Test\n",
    "score, acc = model.evaluate(x_test, y_test)"
   ]
  },
  {
   "cell_type": "code",
   "execution_count": 19,
   "metadata": {},
   "outputs": [
    {
     "name": "stdout",
     "output_type": "stream",
     "text": [
      "Test Score:  0.5826334357261658\n",
      "Test Accuracy:  0.804947555065155\n"
     ]
    }
   ],
   "source": [
    "print(\"Test Score: \", score)\n",
    "print(\"Test Accuracy: \", acc)"
   ]
  },
  {
   "cell_type": "markdown",
   "metadata": {},
   "source": [
    "## Loss Visualization "
   ]
  },
  {
   "cell_type": "code",
   "execution_count": 20,
   "metadata": {},
   "outputs": [
    {
     "data": {
      "image/png": "[encoded data removed]",
      "text/plain": [
       "<Figure size 432x288 with 1 Axes>"
      ]
     },
     "metadata": {
      "needs_background": "light"
     },
     "output_type": "display_data"
    }
   ],
   "source": [
    "import matplotlib.pyplot as plt\n",
    "%matplotlib inline\n",
    "\n",
    "loss = history.history['loss']\n",
    "val_loss = history.history['val_loss']\n",
    "\n",
    "plt.figure()\n",
    "plt.plot(loss, 'ro-', label=\"train_loss\")\n",
    "plt.plot(val_loss, 'bo-', label=\"val_loss\")\n",
    "plt.ylabel('Cross Entropy')\n",
    "plt.xlabel('Epoch')\n",
    "plt.legend(loc=\"best\")\n",
    "plt.title('Training and Validation Loss')\n",
    "plt.show()"
   ]
  },
  {
   "cell_type": "markdown",
   "metadata": {},
   "source": [
    "## Save Weight "
   ]
  },
  {
   "cell_type": "code",
   "execution_count": 22,
   "metadata": {},
   "outputs": [],
   "source": [
    "# Model weight matrix 저장.\n",
    "model.save_weights('nsmc_keras_simpleLSTM')"
   ]
  }
 ],
 "metadata": {
  "kernelspec": {
   "display_name": "Python 3",
   "language": "python",
   "name": "python3"
  },
  "language_info": {
   "codemirror_mode": {
    "name": "ipython",
    "version": 3
   },
   "file_extension": ".py",
   "mimetype": "text/x-python",
   "name": "python",
   "nbconvert_exporter": "python",
   "pygments_lexer": "ipython3",
   "version": "3.7.8"
  }
 },
 "nbformat": 4,
 "nbformat_minor": 2
}
