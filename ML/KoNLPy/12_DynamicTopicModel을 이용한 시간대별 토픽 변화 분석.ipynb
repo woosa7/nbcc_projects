{
 "cells": [
  {
   "cell_type": "markdown",
   "metadata": {},
   "source": [
    "# LDA에서 Dynamic Topic Model"
   ]
  },
  {
   "cell_type": "markdown",
   "metadata": {},
   "source": [
    "<img src=\"data\\dtm_fig.png\">"
   ]
  },
  {
   "cell_type": "markdown",
   "metadata": {},
   "source": [
    "* 시간의 흐름에 따른 토픽 변화를 보여줌\n",
    "\n",
    "* 시간대를 특정 단위로 나눠 time slice 단위별 LDA를 여러 개를 붙인 형태\n",
    "\n",
    "* 토픽 분포에 해당하는 파라미터인 Beta값을 time slice가 넘어갈때 넘겨주는 것으로 시간대별 토픽 분포를 반영하게 함"
   ]
  },
  {
   "cell_type": "markdown",
   "metadata": {},
   "source": [
    "<img src=\"data\\dtm_fig2.png\">"
   ]
  },
  {
   "cell_type": "markdown",
   "metadata": {},
   "source": [
    "### 1. 대화내용 불러오기"
   ]
  },
  {
   "cell_type": "code",
   "execution_count": 1,
   "metadata": {},
   "outputs": [],
   "source": [
    "import pandas as pd\n",
    "import numpy as np\n",
    "import pickle\n",
    "from pprint import pprint\n",
    "import re"
   ]
  },
  {
   "cell_type": "code",
   "execution_count": 2,
   "metadata": {},
   "outputs": [
    {
     "name": "stdout",
     "output_type": "stream",
     "text": [
      "<class 'pandas.core.frame.DataFrame'>\n",
      "RangeIndex: 14911 entries, 0 to 14910\n",
      "Data columns (total 3 columns):\n",
      " #   Column   Non-Null Count  Dtype \n",
      "---  ------   --------------  ----- \n",
      " 0   date     14911 non-null  object\n",
      " 1   user     14911 non-null  object\n",
      " 2   message  14911 non-null  object\n",
      "dtypes: object(3)\n",
      "memory usage: 349.6+ KB\n",
      "None\n"
     ]
    }
   ],
   "source": [
    "# load data\n",
    "with open(\"data/cleaned_katalk_data.pk\", \"rb\") as f:\n",
    "    data = pickle.load(f)\n",
    "    \n",
    "print(data.info())"
   ]
  },
  {
   "cell_type": "markdown",
   "metadata": {},
   "source": [
    "### 2. 분석시기 설정하기"
   ]
  },
  {
   "cell_type": "code",
   "execution_count": 3,
   "metadata": {},
   "outputs": [
    {
     "data": {
      "text/html": [
       "<div>\n",
       "<style scoped>\n",
       "    .dataframe tbody tr th:only-of-type {\n",
       "        vertical-align: middle;\n",
       "    }\n",
       "\n",
       "    .dataframe tbody tr th {\n",
       "        vertical-align: top;\n",
       "    }\n",
       "\n",
       "    .dataframe thead th {\n",
       "        text-align: right;\n",
       "    }\n",
       "</style>\n",
       "<table border=\"1\" class=\"dataframe\">\n",
       "  <thead>\n",
       "    <tr style=\"text-align: right;\">\n",
       "      <th></th>\n",
       "      <th>user</th>\n",
       "      <th>message</th>\n",
       "    </tr>\n",
       "    <tr>\n",
       "      <th>date</th>\n",
       "      <th></th>\n",
       "      <th></th>\n",
       "    </tr>\n",
       "  </thead>\n",
       "  <tbody>\n",
       "    <tr>\n",
       "      <th>2016-03-07 15:41:00</th>\n",
       "      <td>YH</td>\n",
       "      <td>안녕하세요 이게 빠르지 않을까 해서요 엠티 관련해서는 회장님께서 이미 밴드에 올려 ...</td>\n",
       "    </tr>\n",
       "    <tr>\n",
       "      <th>2016-03-07 15:51:00</th>\n",
       "      <td>WH</td>\n",
       "      <td>네 안녕하세요</td>\n",
       "    </tr>\n",
       "    <tr>\n",
       "      <th>2016-03-07 17:14:00</th>\n",
       "      <td>YH</td>\n",
       "      <td>넵 저희 카톡방을 만들어서 거기다 투표를 돌릴까요 아님 그냥 밴드에 두개로 할까요 총무님</td>\n",
       "    </tr>\n",
       "    <tr>\n",
       "      <th>2016-03-07 17:21:00</th>\n",
       "      <td>KS</td>\n",
       "      <td>엠티관련해서 참석여부 투표를 말씀하신건가요</td>\n",
       "    </tr>\n",
       "    <tr>\n",
       "      <th>2016-03-07 17:22:00</th>\n",
       "      <td>YH</td>\n",
       "      <td>네 저희 이번 토욜 관련해서도 투표를 올려야 해서요</td>\n",
       "    </tr>\n",
       "  </tbody>\n",
       "</table>\n",
       "</div>"
      ],
      "text/plain": [
       "                    user                                            message\n",
       "date                                                                       \n",
       "2016-03-07 15:41:00   YH  안녕하세요 이게 빠르지 않을까 해서요 엠티 관련해서는 회장님께서 이미 밴드에 올려 ...\n",
       "2016-03-07 15:51:00   WH                                           네 안녕하세요 \n",
       "2016-03-07 17:14:00   YH  넵 저희 카톡방을 만들어서 거기다 투표를 돌릴까요 아님 그냥 밴드에 두개로 할까요 총무님\n",
       "2016-03-07 17:21:00   KS                            엠티관련해서 참석여부 투표를 말씀하신건가요\n",
       "2016-03-07 17:22:00   YH                       네 저희 이번 토욜 관련해서도 투표를 올려야 해서요"
      ]
     },
     "execution_count": 3,
     "metadata": {},
     "output_type": "execute_result"
    }
   ],
   "source": [
    "# 시간정보 열을 datetime 정보로 변환\n",
    "data['date'] = pd.to_datetime(data['date'])\n",
    "\n",
    "# 인덱스 넣기\n",
    "data = data.set_index('date')\n",
    "\n",
    "data.head()"
   ]
  },
  {
   "cell_type": "markdown",
   "metadata": {},
   "source": [
    "#### 시기별로 대화내용 분리"
   ]
  },
  {
   "cell_type": "code",
   "execution_count": 4,
   "metadata": {},
   "outputs": [
    {
     "name": "stdout",
     "output_type": "stream",
     "text": [
      "<class 'pandas.core.frame.DataFrame'>\n",
      "DatetimeIndex: 1064 entries, 2016-03-07 15:41:00 to 2016-03-31 23:09:00\n",
      "Data columns (total 2 columns):\n",
      " #   Column   Non-Null Count  Dtype \n",
      "---  ------   --------------  ----- \n",
      " 0   user     1064 non-null   object\n",
      " 1   message  1064 non-null   object\n",
      "dtypes: object(2)\n",
      "memory usage: 24.9+ KB\n",
      "None\n",
      "<class 'pandas.core.frame.DataFrame'>\n",
      "DatetimeIndex: 5568 entries, 2016-04-01 10:01:00 to 2016-04-20 23:44:00\n",
      "Data columns (total 2 columns):\n",
      " #   Column   Non-Null Count  Dtype \n",
      "---  ------   --------------  ----- \n",
      " 0   user     5568 non-null   object\n",
      " 1   message  5568 non-null   object\n",
      "dtypes: object(2)\n",
      "memory usage: 130.5+ KB\n",
      "None\n",
      "<class 'pandas.core.frame.DataFrame'>\n",
      "DatetimeIndex: 8279 entries, 2016-04-21 11:11:00 to 2016-04-25 16:43:00\n",
      "Data columns (total 2 columns):\n",
      " #   Column   Non-Null Count  Dtype \n",
      "---  ------   --------------  ----- \n",
      " 0   user     8279 non-null   object\n",
      " 1   message  8279 non-null   object\n",
      "dtypes: object(2)\n",
      "memory usage: 194.0+ KB\n",
      "None\n"
     ]
    }
   ],
   "source": [
    "# 월별로 데이터 나누기\n",
    "\n",
    "data_0 = data['2016-03-01' : '2016-03-31']\n",
    "data_1 = data['2016-04-01' : '2016-04-20']\n",
    "data_2 = data['2016-04-21' : '2016-04-30']\n",
    "\n",
    "print(data_0.info())\n",
    "print(data_1.info())\n",
    "print(data_2.info())\n"
   ]
  },
  {
   "cell_type": "code",
   "execution_count": 5,
   "metadata": {},
   "outputs": [
    {
     "name": "stdout",
     "output_type": "stream",
     "text": [
      "                    user                                            message\n",
      "date                                                                       \n",
      "2016-03-07 15:41:00   YH  안녕하세요 이게 빠르지 않을까 해서요 엠티 관련해서는 회장님께서 이미 밴드에 올려 ...\n",
      "2016-03-07 15:51:00   WH                                           네 안녕하세요 \n",
      "2016-03-07 17:14:00   YH  넵 저희 카톡방을 만들어서 거기다 투표를 돌릴까요 아님 그냥 밴드에 두개로 할까요 총무님\n",
      "2016-03-07 17:21:00   KS                            엠티관련해서 참석여부 투표를 말씀하신건가요\n",
      "2016-03-07 17:22:00   YH                       네 저희 이번 토욜 관련해서도 투표를 올려야 해서요\n",
      "                    user                              message\n",
      "date                                                         \n",
      "2016-04-01 10:01:00   YH                   공지 드디어 내일 MT 공지입니다\n",
      "2016-04-01 10:22:00   BR     추가내용은 생각나는게 없네요 그거 공지하면 되지 않을까요 \n",
      "2016-04-01 10:45:00   WH        아 갖고싶다 두림도 나도 모르게 구매하기 버튼 눌렀읔\n",
      "2016-04-01 10:53:00   BR                      저에게도 하나만 선물해주세요\n",
      "2016-04-01 11:20:00   BR  오늘 5시 코스트코 가시는분들 롯데리아 들렀다 가시지 말입니다 \n",
      "                    user              message\n",
      "date                                         \n",
      "2016-04-21 11:11:00   BJ          오늘아침 못먹은사람 \n",
      "2016-04-21 11:11:00   KS                 배달시켜\n",
      "2016-04-21 11:12:00   BJ   점심을 나가서 먹어야지용 월급날 \n",
      "2016-04-21 11:13:00   BJ                     \n",
      "2016-04-21 11:14:00   HL                     \n"
     ]
    }
   ],
   "source": [
    "print(data_0.head())\n",
    "print(data_1.head())\n",
    "print(data_2.head())"
   ]
  },
  {
   "cell_type": "markdown",
   "metadata": {},
   "source": [
    "##### 시기별로 나눠서 데이터 저장하기"
   ]
  },
  {
   "cell_type": "code",
   "execution_count": 6,
   "metadata": {},
   "outputs": [],
   "source": [
    "# time_slice별로 데이터 갯수를 저장할 리스트 생성\n",
    "time_slice = []\n",
    "\n",
    "# 시기별 데이터 가져오기\n",
    "slice0 = list(data_0['message'])\n",
    "slice1 = list(data_1['message'])\n",
    "slice2 = list(data_2['message'])\n",
    "\n",
    "# LDA 분석할 때와 비슷하게 모든 분석 대상 텍스트를 담는 리스트 생성\n",
    "tokenized_data = [msg.split() for msg in (slice0 + slice1 + slice2)]\n",
    "\n",
    "# 각 slice에 들어 있는 갯수를 원소로 갖는 리스트 생성\n",
    "time_slice.append(len(slice0))\n",
    "time_slice.append(len(slice1))\n",
    "time_slice.append(len(slice2))"
   ]
  },
  {
   "cell_type": "code",
   "execution_count": 7,
   "metadata": {},
   "outputs": [
    {
     "name": "stdout",
     "output_type": "stream",
     "text": [
      "14911\n",
      "[1064, 5568, 8279]\n"
     ]
    }
   ],
   "source": [
    "print(len(tokenized_data))\n",
    "print(time_slice)"
   ]
  },
  {
   "cell_type": "code",
   "execution_count": 8,
   "metadata": {},
   "outputs": [
    {
     "name": "stdout",
     "output_type": "stream",
     "text": [
      "['안녕하세요 이게 빠르지 않을까 해서요 엠티 관련해서는 회장님께서 이미 밴드에 올려 주셨어요', '네 안녕하세요 ', '넵 저희 카톡방을 만들어서 거기다 투표를 돌릴까요 아님 그냥 밴드에 두개로 할까요 총무님', '엠티관련해서 참석여부 투표를 말씀하신건가요', '네 저희 이번 토욜 관련해서도 투표를 올려야 해서요']\n",
      "['공지 드디어 내일 MT 공지입니다', '추가내용은 생각나는게 없네요 그거 공지하면 되지 않을까요 ', '아 갖고싶다 두림도 나도 모르게 구매하기 버튼 눌렀읔', '저에게도 하나만 선물해주세요', '오늘 5시 코스트코 가시는분들 롯데리아 들렀다 가시지 말입니다 ']\n",
      "['오늘아침 못먹은사람 ', '배달시켜', ' 점심을 나가서 먹어야지용 월급날 ', ' ', ' ']\n",
      "\n",
      "[['안녕하세요',\n",
      "  '이게',\n",
      "  '빠르지',\n",
      "  '않을까',\n",
      "  '해서요',\n",
      "  '엠티',\n",
      "  '관련해서는',\n",
      "  '회장님께서',\n",
      "  '이미',\n",
      "  '밴드에',\n",
      "  '올려',\n",
      "  '주셨어요'],\n",
      " ['네', '안녕하세요'],\n",
      " ['넵',\n",
      "  '저희',\n",
      "  '카톡방을',\n",
      "  '만들어서',\n",
      "  '거기다',\n",
      "  '투표를',\n",
      "  '돌릴까요',\n",
      "  '아님',\n",
      "  '그냥',\n",
      "  '밴드에',\n",
      "  '두개로',\n",
      "  '할까요',\n",
      "  '총무님'],\n",
      " ['엠티관련해서', '참석여부', '투표를', '말씀하신건가요'],\n",
      " ['네', '저희', '이번', '토욜', '관련해서도', '투표를', '올려야', '해서요']]\n"
     ]
    }
   ],
   "source": [
    "print(slice0[:5])\n",
    "print(slice1[:5])\n",
    "print(slice2[:5])\n",
    "print()\n",
    "pprint(tokenized_data[:5])"
   ]
  },
  {
   "cell_type": "markdown",
   "metadata": {},
   "source": [
    "### 3. Dynamic Topic Model 돌리기"
   ]
  },
  {
   "cell_type": "code",
   "execution_count": 9,
   "metadata": {},
   "outputs": [],
   "source": [
    "from gensim.models import ldaseqmodel\n",
    "from gensim.models import CoherenceModel\n",
    "from gensim.corpora import Dictionary, bleicorpus\n",
    "from gensim.matutils import hellinger\n",
    "from gensim import corpora\n",
    "from tqdm import tqdm_notebook\n",
    "from time import time\n",
    "import os"
   ]
  },
  {
   "cell_type": "markdown",
   "metadata": {},
   "source": [
    "#### dictionary와 corpus 만들기"
   ]
  },
  {
   "cell_type": "code",
   "execution_count": 10,
   "metadata": {},
   "outputs": [],
   "source": [
    "dict_path = 'data/kakao_DTM_dict'\n",
    "corpus_path = 'data/kakao_DTM_corpus'\n",
    "\n",
    "# DTM dictionary 저장.\n",
    "if not os.path.exists(dict_path):\n",
    "    dictionary = corpora.Dictionary(tokenized_data)\n",
    "    dictionary.save(dict_path)\n",
    "    print(dictionary)\n",
    "else:\n",
    "    dictionary = Dictionary.load(dict_path)\n",
    "\n",
    "# DTM Corpus 저장.\n",
    "if not os.path.exists(corpus_path):\n",
    "    corpus = [dictionary.doc2bow(doc) for doc in tokenized_data]\n",
    "    corpora.BleiCorpus.serialize(corpus_path, corpus)\n",
    "else:\n",
    "    corpus = bleicorpus.BleiCorpus(corpus_path)"
   ]
  },
  {
   "cell_type": "markdown",
   "metadata": {},
   "source": [
    "### Run DTM model "
   ]
  },
  {
   "cell_type": "code",
   "execution_count": 11,
   "metadata": {},
   "outputs": [],
   "source": [
    "# 주의! 매우매우매우 오래 걸림!!!\n",
    "\n",
    "NUM_TOPICS = 4\n",
    "\n",
    "model_path = 'data/kakao_DTM_model'\n",
    "\n",
    "if not os.path.exists(model_path):\n",
    "    # 제대로 분석하려면 passes=1000 정도로 설정해야 함.\n",
    "    dtm_model = ldaseqmodel.LdaSeqModel(corpus=corpus, \n",
    "                                        id2word=dictionary, \n",
    "                                        time_slice=time_slice, \n",
    "                                        num_topics=NUM_TOPICS, \n",
    "                                        passes=10)\n",
    "    dtm_model.save(model_path)\n",
    "else:\n",
    "    dtm_model = ldaseqmodel.LdaSeqModel.load(model_path)"
   ]
  },
  {
   "cell_type": "markdown",
   "metadata": {},
   "source": [
    "##### DTM 결과 보기"
   ]
  },
  {
   "cell_type": "code",
   "execution_count": 12,
   "metadata": {},
   "outputs": [
    {
     "name": "stdout",
     "output_type": "stream",
     "text": [
      "[[('왜', 0.0141485216136046),\n",
      "  ('진짜', 0.011943935442323587),\n",
      "  ('헐', 0.00895835558506351),\n",
      "  ('오늘', 0.00785409872992865),\n",
      "  ('근데', 0.007700210308515996),\n",
      "  ('좀', 0.0067752082893981535),\n",
      "  ('오', 0.006597977844962948),\n",
      "  ('이거', 0.006337271972604739),\n",
      "  ('오빠', 0.006040580355330703),\n",
      "  ('또', 0.006013008487891164)],\n",
      " [('아', 0.0314196069880282),\n",
      "  ('나', 0.019144930373360052),\n",
      "  ('내가', 0.011725470562727826),\n",
      "  ('다들', 0.010623908188988063),\n",
      "  ('너무', 0.010252437018907982),\n",
      "  ('우리', 0.00931618794718189),\n",
      "  ('응', 0.007021352694006929),\n",
      "  ('더', 0.005537893935882109),\n",
      "  ('뭐', 0.005525077849264318),\n",
      "  ('저', 0.005384918852422154)],\n",
      " [('나도', 0.013939766871544804),\n",
      "  ('그럼', 0.011091492944864693),\n",
      "  ('난', 0.009567721476918823),\n",
      "  ('그래', 0.00827191066984228),\n",
      "  ('완전', 0.00694718856255188),\n",
      "  ('지금', 0.005996197945028515),\n",
      "  ('역시', 0.005813120641855927),\n",
      "  ('아직', 0.005526320153964957),\n",
      "  ('형', 0.005248202484396398),\n",
      "  ('넵', 0.00501545436390354)],\n",
      " [('내', 0.0098976065363623),\n",
      "  ('다', 0.009823225911200495),\n",
      "  ('그냥', 0.007306585891589972),\n",
      "  ('나는', 0.006388746200466128),\n",
      "  ('우리', 0.005942036412113275),\n",
      "  ('아니', 0.005591061783473551),\n",
      "  ('유희', 0.005051512325522475),\n",
      "  ('아니야', 0.004524451953930227),\n",
      "  ('근데', 0.0039012230623802504),\n",
      "  ('이미', 0.0039005134659751283)]]\n"
     ]
    }
   ],
   "source": [
    "# 특정 시간대에서의 전체 토픽 보기\n",
    "pprint(dtm_model.print_topics(time=0, top_terms=10)) "
   ]
  }
 ],
 "metadata": {
  "kernelspec": {
   "display_name": "Python 3",
   "language": "python",
   "name": "python3"
  },
  "language_info": {
   "codemirror_mode": {
    "name": "ipython",
    "version": 3
   },
   "file_extension": ".py",
   "mimetype": "text/x-python",
   "name": "python",
   "nbconvert_exporter": "python",
   "pygments_lexer": "ipython3",
   "version": "3.7.8"
  }
 },
 "nbformat": 4,
 "nbformat_minor": 2
}
