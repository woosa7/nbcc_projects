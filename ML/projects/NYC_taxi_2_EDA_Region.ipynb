{
 "cells": [
  {
   "cell_type": "markdown",
   "metadata": {},
   "source": [
    "## NYC 뉴욕 택시 데이터 EDA2\n",
    "- 지역별로는 어떻게 봐야할까?\n",
    "    - 좌표는 달려있음\n",
    "        - Reverse Geocoding : 위도/경도 => 주소로 변환\n",
    "        - API를 날려야할까?\n",
    "        - BigQuery GIS엔 shp 파일을 Join해서 찾아내는 기능이 있음\n"
   ]
  },
  {
   "cell_type": "markdown",
   "metadata": {},
   "source": [
    "- Shp 파일\n",
    "    - `bigquery-public-data.geo_us_boundaries.zip_codes`에 저장됨\n",
    "    - pickup_longitude, pickup_latitude가 zip_code_geom에 속하면 그 지역\n",
    "- BigQuery GIS\n",
    "    - [공식 문서](https://cloud.google.com/bigquery/docs/gis-intro?hl=ko)\n",
    "    - [Geography functions](https://cloud.google.com/bigquery/docs/reference/standard-sql/geography_functions)"
   ]
  },
  {
   "cell_type": "code",
   "execution_count": 1,
   "metadata": {},
   "outputs": [
    {
     "name": "stdout",
     "output_type": "stream",
     "text": [
      "0.17.3\n"
     ]
    },
    {
     "data": {
      "text/html": [
       "        <script type=\"text/javascript\">\n",
       "        window.PlotlyConfig = {MathJaxConfig: 'local'};\n",
       "        if (window.MathJax) {MathJax.Hub.Config({SVG: {font: \"STIX-Web\"}});}\n",
       "        if (typeof require !== 'undefined') {\n",
       "        require.undef(\"plotly\");\n",
       "        requirejs.config({\n",
       "            paths: {\n",
       "                'plotly': ['https://cdn.plot.ly/plotly-latest.min']\n",
       "            }\n",
       "        });\n",
       "        require(['plotly'], function(Plotly) {\n",
       "            window._Plotly = Plotly;\n",
       "        });\n",
       "        }\n",
       "        </script>\n",
       "        "
      ]
     },
     "metadata": {},
     "output_type": "display_data"
    }
   ],
   "source": [
    "import plotly as py\n",
    "import cufflinks as cf\n",
    "import pandas as pd\n",
    "import numpy as np\n",
    "import seaborn as sns\n",
    "import matplotlib.pyplot as plt\n",
    "print(cf.__version__)\n",
    "cf.go_offline()\n",
    "%config InlineBackend.figure_format = 'retina'"
   ]
  },
  {
   "cell_type": "code",
   "execution_count": 2,
   "metadata": {},
   "outputs": [],
   "source": [
    "# BigQuery Proejct ID\n",
    "project_id='sage-inn-294405'"
   ]
  },
  {
   "cell_type": "code",
   "execution_count": 3,
   "metadata": {},
   "outputs": [
    {
     "name": "stdout",
     "output_type": "stream",
     "text": [
      "Wall time: 1min 26s\n"
     ]
    }
   ],
   "source": [
    "%%time\n",
    "\n",
    "# base_data : 2015년 1월\n",
    "# zip_codes : state_code='NY'\n",
    "\n",
    "query = \"\"\"\n",
    "WITH base_data AS (\n",
    "  SELECT *\n",
    "  FROM `bigquery-public-data.new_york_taxi_trips.tlc_yellow_trips_2015`\n",
    "  WHERE EXTRACT(MONTH from pickup_datetime) = 1\n",
    "), temp AS (\n",
    "  SELECT nyc_taxi.*, gis.* \n",
    "  FROM (\n",
    "    SELECT *\n",
    "    FROM base_data\n",
    "    WHERE pickup_latitude <= 90 and pickup_latitude >= -90\n",
    "    ) as nyc_taxi\n",
    "  JOIN (\n",
    "    SELECT zip_code, state_code, state_name, city, county, zip_code_geom\n",
    "    FROM `bigquery-public-data.geo_us_boundaries.zip_codes`\n",
    "    WHERE state_code='NY'\n",
    "    ) as gis \n",
    "  ON st_contains(zip_code_geom, st_geogpoint(pickup_longitude, pickup_latitude))\n",
    ")\n",
    "\n",
    "SELECT \n",
    "  zip_code, \n",
    "  city,\n",
    "  ST_ASTEXT(zip_code_geom) as zip_code_geom,\n",
    "  DATETIME_TRUNC(pickup_datetime, hour) as pickup_hour,\n",
    "  count(*) as cnt\n",
    "FROM temp\n",
    "GROUP BY zip_code, city, zip_code_geom, pickup_hour\n",
    "ORDER BY pickup_hour\n",
    "\"\"\"\n",
    "\n",
    "df = pd.read_gbq(query=query, dialect='standard', project_id=project_id)"
   ]
  },
  {
   "cell_type": "code",
   "execution_count": 4,
   "metadata": {},
   "outputs": [
    {
     "data": {
      "text/html": [
       "<div>\n",
       "<style scoped>\n",
       "    .dataframe tbody tr th:only-of-type {\n",
       "        vertical-align: middle;\n",
       "    }\n",
       "\n",
       "    .dataframe tbody tr th {\n",
       "        vertical-align: top;\n",
       "    }\n",
       "\n",
       "    .dataframe thead th {\n",
       "        text-align: right;\n",
       "    }\n",
       "</style>\n",
       "<table border=\"1\" class=\"dataframe\">\n",
       "  <thead>\n",
       "    <tr style=\"text-align: right;\">\n",
       "      <th></th>\n",
       "      <th>zip_code</th>\n",
       "      <th>city</th>\n",
       "      <th>zip_code_geom</th>\n",
       "      <th>pickup_hour</th>\n",
       "      <th>cnt</th>\n",
       "    </tr>\n",
       "  </thead>\n",
       "  <tbody>\n",
       "    <tr>\n",
       "      <th>0</th>\n",
       "      <td>11369</td>\n",
       "      <td>New York city</td>\n",
       "      <td>POLYGON((-73.887731 40.766915, -73.887675 40.7...</td>\n",
       "      <td>2015-01-01</td>\n",
       "      <td>14</td>\n",
       "    </tr>\n",
       "    <tr>\n",
       "      <th>1</th>\n",
       "      <td>11233</td>\n",
       "      <td>New York city</td>\n",
       "      <td>POLYGON((-73.938223 40.683894, -73.938077 40.6...</td>\n",
       "      <td>2015-01-01</td>\n",
       "      <td>8</td>\n",
       "    </tr>\n",
       "    <tr>\n",
       "      <th>2</th>\n",
       "      <td>10279</td>\n",
       "      <td>New York city</td>\n",
       "      <td>POLYGON((-74.009254 40.713256, -74.009668 40.7...</td>\n",
       "      <td>2015-01-01</td>\n",
       "      <td>3</td>\n",
       "    </tr>\n",
       "    <tr>\n",
       "      <th>3</th>\n",
       "      <td>11235</td>\n",
       "      <td>New York city</td>\n",
       "      <td>POLYGON((-73.970916 40.582612, -73.971134 40.5...</td>\n",
       "      <td>2015-01-01</td>\n",
       "      <td>1</td>\n",
       "    </tr>\n",
       "    <tr>\n",
       "      <th>4</th>\n",
       "      <td>11103</td>\n",
       "      <td>New York city</td>\n",
       "      <td>MULTIPOLYGON(((-73.904137 40.76752, -73.904187...</td>\n",
       "      <td>2015-01-01</td>\n",
       "      <td>45</td>\n",
       "    </tr>\n",
       "  </tbody>\n",
       "</table>\n",
       "</div>"
      ],
      "text/plain": [
       "  zip_code           city                                      zip_code_geom  \\\n",
       "0    11369  New York city  POLYGON((-73.887731 40.766915, -73.887675 40.7...   \n",
       "1    11233  New York city  POLYGON((-73.938223 40.683894, -73.938077 40.6...   \n",
       "2    10279  New York city  POLYGON((-74.009254 40.713256, -74.009668 40.7...   \n",
       "3    11235  New York city  POLYGON((-73.970916 40.582612, -73.971134 40.5...   \n",
       "4    11103  New York city  MULTIPOLYGON(((-73.904137 40.76752, -73.904187...   \n",
       "\n",
       "  pickup_hour  cnt  \n",
       "0  2015-01-01   14  \n",
       "1  2015-01-01    8  \n",
       "2  2015-01-01    3  \n",
       "3  2015-01-01    1  \n",
       "4  2015-01-01   45  "
      ]
     },
     "execution_count": 4,
     "metadata": {},
     "output_type": "execute_result"
    }
   ],
   "source": [
    "df.head()"
   ]
  },
  {
   "cell_type": "code",
   "execution_count": 5,
   "metadata": {},
   "outputs": [
    {
     "name": "stdout",
     "output_type": "stream",
     "text": [
      "<class 'pandas.core.frame.DataFrame'>\n",
      "RangeIndex: 87020 entries, 0 to 87019\n",
      "Data columns (total 5 columns):\n",
      " #   Column         Non-Null Count  Dtype         \n",
      "---  ------         --------------  -----         \n",
      " 0   zip_code       87020 non-null  object        \n",
      " 1   city           87020 non-null  object        \n",
      " 2   zip_code_geom  87020 non-null  object        \n",
      " 3   pickup_hour    87020 non-null  datetime64[ns]\n",
      " 4   cnt            87020 non-null  int64         \n",
      "dtypes: datetime64[ns](1), int64(1), object(3)\n",
      "memory usage: 3.3+ MB\n"
     ]
    }
   ],
   "source": [
    "df.info()"
   ]
  },
  {
   "cell_type": "markdown",
   "metadata": {},
   "source": [
    "### Trip이 많은 zip_code는?"
   ]
  },
  {
   "cell_type": "code",
   "execution_count": 6,
   "metadata": {},
   "outputs": [
    {
     "data": {
      "text/html": [
       "<div>\n",
       "<style scoped>\n",
       "    .dataframe tbody tr th:only-of-type {\n",
       "        vertical-align: middle;\n",
       "    }\n",
       "\n",
       "    .dataframe tbody tr th {\n",
       "        vertical-align: top;\n",
       "    }\n",
       "\n",
       "    .dataframe thead th {\n",
       "        text-align: right;\n",
       "    }\n",
       "</style>\n",
       "<table border=\"1\" class=\"dataframe\">\n",
       "  <thead>\n",
       "    <tr style=\"text-align: right;\">\n",
       "      <th></th>\n",
       "      <th>zip_code</th>\n",
       "      <th>zip_code_geom</th>\n",
       "      <th>cnt</th>\n",
       "    </tr>\n",
       "  </thead>\n",
       "  <tbody>\n",
       "    <tr>\n",
       "      <th>0</th>\n",
       "      <td>10001</td>\n",
       "      <td>POLYGON((-74.00828 40.750272, -74.008255 40.75...</td>\n",
       "      <td>627563</td>\n",
       "    </tr>\n",
       "    <tr>\n",
       "      <th>1</th>\n",
       "      <td>10002</td>\n",
       "      <td>POLYGON((-73.997504 40.714069, -73.9973 40.713...</td>\n",
       "      <td>234527</td>\n",
       "    </tr>\n",
       "    <tr>\n",
       "      <th>2</th>\n",
       "      <td>10003</td>\n",
       "      <td>POLYGON((-73.999366 40.731323, -73.999604 40.7...</td>\n",
       "      <td>704598</td>\n",
       "    </tr>\n",
       "    <tr>\n",
       "      <th>3</th>\n",
       "      <td>10004</td>\n",
       "      <td>MULTIPOLYGON(((-74.018008 40.705935, -74.01801...</td>\n",
       "      <td>59700</td>\n",
       "    </tr>\n",
       "    <tr>\n",
       "      <th>4</th>\n",
       "      <td>10005</td>\n",
       "      <td>POLYGON((-74.012508 40.706767, -74.0124 40.706...</td>\n",
       "      <td>52454</td>\n",
       "    </tr>\n",
       "    <tr>\n",
       "      <th>5</th>\n",
       "      <td>10006</td>\n",
       "      <td>POLYGON((-74.015834 40.706984, -74.015956 40.7...</td>\n",
       "      <td>35708</td>\n",
       "    </tr>\n",
       "    <tr>\n",
       "      <th>6</th>\n",
       "      <td>10007</td>\n",
       "      <td>POLYGON((-74.013382 40.714408, -74.0137 40.713...</td>\n",
       "      <td>87112</td>\n",
       "    </tr>\n",
       "    <tr>\n",
       "      <th>7</th>\n",
       "      <td>10009</td>\n",
       "      <td>POLYGON((-73.988451 40.723277, -73.988643 40.7...</td>\n",
       "      <td>252903</td>\n",
       "    </tr>\n",
       "    <tr>\n",
       "      <th>8</th>\n",
       "      <td>10010</td>\n",
       "      <td>POLYGON((-73.993739 40.741617, -73.994028 40.7...</td>\n",
       "      <td>387908</td>\n",
       "    </tr>\n",
       "    <tr>\n",
       "      <th>9</th>\n",
       "      <td>10011</td>\n",
       "      <td>POLYGON((-74.012285 40.74387, -74.012359 40.74...</td>\n",
       "      <td>647831</td>\n",
       "    </tr>\n",
       "  </tbody>\n",
       "</table>\n",
       "</div>"
      ],
      "text/plain": [
       "  zip_code                                      zip_code_geom     cnt\n",
       "0    10001  POLYGON((-74.00828 40.750272, -74.008255 40.75...  627563\n",
       "1    10002  POLYGON((-73.997504 40.714069, -73.9973 40.713...  234527\n",
       "2    10003  POLYGON((-73.999366 40.731323, -73.999604 40.7...  704598\n",
       "3    10004  MULTIPOLYGON(((-74.018008 40.705935, -74.01801...   59700\n",
       "4    10005  POLYGON((-74.012508 40.706767, -74.0124 40.706...   52454\n",
       "5    10006  POLYGON((-74.015834 40.706984, -74.015956 40.7...   35708\n",
       "6    10007  POLYGON((-74.013382 40.714408, -74.0137 40.713...   87112\n",
       "7    10009  POLYGON((-73.988451 40.723277, -73.988643 40.7...  252903\n",
       "8    10010  POLYGON((-73.993739 40.741617, -73.994028 40.7...  387908\n",
       "9    10011  POLYGON((-74.012285 40.74387, -74.012359 40.74...  647831"
      ]
     },
     "execution_count": 6,
     "metadata": {},
     "output_type": "execute_result"
    }
   ],
   "source": [
    "zip_code_agg_df = df.groupby(['zip_code', 'zip_code_geom'])[['cnt']].sum().reset_index()  # reset_index : 인덱스 제거\n",
    "zip_code_agg_df.head(10)"
   ]
  },
  {
   "cell_type": "code",
   "execution_count": 7,
   "metadata": {},
   "outputs": [
    {
     "data": {
      "text/html": [
       "<div>\n",
       "<style scoped>\n",
       "    .dataframe tbody tr th:only-of-type {\n",
       "        vertical-align: middle;\n",
       "    }\n",
       "\n",
       "    .dataframe tbody tr th {\n",
       "        vertical-align: top;\n",
       "    }\n",
       "\n",
       "    .dataframe thead th {\n",
       "        text-align: right;\n",
       "    }\n",
       "</style>\n",
       "<table border=\"1\" class=\"dataframe\">\n",
       "  <thead>\n",
       "    <tr style=\"text-align: right;\">\n",
       "      <th></th>\n",
       "      <th>zip_code</th>\n",
       "      <th>zip_code_geom</th>\n",
       "      <th>cnt</th>\n",
       "      <th>percent</th>\n",
       "    </tr>\n",
       "  </thead>\n",
       "  <tbody>\n",
       "    <tr>\n",
       "      <th>0</th>\n",
       "      <td>10001</td>\n",
       "      <td>POLYGON((-74.00828 40.750272, -74.008255 40.75...</td>\n",
       "      <td>627563</td>\n",
       "      <td>5.093</td>\n",
       "    </tr>\n",
       "    <tr>\n",
       "      <th>1</th>\n",
       "      <td>10002</td>\n",
       "      <td>POLYGON((-73.997504 40.714069, -73.9973 40.713...</td>\n",
       "      <td>234527</td>\n",
       "      <td>1.903</td>\n",
       "    </tr>\n",
       "    <tr>\n",
       "      <th>2</th>\n",
       "      <td>10003</td>\n",
       "      <td>POLYGON((-73.999366 40.731323, -73.999604 40.7...</td>\n",
       "      <td>704598</td>\n",
       "      <td>5.718</td>\n",
       "    </tr>\n",
       "    <tr>\n",
       "      <th>3</th>\n",
       "      <td>10004</td>\n",
       "      <td>MULTIPOLYGON(((-74.018008 40.705935, -74.01801...</td>\n",
       "      <td>59700</td>\n",
       "      <td>0.484</td>\n",
       "    </tr>\n",
       "    <tr>\n",
       "      <th>4</th>\n",
       "      <td>10005</td>\n",
       "      <td>POLYGON((-74.012508 40.706767, -74.0124 40.706...</td>\n",
       "      <td>52454</td>\n",
       "      <td>0.426</td>\n",
       "    </tr>\n",
       "    <tr>\n",
       "      <th>5</th>\n",
       "      <td>10006</td>\n",
       "      <td>POLYGON((-74.015834 40.706984, -74.015956 40.7...</td>\n",
       "      <td>35708</td>\n",
       "      <td>0.290</td>\n",
       "    </tr>\n",
       "    <tr>\n",
       "      <th>6</th>\n",
       "      <td>10007</td>\n",
       "      <td>POLYGON((-74.013382 40.714408, -74.0137 40.713...</td>\n",
       "      <td>87112</td>\n",
       "      <td>0.707</td>\n",
       "    </tr>\n",
       "    <tr>\n",
       "      <th>7</th>\n",
       "      <td>10009</td>\n",
       "      <td>POLYGON((-73.988451 40.723277, -73.988643 40.7...</td>\n",
       "      <td>252903</td>\n",
       "      <td>2.052</td>\n",
       "    </tr>\n",
       "    <tr>\n",
       "      <th>8</th>\n",
       "      <td>10010</td>\n",
       "      <td>POLYGON((-73.993739 40.741617, -73.994028 40.7...</td>\n",
       "      <td>387908</td>\n",
       "      <td>3.148</td>\n",
       "    </tr>\n",
       "    <tr>\n",
       "      <th>9</th>\n",
       "      <td>10011</td>\n",
       "      <td>POLYGON((-74.012285 40.74387, -74.012359 40.74...</td>\n",
       "      <td>647831</td>\n",
       "      <td>5.257</td>\n",
       "    </tr>\n",
       "  </tbody>\n",
       "</table>\n",
       "</div>"
      ],
      "text/plain": [
       "  zip_code                                      zip_code_geom     cnt  percent\n",
       "0    10001  POLYGON((-74.00828 40.750272, -74.008255 40.75...  627563    5.093\n",
       "1    10002  POLYGON((-73.997504 40.714069, -73.9973 40.713...  234527    1.903\n",
       "2    10003  POLYGON((-73.999366 40.731323, -73.999604 40.7...  704598    5.718\n",
       "3    10004  MULTIPOLYGON(((-74.018008 40.705935, -74.01801...   59700    0.484\n",
       "4    10005  POLYGON((-74.012508 40.706767, -74.0124 40.706...   52454    0.426\n",
       "5    10006  POLYGON((-74.015834 40.706984, -74.015956 40.7...   35708    0.290\n",
       "6    10007  POLYGON((-74.013382 40.714408, -74.0137 40.713...   87112    0.707\n",
       "7    10009  POLYGON((-73.988451 40.723277, -73.988643 40.7...  252903    2.052\n",
       "8    10010  POLYGON((-73.993739 40.741617, -73.994028 40.7...  387908    3.148\n",
       "9    10011  POLYGON((-74.012285 40.74387, -74.012359 40.74...  647831    5.257"
      ]
     },
     "execution_count": 7,
     "metadata": {},
     "output_type": "execute_result"
    }
   ],
   "source": [
    "zip_code_agg_df['percent'] = (zip_code_agg_df[['cnt']]/df[['cnt']].sum()*100).round(3).rename(columns={'cnt':'percent'}).reset_index()['percent']\n",
    "zip_code_agg_df.head(10)"
   ]
  },
  {
   "cell_type": "code",
   "execution_count": 8,
   "metadata": {},
   "outputs": [
    {
     "data": {
      "text/html": [
       "<div>\n",
       "<style scoped>\n",
       "    .dataframe tbody tr th:only-of-type {\n",
       "        vertical-align: middle;\n",
       "    }\n",
       "\n",
       "    .dataframe tbody tr th {\n",
       "        vertical-align: top;\n",
       "    }\n",
       "\n",
       "    .dataframe thead th {\n",
       "        text-align: right;\n",
       "    }\n",
       "</style>\n",
       "<table border=\"1\" class=\"dataframe\">\n",
       "  <thead>\n",
       "    <tr style=\"text-align: right;\">\n",
       "      <th></th>\n",
       "      <th>zip_code</th>\n",
       "      <th>zip_code_geom</th>\n",
       "      <th>cnt</th>\n",
       "      <th>percent</th>\n",
       "    </tr>\n",
       "  </thead>\n",
       "  <tbody>\n",
       "    <tr>\n",
       "      <th>369</th>\n",
       "      <td>13656</td>\n",
       "      <td>POLYGON((-76.067267 44.140696, -76.067236 44.1...</td>\n",
       "      <td>1</td>\n",
       "      <td>0.0</td>\n",
       "    </tr>\n",
       "    <tr>\n",
       "      <th>370</th>\n",
       "      <td>13691</td>\n",
       "      <td>POLYGON((-75.88536 44.23349, -75.88501 44.2310...</td>\n",
       "      <td>1</td>\n",
       "      <td>0.0</td>\n",
       "    </tr>\n",
       "    <tr>\n",
       "      <th>371</th>\n",
       "      <td>14072</td>\n",
       "      <td>MULTIPOLYGON(((-78.935536 42.965442, -78.93553...</td>\n",
       "      <td>1</td>\n",
       "      <td>0.0</td>\n",
       "    </tr>\n",
       "    <tr>\n",
       "      <th>372</th>\n",
       "      <td>14527</td>\n",
       "      <td>MULTIPOLYGON(((-77.121905 42.624718, -77.12188...</td>\n",
       "      <td>1</td>\n",
       "      <td>0.0</td>\n",
       "    </tr>\n",
       "    <tr>\n",
       "      <th>373</th>\n",
       "      <td>14801</td>\n",
       "      <td>POLYGON((-77.442016 42.140918, -77.44193 42.14...</td>\n",
       "      <td>1</td>\n",
       "      <td>0.0</td>\n",
       "    </tr>\n",
       "  </tbody>\n",
       "</table>\n",
       "</div>"
      ],
      "text/plain": [
       "    zip_code                                      zip_code_geom  cnt  percent\n",
       "369    13656  POLYGON((-76.067267 44.140696, -76.067236 44.1...    1      0.0\n",
       "370    13691  POLYGON((-75.88536 44.23349, -75.88501 44.2310...    1      0.0\n",
       "371    14072  MULTIPOLYGON(((-78.935536 42.965442, -78.93553...    1      0.0\n",
       "372    14527  MULTIPOLYGON(((-77.121905 42.624718, -77.12188...    1      0.0\n",
       "373    14801  POLYGON((-77.442016 42.140918, -77.44193 42.14...    1      0.0"
      ]
     },
     "execution_count": 8,
     "metadata": {},
     "output_type": "execute_result"
    }
   ],
   "source": [
    "zip_code_agg_df.tail()"
   ]
  },
  {
   "cell_type": "code",
   "execution_count": 9,
   "metadata": {},
   "outputs": [
    {
     "data": {
      "text/plain": [
       "12322300"
      ]
     },
     "execution_count": 9,
     "metadata": {},
     "output_type": "execute_result"
    }
   ],
   "source": [
    "zip_code_agg_df['cnt'].sum()"
   ]
  },
  {
   "cell_type": "code",
   "execution_count": 10,
   "metadata": {},
   "outputs": [
    {
     "data": {
      "text/plain": [
       "12292893"
      ]
     },
     "execution_count": 10,
     "metadata": {},
     "output_type": "execute_result"
    }
   ],
   "source": [
    "# 0 % 인 데이터 제거\n",
    "filter_agg_df = zip_code_agg_df[zip_code_agg_df['percent'] > 0.01]\n",
    "filter_agg_df['cnt'].sum()"
   ]
  },
  {
   "cell_type": "code",
   "execution_count": 11,
   "metadata": {},
   "outputs": [],
   "source": [
    "filter_zip_code = filter_agg_df['zip_code'].to_list()"
   ]
  },
  {
   "cell_type": "code",
   "execution_count": 12,
   "metadata": {},
   "outputs": [
    {
     "data": {
      "text/html": [
       "<div>\n",
       "<style scoped>\n",
       "    .dataframe tbody tr th:only-of-type {\n",
       "        vertical-align: middle;\n",
       "    }\n",
       "\n",
       "    .dataframe tbody tr th {\n",
       "        vertical-align: top;\n",
       "    }\n",
       "\n",
       "    .dataframe thead th {\n",
       "        text-align: right;\n",
       "    }\n",
       "</style>\n",
       "<table border=\"1\" class=\"dataframe\">\n",
       "  <thead>\n",
       "    <tr style=\"text-align: right;\">\n",
       "      <th></th>\n",
       "      <th>zip_code</th>\n",
       "      <th>zip_code_geom</th>\n",
       "      <th>cnt</th>\n",
       "      <th>percent</th>\n",
       "    </tr>\n",
       "  </thead>\n",
       "  <tbody>\n",
       "    <tr>\n",
       "      <th>16</th>\n",
       "      <td>10019</td>\n",
       "      <td>POLYGON((-74.003568 40.763799, -74.003767 40.7...</td>\n",
       "      <td>817267</td>\n",
       "      <td>6.632</td>\n",
       "    </tr>\n",
       "    <tr>\n",
       "      <th>2</th>\n",
       "      <td>10003</td>\n",
       "      <td>POLYGON((-73.999366 40.731323, -73.999604 40.7...</td>\n",
       "      <td>704598</td>\n",
       "      <td>5.718</td>\n",
       "    </tr>\n",
       "    <tr>\n",
       "      <th>19</th>\n",
       "      <td>10022</td>\n",
       "      <td>POLYGON((-73.977201 40.758538, -73.977655 40.7...</td>\n",
       "      <td>679831</td>\n",
       "      <td>5.517</td>\n",
       "    </tr>\n",
       "    <tr>\n",
       "      <th>13</th>\n",
       "      <td>10016</td>\n",
       "      <td>POLYGON((-73.987298 40.744682, -73.987746 40.7...</td>\n",
       "      <td>663540</td>\n",
       "      <td>5.385</td>\n",
       "    </tr>\n",
       "    <tr>\n",
       "      <th>9</th>\n",
       "      <td>10011</td>\n",
       "      <td>POLYGON((-74.012285 40.74387, -74.012359 40.74...</td>\n",
       "      <td>647831</td>\n",
       "      <td>5.257</td>\n",
       "    </tr>\n",
       "    <tr>\n",
       "      <th>...</th>\n",
       "      <td>...</td>\n",
       "      <td>...</td>\n",
       "      <td>...</td>\n",
       "      <td>...</td>\n",
       "    </tr>\n",
       "    <tr>\n",
       "      <th>207</th>\n",
       "      <td>11218</td>\n",
       "      <td>POLYGON((-73.991929 40.642205, -73.991734 40.6...</td>\n",
       "      <td>1944</td>\n",
       "      <td>0.016</td>\n",
       "    </tr>\n",
       "    <tr>\n",
       "      <th>248</th>\n",
       "      <td>11374</td>\n",
       "      <td>POLYGON((-73.873907 40.728434, -73.873589 40.7...</td>\n",
       "      <td>1787</td>\n",
       "      <td>0.015</td>\n",
       "    </tr>\n",
       "    <tr>\n",
       "      <th>215</th>\n",
       "      <td>11226</td>\n",
       "      <td>POLYGON((-73.967546 40.647683, -73.967319 40.6...</td>\n",
       "      <td>1508</td>\n",
       "      <td>0.012</td>\n",
       "    </tr>\n",
       "    <tr>\n",
       "      <th>31</th>\n",
       "      <td>10034</td>\n",
       "      <td>POLYGON((-73.946859 40.850583, -73.947005 40.8...</td>\n",
       "      <td>1420</td>\n",
       "      <td>0.012</td>\n",
       "    </tr>\n",
       "    <tr>\n",
       "      <th>278</th>\n",
       "      <td>11436</td>\n",
       "      <td>POLYGON((-73.805697 40.682951, -73.805891 40.6...</td>\n",
       "      <td>1352</td>\n",
       "      <td>0.011</td>\n",
       "    </tr>\n",
       "  </tbody>\n",
       "</table>\n",
       "<p>99 rows × 4 columns</p>\n",
       "</div>"
      ],
      "text/plain": [
       "    zip_code                                      zip_code_geom     cnt  \\\n",
       "16     10019  POLYGON((-74.003568 40.763799, -74.003767 40.7...  817267   \n",
       "2      10003  POLYGON((-73.999366 40.731323, -73.999604 40.7...  704598   \n",
       "19     10022  POLYGON((-73.977201 40.758538, -73.977655 40.7...  679831   \n",
       "13     10016  POLYGON((-73.987298 40.744682, -73.987746 40.7...  663540   \n",
       "9      10011  POLYGON((-74.012285 40.74387, -74.012359 40.74...  647831   \n",
       "..       ...                                                ...     ...   \n",
       "207    11218  POLYGON((-73.991929 40.642205, -73.991734 40.6...    1944   \n",
       "248    11374  POLYGON((-73.873907 40.728434, -73.873589 40.7...    1787   \n",
       "215    11226  POLYGON((-73.967546 40.647683, -73.967319 40.6...    1508   \n",
       "31     10034  POLYGON((-73.946859 40.850583, -73.947005 40.8...    1420   \n",
       "278    11436  POLYGON((-73.805697 40.682951, -73.805891 40.6...    1352   \n",
       "\n",
       "     percent  \n",
       "16     6.632  \n",
       "2      5.718  \n",
       "19     5.517  \n",
       "13     5.385  \n",
       "9      5.257  \n",
       "..       ...  \n",
       "207    0.016  \n",
       "248    0.015  \n",
       "215    0.012  \n",
       "31     0.012  \n",
       "278    0.011  \n",
       "\n",
       "[99 rows x 4 columns]"
      ]
     },
     "execution_count": 12,
     "metadata": {},
     "output_type": "execute_result"
    }
   ],
   "source": [
    "filter_agg_df.sort_values(by='cnt', ascending=False)"
   ]
  },
  {
   "cell_type": "code",
   "execution_count": 13,
   "metadata": {},
   "outputs": [
    {
     "data": {
      "text/plain": [
       "99.98100000000001"
      ]
     },
     "execution_count": 13,
     "metadata": {},
     "output_type": "execute_result"
    }
   ],
   "source": [
    "zip_code_agg_df['percent'].sum()"
   ]
  },
  {
   "cell_type": "code",
   "execution_count": 14,
   "metadata": {},
   "outputs": [],
   "source": [
    "# Kepler.gl 에서 사용하기 위해 데이터 저장\n",
    "filter_agg_df.to_csv(\"./data/zip_code_ratio.csv\", index=False)"
   ]
  },
  {
   "cell_type": "markdown",
   "metadata": {},
   "source": [
    "### Kepler.gl에서 시각화\n",
    "- [Kepler.gl](https://kepler.gl/demo)\n",
    "- <img src=\"https://www.dropbox.com/s/v18lb654qhrqx9l/Screenshot%202019-10-12%2016.01.45.png?raw=1\">"
   ]
  },
  {
   "cell_type": "markdown",
   "metadata": {},
   "source": [
    "- 좌측의 Fill Color 옆에 있는 점 3개 클릭\n",
    "    - Select a field에 percent 클릭\n",
    "<img src=\"https://www.dropbox.com/s/g0iautf1tb55y89/Screenshot%202019-10-12%2016.03.24.png?raw=1\">"
   ]
  },
  {
   "cell_type": "code",
   "execution_count": 15,
   "metadata": {},
   "outputs": [],
   "source": [
    "# 특정 지역의 날짜별 동향\n",
    "zip_df = df[['zip_code', 'zip_code_geom', 'pickup_hour', 'cnt']]\n",
    "zip_df['date'] = zip_df['pickup_hour'].dt.date"
   ]
  },
  {
   "cell_type": "code",
   "execution_count": 16,
   "metadata": {},
   "outputs": [
    {
     "data": {
      "image/png": "[encoded data removed]",
      "text/plain": [
       "<Figure size 432x288 with 1 Axes>"
      ]
     },
     "metadata": {
      "image/png": {
       "height": 295,
       "width": 381
      },
      "needs_background": "light"
     },
     "output_type": "display_data"
    }
   ],
   "source": [
    "zip_df[zip_df['zip_code'] == '10019'].set_index('pickup_hour')['cnt'].plot();"
   ]
  },
  {
   "cell_type": "markdown",
   "metadata": {},
   "source": [
    "### zip_code별 하루 단위 Trip - Box Plot"
   ]
  },
  {
   "cell_type": "code",
   "execution_count": 17,
   "metadata": {},
   "outputs": [
    {
     "data": {
      "text/html": [
       "<div>\n",
       "<style scoped>\n",
       "    .dataframe tbody tr th:only-of-type {\n",
       "        vertical-align: middle;\n",
       "    }\n",
       "\n",
       "    .dataframe tbody tr th {\n",
       "        vertical-align: top;\n",
       "    }\n",
       "\n",
       "    .dataframe thead th {\n",
       "        text-align: right;\n",
       "    }\n",
       "</style>\n",
       "<table border=\"1\" class=\"dataframe\">\n",
       "  <thead>\n",
       "    <tr style=\"text-align: right;\">\n",
       "      <th></th>\n",
       "      <th>zip_code</th>\n",
       "      <th>zip_code_geom</th>\n",
       "      <th>pickup_hour</th>\n",
       "      <th>cnt</th>\n",
       "      <th>date</th>\n",
       "    </tr>\n",
       "  </thead>\n",
       "  <tbody>\n",
       "    <tr>\n",
       "      <th>0</th>\n",
       "      <td>11369</td>\n",
       "      <td>POLYGON((-73.887731 40.766915, -73.887675 40.7...</td>\n",
       "      <td>2015-01-01</td>\n",
       "      <td>14</td>\n",
       "      <td>2015-01-01</td>\n",
       "    </tr>\n",
       "    <tr>\n",
       "      <th>2</th>\n",
       "      <td>10279</td>\n",
       "      <td>POLYGON((-74.009254 40.713256, -74.009668 40.7...</td>\n",
       "      <td>2015-01-01</td>\n",
       "      <td>3</td>\n",
       "      <td>2015-01-01</td>\n",
       "    </tr>\n",
       "    <tr>\n",
       "      <th>4</th>\n",
       "      <td>11103</td>\n",
       "      <td>MULTIPOLYGON(((-73.904137 40.76752, -73.904187...</td>\n",
       "      <td>2015-01-01</td>\n",
       "      <td>45</td>\n",
       "      <td>2015-01-01</td>\n",
       "    </tr>\n",
       "    <tr>\n",
       "      <th>5</th>\n",
       "      <td>11374</td>\n",
       "      <td>POLYGON((-73.873907 40.728434, -73.873589 40.7...</td>\n",
       "      <td>2015-01-01</td>\n",
       "      <td>5</td>\n",
       "      <td>2015-01-01</td>\n",
       "    </tr>\n",
       "    <tr>\n",
       "      <th>8</th>\n",
       "      <td>10002</td>\n",
       "      <td>POLYGON((-73.997504 40.714069, -73.9973 40.713...</td>\n",
       "      <td>2015-01-01</td>\n",
       "      <td>838</td>\n",
       "      <td>2015-01-01</td>\n",
       "    </tr>\n",
       "  </tbody>\n",
       "</table>\n",
       "</div>"
      ],
      "text/plain": [
       "  zip_code                                      zip_code_geom pickup_hour  \\\n",
       "0    11369  POLYGON((-73.887731 40.766915, -73.887675 40.7...  2015-01-01   \n",
       "2    10279  POLYGON((-74.009254 40.713256, -74.009668 40.7...  2015-01-01   \n",
       "4    11103  MULTIPOLYGON(((-73.904137 40.76752, -73.904187...  2015-01-01   \n",
       "5    11374  POLYGON((-73.873907 40.728434, -73.873589 40.7...  2015-01-01   \n",
       "8    10002  POLYGON((-73.997504 40.714069, -73.9973 40.713...  2015-01-01   \n",
       "\n",
       "   cnt        date  \n",
       "0   14  2015-01-01  \n",
       "2    3  2015-01-01  \n",
       "4   45  2015-01-01  \n",
       "5    5  2015-01-01  \n",
       "8  838  2015-01-01  "
      ]
     },
     "execution_count": 17,
     "metadata": {},
     "output_type": "execute_result"
    }
   ],
   "source": [
    "filter_zip_df = zip_df[zip_df['zip_code'].isin(filter_zip_code)]\n",
    "filter_zip_df.head()"
   ]
  },
  {
   "cell_type": "code",
   "execution_count": 18,
   "metadata": {},
   "outputs": [
    {
     "data": {
      "text/plain": [
       "99"
      ]
     },
     "execution_count": 18,
     "metadata": {},
     "output_type": "execute_result"
    }
   ],
   "source": [
    "len(filter_zip_code)"
   ]
  },
  {
   "cell_type": "code",
   "execution_count": 19,
   "metadata": {},
   "outputs": [
    {
     "data": {
      "text/html": [
       "<div>\n",
       "<style scoped>\n",
       "    .dataframe tbody tr th:only-of-type {\n",
       "        vertical-align: middle;\n",
       "    }\n",
       "\n",
       "    .dataframe tbody tr th {\n",
       "        vertical-align: top;\n",
       "    }\n",
       "\n",
       "    .dataframe thead th {\n",
       "        text-align: right;\n",
       "    }\n",
       "</style>\n",
       "<table border=\"1\" class=\"dataframe\">\n",
       "  <thead>\n",
       "    <tr style=\"text-align: right;\">\n",
       "      <th></th>\n",
       "      <th>zip_code</th>\n",
       "      <th>date</th>\n",
       "      <th>cnt</th>\n",
       "    </tr>\n",
       "  </thead>\n",
       "  <tbody>\n",
       "    <tr>\n",
       "      <th>0</th>\n",
       "      <td>10001</td>\n",
       "      <td>2015-01-01</td>\n",
       "      <td>16770</td>\n",
       "    </tr>\n",
       "    <tr>\n",
       "      <th>1</th>\n",
       "      <td>10001</td>\n",
       "      <td>2015-01-02</td>\n",
       "      <td>17046</td>\n",
       "    </tr>\n",
       "    <tr>\n",
       "      <th>2</th>\n",
       "      <td>10001</td>\n",
       "      <td>2015-01-03</td>\n",
       "      <td>20478</td>\n",
       "    </tr>\n",
       "    <tr>\n",
       "      <th>3</th>\n",
       "      <td>10001</td>\n",
       "      <td>2015-01-04</td>\n",
       "      <td>16743</td>\n",
       "    </tr>\n",
       "    <tr>\n",
       "      <th>4</th>\n",
       "      <td>10001</td>\n",
       "      <td>2015-01-05</td>\n",
       "      <td>17441</td>\n",
       "    </tr>\n",
       "  </tbody>\n",
       "</table>\n",
       "</div>"
      ],
      "text/plain": [
       "  zip_code        date    cnt\n",
       "0    10001  2015-01-01  16770\n",
       "1    10001  2015-01-02  17046\n",
       "2    10001  2015-01-03  20478\n",
       "3    10001  2015-01-04  16743\n",
       "4    10001  2015-01-05  17441"
      ]
     },
     "execution_count": 19,
     "metadata": {},
     "output_type": "execute_result"
    }
   ],
   "source": [
    "# 지역별 & 날짜별 trip 수\n",
    "filter_zip_daily_df = filter_zip_df.groupby(['zip_code','date'])[['cnt']].sum().reset_index()\n",
    "filter_zip_daily_df.head()"
   ]
  },
  {
   "cell_type": "code",
   "execution_count": 20,
   "metadata": {},
   "outputs": [
    {
     "data": {
      "application/vnd.plotly.v1+json": {
       "config": {
        "linkText": "Export to plot.ly",
        "plotlyServerURL": "https://plot.ly",
        "showLink": true
       },
       "data": [
        {
         "boxpoints": false,
         "line": {
          "width": 1.3
         },
         "marker": {
          "color": "rgba(255, 153, 51, 1.0)"
         },
         "name": "10001",
         "orientation": "v",
         "type": "box",
         "y": [
          16770,
          17046,
          20478,
          16743,
          17441,
          18544,
          20846,
          22799,
          21773,
          25343,
          20844,
          21735,
          23843,
          21389,
          21626,
          22900,
          22495,
          21921,
          18347,
          20405,
          21170,
          22038,
          23654,
          23572,
          20230,
          10789,
          5054,
          18005,
          20982,
          23742,
          25039
         ]
        },
        {
         "boxpoints": false,
         "line": {
          "width": 1.3
         },
         "marker": {
          "color": "rgba(55, 128, 191, 1.0)"
         },
         "name": "10002",
         "orientation": "v",
         "type": "box",
         "y": [
          9703,
          5538,
          10507,
          9067,
          3769,
          4086,
          4990,
          5483,
          7195,
          13939,
          12908,
          4165,
          5106,
          5547,
          6066,
          8153,
          13690,
          13512,
          5571,
          4868,
          5154,
          5808,
          7576,
          12143,
          13423,
          2376,
          1741,
          4009,
          5657,
          7996,
          14781
         ]
        },
        {
         "boxpoints": false,
         "line": {
          "width": 1.3
         },
         "marker": {
          "color": "rgba(50, 171, 96, 1.0)"
         },
         "name": "10003",
         "orientation": "v",
         "type": "box",
         "y": [
          21226,
          18452,
          26384,
          19516,
          16264,
          17745,
          21063,
          22227,
          23696,
          34699,
          26613,
          17697,
          21668,
          21632,
          22407,
          26318,
          33397,
          30089,
          17418,
          19317,
          20787,
          22730,
          25329,
          30319,
          26257,
          10553,
          7403,
          18480,
          21956,
          26214,
          36742
         ]
        },
        {
         "boxpoints": false,
         "line": {
          "width": 1.3
         },
         "marker": {
          "color": "rgba(128, 0, 128, 1.0)"
         },
         "name": "10004",
         "orientation": "v",
         "type": "box",
         "y": [
          2137,
          1972,
          1560,
          1182,
          1921,
          1798,
          2277,
          2470,
          2299,
          1799,
          1349,
          1936,
          2511,
          2541,
          2701,
          2520,
          1846,
          1220,
          1264,
          2128,
          2327,
          2556,
          2509,
          1553,
          1511,
          917,
          461,
          1912,
          2323,
          2428,
          1772
         ]
        },
        {
         "boxpoints": false,
         "line": {
          "width": 1.3
         },
         "marker": {
          "color": "rgba(219, 64, 82, 1.0)"
         },
         "name": "10005",
         "orientation": "v",
         "type": "box",
         "y": [
          1485,
          1234,
          1290,
          964,
          1475,
          1735,
          1939,
          2032,
          2087,
          1757,
          1294,
          1781,
          2030,
          2085,
          2123,
          2137,
          1643,
          1223,
          1246,
          1898,
          2146,
          2141,
          2259,
          1711,
          1384,
          935,
          508,
          1742,
          2092,
          2191,
          1887
         ]
        },
        {
         "boxpoints": false,
         "line": {
          "width": 1.3
         },
         "marker": {
          "color": "rgba(0, 128, 128, 1.0)"
         },
         "name": "10006",
         "orientation": "v",
         "type": "box",
         "y": [
          1656,
          1405,
          1575,
          993,
          956,
          938,
          1158,
          1199,
          1069,
          1502,
          1040,
          1162,
          1243,
          1143,
          1206,
          1280,
          1600,
          1071,
          990,
          1058,
          1101,
          1252,
          1238,
          1218,
          1191,
          469,
          369,
          904,
          1109,
          1204,
          1409
         ]
        },
        {
         "boxpoints": false,
         "line": {
          "width": 1.3
         },
         "marker": {
          "color": "rgba(255, 255, 51, 1.0)"
         },
         "name": "10007",
         "orientation": "v",
         "type": "box",
         "y": [
          2868,
          2437,
          2358,
          1844,
          2438,
          2502,
          3056,
          3293,
          3234,
          3392,
          2644,
          2747,
          3323,
          3226,
          3417,
          3550,
          2873,
          2372,
          1924,
          2853,
          3047,
          3378,
          3627,
          2789,
          2532,
          1502,
          863,
          2691,
          3215,
          3724,
          3393
         ]
        },
        {
         "boxpoints": false,
         "line": {
          "width": 1.3
         },
         "marker": {
          "color": "rgba(128, 128, 0, 1.0)"
         },
         "name": "10009",
         "orientation": "v",
         "type": "box",
         "y": [
          10049,
          7158,
          10918,
          8098,
          5213,
          5373,
          6488,
          6481,
          7949,
          14088,
          10932,
          4935,
          5973,
          6312,
          6722,
          8840,
          13734,
          12763,
          6671,
          5699,
          5933,
          6738,
          8555,
          12842,
          11739,
          3778,
          2489,
          5380,
          6399,
          9071,
          15583
         ]
        },
        {
         "boxpoints": false,
         "line": {
          "width": 1.3
         },
         "marker": {
          "color": "rgba(251, 128, 114, 1.0)"
         },
         "name": "10010",
         "orientation": "v",
         "type": "box",
         "y": [
          10306,
          9334,
          11338,
          8738,
          10431,
          11680,
          13315,
          14207,
          14140,
          15717,
          12653,
          12183,
          13944,
          13982,
          14378,
          14957,
          14114,
          12763,
          9540,
          12859,
          13652,
          14480,
          15032,
          14044,
          11483,
          6914,
          4127,
          12162,
          13891,
          15515,
          16029
         ]
        },
        {
         "boxpoints": false,
         "line": {
          "width": 1.3
         },
         "marker": {
          "color": "rgba(128, 177, 211, 1.0)"
         },
         "name": "10011",
         "orientation": "v",
         "type": "box",
         "y": [
          15644,
          16040,
          20606,
          15877,
          16002,
          17649,
          20367,
          21880,
          22150,
          29604,
          22848,
          17914,
          21453,
          21873,
          22522,
          24958,
          29201,
          23831,
          17287,
          18918,
          21284,
          22866,
          24590,
          26209,
          22821,
          10582,
          6341,
          18399,
          21221,
          25201,
          31693
         ]
        },
        {
         "boxpoints": false,
         "line": {
          "width": 1.3
         },
         "marker": {
          "color": "rgba(128, 177, 211, 0.9191919191919191)"
         },
         "name": "10012",
         "orientation": "v",
         "type": "box",
         "y": [
          9693,
          10435,
          13945,
          10729,
          8401,
          8812,
          10528,
          11012,
          12306,
          18997,
          14307,
          8941,
          11179,
          11331,
          11820,
          13539,
          17385,
          14341,
          9852,
          9765,
          10726,
          11792,
          13150,
          16171,
          14469,
          4431,
          3729,
          9191,
          11037,
          13872,
          18318
         ]
        },
        {
         "boxpoints": false,
         "line": {
          "width": 1.3
         },
         "marker": {
          "color": "rgba(255, 153, 51, 0.9191919191919191)"
         },
         "name": "10013",
         "orientation": "v",
         "type": "box",
         "y": [
          8744,
          7670,
          8514,
          6459,
          7797,
          8279,
          9465,
          10291,
          11037,
          12164,
          10394,
          9234,
          10201,
          10562,
          11149,
          11645,
          11603,
          9862,
          6856,
          9616,
          10572,
          11159,
          11280,
          11433,
          10238,
          4499,
          2879,
          8389,
          10657,
          12160,
          12669
         ]
        },
        {
         "boxpoints": false,
         "line": {
          "width": 1.3
         },
         "marker": {
          "color": "rgba(55, 128, 191, 0.9191919191919191)"
         },
         "name": "10014",
         "orientation": "v",
         "type": "box",
         "y": [
          10797,
          10855,
          16024,
          11651,
          9598,
          10461,
          11978,
          13128,
          14328,
          21170,
          16593,
          10942,
          13223,
          13607,
          13939,
          16062,
          20137,
          17782,
          11044,
          11826,
          13015,
          13900,
          16127,
          19320,
          17489,
          6006,
          3905,
          10748,
          12782,
          16402,
          21552
         ]
        },
        {
         "boxpoints": false,
         "line": {
          "width": 1.3
         },
         "marker": {
          "color": "rgba(50, 171, 96, 0.9191919191919191)"
         },
         "name": "10016",
         "orientation": "v",
         "type": "box",
         "y": [
          21076,
          18222,
          20313,
          15118,
          17884,
          20415,
          22272,
          24345,
          24829,
          26319,
          20062,
          20577,
          23526,
          23593,
          24331,
          26011,
          24178,
          20890,
          16276,
          21060,
          22843,
          24315,
          26109,
          24304,
          19182,
          12498,
          6625,
          20036,
          23511,
          26619,
          26201
         ]
        },
        {
         "boxpoints": false,
         "line": {
          "width": 1.3
         },
         "marker": {
          "color": "rgba(128, 0, 128, 0.9191919191919191)"
         },
         "name": "10017",
         "orientation": "v",
         "type": "box",
         "y": [
          10664,
          11705,
          11916,
          8784,
          13659,
          15931,
          17211,
          18698,
          16933,
          13364,
          10299,
          16127,
          17673,
          18771,
          18099,
          16928,
          12632,
          10474,
          11019,
          16458,
          18212,
          18553,
          17537,
          12320,
          9787,
          8597,
          4580,
          15611,
          17281,
          16916,
          12892
         ]
        },
        {
         "boxpoints": false,
         "line": {
          "width": 1.3
         },
         "marker": {
          "color": "rgba(219, 64, 82, 0.9191919191919191)"
         },
         "name": "10018",
         "orientation": "v",
         "type": "box",
         "y": [
          7904,
          8687,
          9170,
          7675,
          9629,
          10468,
          11675,
          12209,
          11528,
          10630,
          9672,
          12631,
          13780,
          12634,
          12298,
          12369,
          10363,
          9798,
          9465,
          11979,
          12188,
          12257,
          12425,
          10410,
          9115,
          6212,
          2625,
          9905,
          11664,
          12488,
          11077
         ]
        },
        {
         "boxpoints": false,
         "line": {
          "width": 1.3
         },
         "marker": {
          "color": "rgba(0, 128, 128, 0.9191919191919191)"
         },
         "name": "10019",
         "orientation": "v",
         "type": "box",
         "y": [
          23614,
          22443,
          26120,
          20168,
          23620,
          25676,
          28843,
          29973,
          28937,
          30186,
          25567,
          27703,
          32728,
          31502,
          30369,
          30143,
          27930,
          27521,
          20952,
          26504,
          29482,
          30380,
          29797,
          28481,
          23336,
          13786,
          10056,
          24287,
          27966,
          30298,
          28899
         ]
        },
        {
         "boxpoints": false,
         "line": {
          "width": 1.3
         },
         "marker": {
          "color": "rgba(255, 255, 51, 0.9191919191919191)"
         },
         "name": "10020",
         "orientation": "v",
         "type": "box",
         "y": [
          1192,
          1452,
          1503,
          1096,
          1482,
          1670,
          1739,
          1775,
          1499,
          1314,
          1090,
          1617,
          1574,
          1808,
          1597,
          1545,
          1384,
          1060,
          1190,
          1707,
          1699,
          1694,
          1691,
          1267,
          1077,
          682,
          662,
          1558,
          1410,
          1484,
          1388
         ]
        },
        {
         "boxpoints": false,
         "line": {
          "width": 1.3
         },
         "marker": {
          "color": "rgba(128, 128, 0, 0.9191919191919191)"
         },
         "name": "10021",
         "orientation": "v",
         "type": "box",
         "y": [
          9236,
          10538,
          10430,
          8511,
          14068,
          14746,
          17242,
          16878,
          15461,
          14835,
          11016,
          14529,
          16650,
          16453,
          16695,
          16785,
          12955,
          10345,
          11153,
          15718,
          16562,
          16927,
          16948,
          13192,
          11456,
          10403,
          5498,
          15022,
          16276,
          17303,
          14656
         ]
        },
        {
         "boxpoints": false,
         "line": {
          "width": 1.3
         },
         "marker": {
          "color": "rgba(251, 128, 114, 0.9191919191919191)"
         },
         "name": "10022",
         "orientation": "v",
         "type": "box",
         "y": [
          17582,
          18181,
          20050,
          14911,
          21519,
          23147,
          25455,
          26713,
          24794,
          23370,
          17751,
          23863,
          26840,
          27347,
          27122,
          25879,
          22253,
          17404,
          17340,
          23941,
          26450,
          27610,
          25800,
          21205,
          16887,
          11810,
          8352,
          22619,
          25229,
          25457,
          22950
         ]
        },
        {
         "boxpoints": false,
         "line": {
          "width": 1.3
         },
         "marker": {
          "color": "rgba(251, 128, 114, 0.8383838383838382)"
         },
         "name": "10023",
         "orientation": "v",
         "type": "box",
         "y": [
          12798,
          13087,
          14593,
          11368,
          13529,
          14290,
          15931,
          16484,
          15692,
          19909,
          15255,
          13812,
          16570,
          15301,
          16595,
          16923,
          17126,
          14287,
          12983,
          14934,
          15973,
          16107,
          17187,
          16925,
          14600,
          9162,
          5654,
          14509,
          16012,
          16617,
          18836
         ]
        },
        {
         "boxpoints": false,
         "line": {
          "width": 1.3
         },
         "marker": {
          "color": "rgba(128, 177, 211, 0.8383838383838382)"
         },
         "name": "10024",
         "orientation": "v",
         "type": "box",
         "y": [
          10708,
          9739,
          11208,
          9173,
          10374,
          11226,
          12563,
          12496,
          12028,
          16874,
          13103,
          10410,
          12219,
          11505,
          12147,
          12868,
          12855,
          12281,
          10265,
          11080,
          11592,
          12281,
          12731,
          13251,
          11814,
          6996,
          4351,
          10731,
          11734,
          12822,
          14348
         ]
        },
        {
         "boxpoints": false,
         "line": {
          "width": 1.3
         },
         "marker": {
          "color": "rgba(255, 153, 51, 0.8383838383838382)"
         },
         "name": "10025",
         "orientation": "v",
         "type": "box",
         "y": [
          9115,
          7354,
          8446,
          7602,
          8128,
          8714,
          9725,
          9874,
          9716,
          11260,
          9612,
          8279,
          9598,
          9156,
          9558,
          10420,
          9961,
          9164,
          7635,
          8815,
          9610,
          9664,
          10624,
          10167,
          9700,
          6194,
          3256,
          8397,
          9769,
          11300,
          13290
         ]
        },
        {
         "boxpoints": false,
         "line": {
          "width": 1.3
         },
         "marker": {
          "color": "rgba(55, 128, 191, 0.8383838383838382)"
         },
         "name": "10026",
         "orientation": "v",
         "type": "box",
         "y": [
          1349,
          705,
          926,
          870,
          717,
          795,
          886,
          853,
          1022,
          1101,
          935,
          713,
          829,
          795,
          856,
          1014,
          1014,
          1247,
          688,
          747,
          724,
          713,
          960,
          1045,
          901,
          695,
          381,
          727,
          861,
          1203,
          1683
         ]
        },
        {
         "boxpoints": false,
         "line": {
          "width": 1.3
         },
         "marker": {
          "color": "rgba(50, 171, 96, 0.8383838383838382)"
         },
         "name": "10027",
         "orientation": "v",
         "type": "box",
         "y": [
          2176,
          938,
          1243,
          1200,
          1148,
          1293,
          1500,
          1478,
          1681,
          1517,
          1397,
          1328,
          1498,
          1420,
          1606,
          1747,
          1622,
          1845,
          1118,
          1447,
          1585,
          1716,
          1794,
          1674,
          1545,
          1265,
          499,
          1417,
          1756,
          2424,
          2535
         ]
        },
        {
         "boxpoints": false,
         "line": {
          "width": 1.3
         },
         "marker": {
          "color": "rgba(128, 0, 128, 0.8383838383838382)"
         },
         "name": "10028",
         "orientation": "v",
         "type": "box",
         "y": [
          9509,
          9373,
          10497,
          8360,
          10718,
          10179,
          12145,
          12152,
          11979,
          14585,
          10841,
          9977,
          11775,
          11514,
          11870,
          13057,
          12567,
          10105,
          9460,
          10793,
          11280,
          11846,
          13212,
          12768,
          10614,
          7415,
          4018,
          10388,
          11289,
          13266,
          14129
         ]
        },
        {
         "boxpoints": false,
         "line": {
          "width": 1.3
         },
         "marker": {
          "color": "rgba(219, 64, 82, 0.8383838383838382)"
         },
         "name": "10029",
         "orientation": "v",
         "type": "box",
         "y": [
          3002,
          2109,
          2514,
          2172,
          2294,
          2640,
          2764,
          2754,
          2928,
          3126,
          2457,
          2334,
          2544,
          2458,
          2559,
          2948,
          2917,
          2554,
          1954,
          2290,
          2197,
          2225,
          2840,
          2722,
          2284,
          2103,
          1055,
          2168,
          2678,
          3444,
          3628
         ]
        },
        {
         "boxpoints": false,
         "line": {
          "width": 1.3
         },
         "marker": {
          "color": "rgba(0, 128, 128, 0.8383838383838382)"
         },
         "name": "10030",
         "orientation": "v",
         "type": "box",
         "y": [
          470,
          137,
          196,
          173,
          158,
          144,
          146,
          170,
          198,
          190,
          180,
          163,
          151,
          121,
          141,
          224,
          218,
          236,
          137,
          131,
          137,
          112,
          152,
          188,
          193,
          146,
          87,
          144,
          170,
          266,
          399
         ]
        },
        {
         "boxpoints": false,
         "line": {
          "width": 1.3
         },
         "marker": {
          "color": "rgba(255, 255, 51, 0.8383838383838382)"
         },
         "name": "10031",
         "orientation": "v",
         "type": "box",
         "y": [
          1450,
          423,
          499,
          518,
          455,
          459,
          508,
          590,
          615,
          636,
          632,
          424,
          481,
          469,
          495,
          640,
          607,
          859,
          435,
          420,
          471,
          443,
          555,
          631,
          570,
          431,
          206,
          408,
          496,
          741,
          842
         ]
        },
        {
         "boxpoints": false,
         "line": {
          "width": 1.3
         },
         "marker": {
          "color": "rgba(128, 128, 0, 0.8383838383838382)"
         },
         "name": "10032",
         "orientation": "v",
         "type": "box",
         "y": [
          766,
          186,
          193,
          242,
          253,
          270,
          274,
          302,
          340,
          269,
          285,
          256,
          288,
          284,
          251,
          342,
          284,
          342,
          183,
          234,
          283,
          266,
          293,
          242,
          238,
          264,
          111,
          243,
          241,
          399,
          341
         ]
        },
        {
         "boxpoints": false,
         "line": {
          "width": 1.3
         },
         "marker": {
          "color": "rgba(128, 128, 0, 0.7575757575757576)"
         },
         "name": "10033",
         "orientation": "v",
         "type": "box",
         "y": [
          420,
          72,
          96,
          112,
          96,
          84,
          101,
          91,
          131,
          134,
          115,
          86,
          83,
          79,
          111,
          120,
          115,
          184,
          100,
          72,
          99,
          86,
          113,
          132,
          129,
          83,
          39,
          82,
          104,
          163,
          169
         ]
        },
        {
         "boxpoints": false,
         "line": {
          "width": 1.3
         },
         "marker": {
          "color": "rgba(251, 128, 114, 0.7575757575757576)"
         },
         "name": "10034",
         "orientation": "v",
         "type": "box",
         "y": [
          244,
          33,
          45,
          54,
          30,
          20,
          34,
          42,
          36,
          62,
          41,
          26,
          33,
          35,
          33,
          44,
          42,
          73,
          34,
          23,
          29,
          33,
          33,
          74,
          47,
          21,
          25,
          18,
          36,
          67,
          53
         ]
        },
        {
         "boxpoints": false,
         "line": {
          "width": 1.3
         },
         "marker": {
          "color": "rgba(128, 177, 211, 0.7575757575757576)"
         },
         "name": "10035",
         "orientation": "v",
         "type": "box",
         "y": [
          1276,
          609,
          813,
          714,
          729,
          718,
          756,
          809,
          895,
          868,
          714,
          650,
          690,
          606,
          744,
          932,
          1062,
          889,
          595,
          603,
          638,
          666,
          822,
          848,
          815,
          742,
          297,
          620,
          750,
          1210,
          1223
         ]
        },
        {
         "boxpoints": false,
         "line": {
          "width": 1.3
         },
         "marker": {
          "color": "rgba(255, 153, 51, 0.7575757575757576)"
         },
         "name": "10036",
         "orientation": "v",
         "type": "box",
         "y": [
          19151,
          18287,
          21478,
          17972,
          16425,
          18583,
          20401,
          20902,
          19578,
          23429,
          20795,
          19994,
          22077,
          21063,
          19880,
          21689,
          22653,
          23337,
          16313,
          18027,
          19865,
          19932,
          20593,
          22069,
          19339,
          9564,
          7207,
          16581,
          17969,
          20814,
          22969
         ]
        },
        {
         "boxpoints": false,
         "line": {
          "width": 1.3
         },
         "marker": {
          "color": "rgba(55, 128, 191, 0.7575757575757576)"
         },
         "name": "10037",
         "orientation": "v",
         "type": "box",
         "y": [
          277,
          100,
          161,
          141,
          125,
          136,
          147,
          145,
          186,
          142,
          118,
          126,
          129,
          114,
          141,
          161,
          137,
          142,
          90,
          118,
          125,
          141,
          142,
          140,
          110,
          125,
          51,
          143,
          132,
          245,
          296
         ]
        },
        {
         "boxpoints": false,
         "line": {
          "width": 1.3
         },
         "marker": {
          "color": "rgba(50, 171, 96, 0.7575757575757576)"
         },
         "name": "10038",
         "orientation": "v",
         "type": "box",
         "y": [
          2562,
          1931,
          2025,
          1531,
          1825,
          1929,
          2161,
          2385,
          2497,
          2611,
          1933,
          2084,
          2298,
          2427,
          2517,
          2700,
          2570,
          1955,
          1568,
          2132,
          2354,
          2492,
          2669,
          2569,
          2124,
          1174,
          638,
          1957,
          2437,
          2912,
          2752
         ]
        },
        {
         "boxpoints": false,
         "line": {
          "width": 1.3
         },
         "marker": {
          "color": "rgba(128, 0, 128, 0.7575757575757576)"
         },
         "name": "10039",
         "orientation": "v",
         "type": "box",
         "y": [
          213,
          45,
          84,
          72,
          67,
          45,
          52,
          49,
          85,
          90,
          79,
          39,
          43,
          52,
          48,
          68,
          76,
          111,
          53,
          44,
          46,
          54,
          47,
          85,
          67,
          59,
          35,
          46,
          56,
          61,
          121
         ]
        },
        {
         "boxpoints": false,
         "line": {
          "width": 1.3
         },
         "marker": {
          "color": "rgba(219, 64, 82, 0.7575757575757576)"
         },
         "name": "10065",
         "orientation": "v",
         "type": "box",
         "y": [
          9194,
          10209,
          11400,
          8390,
          12644,
          13606,
          15144,
          15925,
          15064,
          14510,
          10546,
          13412,
          15754,
          15492,
          15557,
          15764,
          12790,
          9424,
          10927,
          14205,
          14646,
          15882,
          15808,
          12796,
          10121,
          8738,
          5177,
          13806,
          15836,
          16143,
          14236
         ]
        },
        {
         "boxpoints": false,
         "line": {
          "width": 1.3
         },
         "marker": {
          "color": "rgba(0, 128, 128, 0.7575757575757576)"
         },
         "name": "10069",
         "orientation": "v",
         "type": "box",
         "y": [
          610,
          619,
          644,
          607,
          628,
          709,
          790,
          781,
          685,
          930,
          763,
          642,
          717,
          695,
          733,
          832,
          838,
          718,
          729,
          759,
          738,
          787,
          861,
          858,
          813,
          415,
          209,
          723,
          750,
          791,
          951
         ]
        },
        {
         "boxpoints": false,
         "line": {
          "width": 1.3
         },
         "marker": {
          "color": "rgba(255, 255, 51, 0.7575757575757576)"
         },
         "name": "10075",
         "orientation": "v",
         "type": "box",
         "y": [
          5446,
          5641,
          6100,
          4757,
          7070,
          7086,
          8151,
          8223,
          7951,
          8541,
          6165,
          6679,
          8060,
          7976,
          8087,
          8628,
          7302,
          5643,
          5873,
          7545,
          7616,
          8358,
          8486,
          7498,
          6239,
          5041,
          3132,
          7225,
          7873,
          8830,
          8369
         ]
        },
        {
         "boxpoints": false,
         "line": {
          "width": 1.3
         },
         "marker": {
          "color": "rgba(255, 255, 51, 0.6767676767676767)"
         },
         "name": "10103",
         "orientation": "v",
         "type": "box",
         "y": [
          419,
          478,
          572,
          387,
          448,
          512,
          467,
          562,
          513,
          535,
          492,
          610,
          612,
          595,
          552,
          509,
          527,
          647,
          369,
          556,
          557,
          649,
          475,
          535,
          384,
          219,
          184,
          472,
          457,
          482,
          520
         ]
        },
        {
         "boxpoints": false,
         "line": {
          "width": 1.3
         },
         "marker": {
          "color": "rgba(128, 128, 0, 0.6767676767676767)"
         },
         "name": "10110",
         "orientation": "v",
         "type": "box",
         "y": [
          411,
          330,
          305,
          222,
          399,
          505,
          504,
          529,
          477,
          366,
          273,
          503,
          555,
          580,
          501,
          438,
          305,
          220,
          256,
          543,
          580,
          544,
          507,
          306,
          311,
          222,
          186,
          499,
          479,
          502,
          343
         ]
        },
        {
         "boxpoints": false,
         "line": {
          "width": 1.3
         },
         "marker": {
          "color": "rgba(251, 128, 114, 0.6767676767676767)"
         },
         "name": "10111",
         "orientation": "v",
         "type": "box",
         "y": [
          244,
          259,
          310,
          183,
          237,
          240,
          267,
          252,
          184,
          177,
          210,
          209,
          225,
          255,
          249,
          222,
          246,
          202,
          198,
          252,
          245,
          269,
          272,
          252,
          175,
          80,
          87,
          233,
          226,
          206,
          232
         ]
        },
        {
         "boxpoints": false,
         "line": {
          "width": 1.3
         },
         "marker": {
          "color": "rgba(128, 177, 211, 0.6767676767676767)"
         },
         "name": "10112",
         "orientation": "v",
         "type": "box",
         "y": [
          204,
          282,
          335,
          188,
          351,
          285,
          328,
          326,
          258,
          210,
          176,
          302,
          283,
          334,
          277,
          261,
          301,
          210,
          276,
          245,
          306,
          265,
          347,
          306,
          218,
          117,
          115,
          307,
          227,
          245,
          250
         ]
        },
        {
         "boxpoints": false,
         "line": {
          "width": 1.3
         },
         "marker": {
          "color": "rgba(255, 153, 51, 0.6767676767676767)"
         },
         "name": "10119",
         "orientation": "v",
         "type": "box",
         "y": [
          3704,
          5431,
          5257,
          5465,
          4818,
          5120,
          5323,
          5657,
          5178,
          5405,
          4425,
          5238,
          5325,
          5379,
          5565,
          6370,
          5408,
          4802,
          5325,
          5598,
          5594,
          5929,
          6270,
          5314,
          4680,
          3347,
          765,
          4773,
          5554,
          5862,
          5458
         ]
        },
        {
         "boxpoints": false,
         "line": {
          "width": 1.3
         },
         "marker": {
          "color": "rgba(55, 128, 191, 0.6767676767676767)"
         },
         "name": "10128",
         "orientation": "v",
         "type": "box",
         "y": [
          9250,
          9096,
          10478,
          8396,
          11493,
          11676,
          13498,
          13350,
          13121,
          14628,
          11175,
          11856,
          12933,
          12648,
          13154,
          13814,
          12580,
          10359,
          9664,
          12246,
          12363,
          13259,
          14009,
          12956,
          10845,
          8238,
          4355,
          11706,
          12655,
          14584,
          14674
         ]
        },
        {
         "boxpoints": false,
         "line": {
          "width": 1.3
         },
         "marker": {
          "color": "rgba(50, 171, 96, 0.6767676767676767)"
         },
         "name": "10152",
         "orientation": "v",
         "type": "box",
         "y": [
          115,
          183,
          178,
          139,
          440,
          490,
          572,
          535,
          403,
          230,
          194,
          513,
          611,
          635,
          549,
          383,
          234,
          169,
          232,
          577,
          617,
          631,
          429,
          196,
          191,
          160,
          170,
          535,
          537,
          426,
          232
         ]
        },
        {
         "boxpoints": false,
         "line": {
          "width": 1.3
         },
         "marker": {
          "color": "rgba(128, 0, 128, 0.6767676767676767)"
         },
         "name": "10153",
         "orientation": "v",
         "type": "box",
         "y": [
          469,
          538,
          702,
          407,
          620,
          636,
          717,
          692,
          593,
          565,
          443,
          663,
          656,
          696,
          682,
          653,
          583,
          513,
          445,
          597,
          636,
          676,
          594,
          565,
          461,
          222,
          308,
          600,
          557,
          581,
          641
         ]
        },
        {
         "boxpoints": false,
         "line": {
          "width": 1.3
         },
         "marker": {
          "color": "rgba(219, 64, 82, 0.6767676767676767)"
         },
         "name": "10154",
         "orientation": "v",
         "type": "box",
         "y": [
          155,
          218,
          207,
          171,
          381,
          416,
          466,
          477,
          408,
          274,
          220,
          528,
          551,
          577,
          531,
          413,
          303,
          193,
          229,
          522,
          525,
          583,
          434,
          232,
          193,
          161,
          162,
          478,
          515,
          386,
          259
         ]
        },
        {
         "boxpoints": false,
         "line": {
          "width": 1.3
         },
         "marker": {
          "color": "rgba(0, 128, 128, 0.6767676767676767)"
         },
         "name": "10162",
         "orientation": "v",
         "type": "box",
         "y": [
          95,
          131,
          123,
          78,
          185,
          199,
          204,
          205,
          196,
          192,
          130,
          187,
          222,
          220,
          221,
          249,
          155,
          128,
          120,
          200,
          184,
          252,
          251,
          179,
          158,
          140,
          51,
          213,
          190,
          254,
          168
         ]
        },
        {
         "boxpoints": false,
         "line": {
          "width": 1.3
         },
         "marker": {
          "color": "rgba(0, 128, 128, 0.5959595959595958)"
         },
         "name": "10165",
         "orientation": "v",
         "type": "box",
         "y": [
          572,
          668,
          745,
          592,
          776,
          860,
          979,
          1062,
          935,
          863,
          628,
          1025,
          1074,
          1080,
          1027,
          927,
          850,
          770,
          859,
          1046,
          1158,
          1079,
          999,
          849,
          707,
          575,
          189,
          917,
          1054,
          915,
          941
         ]
        },
        {
         "boxpoints": false,
         "line": {
          "width": 1.3
         },
         "marker": {
          "color": "rgba(255, 255, 51, 0.5959595959595958)"
         },
         "name": "10167",
         "orientation": "v",
         "type": "box",
         "y": [
          157,
          135,
          107,
          97,
          306,
          324,
          343,
          399,
          292,
          143,
          155,
          384,
          382,
          419,
          401,
          345,
          154,
          106,
          174,
          401,
          447,
          409,
          358,
          147,
          115,
          173,
          110,
          377,
          385,
          314,
          127
         ]
        },
        {
         "boxpoints": false,
         "line": {
          "width": 1.3
         },
         "marker": {
          "color": "rgba(128, 128, 0, 0.5959595959595958)"
         },
         "name": "10168",
         "orientation": "v",
         "type": "box",
         "y": [
          547,
          461,
          658,
          447,
          404,
          454,
          450,
          561,
          592,
          612,
          489,
          534,
          569,
          579,
          533,
          506,
          564,
          545,
          389,
          479,
          567,
          582,
          507,
          501,
          440,
          300,
          105,
          442,
          539,
          561,
          504
         ]
        },
        {
         "boxpoints": false,
         "line": {
          "width": 1.3
         },
         "marker": {
          "color": "rgba(251, 128, 114, 0.5959595959595958)"
         },
         "name": "10169",
         "orientation": "v",
         "type": "box",
         "y": [
          65,
          87,
          68,
          69,
          164,
          201,
          232,
          250,
          190,
          79,
          85,
          226,
          276,
          246,
          263,
          182,
          79,
          65,
          102,
          226,
          260,
          280,
          208,
          77,
          72,
          96,
          63,
          222,
          246,
          205,
          90
         ]
        },
        {
         "boxpoints": false,
         "line": {
          "width": 1.3
         },
         "marker": {
          "color": "rgba(128, 177, 211, 0.5959595959595958)"
         },
         "name": "10170",
         "orientation": "v",
         "type": "box",
         "y": [
          743,
          711,
          910,
          692,
          755,
          911,
          914,
          1084,
          1005,
          990,
          891,
          999,
          1064,
          1142,
          1074,
          1011,
          830,
          785,
          716,
          927,
          1071,
          1101,
          1063,
          788,
          707,
          528,
          224,
          831,
          1002,
          981,
          857
         ]
        },
        {
         "boxpoints": false,
         "line": {
          "width": 1.3
         },
         "marker": {
          "color": "rgba(255, 153, 51, 0.5959595959595958)"
         },
         "name": "10171",
         "orientation": "v",
         "type": "box",
         "y": [
          318,
          356,
          324,
          219,
          369,
          387,
          449,
          459,
          470,
          380,
          339,
          495,
          503,
          563,
          490,
          440,
          389,
          356,
          219,
          463,
          545,
          454,
          453,
          313,
          236,
          218,
          153,
          392,
          456,
          401,
          339
         ]
        },
        {
         "boxpoints": false,
         "line": {
          "width": 1.3
         },
         "marker": {
          "color": "rgba(55, 128, 191, 0.5959595959595958)"
         },
         "name": "10172",
         "orientation": "v",
         "type": "box",
         "y": [
          286,
          292,
          190,
          180,
          418,
          509,
          488,
          517,
          499,
          279,
          225,
          530,
          547,
          638,
          573,
          411,
          314,
          207,
          214,
          570,
          628,
          567,
          492,
          300,
          241,
          257,
          173,
          532,
          555,
          458,
          238
         ]
        },
        {
         "boxpoints": false,
         "line": {
          "width": 1.3
         },
         "marker": {
          "color": "rgba(50, 171, 96, 0.5959595959595958)"
         },
         "name": "10173",
         "orientation": "v",
         "type": "box",
         "y": [
          183,
          232,
          180,
          144,
          273,
          332,
          346,
          377,
          309,
          206,
          149,
          326,
          341,
          342,
          360,
          297,
          195,
          136,
          228,
          330,
          364,
          358,
          335,
          173,
          167,
          171,
          96,
          270,
          277,
          270,
          199
         ]
        },
        {
         "boxpoints": false,
         "line": {
          "width": 1.3
         },
         "marker": {
          "color": "rgba(128, 0, 128, 0.5959595959595958)"
         },
         "name": "10174",
         "orientation": "v",
         "type": "box",
         "y": [
          377,
          437,
          451,
          387,
          513,
          597,
          689,
          683,
          684,
          541,
          459,
          620,
          724,
          740,
          699,
          669,
          498,
          407,
          472,
          713,
          726,
          717,
          690,
          471,
          435,
          329,
          181,
          547,
          680,
          698,
          504
         ]
        },
        {
         "boxpoints": false,
         "line": {
          "width": 1.3
         },
         "marker": {
          "color": "rgba(219, 64, 82, 0.5959595959595958)"
         },
         "name": "10177",
         "orientation": "v",
         "type": "box",
         "y": [
          35,
          85,
          34,
          31,
          181,
          234,
          237,
          259,
          209,
          56,
          61,
          273,
          280,
          239,
          237,
          189,
          50,
          33,
          92,
          244,
          295,
          257,
          210,
          61,
          67,
          99,
          71,
          221,
          250,
          201,
          74
         ]
        },
        {
         "boxpoints": false,
         "line": {
          "width": 1.3
         },
         "marker": {
          "color": "rgba(219, 64, 82, 0.5151515151515149)"
         },
         "name": "10199",
         "orientation": "v",
         "type": "box",
         "y": [
          527,
          812,
          762,
          766,
          728,
          705,
          790,
          838,
          900,
          770,
          771,
          823,
          749,
          805,
          864,
          922,
          804,
          792,
          854,
          864,
          895,
          863,
          894,
          805,
          768,
          510,
          154,
          787,
          884,
          814,
          767
         ]
        },
        {
         "boxpoints": false,
         "line": {
          "width": 1.3
         },
         "marker": {
          "color": "rgba(0, 128, 128, 0.5151515151515149)"
         },
         "name": "10278",
         "orientation": "v",
         "type": "box",
         "y": [
          74,
          98,
          66,
          48,
          134,
          142,
          168,
          180,
          148,
          91,
          71,
          134,
          147,
          140,
          156,
          157,
          65,
          59,
          51,
          145,
          164,
          177,
          142,
          70,
          68,
          91,
          28,
          133,
          134,
          163,
          89
         ]
        },
        {
         "boxpoints": false,
         "line": {
          "width": 1.3
         },
         "marker": {
          "color": "rgba(255, 255, 51, 0.5151515151515149)"
         },
         "name": "10279",
         "orientation": "v",
         "type": "box",
         "y": [
          94,
          81,
          103,
          81,
          84,
          90,
          134,
          152,
          137,
          115,
          116,
          80,
          142,
          126,
          146,
          170,
          101,
          147,
          73,
          117,
          167,
          177,
          180,
          102,
          108,
          70,
          26,
          135,
          192,
          184,
          159
         ]
        },
        {
         "boxpoints": false,
         "line": {
          "width": 1.3
         },
         "marker": {
          "color": "rgba(128, 128, 0, 0.5151515151515149)"
         },
         "name": "10280",
         "orientation": "v",
         "type": "box",
         "y": [
          1511,
          1560,
          1313,
          1014,
          1565,
          1570,
          1859,
          2005,
          1858,
          1721,
          1335,
          1667,
          1919,
          1995,
          2091,
          2028,
          1746,
          1265,
          1155,
          1741,
          1937,
          2056,
          2005,
          1574,
          1393,
          1023,
          464,
          1767,
          1952,
          2134,
          1803
         ]
        },
        {
         "boxpoints": false,
         "line": {
          "width": 1.3
         },
         "marker": {
          "color": "rgba(251, 128, 114, 0.5151515151515149)"
         },
         "name": "10282",
         "orientation": "v",
         "type": "box",
         "y": [
          928,
          1185,
          1080,
          844,
          1558,
          1719,
          1858,
          2115,
          1945,
          1441,
          1140,
          1988,
          2177,
          2072,
          2095,
          2066,
          1479,
          1209,
          1259,
          1950,
          2074,
          1957,
          1904,
          1271,
          1195,
          1156,
          570,
          1882,
          2052,
          2035,
          1367
         ]
        },
        {
         "boxpoints": false,
         "line": {
          "width": 1.3
         },
         "marker": {
          "color": "rgba(128, 177, 211, 0.5151515151515149)"
         },
         "name": "10451",
         "orientation": "v",
         "type": "box",
         "y": [
          187,
          67,
          98,
          78,
          89,
          80,
          98,
          116,
          155,
          122,
          81,
          75,
          79,
          70,
          82,
          118,
          149,
          100,
          70,
          80,
          68,
          82,
          78,
          165,
          100,
          73,
          40,
          91,
          86,
          140,
          135
         ]
        },
        {
         "boxpoints": false,
         "line": {
          "width": 1.3
         },
         "marker": {
          "color": "rgba(255, 153, 51, 0.5151515151515149)"
         },
         "name": "11101",
         "orientation": "v",
         "type": "box",
         "y": [
          1736,
          874,
          1764,
          1537,
          1237,
          1208,
          1217,
          1297,
          1629,
          1968,
          1501,
          1178,
          1221,
          1429,
          1601,
          1709,
          1948,
          1755,
          1194,
          1278,
          1144,
          1243,
          1322,
          1821,
          1554,
          811,
          411,
          1111,
          1333,
          1382,
          2052
         ]
        },
        {
         "boxpoints": false,
         "line": {
          "width": 1.3
         },
         "marker": {
          "color": "rgba(55, 128, 191, 0.5151515151515149)"
         },
         "name": "11102",
         "orientation": "v",
         "type": "box",
         "y": [
          1065,
          402,
          550,
          589,
          375,
          352,
          398,
          402,
          555,
          612,
          688,
          320,
          327,
          375,
          408,
          444,
          550,
          679,
          356,
          365,
          310,
          361,
          464,
          618,
          552,
          381,
          199,
          343,
          363,
          467,
          618
         ]
        },
        {
         "boxpoints": false,
         "line": {
          "width": 1.3
         },
         "marker": {
          "color": "rgba(50, 171, 96, 0.5151515151515149)"
         },
         "name": "11103",
         "orientation": "v",
         "type": "box",
         "y": [
          1099,
          251,
          481,
          478,
          246,
          239,
          221,
          251,
          371,
          586,
          549,
          238,
          245,
          271,
          242,
          316,
          504,
          560,
          286,
          205,
          223,
          237,
          254,
          480,
          431,
          234,
          152,
          249,
          230,
          284,
          494
         ]
        },
        {
         "boxpoints": false,
         "line": {
          "width": 1.3
         },
         "marker": {
          "color": "rgba(128, 0, 128, 0.5151515151515149)"
         },
         "name": "11104",
         "orientation": "v",
         "type": "box",
         "y": [
          729,
          392,
          428,
          462,
          466,
          395,
          470,
          485,
          438,
          618,
          443,
          403,
          388,
          366,
          413,
          509,
          678,
          653,
          425,
          415,
          386,
          442,
          510,
          703,
          583,
          360,
          211,
          375,
          414,
          481,
          657
         ]
        },
        {
         "boxpoints": false,
         "line": {
          "width": 1.3
         },
         "marker": {
          "color": "rgba(128, 0, 128, 0.4343434343434343)"
         },
         "name": "11105",
         "orientation": "v",
         "type": "box",
         "y": [
          555,
          132,
          220,
          212,
          146,
          133,
          163,
          230,
          209,
          267,
          281,
          120,
          117,
          172,
          132,
          195,
          266,
          305,
          150,
          106,
          120,
          135,
          200,
          256,
          248,
          178,
          77,
          183,
          138,
          195,
          227
         ]
        },
        {
         "boxpoints": false,
         "line": {
          "width": 1.3
         },
         "marker": {
          "color": "rgba(219, 64, 82, 0.4343434343434343)"
         },
         "name": "11106",
         "orientation": "v",
         "type": "box",
         "y": [
          1288,
          497,
          755,
          734,
          478,
          475,
          525,
          562,
          724,
          858,
          888,
          497,
          480,
          539,
          523,
          617,
          789,
          832,
          496,
          436,
          455,
          461,
          595,
          728,
          728,
          440,
          238,
          452,
          479,
          628,
          799
         ]
        },
        {
         "boxpoints": false,
         "line": {
          "width": 1.3
         },
         "marker": {
          "color": "rgba(0, 128, 128, 0.4343434343434343)"
         },
         "name": "11109",
         "orientation": "v",
         "type": "box",
         "y": [
          213,
          45,
          82,
          66,
          47,
          49,
          58,
          73,
          96,
          129,
          96,
          50,
          56,
          54,
          80,
          95,
          212,
          200,
          48,
          56,
          58,
          55,
          71,
          219,
          157,
          39,
          21,
          54,
          70,
          100,
          247
         ]
        },
        {
         "boxpoints": false,
         "line": {
          "width": 1.3
         },
         "marker": {
          "color": "rgba(255, 255, 51, 0.4343434343434343)"
         },
         "name": "11201",
         "orientation": "v",
         "type": "box",
         "y": [
          2351,
          1180,
          1433,
          1273,
          1318,
          1381,
          1631,
          1746,
          1785,
          2055,
          1710,
          1374,
          1578,
          1601,
          1763,
          2009,
          1837,
          1887,
          1202,
          1446,
          1579,
          1552,
          1831,
          1660,
          1612,
          1036,
          512,
          1504,
          1839,
          2465,
          2422
         ]
        },
        {
         "boxpoints": false,
         "line": {
          "width": 1.3
         },
         "marker": {
          "color": "rgba(128, 128, 0, 0.4343434343434343)"
         },
         "name": "11205",
         "orientation": "v",
         "type": "box",
         "y": [
          716,
          162,
          272,
          260,
          171,
          172,
          219,
          201,
          280,
          384,
          322,
          178,
          207,
          216,
          207,
          293,
          425,
          434,
          221,
          189,
          227,
          212,
          234,
          371,
          342,
          133,
          100,
          169,
          267,
          354,
          499
         ]
        },
        {
         "boxpoints": false,
         "line": {
          "width": 1.3
         },
         "marker": {
          "color": "rgba(251, 128, 114, 0.4343434343434343)"
         },
         "name": "11206",
         "orientation": "v",
         "type": "box",
         "y": [
          1302,
          165,
          314,
          338,
          164,
          162,
          193,
          175,
          250,
          464,
          448,
          145,
          169,
          174,
          210,
          308,
          554,
          568,
          190,
          154,
          160,
          176,
          284,
          485,
          573,
          120,
          77,
          152,
          216,
          301,
          637
         ]
        },
        {
         "boxpoints": false,
         "line": {
          "width": 1.3
         },
         "marker": {
          "color": "rgba(128, 177, 211, 0.4343434343434343)"
         },
         "name": "11211",
         "orientation": "v",
         "type": "box",
         "y": [
          5150,
          1218,
          2310,
          1931,
          1064,
          1086,
          1301,
          1402,
          1767,
          3261,
          3234,
          1104,
          1362,
          1407,
          1438,
          1942,
          3662,
          3918,
          1689,
          1131,
          1232,
          1344,
          1599,
          3295,
          3231,
          744,
          516,
          1055,
          1463,
          2086,
          3965
         ]
        },
        {
         "boxpoints": false,
         "line": {
          "width": 1.3
         },
         "marker": {
          "color": "rgba(255, 153, 51, 0.4343434343434343)"
         },
         "name": "11215",
         "orientation": "v",
         "type": "box",
         "y": [
          1120,
          238,
          369,
          366,
          253,
          291,
          349,
          373,
          391,
          626,
          500,
          284,
          310,
          314,
          316,
          444,
          575,
          732,
          269,
          294,
          285,
          329,
          316,
          500,
          540,
          191,
          136,
          298,
          317,
          442,
          652
         ]
        },
        {
         "boxpoints": false,
         "line": {
          "width": 1.3
         },
         "marker": {
          "color": "rgba(55, 128, 191, 0.4343434343434343)"
         },
         "name": "11216",
         "orientation": "v",
         "type": "box",
         "y": [
          643,
          116,
          173,
          177,
          83,
          97,
          115,
          107,
          150,
          237,
          235,
          86,
          90,
          99,
          101,
          143,
          225,
          290,
          115,
          76,
          109,
          96,
          117,
          214,
          219,
          81,
          47,
          94,
          97,
          157,
          265
         ]
        },
        {
         "boxpoints": false,
         "line": {
          "width": 1.3
         },
         "marker": {
          "color": "rgba(50, 171, 96, 0.4343434343434343)"
         },
         "name": "11217",
         "orientation": "v",
         "type": "box",
         "y": [
          1458,
          522,
          827,
          673,
          630,
          485,
          798,
          597,
          753,
          1037,
          823,
          647,
          605,
          752,
          607,
          750,
          1051,
          1096,
          502,
          611,
          548,
          581,
          644,
          930,
          835,
          305,
          201,
          527,
          607,
          1068,
          1308
         ]
        },
        {
         "boxpoints": false,
         "line": {
          "width": 1.3
         },
         "marker": {
          "color": "rgba(50, 171, 96, 0.3535353535353534)"
         },
         "name": "11218",
         "orientation": "v",
         "type": "box",
         "y": [
          145,
          32,
          54,
          37,
          37,
          50,
          57,
          51,
          73,
          60,
          102,
          46,
          47,
          25,
          101,
          60,
          85,
          82,
          35,
          69,
          80,
          103,
          87,
          70,
          51,
          45,
          36,
          52,
          53,
          49,
          70
         ]
        },
        {
         "boxpoints": false,
         "line": {
          "width": 1.3
         },
         "marker": {
          "color": "rgba(128, 0, 128, 0.3535353535353534)"
         },
         "name": "11221",
         "orientation": "v",
         "type": "box",
         "y": [
          540,
          93,
          153,
          121,
          55,
          57,
          58,
          74,
          95,
          165,
          178,
          65,
          74,
          63,
          79,
          119,
          196,
          242,
          81,
          60,
          73,
          119,
          121,
          187,
          196,
          52,
          20,
          43,
          80,
          101,
          183
         ]
        },
        {
         "boxpoints": false,
         "line": {
          "width": 1.3
         },
         "marker": {
          "color": "rgba(219, 64, 82, 0.3535353535353534)"
         },
         "name": "11222",
         "orientation": "v",
         "type": "box",
         "y": [
          1479,
          219,
          440,
          353,
          210,
          232,
          249,
          252,
          406,
          686,
          685,
          218,
          291,
          294,
          277,
          447,
          757,
          869,
          327,
          296,
          241,
          259,
          349,
          695,
          694,
          162,
          127,
          253,
          319,
          494,
          790
         ]
        },
        {
         "boxpoints": false,
         "line": {
          "width": 1.3
         },
         "marker": {
          "color": "rgba(0, 128, 128, 0.3535353535353534)"
         },
         "name": "11225",
         "orientation": "v",
         "type": "box",
         "y": [
          251,
          36,
          68,
          82,
          41,
          37,
          50,
          48,
          54,
          87,
          87,
          33,
          35,
          49,
          55,
          68,
          116,
          136,
          49,
          50,
          53,
          57,
          58,
          80,
          94,
          32,
          28,
          51,
          49,
          76,
          115
         ]
        },
        {
         "boxpoints": false,
         "line": {
          "width": 1.3
         },
         "marker": {
          "color": "rgba(255, 255, 51, 0.3535353535353534)"
         },
         "name": "11226",
         "orientation": "v",
         "type": "box",
         "y": [
          134,
          45,
          67,
          36,
          32,
          34,
          39,
          58,
          48,
          59,
          58,
          32,
          25,
          35,
          40,
          55,
          76,
          67,
          38,
          29,
          43,
          26,
          52,
          60,
          67,
          29,
          17,
          49,
          38,
          49,
          71
         ]
        },
        {
         "boxpoints": false,
         "line": {
          "width": 1.3
         },
         "marker": {
          "color": "rgba(128, 128, 0, 0.3535353535353534)"
         },
         "name": "11231",
         "orientation": "v",
         "type": "box",
         "y": [
          656,
          278,
          528,
          347,
          359,
          419,
          514,
          523,
          547,
          533,
          482,
          477,
          422,
          463,
          485,
          573,
          527,
          612,
          372,
          369,
          389,
          441,
          487,
          457,
          486,
          388,
          129,
          455,
          585,
          627,
          675
         ]
        },
        {
         "boxpoints": false,
         "line": {
          "width": 1.3
         },
         "marker": {
          "color": "rgba(251, 128, 114, 0.3535353535353534)"
         },
         "name": "11237",
         "orientation": "v",
         "type": "box",
         "y": [
          710,
          29,
          104,
          108,
          35,
          26,
          36,
          47,
          63,
          165,
          208,
          39,
          40,
          58,
          69,
          96,
          218,
          223,
          45,
          29,
          43,
          55,
          77,
          249,
          262,
          31,
          14,
          26,
          41,
          90,
          248
         ]
        },
        {
         "boxpoints": false,
         "line": {
          "width": 1.3
         },
         "marker": {
          "color": "rgba(128, 177, 211, 0.3535353535353534)"
         },
         "name": "11238",
         "orientation": "v",
         "type": "box",
         "y": [
          1043,
          204,
          360,
          336,
          181,
          156,
          190,
          221,
          286,
          475,
          435,
          161,
          185,
          227,
          219,
          297,
          469,
          571,
          194,
          172,
          197,
          207,
          250,
          445,
          447,
          93,
          82,
          185,
          236,
          368,
          564
         ]
        },
        {
         "boxpoints": false,
         "line": {
          "width": 1.3
         },
         "marker": {
          "color": "rgba(255, 153, 51, 0.3535353535353534)"
         },
         "name": "11369",
         "orientation": "v",
         "type": "box",
         "y": [
          260,
          107,
          100,
          140,
          96,
          88,
          85,
          99,
          130,
          94,
          100,
          95,
          87,
          97,
          113,
          105,
          105,
          143,
          89,
          119,
          98,
          97,
          96,
          117,
          127,
          73,
          26,
          95,
          103,
          115,
          100
         ]
        },
        {
         "boxpoints": false,
         "line": {
          "width": 1.3
         },
         "marker": {
          "color": "rgba(55, 128, 191, 0.3535353535353534)"
         },
         "name": "11370",
         "orientation": "v",
         "type": "box",
         "y": [
          228,
          117,
          114,
          117,
          102,
          116,
          102,
          103,
          133,
          135,
          120,
          91,
          101,
          124,
          105,
          130,
          106,
          199,
          137,
          101,
          90,
          104,
          138,
          167,
          139,
          114,
          55,
          107,
          111,
          151,
          163
         ]
        },
        {
         "boxpoints": false,
         "line": {
          "width": 1.3
         },
         "marker": {
          "color": "rgba(55, 128, 191, 0.27272727272727254)"
         },
         "name": "11371",
         "orientation": "v",
         "type": "box",
         "y": [
          6401,
          8316,
          7381,
          10917,
          11369,
          8592,
          8083,
          8953,
          8484,
          5811,
          9280,
          10344,
          9204,
          8268,
          9652,
          9218,
          4648,
          6652,
          11609,
          10035,
          8533,
          9787,
          8208,
          3914,
          8402,
          3339,
          892,
          9470,
          9341,
          8046,
          4774
         ]
        },
        {
         "boxpoints": false,
         "line": {
          "width": 1.3
         },
         "marker": {
          "color": "rgba(50, 171, 96, 0.27272727272727254)"
         },
         "name": "11372",
         "orientation": "v",
         "type": "box",
         "y": [
          533,
          117,
          158,
          195,
          120,
          109,
          105,
          118,
          146,
          173,
          194,
          136,
          171,
          90,
          95,
          193,
          214,
          283,
          147,
          101,
          110,
          91,
          129,
          223,
          175,
          198,
          120,
          129,
          160,
          172,
          203
         ]
        },
        {
         "boxpoints": false,
         "line": {
          "width": 1.3
         },
         "marker": {
          "color": "rgba(128, 0, 128, 0.27272727272727254)"
         },
         "name": "11373",
         "orientation": "v",
         "type": "box",
         "y": [
          433,
          125,
          175,
          217,
          121,
          118,
          109,
          123,
          147,
          220,
          177,
          134,
          128,
          117,
          135,
          161,
          237,
          223,
          131,
          100,
          126,
          106,
          136,
          233,
          160,
          159,
          83,
          116,
          174,
          148,
          193
         ]
        },
        {
         "boxpoints": false,
         "line": {
          "width": 1.3
         },
         "marker": {
          "color": "rgba(219, 64, 82, 0.27272727272727254)"
         },
         "name": "11374",
         "orientation": "v",
         "type": "box",
         "y": [
          118,
          59,
          67,
          65,
          41,
          44,
          42,
          62,
          51,
          56,
          69,
          59,
          41,
          49,
          65,
          55,
          75,
          72,
          55,
          43,
          37,
          46,
          59,
          59,
          59,
          61,
          39,
          50,
          55,
          76,
          58
         ]
        },
        {
         "boxpoints": false,
         "line": {
          "width": 1.3
         },
         "marker": {
          "color": "rgba(0, 128, 128, 0.27272727272727254)"
         },
         "name": "11375",
         "orientation": "v",
         "type": "box",
         "y": [
          199,
          60,
          76,
          79,
          71,
          89,
          74,
          80,
          93,
          95,
          98,
          73,
          81,
          87,
          77,
          147,
          130,
          122,
          62,
          58,
          77,
          70,
          88,
          102,
          106,
          97,
          36,
          68,
          84,
          123,
          133
         ]
        },
        {
         "boxpoints": false,
         "line": {
          "width": 1.3
         },
         "marker": {
          "color": "rgba(255, 255, 51, 0.27272727272727254)"
         },
         "name": "11377",
         "orientation": "v",
         "type": "box",
         "y": [
          828,
          374,
          403,
          396,
          450,
          382,
          402,
          419,
          476,
          422,
          432,
          409,
          392,
          403,
          407,
          515,
          497,
          609,
          334,
          386,
          350,
          369,
          406,
          531,
          463,
          426,
          197,
          360,
          360,
          492,
          526
         ]
        },
        {
         "boxpoints": false,
         "line": {
          "width": 1.3
         },
         "marker": {
          "color": "rgba(128, 128, 0, 0.27272727272727254)"
         },
         "name": "11430",
         "orientation": "v",
         "type": "box",
         "y": [
          7400,
          8225,
          8507,
          10287,
          11463,
          8751,
          7828,
          7483,
          7935,
          8010,
          8809,
          8859,
          6903,
          6531,
          7280,
          7659,
          6479,
          7296,
          9766,
          8122,
          6917,
          6927,
          7212,
          6609,
          7945,
          4235,
          1345,
          7727,
          7527,
          7079,
          6274
         ]
        },
        {
         "boxpoints": false,
         "line": {
          "width": 1.3
         },
         "marker": {
          "color": "rgba(251, 128, 114, 0.27272727272727254)"
         },
         "name": "11435",
         "orientation": "v",
         "type": "box",
         "y": [
          77,
          64,
          55,
          82,
          85,
          77,
          53,
          78,
          84,
          75,
          115,
          74,
          51,
          55,
          95,
          82,
          103,
          107,
          76,
          80,
          69,
          79,
          70,
          54,
          80,
          55,
          14,
          58,
          84,
          83,
          56
         ]
        },
        {
         "boxpoints": false,
         "line": {
          "width": 1.3
         },
         "marker": {
          "color": "rgba(128, 177, 211, 0.27272727272727254)"
         },
         "name": "11436",
         "orientation": "v",
         "type": "box",
         "y": [
          25,
          42,
          41,
          66,
          54,
          54,
          50,
          56,
          42,
          40,
          60,
          61,
          52,
          42,
          48,
          49,
          49,
          43,
          68,
          34,
          37,
          28,
          30,
          24,
          47,
          31,
          3,
          43,
          56,
          41,
          36
         ]
        }
       ],
       "layout": {
        "legend": {
         "bgcolor": "#F5F6F9",
         "font": {
          "color": "#4D5663"
         }
        },
        "paper_bgcolor": "#F5F6F9",
        "plot_bgcolor": "#F5F6F9",
        "template": {
         "data": {
          "bar": [
           {
            "error_x": {
             "color": "#2a3f5f"
            },
            "error_y": {
             "color": "#2a3f5f"
            },
            "marker": {
             "line": {
              "color": "#E5ECF6",
              "width": 0.5
             }
            },
            "type": "bar"
           }
          ],
          "barpolar": [
           {
            "marker": {
             "line": {
              "color": "#E5ECF6",
              "width": 0.5
             }
            },
            "type": "barpolar"
           }
          ],
          "carpet": [
           {
            "aaxis": {
             "endlinecolor": "#2a3f5f",
             "gridcolor": "white",
             "linecolor": "white",
             "minorgridcolor": "white",
             "startlinecolor": "#2a3f5f"
            },
            "baxis": {
             "endlinecolor": "#2a3f5f",
             "gridcolor": "white",
             "linecolor": "white",
             "minorgridcolor": "white",
             "startlinecolor": "#2a3f5f"
            },
            "type": "carpet"
           }
          ],
          "choropleth": [
           {
            "colorbar": {
             "outlinewidth": 0,
             "ticks": ""
            },
            "type": "choropleth"
           }
          ],
          "contour": [
           {
            "colorbar": {
             "outlinewidth": 0,
             "ticks": ""
            },
            "colorscale": [
             [
              0,
              "#0d0887"
             ],
             [
              0.1111111111111111,
              "#46039f"
             ],
             [
              0.2222222222222222,
              "#7201a8"
             ],
             [
              0.3333333333333333,
              "#9c179e"
             ],
             [
              0.4444444444444444,
              "#bd3786"
             ],
             [
              0.5555555555555556,
              "#d8576b"
             ],
             [
              0.6666666666666666,
              "#ed7953"
             ],
             [
              0.7777777777777778,
              "#fb9f3a"
             ],
             [
              0.8888888888888888,
              "#fdca26"
             ],
             [
              1,
              "#f0f921"
             ]
            ],
            "type": "contour"
           }
          ],
          "contourcarpet": [
           {
            "colorbar": {
             "outlinewidth": 0,
             "ticks": ""
            },
            "type": "contourcarpet"
           }
          ],
          "heatmap": [
           {
            "colorbar": {
             "outlinewidth": 0,
             "ticks": ""
            },
            "colorscale": [
             [
              0,
              "#0d0887"
             ],
             [
              0.1111111111111111,
              "#46039f"
             ],
             [
              0.2222222222222222,
              "#7201a8"
             ],
             [
              0.3333333333333333,
              "#9c179e"
             ],
             [
              0.4444444444444444,
              "#bd3786"
             ],
             [
              0.5555555555555556,
              "#d8576b"
             ],
             [
              0.6666666666666666,
              "#ed7953"
             ],
             [
              0.7777777777777778,
              "#fb9f3a"
             ],
             [
              0.8888888888888888,
              "#fdca26"
             ],
             [
              1,
              "#f0f921"
             ]
            ],
            "type": "heatmap"
           }
          ],
          "heatmapgl": [
           {
            "colorbar": {
             "outlinewidth": 0,
             "ticks": ""
            },
            "colorscale": [
             [
              0,
              "#0d0887"
             ],
             [
              0.1111111111111111,
              "#46039f"
             ],
             [
              0.2222222222222222,
              "#7201a8"
             ],
             [
              0.3333333333333333,
              "#9c179e"
             ],
             [
              0.4444444444444444,
              "#bd3786"
             ],
             [
              0.5555555555555556,
              "#d8576b"
             ],
             [
              0.6666666666666666,
              "#ed7953"
             ],
             [
              0.7777777777777778,
              "#fb9f3a"
             ],
             [
              0.8888888888888888,
              "#fdca26"
             ],
             [
              1,
              "#f0f921"
             ]
            ],
            "type": "heatmapgl"
           }
          ],
          "histogram": [
           {
            "marker": {
             "colorbar": {
              "outlinewidth": 0,
              "ticks": ""
             }
            },
            "type": "histogram"
           }
          ],
          "histogram2d": [
           {
            "colorbar": {
             "outlinewidth": 0,
             "ticks": ""
            },
            "colorscale": [
             [
              0,
              "#0d0887"
             ],
             [
              0.1111111111111111,
              "#46039f"
             ],
             [
              0.2222222222222222,
              "#7201a8"
             ],
             [
              0.3333333333333333,
              "#9c179e"
             ],
             [
              0.4444444444444444,
              "#bd3786"
             ],
             [
              0.5555555555555556,
              "#d8576b"
             ],
             [
              0.6666666666666666,
              "#ed7953"
             ],
             [
              0.7777777777777778,
              "#fb9f3a"
             ],
             [
              0.8888888888888888,
              "#fdca26"
             ],
             [
              1,
              "#f0f921"
             ]
            ],
            "type": "histogram2d"
           }
          ],
          "histogram2dcontour": [
           {
            "colorbar": {
             "outlinewidth": 0,
             "ticks": ""
            },
            "colorscale": [
             [
              0,
              "#0d0887"
             ],
             [
              0.1111111111111111,
              "#46039f"
             ],
             [
              0.2222222222222222,
              "#7201a8"
             ],
             [
              0.3333333333333333,
              "#9c179e"
             ],
             [
              0.4444444444444444,
              "#bd3786"
             ],
             [
              0.5555555555555556,
              "#d8576b"
             ],
             [
              0.6666666666666666,
              "#ed7953"
             ],
             [
              0.7777777777777778,
              "#fb9f3a"
             ],
             [
              0.8888888888888888,
              "#fdca26"
             ],
             [
              1,
              "#f0f921"
             ]
            ],
            "type": "histogram2dcontour"
           }
          ],
          "mesh3d": [
           {
            "colorbar": {
             "outlinewidth": 0,
             "ticks": ""
            },
            "type": "mesh3d"
           }
          ],
          "parcoords": [
           {
            "line": {
             "colorbar": {
              "outlinewidth": 0,
              "ticks": ""
             }
            },
            "type": "parcoords"
           }
          ],
          "pie": [
           {
            "automargin": true,
            "type": "pie"
           }
          ],
          "scatter": [
           {
            "marker": {
             "colorbar": {
              "outlinewidth": 0,
              "ticks": ""
             }
            },
            "type": "scatter"
           }
          ],
          "scatter3d": [
           {
            "line": {
             "colorbar": {
              "outlinewidth": 0,
              "ticks": ""
             }
            },
            "marker": {
             "colorbar": {
              "outlinewidth": 0,
              "ticks": ""
             }
            },
            "type": "scatter3d"
           }
          ],
          "scattercarpet": [
           {
            "marker": {
             "colorbar": {
              "outlinewidth": 0,
              "ticks": ""
             }
            },
            "type": "scattercarpet"
           }
          ],
          "scattergeo": [
           {
            "marker": {
             "colorbar": {
              "outlinewidth": 0,
              "ticks": ""
             }
            },
            "type": "scattergeo"
           }
          ],
          "scattergl": [
           {
            "marker": {
             "colorbar": {
              "outlinewidth": 0,
              "ticks": ""
             }
            },
            "type": "scattergl"
           }
          ],
          "scattermapbox": [
           {
            "marker": {
             "colorbar": {
              "outlinewidth": 0,
              "ticks": ""
             }
            },
            "type": "scattermapbox"
           }
          ],
          "scatterpolar": [
           {
            "marker": {
             "colorbar": {
              "outlinewidth": 0,
              "ticks": ""
             }
            },
            "type": "scatterpolar"
           }
          ],
          "scatterpolargl": [
           {
            "marker": {
             "colorbar": {
              "outlinewidth": 0,
              "ticks": ""
             }
            },
            "type": "scatterpolargl"
           }
          ],
          "scatterternary": [
           {
            "marker": {
             "colorbar": {
              "outlinewidth": 0,
              "ticks": ""
             }
            },
            "type": "scatterternary"
           }
          ],
          "surface": [
           {
            "colorbar": {
             "outlinewidth": 0,
             "ticks": ""
            },
            "colorscale": [
             [
              0,
              "#0d0887"
             ],
             [
              0.1111111111111111,
              "#46039f"
             ],
             [
              0.2222222222222222,
              "#7201a8"
             ],
             [
              0.3333333333333333,
              "#9c179e"
             ],
             [
              0.4444444444444444,
              "#bd3786"
             ],
             [
              0.5555555555555556,
              "#d8576b"
             ],
             [
              0.6666666666666666,
              "#ed7953"
             ],
             [
              0.7777777777777778,
              "#fb9f3a"
             ],
             [
              0.8888888888888888,
              "#fdca26"
             ],
             [
              1,
              "#f0f921"
             ]
            ],
            "type": "surface"
           }
          ],
          "table": [
           {
            "cells": {
             "fill": {
              "color": "#EBF0F8"
             },
             "line": {
              "color": "white"
             }
            },
            "header": {
             "fill": {
              "color": "#C8D4E3"
             },
             "line": {
              "color": "white"
             }
            },
            "type": "table"
           }
          ]
         },
         "layout": {
          "annotationdefaults": {
           "arrowcolor": "#2a3f5f",
           "arrowhead": 0,
           "arrowwidth": 1
          },
          "coloraxis": {
           "colorbar": {
            "outlinewidth": 0,
            "ticks": ""
           }
          },
          "colorscale": {
           "diverging": [
            [
             0,
             "#8e0152"
            ],
            [
             0.1,
             "#c51b7d"
            ],
            [
             0.2,
             "#de77ae"
            ],
            [
             0.3,
             "#f1b6da"
            ],
            [
             0.4,
             "#fde0ef"
            ],
            [
             0.5,
             "#f7f7f7"
            ],
            [
             0.6,
             "#e6f5d0"
            ],
            [
             0.7,
             "#b8e186"
            ],
            [
             0.8,
             "#7fbc41"
            ],
            [
             0.9,
             "#4d9221"
            ],
            [
             1,
             "#276419"
            ]
           ],
           "sequential": [
            [
             0,
             "#0d0887"
            ],
            [
             0.1111111111111111,
             "#46039f"
            ],
            [
             0.2222222222222222,
             "#7201a8"
            ],
            [
             0.3333333333333333,
             "#9c179e"
            ],
            [
             0.4444444444444444,
             "#bd3786"
            ],
            [
             0.5555555555555556,
             "#d8576b"
            ],
            [
             0.6666666666666666,
             "#ed7953"
            ],
            [
             0.7777777777777778,
             "#fb9f3a"
            ],
            [
             0.8888888888888888,
             "#fdca26"
            ],
            [
             1,
             "#f0f921"
            ]
           ],
           "sequentialminus": [
            [
             0,
             "#0d0887"
            ],
            [
             0.1111111111111111,
             "#46039f"
            ],
            [
             0.2222222222222222,
             "#7201a8"
            ],
            [
             0.3333333333333333,
             "#9c179e"
            ],
            [
             0.4444444444444444,
             "#bd3786"
            ],
            [
             0.5555555555555556,
             "#d8576b"
            ],
            [
             0.6666666666666666,
             "#ed7953"
            ],
            [
             0.7777777777777778,
             "#fb9f3a"
            ],
            [
             0.8888888888888888,
             "#fdca26"
            ],
            [
             1,
             "#f0f921"
            ]
           ]
          },
          "colorway": [
           "#636efa",
           "#EF553B",
           "#00cc96",
           "#ab63fa",
           "#FFA15A",
           "#19d3f3",
           "#FF6692",
           "#B6E880",
           "#FF97FF",
           "#FECB52"
          ],
          "font": {
           "color": "#2a3f5f"
          },
          "geo": {
           "bgcolor": "white",
           "lakecolor": "white",
           "landcolor": "#E5ECF6",
           "showlakes": true,
           "showland": true,
           "subunitcolor": "white"
          },
          "hoverlabel": {
           "align": "left"
          },
          "hovermode": "closest",
          "mapbox": {
           "style": "light"
          },
          "paper_bgcolor": "white",
          "plot_bgcolor": "#E5ECF6",
          "polar": {
           "angularaxis": {
            "gridcolor": "white",
            "linecolor": "white",
            "ticks": ""
           },
           "bgcolor": "#E5ECF6",
           "radialaxis": {
            "gridcolor": "white",
            "linecolor": "white",
            "ticks": ""
           }
          },
          "scene": {
           "xaxis": {
            "backgroundcolor": "#E5ECF6",
            "gridcolor": "white",
            "gridwidth": 2,
            "linecolor": "white",
            "showbackground": true,
            "ticks": "",
            "zerolinecolor": "white"
           },
           "yaxis": {
            "backgroundcolor": "#E5ECF6",
            "gridcolor": "white",
            "gridwidth": 2,
            "linecolor": "white",
            "showbackground": true,
            "ticks": "",
            "zerolinecolor": "white"
           },
           "zaxis": {
            "backgroundcolor": "#E5ECF6",
            "gridcolor": "white",
            "gridwidth": 2,
            "linecolor": "white",
            "showbackground": true,
            "ticks": "",
            "zerolinecolor": "white"
           }
          },
          "shapedefaults": {
           "line": {
            "color": "#2a3f5f"
           }
          },
          "ternary": {
           "aaxis": {
            "gridcolor": "white",
            "linecolor": "white",
            "ticks": ""
           },
           "baxis": {
            "gridcolor": "white",
            "linecolor": "white",
            "ticks": ""
           },
           "bgcolor": "#E5ECF6",
           "caxis": {
            "gridcolor": "white",
            "linecolor": "white",
            "ticks": ""
           }
          },
          "title": {
           "x": 0.05
          },
          "xaxis": {
           "automargin": true,
           "gridcolor": "white",
           "linecolor": "white",
           "ticks": "",
           "title": {
            "standoff": 15
           },
           "zerolinecolor": "white",
           "zerolinewidth": 2
          },
          "yaxis": {
           "automargin": true,
           "gridcolor": "white",
           "linecolor": "white",
           "ticks": "",
           "title": {
            "standoff": 15
           },
           "zerolinecolor": "white",
           "zerolinewidth": 2
          }
         }
        },
        "title": {
         "font": {
          "color": "#4D5663"
         }
        },
        "xaxis": {
         "gridcolor": "#E1E5ED",
         "showgrid": true,
         "tickfont": {
          "color": "#4D5663"
         },
         "title": {
          "font": {
           "color": "#4D5663"
          },
          "text": ""
         },
         "zerolinecolor": "#E1E5ED"
        },
        "yaxis": {
         "gridcolor": "#E1E5ED",
         "showgrid": true,
         "tickfont": {
          "color": "#4D5663"
         },
         "title": {
          "font": {
           "color": "#4D5663"
          },
          "text": ""
         },
         "zerolinecolor": "#E1E5ED"
        }
       }
      },
      "text/html": [
       "<div>                            <div id=\"3b4c43e2-ce3e-4d0b-9d77-f2f7f1f534bd\" class=\"plotly-graph-div\" style=\"height:525px; width:100%;\"></div>            <script type=\"text/javascript\">                require([\"plotly\"], function(Plotly) {                    window.PLOTLYENV=window.PLOTLYENV || {};\n",
       "                    window.PLOTLYENV.BASE_URL='https://plot.ly';                                    if (document.getElementById(\"3b4c43e2-ce3e-4d0b-9d77-f2f7f1f534bd\")) {                    Plotly.newPlot(                        \"3b4c43e2-ce3e-4d0b-9d77-f2f7f1f534bd\",                        [{\"boxpoints\": false, \"line\": {\"width\": 1.3}, \"marker\": {\"color\": \"rgba(255, 153, 51, 1.0)\"}, \"name\": \"10001\", \"orientation\": \"v\", \"type\": \"box\", \"y\": [16770, 17046, 20478, 16743, 17441, 18544, 20846, 22799, 21773, 25343, 20844, 21735, 23843, 21389, 21626, 22900, 22495, 21921, 18347, 20405, 21170, 22038, 23654, 23572, 20230, 10789, 5054, 18005, 20982, 23742, 25039]}, {\"boxpoints\": false, \"line\": {\"width\": 1.3}, \"marker\": {\"color\": \"rgba(55, 128, 191, 1.0)\"}, \"name\": \"10002\", \"orientation\": \"v\", \"type\": \"box\", \"y\": [9703, 5538, 10507, 9067, 3769, 4086, 4990, 5483, 7195, 13939, 12908, 4165, 5106, 5547, 6066, 8153, 13690, 13512, 5571, 4868, 5154, 5808, 7576, 12143, 13423, 2376, 1741, 4009, 5657, 7996, 14781]}, {\"boxpoints\": false, \"line\": {\"width\": 1.3}, \"marker\": {\"color\": \"rgba(50, 171, 96, 1.0)\"}, \"name\": \"10003\", \"orientation\": \"v\", \"type\": \"box\", \"y\": [21226, 18452, 26384, 19516, 16264, 17745, 21063, 22227, 23696, 34699, 26613, 17697, 21668, 21632, 22407, 26318, 33397, 30089, 17418, 19317, 20787, 22730, 25329, 30319, 26257, 10553, 7403, 18480, 21956, 26214, 36742]}, {\"boxpoints\": false, \"line\": {\"width\": 1.3}, \"marker\": {\"color\": \"rgba(128, 0, 128, 1.0)\"}, \"name\": \"10004\", \"orientation\": \"v\", \"type\": \"box\", \"y\": [2137, 1972, 1560, 1182, 1921, 1798, 2277, 2470, 2299, 1799, 1349, 1936, 2511, 2541, 2701, 2520, 1846, 1220, 1264, 2128, 2327, 2556, 2509, 1553, 1511, 917, 461, 1912, 2323, 2428, 1772]}, {\"boxpoints\": false, \"line\": {\"width\": 1.3}, \"marker\": {\"color\": \"rgba(219, 64, 82, 1.0)\"}, \"name\": \"10005\", \"orientation\": \"v\", \"type\": \"box\", \"y\": [1485, 1234, 1290, 964, 1475, 1735, 1939, 2032, 2087, 1757, 1294, 1781, 2030, 2085, 2123, 2137, 1643, 1223, 1246, 1898, 2146, 2141, 2259, 1711, 1384, 935, 508, 1742, 2092, 2191, 1887]}, {\"boxpoints\": false, \"line\": {\"width\": 1.3}, \"marker\": {\"color\": \"rgba(0, 128, 128, 1.0)\"}, \"name\": \"10006\", \"orientation\": \"v\", \"type\": \"box\", \"y\": [1656, 1405, 1575, 993, 956, 938, 1158, 1199, 1069, 1502, 1040, 1162, 1243, 1143, 1206, 1280, 1600, 1071, 990, 1058, 1101, 1252, 1238, 1218, 1191, 469, 369, 904, 1109, 1204, 1409]}, {\"boxpoints\": false, \"line\": {\"width\": 1.3}, \"marker\": {\"color\": \"rgba(255, 255, 51, 1.0)\"}, \"name\": \"10007\", \"orientation\": \"v\", \"type\": \"box\", \"y\": [2868, 2437, 2358, 1844, 2438, 2502, 3056, 3293, 3234, 3392, 2644, 2747, 3323, 3226, 3417, 3550, 2873, 2372, 1924, 2853, 3047, 3378, 3627, 2789, 2532, 1502, 863, 2691, 3215, 3724, 3393]}, {\"boxpoints\": false, \"line\": {\"width\": 1.3}, \"marker\": {\"color\": \"rgba(128, 128, 0, 1.0)\"}, \"name\": \"10009\", \"orientation\": \"v\", \"type\": \"box\", \"y\": [10049, 7158, 10918, 8098, 5213, 5373, 6488, 6481, 7949, 14088, 10932, 4935, 5973, 6312, 6722, 8840, 13734, 12763, 6671, 5699, 5933, 6738, 8555, 12842, 11739, 3778, 2489, 5380, 6399, 9071, 15583]}, {\"boxpoints\": false, \"line\": {\"width\": 1.3}, \"marker\": {\"color\": \"rgba(251, 128, 114, 1.0)\"}, \"name\": \"10010\", \"orientation\": \"v\", \"type\": \"box\", \"y\": [10306, 9334, 11338, 8738, 10431, 11680, 13315, 14207, 14140, 15717, 12653, 12183, 13944, 13982, 14378, 14957, 14114, 12763, 9540, 12859, 13652, 14480, 15032, 14044, 11483, 6914, 4127, 12162, 13891, 15515, 16029]}, {\"boxpoints\": false, \"line\": {\"width\": 1.3}, \"marker\": {\"color\": \"rgba(128, 177, 211, 1.0)\"}, \"name\": \"10011\", \"orientation\": \"v\", \"type\": \"box\", \"y\": [15644, 16040, 20606, 15877, 16002, 17649, 20367, 21880, 22150, 29604, 22848, 17914, 21453, 21873, 22522, 24958, 29201, 23831, 17287, 18918, 21284, 22866, 24590, 26209, 22821, 10582, 6341, 18399, 21221, 25201, 31693]}, {\"boxpoints\": false, \"line\": {\"width\": 1.3}, \"marker\": {\"color\": \"rgba(128, 177, 211, 0.9191919191919191)\"}, \"name\": \"10012\", \"orientation\": \"v\", \"type\": \"box\", \"y\": [9693, 10435, 13945, 10729, 8401, 8812, 10528, 11012, 12306, 18997, 14307, 8941, 11179, 11331, 11820, 13539, 17385, 14341, 9852, 9765, 10726, 11792, 13150, 16171, 14469, 4431, 3729, 9191, 11037, 13872, 18318]}, {\"boxpoints\": false, \"line\": {\"width\": 1.3}, \"marker\": {\"color\": \"rgba(255, 153, 51, 0.9191919191919191)\"}, \"name\": \"10013\", \"orientation\": \"v\", \"type\": \"box\", \"y\": [8744, 7670, 8514, 6459, 7797, 8279, 9465, 10291, 11037, 12164, 10394, 9234, 10201, 10562, 11149, 11645, 11603, 9862, 6856, 9616, 10572, 11159, 11280, 11433, 10238, 4499, 2879, 8389, 10657, 12160, 12669]}, {\"boxpoints\": false, \"line\": {\"width\": 1.3}, \"marker\": {\"color\": \"rgba(55, 128, 191, 0.9191919191919191)\"}, \"name\": \"10014\", \"orientation\": \"v\", \"type\": \"box\", \"y\": [10797, 10855, 16024, 11651, 9598, 10461, 11978, 13128, 14328, 21170, 16593, 10942, 13223, 13607, 13939, 16062, 20137, 17782, 11044, 11826, 13015, 13900, 16127, 19320, 17489, 6006, 3905, 10748, 12782, 16402, 21552]}, {\"boxpoints\": false, \"line\": {\"width\": 1.3}, \"marker\": {\"color\": \"rgba(50, 171, 96, 0.9191919191919191)\"}, \"name\": \"10016\", \"orientation\": \"v\", \"type\": \"box\", \"y\": [21076, 18222, 20313, 15118, 17884, 20415, 22272, 24345, 24829, 26319, 20062, 20577, 23526, 23593, 24331, 26011, 24178, 20890, 16276, 21060, 22843, 24315, 26109, 24304, 19182, 12498, 6625, 20036, 23511, 26619, 26201]}, {\"boxpoints\": false, \"line\": {\"width\": 1.3}, \"marker\": {\"color\": \"rgba(128, 0, 128, 0.9191919191919191)\"}, \"name\": \"10017\", \"orientation\": \"v\", \"type\": \"box\", \"y\": [10664, 11705, 11916, 8784, 13659, 15931, 17211, 18698, 16933, 13364, 10299, 16127, 17673, 18771, 18099, 16928, 12632, 10474, 11019, 16458, 18212, 18553, 17537, 12320, 9787, 8597, 4580, 15611, 17281, 16916, 12892]}, {\"boxpoints\": false, \"line\": {\"width\": 1.3}, \"marker\": {\"color\": \"rgba(219, 64, 82, 0.9191919191919191)\"}, \"name\": \"10018\", \"orientation\": \"v\", \"type\": \"box\", \"y\": [7904, 8687, 9170, 7675, 9629, 10468, 11675, 12209, 11528, 10630, 9672, 12631, 13780, 12634, 12298, 12369, 10363, 9798, 9465, 11979, 12188, 12257, 12425, 10410, 9115, 6212, 2625, 9905, 11664, 12488, 11077]}, {\"boxpoints\": false, \"line\": {\"width\": 1.3}, \"marker\": {\"color\": \"rgba(0, 128, 128, 0.9191919191919191)\"}, \"name\": \"10019\", \"orientation\": \"v\", \"type\": \"box\", \"y\": [23614, 22443, 26120, 20168, 23620, 25676, 28843, 29973, 28937, 30186, 25567, 27703, 32728, 31502, 30369, 30143, 27930, 27521, 20952, 26504, 29482, 30380, 29797, 28481, 23336, 13786, 10056, 24287, 27966, 30298, 28899]}, {\"boxpoints\": false, \"line\": {\"width\": 1.3}, \"marker\": {\"color\": \"rgba(255, 255, 51, 0.9191919191919191)\"}, \"name\": \"10020\", \"orientation\": \"v\", \"type\": \"box\", \"y\": [1192, 1452, 1503, 1096, 1482, 1670, 1739, 1775, 1499, 1314, 1090, 1617, 1574, 1808, 1597, 1545, 1384, 1060, 1190, 1707, 1699, 1694, 1691, 1267, 1077, 682, 662, 1558, 1410, 1484, 1388]}, {\"boxpoints\": false, \"line\": {\"width\": 1.3}, \"marker\": {\"color\": \"rgba(128, 128, 0, 0.9191919191919191)\"}, \"name\": \"10021\", \"orientation\": \"v\", \"type\": \"box\", \"y\": [9236, 10538, 10430, 8511, 14068, 14746, 17242, 16878, 15461, 14835, 11016, 14529, 16650, 16453, 16695, 16785, 12955, 10345, 11153, 15718, 16562, 16927, 16948, 13192, 11456, 10403, 5498, 15022, 16276, 17303, 14656]}, {\"boxpoints\": false, \"line\": {\"width\": 1.3}, \"marker\": {\"color\": \"rgba(251, 128, 114, 0.9191919191919191)\"}, \"name\": \"10022\", \"orientation\": \"v\", \"type\": \"box\", \"y\": [17582, 18181, 20050, 14911, 21519, 23147, 25455, 26713, 24794, 23370, 17751, 23863, 26840, 27347, 27122, 25879, 22253, 17404, 17340, 23941, 26450, 27610, 25800, 21205, 16887, 11810, 8352, 22619, 25229, 25457, 22950]}, {\"boxpoints\": false, \"line\": {\"width\": 1.3}, \"marker\": {\"color\": \"rgba(251, 128, 114, 0.8383838383838382)\"}, \"name\": \"10023\", \"orientation\": \"v\", \"type\": \"box\", \"y\": [12798, 13087, 14593, 11368, 13529, 14290, 15931, 16484, 15692, 19909, 15255, 13812, 16570, 15301, 16595, 16923, 17126, 14287, 12983, 14934, 15973, 16107, 17187, 16925, 14600, 9162, 5654, 14509, 16012, 16617, 18836]}, {\"boxpoints\": false, \"line\": {\"width\": 1.3}, \"marker\": {\"color\": \"rgba(128, 177, 211, 0.8383838383838382)\"}, \"name\": \"10024\", \"orientation\": \"v\", \"type\": \"box\", \"y\": [10708, 9739, 11208, 9173, 10374, 11226, 12563, 12496, 12028, 16874, 13103, 10410, 12219, 11505, 12147, 12868, 12855, 12281, 10265, 11080, 11592, 12281, 12731, 13251, 11814, 6996, 4351, 10731, 11734, 12822, 14348]}, {\"boxpoints\": false, \"line\": {\"width\": 1.3}, \"marker\": {\"color\": \"rgba(255, 153, 51, 0.8383838383838382)\"}, \"name\": \"10025\", \"orientation\": \"v\", \"type\": \"box\", \"y\": [9115, 7354, 8446, 7602, 8128, 8714, 9725, 9874, 9716, 11260, 9612, 8279, 9598, 9156, 9558, 10420, 9961, 9164, 7635, 8815, 9610, 9664, 10624, 10167, 9700, 6194, 3256, 8397, 9769, 11300, 13290]}, {\"boxpoints\": false, \"line\": {\"width\": 1.3}, \"marker\": {\"color\": \"rgba(55, 128, 191, 0.8383838383838382)\"}, \"name\": \"10026\", \"orientation\": \"v\", \"type\": \"box\", \"y\": [1349, 705, 926, 870, 717, 795, 886, 853, 1022, 1101, 935, 713, 829, 795, 856, 1014, 1014, 1247, 688, 747, 724, 713, 960, 1045, 901, 695, 381, 727, 861, 1203, 1683]}, {\"boxpoints\": false, \"line\": {\"width\": 1.3}, \"marker\": {\"color\": \"rgba(50, 171, 96, 0.8383838383838382)\"}, \"name\": \"10027\", \"orientation\": \"v\", \"type\": \"box\", \"y\": [2176, 938, 1243, 1200, 1148, 1293, 1500, 1478, 1681, 1517, 1397, 1328, 1498, 1420, 1606, 1747, 1622, 1845, 1118, 1447, 1585, 1716, 1794, 1674, 1545, 1265, 499, 1417, 1756, 2424, 2535]}, {\"boxpoints\": false, \"line\": {\"width\": 1.3}, \"marker\": {\"color\": \"rgba(128, 0, 128, 0.8383838383838382)\"}, \"name\": \"10028\", \"orientation\": \"v\", \"type\": \"box\", \"y\": [9509, 9373, 10497, 8360, 10718, 10179, 12145, 12152, 11979, 14585, 10841, 9977, 11775, 11514, 11870, 13057, 12567, 10105, 9460, 10793, 11280, 11846, 13212, 12768, 10614, 7415, 4018, 10388, 11289, 13266, 14129]}, {\"boxpoints\": false, \"line\": {\"width\": 1.3}, \"marker\": {\"color\": \"rgba(219, 64, 82, 0.8383838383838382)\"}, \"name\": \"10029\", \"orientation\": \"v\", \"type\": \"box\", \"y\": [3002, 2109, 2514, 2172, 2294, 2640, 2764, 2754, 2928, 3126, 2457, 2334, 2544, 2458, 2559, 2948, 2917, 2554, 1954, 2290, 2197, 2225, 2840, 2722, 2284, 2103, 1055, 2168, 2678, 3444, 3628]}, {\"boxpoints\": false, \"line\": {\"width\": 1.3}, \"marker\": {\"color\": \"rgba(0, 128, 128, 0.8383838383838382)\"}, \"name\": \"10030\", \"orientation\": \"v\", \"type\": \"box\", \"y\": [470, 137, 196, 173, 158, 144, 146, 170, 198, 190, 180, 163, 151, 121, 141, 224, 218, 236, 137, 131, 137, 112, 152, 188, 193, 146, 87, 144, 170, 266, 399]}, {\"boxpoints\": false, \"line\": {\"width\": 1.3}, \"marker\": {\"color\": \"rgba(255, 255, 51, 0.8383838383838382)\"}, \"name\": \"10031\", \"orientation\": \"v\", \"type\": \"box\", \"y\": [1450, 423, 499, 518, 455, 459, 508, 590, 615, 636, 632, 424, 481, 469, 495, 640, 607, 859, 435, 420, 471, 443, 555, 631, 570, 431, 206, 408, 496, 741, 842]}, {\"boxpoints\": false, \"line\": {\"width\": 1.3}, \"marker\": {\"color\": \"rgba(128, 128, 0, 0.8383838383838382)\"}, \"name\": \"10032\", \"orientation\": \"v\", \"type\": \"box\", \"y\": [766, 186, 193, 242, 253, 270, 274, 302, 340, 269, 285, 256, 288, 284, 251, 342, 284, 342, 183, 234, 283, 266, 293, 242, 238, 264, 111, 243, 241, 399, 341]}, {\"boxpoints\": false, \"line\": {\"width\": 1.3}, \"marker\": {\"color\": \"rgba(128, 128, 0, 0.7575757575757576)\"}, \"name\": \"10033\", \"orientation\": \"v\", \"type\": \"box\", \"y\": [420, 72, 96, 112, 96, 84, 101, 91, 131, 134, 115, 86, 83, 79, 111, 120, 115, 184, 100, 72, 99, 86, 113, 132, 129, 83, 39, 82, 104, 163, 169]}, {\"boxpoints\": false, \"line\": {\"width\": 1.3}, \"marker\": {\"color\": \"rgba(251, 128, 114, 0.7575757575757576)\"}, \"name\": \"10034\", \"orientation\": \"v\", \"type\": \"box\", \"y\": [244, 33, 45, 54, 30, 20, 34, 42, 36, 62, 41, 26, 33, 35, 33, 44, 42, 73, 34, 23, 29, 33, 33, 74, 47, 21, 25, 18, 36, 67, 53]}, {\"boxpoints\": false, \"line\": {\"width\": 1.3}, \"marker\": {\"color\": \"rgba(128, 177, 211, 0.7575757575757576)\"}, \"name\": \"10035\", \"orientation\": \"v\", \"type\": \"box\", \"y\": [1276, 609, 813, 714, 729, 718, 756, 809, 895, 868, 714, 650, 690, 606, 744, 932, 1062, 889, 595, 603, 638, 666, 822, 848, 815, 742, 297, 620, 750, 1210, 1223]}, {\"boxpoints\": false, \"line\": {\"width\": 1.3}, \"marker\": {\"color\": \"rgba(255, 153, 51, 0.7575757575757576)\"}, \"name\": \"10036\", \"orientation\": \"v\", \"type\": \"box\", \"y\": [19151, 18287, 21478, 17972, 16425, 18583, 20401, 20902, 19578, 23429, 20795, 19994, 22077, 21063, 19880, 21689, 22653, 23337, 16313, 18027, 19865, 19932, 20593, 22069, 19339, 9564, 7207, 16581, 17969, 20814, 22969]}, {\"boxpoints\": false, \"line\": {\"width\": 1.3}, \"marker\": {\"color\": \"rgba(55, 128, 191, 0.7575757575757576)\"}, \"name\": \"10037\", \"orientation\": \"v\", \"type\": \"box\", \"y\": [277, 100, 161, 141, 125, 136, 147, 145, 186, 142, 118, 126, 129, 114, 141, 161, 137, 142, 90, 118, 125, 141, 142, 140, 110, 125, 51, 143, 132, 245, 296]}, {\"boxpoints\": false, \"line\": {\"width\": 1.3}, \"marker\": {\"color\": \"rgba(50, 171, 96, 0.7575757575757576)\"}, \"name\": \"10038\", \"orientation\": \"v\", \"type\": \"box\", \"y\": [2562, 1931, 2025, 1531, 1825, 1929, 2161, 2385, 2497, 2611, 1933, 2084, 2298, 2427, 2517, 2700, 2570, 1955, 1568, 2132, 2354, 2492, 2669, 2569, 2124, 1174, 638, 1957, 2437, 2912, 2752]}, {\"boxpoints\": false, \"line\": {\"width\": 1.3}, \"marker\": {\"color\": \"rgba(128, 0, 128, 0.7575757575757576)\"}, \"name\": \"10039\", \"orientation\": \"v\", \"type\": \"box\", \"y\": [213, 45, 84, 72, 67, 45, 52, 49, 85, 90, 79, 39, 43, 52, 48, 68, 76, 111, 53, 44, 46, 54, 47, 85, 67, 59, 35, 46, 56, 61, 121]}, {\"boxpoints\": false, \"line\": {\"width\": 1.3}, \"marker\": {\"color\": \"rgba(219, 64, 82, 0.7575757575757576)\"}, \"name\": \"10065\", \"orientation\": \"v\", \"type\": \"box\", \"y\": [9194, 10209, 11400, 8390, 12644, 13606, 15144, 15925, 15064, 14510, 10546, 13412, 15754, 15492, 15557, 15764, 12790, 9424, 10927, 14205, 14646, 15882, 15808, 12796, 10121, 8738, 5177, 13806, 15836, 16143, 14236]}, {\"boxpoints\": false, \"line\": {\"width\": 1.3}, \"marker\": {\"color\": \"rgba(0, 128, 128, 0.7575757575757576)\"}, \"name\": \"10069\", \"orientation\": \"v\", \"type\": \"box\", \"y\": [610, 619, 644, 607, 628, 709, 790, 781, 685, 930, 763, 642, 717, 695, 733, 832, 838, 718, 729, 759, 738, 787, 861, 858, 813, 415, 209, 723, 750, 791, 951]}, {\"boxpoints\": false, \"line\": {\"width\": 1.3}, \"marker\": {\"color\": \"rgba(255, 255, 51, 0.7575757575757576)\"}, \"name\": \"10075\", \"orientation\": \"v\", \"type\": \"box\", \"y\": [5446, 5641, 6100, 4757, 7070, 7086, 8151, 8223, 7951, 8541, 6165, 6679, 8060, 7976, 8087, 8628, 7302, 5643, 5873, 7545, 7616, 8358, 8486, 7498, 6239, 5041, 3132, 7225, 7873, 8830, 8369]}, {\"boxpoints\": false, \"line\": {\"width\": 1.3}, \"marker\": {\"color\": \"rgba(255, 255, 51, 0.6767676767676767)\"}, \"name\": \"10103\", \"orientation\": \"v\", \"type\": \"box\", \"y\": [419, 478, 572, 387, 448, 512, 467, 562, 513, 535, 492, 610, 612, 595, 552, 509, 527, 647, 369, 556, 557, 649, 475, 535, 384, 219, 184, 472, 457, 482, 520]}, {\"boxpoints\": false, \"line\": {\"width\": 1.3}, \"marker\": {\"color\": \"rgba(128, 128, 0, 0.6767676767676767)\"}, \"name\": \"10110\", \"orientation\": \"v\", \"type\": \"box\", \"y\": [411, 330, 305, 222, 399, 505, 504, 529, 477, 366, 273, 503, 555, 580, 501, 438, 305, 220, 256, 543, 580, 544, 507, 306, 311, 222, 186, 499, 479, 502, 343]}, {\"boxpoints\": false, \"line\": {\"width\": 1.3}, \"marker\": {\"color\": \"rgba(251, 128, 114, 0.6767676767676767)\"}, \"name\": \"10111\", \"orientation\": \"v\", \"type\": \"box\", \"y\": [244, 259, 310, 183, 237, 240, 267, 252, 184, 177, 210, 209, 225, 255, 249, 222, 246, 202, 198, 252, 245, 269, 272, 252, 175, 80, 87, 233, 226, 206, 232]}, {\"boxpoints\": false, \"line\": {\"width\": 1.3}, \"marker\": {\"color\": \"rgba(128, 177, 211, 0.6767676767676767)\"}, \"name\": \"10112\", \"orientation\": \"v\", \"type\": \"box\", \"y\": [204, 282, 335, 188, 351, 285, 328, 326, 258, 210, 176, 302, 283, 334, 277, 261, 301, 210, 276, 245, 306, 265, 347, 306, 218, 117, 115, 307, 227, 245, 250]}, {\"boxpoints\": false, \"line\": {\"width\": 1.3}, \"marker\": {\"color\": \"rgba(255, 153, 51, 0.6767676767676767)\"}, \"name\": \"10119\", \"orientation\": \"v\", \"type\": \"box\", \"y\": [3704, 5431, 5257, 5465, 4818, 5120, 5323, 5657, 5178, 5405, 4425, 5238, 5325, 5379, 5565, 6370, 5408, 4802, 5325, 5598, 5594, 5929, 6270, 5314, 4680, 3347, 765, 4773, 5554, 5862, 5458]}, {\"boxpoints\": false, \"line\": {\"width\": 1.3}, \"marker\": {\"color\": \"rgba(55, 128, 191, 0.6767676767676767)\"}, \"name\": \"10128\", \"orientation\": \"v\", \"type\": \"box\", \"y\": [9250, 9096, 10478, 8396, 11493, 11676, 13498, 13350, 13121, 14628, 11175, 11856, 12933, 12648, 13154, 13814, 12580, 10359, 9664, 12246, 12363, 13259, 14009, 12956, 10845, 8238, 4355, 11706, 12655, 14584, 14674]}, {\"boxpoints\": false, \"line\": {\"width\": 1.3}, \"marker\": {\"color\": \"rgba(50, 171, 96, 0.6767676767676767)\"}, \"name\": \"10152\", \"orientation\": \"v\", \"type\": \"box\", \"y\": [115, 183, 178, 139, 440, 490, 572, 535, 403, 230, 194, 513, 611, 635, 549, 383, 234, 169, 232, 577, 617, 631, 429, 196, 191, 160, 170, 535, 537, 426, 232]}, {\"boxpoints\": false, \"line\": {\"width\": 1.3}, \"marker\": {\"color\": \"rgba(128, 0, 128, 0.6767676767676767)\"}, \"name\": \"10153\", \"orientation\": \"v\", \"type\": \"box\", \"y\": [469, 538, 702, 407, 620, 636, 717, 692, 593, 565, 443, 663, 656, 696, 682, 653, 583, 513, 445, 597, 636, 676, 594, 565, 461, 222, 308, 600, 557, 581, 641]}, {\"boxpoints\": false, \"line\": {\"width\": 1.3}, \"marker\": {\"color\": \"rgba(219, 64, 82, 0.6767676767676767)\"}, \"name\": \"10154\", \"orientation\": \"v\", \"type\": \"box\", \"y\": [155, 218, 207, 171, 381, 416, 466, 477, 408, 274, 220, 528, 551, 577, 531, 413, 303, 193, 229, 522, 525, 583, 434, 232, 193, 161, 162, 478, 515, 386, 259]}, {\"boxpoints\": false, \"line\": {\"width\": 1.3}, \"marker\": {\"color\": \"rgba(0, 128, 128, 0.6767676767676767)\"}, \"name\": \"10162\", \"orientation\": \"v\", \"type\": \"box\", \"y\": [95, 131, 123, 78, 185, 199, 204, 205, 196, 192, 130, 187, 222, 220, 221, 249, 155, 128, 120, 200, 184, 252, 251, 179, 158, 140, 51, 213, 190, 254, 168]}, {\"boxpoints\": false, \"line\": {\"width\": 1.3}, \"marker\": {\"color\": \"rgba(0, 128, 128, 0.5959595959595958)\"}, \"name\": \"10165\", \"orientation\": \"v\", \"type\": \"box\", \"y\": [572, 668, 745, 592, 776, 860, 979, 1062, 935, 863, 628, 1025, 1074, 1080, 1027, 927, 850, 770, 859, 1046, 1158, 1079, 999, 849, 707, 575, 189, 917, 1054, 915, 941]}, {\"boxpoints\": false, \"line\": {\"width\": 1.3}, \"marker\": {\"color\": \"rgba(255, 255, 51, 0.5959595959595958)\"}, \"name\": \"10167\", \"orientation\": \"v\", \"type\": \"box\", \"y\": [157, 135, 107, 97, 306, 324, 343, 399, 292, 143, 155, 384, 382, 419, 401, 345, 154, 106, 174, 401, 447, 409, 358, 147, 115, 173, 110, 377, 385, 314, 127]}, {\"boxpoints\": false, \"line\": {\"width\": 1.3}, \"marker\": {\"color\": \"rgba(128, 128, 0, 0.5959595959595958)\"}, \"name\": \"10168\", \"orientation\": \"v\", \"type\": \"box\", \"y\": [547, 461, 658, 447, 404, 454, 450, 561, 592, 612, 489, 534, 569, 579, 533, 506, 564, 545, 389, 479, 567, 582, 507, 501, 440, 300, 105, 442, 539, 561, 504]}, {\"boxpoints\": false, \"line\": {\"width\": 1.3}, \"marker\": {\"color\": \"rgba(251, 128, 114, 0.5959595959595958)\"}, \"name\": \"10169\", \"orientation\": \"v\", \"type\": \"box\", \"y\": [65, 87, 68, 69, 164, 201, 232, 250, 190, 79, 85, 226, 276, 246, 263, 182, 79, 65, 102, 226, 260, 280, 208, 77, 72, 96, 63, 222, 246, 205, 90]}, {\"boxpoints\": false, \"line\": {\"width\": 1.3}, \"marker\": {\"color\": \"rgba(128, 177, 211, 0.5959595959595958)\"}, \"name\": \"10170\", \"orientation\": \"v\", \"type\": \"box\", \"y\": [743, 711, 910, 692, 755, 911, 914, 1084, 1005, 990, 891, 999, 1064, 1142, 1074, 1011, 830, 785, 716, 927, 1071, 1101, 1063, 788, 707, 528, 224, 831, 1002, 981, 857]}, {\"boxpoints\": false, \"line\": {\"width\": 1.3}, \"marker\": {\"color\": \"rgba(255, 153, 51, 0.5959595959595958)\"}, \"name\": \"10171\", \"orientation\": \"v\", \"type\": \"box\", \"y\": [318, 356, 324, 219, 369, 387, 449, 459, 470, 380, 339, 495, 503, 563, 490, 440, 389, 356, 219, 463, 545, 454, 453, 313, 236, 218, 153, 392, 456, 401, 339]}, {\"boxpoints\": false, \"line\": {\"width\": 1.3}, \"marker\": {\"color\": \"rgba(55, 128, 191, 0.5959595959595958)\"}, \"name\": \"10172\", \"orientation\": \"v\", \"type\": \"box\", \"y\": [286, 292, 190, 180, 418, 509, 488, 517, 499, 279, 225, 530, 547, 638, 573, 411, 314, 207, 214, 570, 628, 567, 492, 300, 241, 257, 173, 532, 555, 458, 238]}, {\"boxpoints\": false, \"line\": {\"width\": 1.3}, \"marker\": {\"color\": \"rgba(50, 171, 96, 0.5959595959595958)\"}, \"name\": \"10173\", \"orientation\": \"v\", \"type\": \"box\", \"y\": [183, 232, 180, 144, 273, 332, 346, 377, 309, 206, 149, 326, 341, 342, 360, 297, 195, 136, 228, 330, 364, 358, 335, 173, 167, 171, 96, 270, 277, 270, 199]}, {\"boxpoints\": false, \"line\": {\"width\": 1.3}, \"marker\": {\"color\": \"rgba(128, 0, 128, 0.5959595959595958)\"}, \"name\": \"10174\", \"orientation\": \"v\", \"type\": \"box\", \"y\": [377, 437, 451, 387, 513, 597, 689, 683, 684, 541, 459, 620, 724, 740, 699, 669, 498, 407, 472, 713, 726, 717, 690, 471, 435, 329, 181, 547, 680, 698, 504]}, {\"boxpoints\": false, \"line\": {\"width\": 1.3}, \"marker\": {\"color\": \"rgba(219, 64, 82, 0.5959595959595958)\"}, \"name\": \"10177\", \"orientation\": \"v\", \"type\": \"box\", \"y\": [35, 85, 34, 31, 181, 234, 237, 259, 209, 56, 61, 273, 280, 239, 237, 189, 50, 33, 92, 244, 295, 257, 210, 61, 67, 99, 71, 221, 250, 201, 74]}, {\"boxpoints\": false, \"line\": {\"width\": 1.3}, \"marker\": {\"color\": \"rgba(219, 64, 82, 0.5151515151515149)\"}, \"name\": \"10199\", \"orientation\": \"v\", \"type\": \"box\", \"y\": [527, 812, 762, 766, 728, 705, 790, 838, 900, 770, 771, 823, 749, 805, 864, 922, 804, 792, 854, 864, 895, 863, 894, 805, 768, 510, 154, 787, 884, 814, 767]}, {\"boxpoints\": false, \"line\": {\"width\": 1.3}, \"marker\": {\"color\": \"rgba(0, 128, 128, 0.5151515151515149)\"}, \"name\": \"10278\", \"orientation\": \"v\", \"type\": \"box\", \"y\": [74, 98, 66, 48, 134, 142, 168, 180, 148, 91, 71, 134, 147, 140, 156, 157, 65, 59, 51, 145, 164, 177, 142, 70, 68, 91, 28, 133, 134, 163, 89]}, {\"boxpoints\": false, \"line\": {\"width\": 1.3}, \"marker\": {\"color\": \"rgba(255, 255, 51, 0.5151515151515149)\"}, \"name\": \"10279\", \"orientation\": \"v\", \"type\": \"box\", \"y\": [94, 81, 103, 81, 84, 90, 134, 152, 137, 115, 116, 80, 142, 126, 146, 170, 101, 147, 73, 117, 167, 177, 180, 102, 108, 70, 26, 135, 192, 184, 159]}, {\"boxpoints\": false, \"line\": {\"width\": 1.3}, \"marker\": {\"color\": \"rgba(128, 128, 0, 0.5151515151515149)\"}, \"name\": \"10280\", \"orientation\": \"v\", \"type\": \"box\", \"y\": [1511, 1560, 1313, 1014, 1565, 1570, 1859, 2005, 1858, 1721, 1335, 1667, 1919, 1995, 2091, 2028, 1746, 1265, 1155, 1741, 1937, 2056, 2005, 1574, 1393, 1023, 464, 1767, 1952, 2134, 1803]}, {\"boxpoints\": false, \"line\": {\"width\": 1.3}, \"marker\": {\"color\": \"rgba(251, 128, 114, 0.5151515151515149)\"}, \"name\": \"10282\", \"orientation\": \"v\", \"type\": \"box\", \"y\": [928, 1185, 1080, 844, 1558, 1719, 1858, 2115, 1945, 1441, 1140, 1988, 2177, 2072, 2095, 2066, 1479, 1209, 1259, 1950, 2074, 1957, 1904, 1271, 1195, 1156, 570, 1882, 2052, 2035, 1367]}, {\"boxpoints\": false, \"line\": {\"width\": 1.3}, \"marker\": {\"color\": \"rgba(128, 177, 211, 0.5151515151515149)\"}, \"name\": \"10451\", \"orientation\": \"v\", \"type\": \"box\", \"y\": [187, 67, 98, 78, 89, 80, 98, 116, 155, 122, 81, 75, 79, 70, 82, 118, 149, 100, 70, 80, 68, 82, 78, 165, 100, 73, 40, 91, 86, 140, 135]}, {\"boxpoints\": false, \"line\": {\"width\": 1.3}, \"marker\": {\"color\": \"rgba(255, 153, 51, 0.5151515151515149)\"}, \"name\": \"11101\", \"orientation\": \"v\", \"type\": \"box\", \"y\": [1736, 874, 1764, 1537, 1237, 1208, 1217, 1297, 1629, 1968, 1501, 1178, 1221, 1429, 1601, 1709, 1948, 1755, 1194, 1278, 1144, 1243, 1322, 1821, 1554, 811, 411, 1111, 1333, 1382, 2052]}, {\"boxpoints\": false, \"line\": {\"width\": 1.3}, \"marker\": {\"color\": \"rgba(55, 128, 191, 0.5151515151515149)\"}, \"name\": \"11102\", \"orientation\": \"v\", \"type\": \"box\", \"y\": [1065, 402, 550, 589, 375, 352, 398, 402, 555, 612, 688, 320, 327, 375, 408, 444, 550, 679, 356, 365, 310, 361, 464, 618, 552, 381, 199, 343, 363, 467, 618]}, {\"boxpoints\": false, \"line\": {\"width\": 1.3}, \"marker\": {\"color\": \"rgba(50, 171, 96, 0.5151515151515149)\"}, \"name\": \"11103\", \"orientation\": \"v\", \"type\": \"box\", \"y\": [1099, 251, 481, 478, 246, 239, 221, 251, 371, 586, 549, 238, 245, 271, 242, 316, 504, 560, 286, 205, 223, 237, 254, 480, 431, 234, 152, 249, 230, 284, 494]}, {\"boxpoints\": false, \"line\": {\"width\": 1.3}, \"marker\": {\"color\": \"rgba(128, 0, 128, 0.5151515151515149)\"}, \"name\": \"11104\", \"orientation\": \"v\", \"type\": \"box\", \"y\": [729, 392, 428, 462, 466, 395, 470, 485, 438, 618, 443, 403, 388, 366, 413, 509, 678, 653, 425, 415, 386, 442, 510, 703, 583, 360, 211, 375, 414, 481, 657]}, {\"boxpoints\": false, \"line\": {\"width\": 1.3}, \"marker\": {\"color\": \"rgba(128, 0, 128, 0.4343434343434343)\"}, \"name\": \"11105\", \"orientation\": \"v\", \"type\": \"box\", \"y\": [555, 132, 220, 212, 146, 133, 163, 230, 209, 267, 281, 120, 117, 172, 132, 195, 266, 305, 150, 106, 120, 135, 200, 256, 248, 178, 77, 183, 138, 195, 227]}, {\"boxpoints\": false, \"line\": {\"width\": 1.3}, \"marker\": {\"color\": \"rgba(219, 64, 82, 0.4343434343434343)\"}, \"name\": \"11106\", \"orientation\": \"v\", \"type\": \"box\", \"y\": [1288, 497, 755, 734, 478, 475, 525, 562, 724, 858, 888, 497, 480, 539, 523, 617, 789, 832, 496, 436, 455, 461, 595, 728, 728, 440, 238, 452, 479, 628, 799]}, {\"boxpoints\": false, \"line\": {\"width\": 1.3}, \"marker\": {\"color\": \"rgba(0, 128, 128, 0.4343434343434343)\"}, \"name\": \"11109\", \"orientation\": \"v\", \"type\": \"box\", \"y\": [213, 45, 82, 66, 47, 49, 58, 73, 96, 129, 96, 50, 56, 54, 80, 95, 212, 200, 48, 56, 58, 55, 71, 219, 157, 39, 21, 54, 70, 100, 247]}, {\"boxpoints\": false, \"line\": {\"width\": 1.3}, \"marker\": {\"color\": \"rgba(255, 255, 51, 0.4343434343434343)\"}, \"name\": \"11201\", \"orientation\": \"v\", \"type\": \"box\", \"y\": [2351, 1180, 1433, 1273, 1318, 1381, 1631, 1746, 1785, 2055, 1710, 1374, 1578, 1601, 1763, 2009, 1837, 1887, 1202, 1446, 1579, 1552, 1831, 1660, 1612, 1036, 512, 1504, 1839, 2465, 2422]}, {\"boxpoints\": false, \"line\": {\"width\": 1.3}, \"marker\": {\"color\": \"rgba(128, 128, 0, 0.4343434343434343)\"}, \"name\": \"11205\", \"orientation\": \"v\", \"type\": \"box\", \"y\": [716, 162, 272, 260, 171, 172, 219, 201, 280, 384, 322, 178, 207, 216, 207, 293, 425, 434, 221, 189, 227, 212, 234, 371, 342, 133, 100, 169, 267, 354, 499]}, {\"boxpoints\": false, \"line\": {\"width\": 1.3}, \"marker\": {\"color\": \"rgba(251, 128, 114, 0.4343434343434343)\"}, \"name\": \"11206\", \"orientation\": \"v\", \"type\": \"box\", \"y\": [1302, 165, 314, 338, 164, 162, 193, 175, 250, 464, 448, 145, 169, 174, 210, 308, 554, 568, 190, 154, 160, 176, 284, 485, 573, 120, 77, 152, 216, 301, 637]}, {\"boxpoints\": false, \"line\": {\"width\": 1.3}, \"marker\": {\"color\": \"rgba(128, 177, 211, 0.4343434343434343)\"}, \"name\": \"11211\", \"orientation\": \"v\", \"type\": \"box\", \"y\": [5150, 1218, 2310, 1931, 1064, 1086, 1301, 1402, 1767, 3261, 3234, 1104, 1362, 1407, 1438, 1942, 3662, 3918, 1689, 1131, 1232, 1344, 1599, 3295, 3231, 744, 516, 1055, 1463, 2086, 3965]}, {\"boxpoints\": false, \"line\": {\"width\": 1.3}, \"marker\": {\"color\": \"rgba(255, 153, 51, 0.4343434343434343)\"}, \"name\": \"11215\", \"orientation\": \"v\", \"type\": \"box\", \"y\": [1120, 238, 369, 366, 253, 291, 349, 373, 391, 626, 500, 284, 310, 314, 316, 444, 575, 732, 269, 294, 285, 329, 316, 500, 540, 191, 136, 298, 317, 442, 652]}, {\"boxpoints\": false, \"line\": {\"width\": 1.3}, \"marker\": {\"color\": \"rgba(55, 128, 191, 0.4343434343434343)\"}, \"name\": \"11216\", \"orientation\": \"v\", \"type\": \"box\", \"y\": [643, 116, 173, 177, 83, 97, 115, 107, 150, 237, 235, 86, 90, 99, 101, 143, 225, 290, 115, 76, 109, 96, 117, 214, 219, 81, 47, 94, 97, 157, 265]}, {\"boxpoints\": false, \"line\": {\"width\": 1.3}, \"marker\": {\"color\": \"rgba(50, 171, 96, 0.4343434343434343)\"}, \"name\": \"11217\", \"orientation\": \"v\", \"type\": \"box\", \"y\": [1458, 522, 827, 673, 630, 485, 798, 597, 753, 1037, 823, 647, 605, 752, 607, 750, 1051, 1096, 502, 611, 548, 581, 644, 930, 835, 305, 201, 527, 607, 1068, 1308]}, {\"boxpoints\": false, \"line\": {\"width\": 1.3}, \"marker\": {\"color\": \"rgba(50, 171, 96, 0.3535353535353534)\"}, \"name\": \"11218\", \"orientation\": \"v\", \"type\": \"box\", \"y\": [145, 32, 54, 37, 37, 50, 57, 51, 73, 60, 102, 46, 47, 25, 101, 60, 85, 82, 35, 69, 80, 103, 87, 70, 51, 45, 36, 52, 53, 49, 70]}, {\"boxpoints\": false, \"line\": {\"width\": 1.3}, \"marker\": {\"color\": \"rgba(128, 0, 128, 0.3535353535353534)\"}, \"name\": \"11221\", \"orientation\": \"v\", \"type\": \"box\", \"y\": [540, 93, 153, 121, 55, 57, 58, 74, 95, 165, 178, 65, 74, 63, 79, 119, 196, 242, 81, 60, 73, 119, 121, 187, 196, 52, 20, 43, 80, 101, 183]}, {\"boxpoints\": false, \"line\": {\"width\": 1.3}, \"marker\": {\"color\": \"rgba(219, 64, 82, 0.3535353535353534)\"}, \"name\": \"11222\", \"orientation\": \"v\", \"type\": \"box\", \"y\": [1479, 219, 440, 353, 210, 232, 249, 252, 406, 686, 685, 218, 291, 294, 277, 447, 757, 869, 327, 296, 241, 259, 349, 695, 694, 162, 127, 253, 319, 494, 790]}, {\"boxpoints\": false, \"line\": {\"width\": 1.3}, \"marker\": {\"color\": \"rgba(0, 128, 128, 0.3535353535353534)\"}, \"name\": \"11225\", \"orientation\": \"v\", \"type\": \"box\", \"y\": [251, 36, 68, 82, 41, 37, 50, 48, 54, 87, 87, 33, 35, 49, 55, 68, 116, 136, 49, 50, 53, 57, 58, 80, 94, 32, 28, 51, 49, 76, 115]}, {\"boxpoints\": false, \"line\": {\"width\": 1.3}, \"marker\": {\"color\": \"rgba(255, 255, 51, 0.3535353535353534)\"}, \"name\": \"11226\", \"orientation\": \"v\", \"type\": \"box\", \"y\": [134, 45, 67, 36, 32, 34, 39, 58, 48, 59, 58, 32, 25, 35, 40, 55, 76, 67, 38, 29, 43, 26, 52, 60, 67, 29, 17, 49, 38, 49, 71]}, {\"boxpoints\": false, \"line\": {\"width\": 1.3}, \"marker\": {\"color\": \"rgba(128, 128, 0, 0.3535353535353534)\"}, \"name\": \"11231\", \"orientation\": \"v\", \"type\": \"box\", \"y\": [656, 278, 528, 347, 359, 419, 514, 523, 547, 533, 482, 477, 422, 463, 485, 573, 527, 612, 372, 369, 389, 441, 487, 457, 486, 388, 129, 455, 585, 627, 675]}, {\"boxpoints\": false, \"line\": {\"width\": 1.3}, \"marker\": {\"color\": \"rgba(251, 128, 114, 0.3535353535353534)\"}, \"name\": \"11237\", \"orientation\": \"v\", \"type\": \"box\", \"y\": [710, 29, 104, 108, 35, 26, 36, 47, 63, 165, 208, 39, 40, 58, 69, 96, 218, 223, 45, 29, 43, 55, 77, 249, 262, 31, 14, 26, 41, 90, 248]}, {\"boxpoints\": false, \"line\": {\"width\": 1.3}, \"marker\": {\"color\": \"rgba(128, 177, 211, 0.3535353535353534)\"}, \"name\": \"11238\", \"orientation\": \"v\", \"type\": \"box\", \"y\": [1043, 204, 360, 336, 181, 156, 190, 221, 286, 475, 435, 161, 185, 227, 219, 297, 469, 571, 194, 172, 197, 207, 250, 445, 447, 93, 82, 185, 236, 368, 564]}, {\"boxpoints\": false, \"line\": {\"width\": 1.3}, \"marker\": {\"color\": \"rgba(255, 153, 51, 0.3535353535353534)\"}, \"name\": \"11369\", \"orientation\": \"v\", \"type\": \"box\", \"y\": [260, 107, 100, 140, 96, 88, 85, 99, 130, 94, 100, 95, 87, 97, 113, 105, 105, 143, 89, 119, 98, 97, 96, 117, 127, 73, 26, 95, 103, 115, 100]}, {\"boxpoints\": false, \"line\": {\"width\": 1.3}, \"marker\": {\"color\": \"rgba(55, 128, 191, 0.3535353535353534)\"}, \"name\": \"11370\", \"orientation\": \"v\", \"type\": \"box\", \"y\": [228, 117, 114, 117, 102, 116, 102, 103, 133, 135, 120, 91, 101, 124, 105, 130, 106, 199, 137, 101, 90, 104, 138, 167, 139, 114, 55, 107, 111, 151, 163]}, {\"boxpoints\": false, \"line\": {\"width\": 1.3}, \"marker\": {\"color\": \"rgba(55, 128, 191, 0.27272727272727254)\"}, \"name\": \"11371\", \"orientation\": \"v\", \"type\": \"box\", \"y\": [6401, 8316, 7381, 10917, 11369, 8592, 8083, 8953, 8484, 5811, 9280, 10344, 9204, 8268, 9652, 9218, 4648, 6652, 11609, 10035, 8533, 9787, 8208, 3914, 8402, 3339, 892, 9470, 9341, 8046, 4774]}, {\"boxpoints\": false, \"line\": {\"width\": 1.3}, \"marker\": {\"color\": \"rgba(50, 171, 96, 0.27272727272727254)\"}, \"name\": \"11372\", \"orientation\": \"v\", \"type\": \"box\", \"y\": [533, 117, 158, 195, 120, 109, 105, 118, 146, 173, 194, 136, 171, 90, 95, 193, 214, 283, 147, 101, 110, 91, 129, 223, 175, 198, 120, 129, 160, 172, 203]}, {\"boxpoints\": false, \"line\": {\"width\": 1.3}, \"marker\": {\"color\": \"rgba(128, 0, 128, 0.27272727272727254)\"}, \"name\": \"11373\", \"orientation\": \"v\", \"type\": \"box\", \"y\": [433, 125, 175, 217, 121, 118, 109, 123, 147, 220, 177, 134, 128, 117, 135, 161, 237, 223, 131, 100, 126, 106, 136, 233, 160, 159, 83, 116, 174, 148, 193]}, {\"boxpoints\": false, \"line\": {\"width\": 1.3}, \"marker\": {\"color\": \"rgba(219, 64, 82, 0.27272727272727254)\"}, \"name\": \"11374\", \"orientation\": \"v\", \"type\": \"box\", \"y\": [118, 59, 67, 65, 41, 44, 42, 62, 51, 56, 69, 59, 41, 49, 65, 55, 75, 72, 55, 43, 37, 46, 59, 59, 59, 61, 39, 50, 55, 76, 58]}, {\"boxpoints\": false, \"line\": {\"width\": 1.3}, \"marker\": {\"color\": \"rgba(0, 128, 128, 0.27272727272727254)\"}, \"name\": \"11375\", \"orientation\": \"v\", \"type\": \"box\", \"y\": [199, 60, 76, 79, 71, 89, 74, 80, 93, 95, 98, 73, 81, 87, 77, 147, 130, 122, 62, 58, 77, 70, 88, 102, 106, 97, 36, 68, 84, 123, 133]}, {\"boxpoints\": false, \"line\": {\"width\": 1.3}, \"marker\": {\"color\": \"rgba(255, 255, 51, 0.27272727272727254)\"}, \"name\": \"11377\", \"orientation\": \"v\", \"type\": \"box\", \"y\": [828, 374, 403, 396, 450, 382, 402, 419, 476, 422, 432, 409, 392, 403, 407, 515, 497, 609, 334, 386, 350, 369, 406, 531, 463, 426, 197, 360, 360, 492, 526]}, {\"boxpoints\": false, \"line\": {\"width\": 1.3}, \"marker\": {\"color\": \"rgba(128, 128, 0, 0.27272727272727254)\"}, \"name\": \"11430\", \"orientation\": \"v\", \"type\": \"box\", \"y\": [7400, 8225, 8507, 10287, 11463, 8751, 7828, 7483, 7935, 8010, 8809, 8859, 6903, 6531, 7280, 7659, 6479, 7296, 9766, 8122, 6917, 6927, 7212, 6609, 7945, 4235, 1345, 7727, 7527, 7079, 6274]}, {\"boxpoints\": false, \"line\": {\"width\": 1.3}, \"marker\": {\"color\": \"rgba(251, 128, 114, 0.27272727272727254)\"}, \"name\": \"11435\", \"orientation\": \"v\", \"type\": \"box\", \"y\": [77, 64, 55, 82, 85, 77, 53, 78, 84, 75, 115, 74, 51, 55, 95, 82, 103, 107, 76, 80, 69, 79, 70, 54, 80, 55, 14, 58, 84, 83, 56]}, {\"boxpoints\": false, \"line\": {\"width\": 1.3}, \"marker\": {\"color\": \"rgba(128, 177, 211, 0.27272727272727254)\"}, \"name\": \"11436\", \"orientation\": \"v\", \"type\": \"box\", \"y\": [25, 42, 41, 66, 54, 54, 50, 56, 42, 40, 60, 61, 52, 42, 48, 49, 49, 43, 68, 34, 37, 28, 30, 24, 47, 31, 3, 43, 56, 41, 36]}],                        {\"legend\": {\"bgcolor\": \"#F5F6F9\", \"font\": {\"color\": \"#4D5663\"}}, \"paper_bgcolor\": \"#F5F6F9\", \"plot_bgcolor\": \"#F5F6F9\", \"template\": {\"data\": {\"bar\": [{\"error_x\": {\"color\": \"#2a3f5f\"}, \"error_y\": {\"color\": \"#2a3f5f\"}, \"marker\": {\"line\": {\"color\": \"#E5ECF6\", \"width\": 0.5}}, \"type\": \"bar\"}], \"barpolar\": [{\"marker\": {\"line\": {\"color\": \"#E5ECF6\", \"width\": 0.5}}, \"type\": \"barpolar\"}], \"carpet\": [{\"aaxis\": {\"endlinecolor\": \"#2a3f5f\", \"gridcolor\": \"white\", \"linecolor\": \"white\", \"minorgridcolor\": \"white\", \"startlinecolor\": \"#2a3f5f\"}, \"baxis\": {\"endlinecolor\": \"#2a3f5f\", \"gridcolor\": \"white\", \"linecolor\": \"white\", \"minorgridcolor\": \"white\", \"startlinecolor\": \"#2a3f5f\"}, \"type\": \"carpet\"}], \"choropleth\": [{\"colorbar\": {\"outlinewidth\": 0, \"ticks\": \"\"}, \"type\": \"choropleth\"}], \"contour\": [{\"colorbar\": {\"outlinewidth\": 0, \"ticks\": \"\"}, \"colorscale\": [[0.0, \"#0d0887\"], [0.1111111111111111, \"#46039f\"], [0.2222222222222222, \"#7201a8\"], [0.3333333333333333, \"#9c179e\"], [0.4444444444444444, \"#bd3786\"], [0.5555555555555556, \"#d8576b\"], [0.6666666666666666, \"#ed7953\"], [0.7777777777777778, \"#fb9f3a\"], [0.8888888888888888, \"#fdca26\"], [1.0, \"#f0f921\"]], \"type\": \"contour\"}], \"contourcarpet\": [{\"colorbar\": {\"outlinewidth\": 0, \"ticks\": \"\"}, \"type\": \"contourcarpet\"}], \"heatmap\": [{\"colorbar\": {\"outlinewidth\": 0, \"ticks\": \"\"}, \"colorscale\": [[0.0, \"#0d0887\"], [0.1111111111111111, \"#46039f\"], [0.2222222222222222, \"#7201a8\"], [0.3333333333333333, \"#9c179e\"], [0.4444444444444444, \"#bd3786\"], [0.5555555555555556, \"#d8576b\"], [0.6666666666666666, \"#ed7953\"], [0.7777777777777778, \"#fb9f3a\"], [0.8888888888888888, \"#fdca26\"], [1.0, \"#f0f921\"]], \"type\": \"heatmap\"}], \"heatmapgl\": [{\"colorbar\": {\"outlinewidth\": 0, \"ticks\": \"\"}, \"colorscale\": [[0.0, \"#0d0887\"], [0.1111111111111111, \"#46039f\"], [0.2222222222222222, \"#7201a8\"], [0.3333333333333333, \"#9c179e\"], [0.4444444444444444, \"#bd3786\"], [0.5555555555555556, \"#d8576b\"], [0.6666666666666666, \"#ed7953\"], [0.7777777777777778, \"#fb9f3a\"], [0.8888888888888888, \"#fdca26\"], [1.0, \"#f0f921\"]], \"type\": \"heatmapgl\"}], \"histogram\": [{\"marker\": {\"colorbar\": {\"outlinewidth\": 0, \"ticks\": \"\"}}, \"type\": \"histogram\"}], \"histogram2d\": [{\"colorbar\": {\"outlinewidth\": 0, \"ticks\": \"\"}, \"colorscale\": [[0.0, \"#0d0887\"], [0.1111111111111111, \"#46039f\"], [0.2222222222222222, \"#7201a8\"], [0.3333333333333333, \"#9c179e\"], [0.4444444444444444, \"#bd3786\"], [0.5555555555555556, \"#d8576b\"], [0.6666666666666666, \"#ed7953\"], [0.7777777777777778, \"#fb9f3a\"], [0.8888888888888888, \"#fdca26\"], [1.0, \"#f0f921\"]], \"type\": \"histogram2d\"}], \"histogram2dcontour\": [{\"colorbar\": {\"outlinewidth\": 0, \"ticks\": \"\"}, \"colorscale\": [[0.0, \"#0d0887\"], [0.1111111111111111, \"#46039f\"], [0.2222222222222222, \"#7201a8\"], [0.3333333333333333, \"#9c179e\"], [0.4444444444444444, \"#bd3786\"], [0.5555555555555556, \"#d8576b\"], [0.6666666666666666, \"#ed7953\"], [0.7777777777777778, \"#fb9f3a\"], [0.8888888888888888, \"#fdca26\"], [1.0, \"#f0f921\"]], \"type\": \"histogram2dcontour\"}], \"mesh3d\": [{\"colorbar\": {\"outlinewidth\": 0, \"ticks\": \"\"}, \"type\": \"mesh3d\"}], \"parcoords\": [{\"line\": {\"colorbar\": {\"outlinewidth\": 0, \"ticks\": \"\"}}, \"type\": \"parcoords\"}], \"pie\": [{\"automargin\": true, \"type\": \"pie\"}], \"scatter\": [{\"marker\": {\"colorbar\": {\"outlinewidth\": 0, \"ticks\": \"\"}}, \"type\": \"scatter\"}], \"scatter3d\": [{\"line\": {\"colorbar\": {\"outlinewidth\": 0, \"ticks\": \"\"}}, \"marker\": {\"colorbar\": {\"outlinewidth\": 0, \"ticks\": \"\"}}, \"type\": \"scatter3d\"}], \"scattercarpet\": [{\"marker\": {\"colorbar\": {\"outlinewidth\": 0, \"ticks\": \"\"}}, \"type\": \"scattercarpet\"}], \"scattergeo\": [{\"marker\": {\"colorbar\": {\"outlinewidth\": 0, \"ticks\": \"\"}}, \"type\": \"scattergeo\"}], \"scattergl\": [{\"marker\": {\"colorbar\": {\"outlinewidth\": 0, \"ticks\": \"\"}}, \"type\": \"scattergl\"}], \"scattermapbox\": [{\"marker\": {\"colorbar\": {\"outlinewidth\": 0, \"ticks\": \"\"}}, \"type\": \"scattermapbox\"}], \"scatterpolar\": [{\"marker\": {\"colorbar\": {\"outlinewidth\": 0, \"ticks\": \"\"}}, \"type\": \"scatterpolar\"}], \"scatterpolargl\": [{\"marker\": {\"colorbar\": {\"outlinewidth\": 0, \"ticks\": \"\"}}, \"type\": \"scatterpolargl\"}], \"scatterternary\": [{\"marker\": {\"colorbar\": {\"outlinewidth\": 0, \"ticks\": \"\"}}, \"type\": \"scatterternary\"}], \"surface\": [{\"colorbar\": {\"outlinewidth\": 0, \"ticks\": \"\"}, \"colorscale\": [[0.0, \"#0d0887\"], [0.1111111111111111, \"#46039f\"], [0.2222222222222222, \"#7201a8\"], [0.3333333333333333, \"#9c179e\"], [0.4444444444444444, \"#bd3786\"], [0.5555555555555556, \"#d8576b\"], [0.6666666666666666, \"#ed7953\"], [0.7777777777777778, \"#fb9f3a\"], [0.8888888888888888, \"#fdca26\"], [1.0, \"#f0f921\"]], \"type\": \"surface\"}], \"table\": [{\"cells\": {\"fill\": {\"color\": \"#EBF0F8\"}, \"line\": {\"color\": \"white\"}}, \"header\": {\"fill\": {\"color\": \"#C8D4E3\"}, \"line\": {\"color\": \"white\"}}, \"type\": \"table\"}]}, \"layout\": {\"annotationdefaults\": {\"arrowcolor\": \"#2a3f5f\", \"arrowhead\": 0, \"arrowwidth\": 1}, \"coloraxis\": {\"colorbar\": {\"outlinewidth\": 0, \"ticks\": \"\"}}, \"colorscale\": {\"diverging\": [[0, \"#8e0152\"], [0.1, \"#c51b7d\"], [0.2, \"#de77ae\"], [0.3, \"#f1b6da\"], [0.4, \"#fde0ef\"], [0.5, \"#f7f7f7\"], [0.6, \"#e6f5d0\"], [0.7, \"#b8e186\"], [0.8, \"#7fbc41\"], [0.9, \"#4d9221\"], [1, \"#276419\"]], \"sequential\": [[0.0, \"#0d0887\"], [0.1111111111111111, \"#46039f\"], [0.2222222222222222, \"#7201a8\"], [0.3333333333333333, \"#9c179e\"], [0.4444444444444444, \"#bd3786\"], [0.5555555555555556, \"#d8576b\"], [0.6666666666666666, \"#ed7953\"], [0.7777777777777778, \"#fb9f3a\"], [0.8888888888888888, \"#fdca26\"], [1.0, \"#f0f921\"]], \"sequentialminus\": [[0.0, \"#0d0887\"], [0.1111111111111111, \"#46039f\"], [0.2222222222222222, \"#7201a8\"], [0.3333333333333333, \"#9c179e\"], [0.4444444444444444, \"#bd3786\"], [0.5555555555555556, \"#d8576b\"], [0.6666666666666666, \"#ed7953\"], [0.7777777777777778, \"#fb9f3a\"], [0.8888888888888888, \"#fdca26\"], [1.0, \"#f0f921\"]]}, \"colorway\": [\"#636efa\", \"#EF553B\", \"#00cc96\", \"#ab63fa\", \"#FFA15A\", \"#19d3f3\", \"#FF6692\", \"#B6E880\", \"#FF97FF\", \"#FECB52\"], \"font\": {\"color\": \"#2a3f5f\"}, \"geo\": {\"bgcolor\": \"white\", \"lakecolor\": \"white\", \"landcolor\": \"#E5ECF6\", \"showlakes\": true, \"showland\": true, \"subunitcolor\": \"white\"}, \"hoverlabel\": {\"align\": \"left\"}, \"hovermode\": \"closest\", \"mapbox\": {\"style\": \"light\"}, \"paper_bgcolor\": \"white\", \"plot_bgcolor\": \"#E5ECF6\", \"polar\": {\"angularaxis\": {\"gridcolor\": \"white\", \"linecolor\": \"white\", \"ticks\": \"\"}, \"bgcolor\": \"#E5ECF6\", \"radialaxis\": {\"gridcolor\": \"white\", \"linecolor\": \"white\", \"ticks\": \"\"}}, \"scene\": {\"xaxis\": {\"backgroundcolor\": \"#E5ECF6\", \"gridcolor\": \"white\", \"gridwidth\": 2, \"linecolor\": \"white\", \"showbackground\": true, \"ticks\": \"\", \"zerolinecolor\": \"white\"}, \"yaxis\": {\"backgroundcolor\": \"#E5ECF6\", \"gridcolor\": \"white\", \"gridwidth\": 2, \"linecolor\": \"white\", \"showbackground\": true, \"ticks\": \"\", \"zerolinecolor\": \"white\"}, \"zaxis\": {\"backgroundcolor\": \"#E5ECF6\", \"gridcolor\": \"white\", \"gridwidth\": 2, \"linecolor\": \"white\", \"showbackground\": true, \"ticks\": \"\", \"zerolinecolor\": \"white\"}}, \"shapedefaults\": {\"line\": {\"color\": \"#2a3f5f\"}}, \"ternary\": {\"aaxis\": {\"gridcolor\": \"white\", \"linecolor\": \"white\", \"ticks\": \"\"}, \"baxis\": {\"gridcolor\": \"white\", \"linecolor\": \"white\", \"ticks\": \"\"}, \"bgcolor\": \"#E5ECF6\", \"caxis\": {\"gridcolor\": \"white\", \"linecolor\": \"white\", \"ticks\": \"\"}}, \"title\": {\"x\": 0.05}, \"xaxis\": {\"automargin\": true, \"gridcolor\": \"white\", \"linecolor\": \"white\", \"ticks\": \"\", \"title\": {\"standoff\": 15}, \"zerolinecolor\": \"white\", \"zerolinewidth\": 2}, \"yaxis\": {\"automargin\": true, \"gridcolor\": \"white\", \"linecolor\": \"white\", \"ticks\": \"\", \"title\": {\"standoff\": 15}, \"zerolinecolor\": \"white\", \"zerolinewidth\": 2}}}, \"title\": {\"font\": {\"color\": \"#4D5663\"}}, \"xaxis\": {\"gridcolor\": \"#E1E5ED\", \"showgrid\": true, \"tickfont\": {\"color\": \"#4D5663\"}, \"title\": {\"font\": {\"color\": \"#4D5663\"}, \"text\": \"\"}, \"zerolinecolor\": \"#E1E5ED\"}, \"yaxis\": {\"gridcolor\": \"#E1E5ED\", \"showgrid\": true, \"tickfont\": {\"color\": \"#4D5663\"}, \"title\": {\"font\": {\"color\": \"#4D5663\"}, \"text\": \"\"}, \"zerolinecolor\": \"#E1E5ED\"}},                        {\"showLink\": true, \"linkText\": \"Export to plot.ly\", \"plotlyServerURL\": \"https://plot.ly\", \"responsive\": true}                    ).then(function(){\n",
       "                            \n",
       "var gd = document.getElementById('3b4c43e2-ce3e-4d0b-9d77-f2f7f1f534bd');\n",
       "var x = new MutationObserver(function (mutations, observer) {{\n",
       "        var display = window.getComputedStyle(gd).display;\n",
       "        if (!display || display === 'none') {{\n",
       "            console.log([gd, 'removed!']);\n",
       "            Plotly.purge(gd);\n",
       "            observer.disconnect();\n",
       "        }}\n",
       "}});\n",
       "\n",
       "// Listen for the removal of the full notebook cells\n",
       "var notebookContainer = gd.closest('#notebook-container');\n",
       "if (notebookContainer) {{\n",
       "    x.observe(notebookContainer, {childList: true});\n",
       "}}\n",
       "\n",
       "// Listen for the clearing of the current output cell\n",
       "var outputEl = gd.closest('.output');\n",
       "if (outputEl) {{\n",
       "    x.observe(outputEl, {childList: true});\n",
       "}}\n",
       "\n",
       "                        })                };                });            </script>        </div>"
      ]
     },
     "metadata": {},
     "output_type": "display_data"
    }
   ],
   "source": [
    "# cufflinks => 드래그 가능\n",
    "filter_zip_daily_df.pivot_table('cnt', index='date', columns='zip_code').iplot(kind='box', x='zip_code')"
   ]
  },
  {
   "cell_type": "code",
   "execution_count": 21,
   "metadata": {},
   "outputs": [
    {
     "data": {
      "image/png": "[encoded data removed]",
      "text/plain": [
       "<Figure size 1152x432 with 1 Axes>"
      ]
     },
     "metadata": {
      "image/png": {
       "height": 371,
       "width": 971
      },
      "needs_background": "light"
     },
     "output_type": "display_data"
    }
   ],
   "source": [
    "# seaborn\n",
    "plt.figure(figsize=(16, 6));\n",
    "sns.boxplot(x='zip_code', y='cnt', data=filter_zip_daily_df);"
   ]
  },
  {
   "cell_type": "code",
   "execution_count": 22,
   "metadata": {},
   "outputs": [
    {
     "data": {
      "text/html": [
       "<div>\n",
       "<style scoped>\n",
       "    .dataframe tbody tr th:only-of-type {\n",
       "        vertical-align: middle;\n",
       "    }\n",
       "\n",
       "    .dataframe tbody tr th {\n",
       "        vertical-align: top;\n",
       "    }\n",
       "\n",
       "    .dataframe thead th {\n",
       "        text-align: right;\n",
       "    }\n",
       "</style>\n",
       "<table border=\"1\" class=\"dataframe\">\n",
       "  <thead>\n",
       "    <tr style=\"text-align: right;\">\n",
       "      <th></th>\n",
       "      <th>zip_code</th>\n",
       "      <th>zip_code_geom</th>\n",
       "      <th>pickup_hour</th>\n",
       "      <th>cnt</th>\n",
       "      <th>date</th>\n",
       "    </tr>\n",
       "  </thead>\n",
       "  <tbody>\n",
       "    <tr>\n",
       "      <th>32</th>\n",
       "      <td>10019</td>\n",
       "      <td>POLYGON((-74.003568 40.763799, -74.003767 40.7...</td>\n",
       "      <td>2015-01-01 00:00:00</td>\n",
       "      <td>1367</td>\n",
       "      <td>2015-01-01</td>\n",
       "    </tr>\n",
       "    <tr>\n",
       "      <th>299</th>\n",
       "      <td>10019</td>\n",
       "      <td>POLYGON((-74.003568 40.763799, -74.003767 40.7...</td>\n",
       "      <td>2015-01-01 01:00:00</td>\n",
       "      <td>1261</td>\n",
       "      <td>2015-01-01</td>\n",
       "    </tr>\n",
       "    <tr>\n",
       "      <th>351</th>\n",
       "      <td>10019</td>\n",
       "      <td>POLYGON((-74.003568 40.763799, -74.003767 40.7...</td>\n",
       "      <td>2015-01-01 02:00:00</td>\n",
       "      <td>1296</td>\n",
       "      <td>2015-01-01</td>\n",
       "    </tr>\n",
       "    <tr>\n",
       "      <th>634</th>\n",
       "      <td>10019</td>\n",
       "      <td>POLYGON((-74.003568 40.763799, -74.003767 40.7...</td>\n",
       "      <td>2015-01-01 03:00:00</td>\n",
       "      <td>1622</td>\n",
       "      <td>2015-01-01</td>\n",
       "    </tr>\n",
       "    <tr>\n",
       "      <th>680</th>\n",
       "      <td>10019</td>\n",
       "      <td>POLYGON((-74.003568 40.763799, -74.003767 40.7...</td>\n",
       "      <td>2015-01-01 04:00:00</td>\n",
       "      <td>1175</td>\n",
       "      <td>2015-01-01</td>\n",
       "    </tr>\n",
       "    <tr>\n",
       "      <th>...</th>\n",
       "      <td>...</td>\n",
       "      <td>...</td>\n",
       "      <td>...</td>\n",
       "      <td>...</td>\n",
       "      <td>...</td>\n",
       "    </tr>\n",
       "    <tr>\n",
       "      <th>86483</th>\n",
       "      <td>10019</td>\n",
       "      <td>POLYGON((-74.003568 40.763799, -74.003767 40.7...</td>\n",
       "      <td>2015-01-31 19:00:00</td>\n",
       "      <td>2088</td>\n",
       "      <td>2015-01-31</td>\n",
       "    </tr>\n",
       "    <tr>\n",
       "      <th>86597</th>\n",
       "      <td>10019</td>\n",
       "      <td>POLYGON((-74.003568 40.763799, -74.003767 40.7...</td>\n",
       "      <td>2015-01-31 20:00:00</td>\n",
       "      <td>1488</td>\n",
       "      <td>2015-01-31</td>\n",
       "    </tr>\n",
       "    <tr>\n",
       "      <th>86753</th>\n",
       "      <td>10019</td>\n",
       "      <td>POLYGON((-74.003568 40.763799, -74.003767 40.7...</td>\n",
       "      <td>2015-01-31 21:00:00</td>\n",
       "      <td>1504</td>\n",
       "      <td>2015-01-31</td>\n",
       "    </tr>\n",
       "    <tr>\n",
       "      <th>86802</th>\n",
       "      <td>10019</td>\n",
       "      <td>POLYGON((-74.003568 40.763799, -74.003767 40.7...</td>\n",
       "      <td>2015-01-31 22:00:00</td>\n",
       "      <td>1899</td>\n",
       "      <td>2015-01-31</td>\n",
       "    </tr>\n",
       "    <tr>\n",
       "      <th>86958</th>\n",
       "      <td>10019</td>\n",
       "      <td>POLYGON((-74.003568 40.763799, -74.003767 40.7...</td>\n",
       "      <td>2015-01-31 23:00:00</td>\n",
       "      <td>1855</td>\n",
       "      <td>2015-01-31</td>\n",
       "    </tr>\n",
       "  </tbody>\n",
       "</table>\n",
       "<p>744 rows × 5 columns</p>\n",
       "</div>"
      ],
      "text/plain": [
       "      zip_code                                      zip_code_geom  \\\n",
       "32       10019  POLYGON((-74.003568 40.763799, -74.003767 40.7...   \n",
       "299      10019  POLYGON((-74.003568 40.763799, -74.003767 40.7...   \n",
       "351      10019  POLYGON((-74.003568 40.763799, -74.003767 40.7...   \n",
       "634      10019  POLYGON((-74.003568 40.763799, -74.003767 40.7...   \n",
       "680      10019  POLYGON((-74.003568 40.763799, -74.003767 40.7...   \n",
       "...        ...                                                ...   \n",
       "86483    10019  POLYGON((-74.003568 40.763799, -74.003767 40.7...   \n",
       "86597    10019  POLYGON((-74.003568 40.763799, -74.003767 40.7...   \n",
       "86753    10019  POLYGON((-74.003568 40.763799, -74.003767 40.7...   \n",
       "86802    10019  POLYGON((-74.003568 40.763799, -74.003767 40.7...   \n",
       "86958    10019  POLYGON((-74.003568 40.763799, -74.003767 40.7...   \n",
       "\n",
       "              pickup_hour   cnt        date  \n",
       "32    2015-01-01 00:00:00  1367  2015-01-01  \n",
       "299   2015-01-01 01:00:00  1261  2015-01-01  \n",
       "351   2015-01-01 02:00:00  1296  2015-01-01  \n",
       "634   2015-01-01 03:00:00  1622  2015-01-01  \n",
       "680   2015-01-01 04:00:00  1175  2015-01-01  \n",
       "...                   ...   ...         ...  \n",
       "86483 2015-01-31 19:00:00  2088  2015-01-31  \n",
       "86597 2015-01-31 20:00:00  1488  2015-01-31  \n",
       "86753 2015-01-31 21:00:00  1504  2015-01-31  \n",
       "86802 2015-01-31 22:00:00  1899  2015-01-31  \n",
       "86958 2015-01-31 23:00:00  1855  2015-01-31  \n",
       "\n",
       "[744 rows x 5 columns]"
      ]
     },
     "execution_count": 22,
     "metadata": {},
     "output_type": "execute_result"
    }
   ],
   "source": [
    "filter_zip_df[filter_zip_df['zip_code'] == '10019']"
   ]
  },
  {
   "cell_type": "code",
   "execution_count": 23,
   "metadata": {},
   "outputs": [
    {
     "data": {
      "image/png": "[encoded data removed]",
      "text/plain": [
       "<Figure size 1080x576 with 2 Axes>"
      ]
     },
     "metadata": {
      "image/png": {
       "height": 502,
       "width": 865
      },
      "needs_background": "light"
     },
     "output_type": "display_data"
    }
   ],
   "source": [
    "plt.figure(figsize=(15,8))\n",
    "sns.heatmap(filter_zip_daily_df.pivot_table('cnt', index='date', columns='zip_code'),\n",
    "           lw=.5, cmap='GnBu');"
   ]
  },
  {
   "cell_type": "markdown",
   "metadata": {},
   "source": [
    "### 시간대별 zip_code의 추이"
   ]
  },
  {
   "cell_type": "code",
   "execution_count": 24,
   "metadata": {},
   "outputs": [
    {
     "data": {
      "text/html": [
       "<div>\n",
       "<style scoped>\n",
       "    .dataframe tbody tr th:only-of-type {\n",
       "        vertical-align: middle;\n",
       "    }\n",
       "\n",
       "    .dataframe tbody tr th {\n",
       "        vertical-align: top;\n",
       "    }\n",
       "\n",
       "    .dataframe thead th {\n",
       "        text-align: right;\n",
       "    }\n",
       "</style>\n",
       "<table border=\"1\" class=\"dataframe\">\n",
       "  <thead>\n",
       "    <tr style=\"text-align: right;\">\n",
       "      <th></th>\n",
       "      <th>zip_code</th>\n",
       "      <th>zip_code_geom</th>\n",
       "      <th>pickup_hour</th>\n",
       "      <th>cnt</th>\n",
       "      <th>date</th>\n",
       "      <th>hour</th>\n",
       "    </tr>\n",
       "  </thead>\n",
       "  <tbody>\n",
       "    <tr>\n",
       "      <th>0</th>\n",
       "      <td>11369</td>\n",
       "      <td>POLYGON((-73.887731 40.766915, -73.887675 40.7...</td>\n",
       "      <td>2015-01-01</td>\n",
       "      <td>14</td>\n",
       "      <td>2015-01-01</td>\n",
       "      <td>0</td>\n",
       "    </tr>\n",
       "    <tr>\n",
       "      <th>2</th>\n",
       "      <td>10279</td>\n",
       "      <td>POLYGON((-74.009254 40.713256, -74.009668 40.7...</td>\n",
       "      <td>2015-01-01</td>\n",
       "      <td>3</td>\n",
       "      <td>2015-01-01</td>\n",
       "      <td>0</td>\n",
       "    </tr>\n",
       "    <tr>\n",
       "      <th>4</th>\n",
       "      <td>11103</td>\n",
       "      <td>MULTIPOLYGON(((-73.904137 40.76752, -73.904187...</td>\n",
       "      <td>2015-01-01</td>\n",
       "      <td>45</td>\n",
       "      <td>2015-01-01</td>\n",
       "      <td>0</td>\n",
       "    </tr>\n",
       "  </tbody>\n",
       "</table>\n",
       "</div>"
      ],
      "text/plain": [
       "  zip_code                                      zip_code_geom pickup_hour  \\\n",
       "0    11369  POLYGON((-73.887731 40.766915, -73.887675 40.7...  2015-01-01   \n",
       "2    10279  POLYGON((-74.009254 40.713256, -74.009668 40.7...  2015-01-01   \n",
       "4    11103  MULTIPOLYGON(((-73.904137 40.76752, -73.904187...  2015-01-01   \n",
       "\n",
       "   cnt        date  hour  \n",
       "0   14  2015-01-01     0  \n",
       "2    3  2015-01-01     0  \n",
       "4   45  2015-01-01     0  "
      ]
     },
     "execution_count": 24,
     "metadata": {},
     "output_type": "execute_result"
    }
   ],
   "source": [
    "filter_zip_df['hour'] = filter_zip_df['pickup_hour'].dt.hour\n",
    "filter_zip_df.head(3)"
   ]
  },
  {
   "cell_type": "code",
   "execution_count": 25,
   "metadata": {},
   "outputs": [
    {
     "data": {
      "image/png": "[encoded data removed]",
      "text/plain": [
       "<Figure size 1080x576 with 2 Axes>"
      ]
     },
     "metadata": {
      "image/png": {
       "height": 502,
       "width": 810
      },
      "needs_background": "light"
     },
     "output_type": "display_data"
    }
   ],
   "source": [
    "plt.figure(figsize=(15,8))\n",
    "sns.heatmap(filter_zip_df.pivot_table('cnt', index='hour', columns='zip_code', aggfunc='mean'),\n",
    "           lw=.5, cmap='GnBu');"
   ]
  }
 ],
 "metadata": {
  "kernelspec": {
   "display_name": "Python 3",
   "language": "python",
   "name": "python3"
  },
  "language_info": {
   "codemirror_mode": {
    "name": "ipython",
    "version": 3
   },
   "file_extension": ".py",
   "mimetype": "text/x-python",
   "name": "python",
   "nbconvert_exporter": "python",
   "pygments_lexer": "ipython3",
   "version": "3.8.6"
  },
  "varInspector": {
   "cols": {
    "lenName": 16,
    "lenType": 16,
    "lenVar": 40
   },
   "kernels_config": {
    "python": {
     "delete_cmd_postfix": "",
     "delete_cmd_prefix": "del ",
     "library": "var_list.py",
     "varRefreshCmd": "print(var_dic_list())"
    },
    "r": {
     "delete_cmd_postfix": ") ",
     "delete_cmd_prefix": "rm(",
     "library": "var_list.r",
     "varRefreshCmd": "cat(var_dic_list()) "
    }
   },
   "types_to_exclude": [
    "module",
    "function",
    "builtin_function_or_method",
    "instance",
    "_Feature"
   ],
   "window_display": false
  }
 },
 "nbformat": 4,
 "nbformat_minor": 2
}
